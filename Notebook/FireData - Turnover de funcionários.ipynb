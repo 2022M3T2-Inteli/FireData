{
  "nbformat": 4,
  "nbformat_minor": 0,
  "metadata": {
    "colab": {
      "name": "FireData.ipynb",
      "provenance": [],
      "collapsed_sections": []
    },
    "kernelspec": {
      "name": "python3",
      "display_name": "Python 3"
    },
    "language_info": {
      "name": "python"
    }
  },
  "cells": [
    {
      "cell_type": "markdown",
      "source": [
        "# Everymind - FireData\n",
        "Neste notebook, apresentamos a descrição do processo de desenvolver um modelo preditivo de classificação capaz de identificar quais funcionários têm tendências a sair ou permanecer na empresa.\n",
        "\n",
        "# Integrantes\n",
        "\n",
        "*   Alexandre Fonseca de Souza\n",
        "*   Bruno Otavio Bezerra de Meira\n",
        "*   Filipi Enzo Siqueira Kikuchi\n",
        "*   Gabriela de Morais da Silva\n",
        "*   João Pedro Sartori Garcia de Alcaraz\n",
        "*   Lucas Conti Pereira\n",
        "*   Sofia Moreiras Pimazzoni\n",
        "\n",
        "\n",
        "Primeiramente, utilizaremos o arquivo que contém a base de dados dos colaboradores"
      ],
      "metadata": {
        "id": "hEOMnCzS3kzu"
      }
    },
    {
      "cell_type": "markdown",
      "source": [
        "#1.Preparação do algoritmo\n",
        "Para que o algoritmo funcione da forma desejada, primeiro instalamos e importamos funções e bibliotecas que auxiliam na execução de algumas tarefas. Todas as importações estão listadas abaixo:"
      ],
      "metadata": {
        "id": "2MHdIKfj4IOg"
      }
    },
    {
      "cell_type": "code",
      "source": [
        "# Instalando o moment\n",
        "!pip install moment\n",
        "\n",
        "# Importação de bibliotecas\n",
        "# Pandas\n",
        "import pandas as pd\n",
        "\n",
        "# scikitlearn\n",
        "from sklearn.preprocessing import LabelEncoder\n",
        "\n",
        "# Datetime\n",
        "from datetime import datetime\n",
        "from datetime import date\n",
        "\n",
        "# Moment\n",
        "import moment"
      ],
      "metadata": {
        "id": "f7mSIt9b4a3N"
      },
      "execution_count": null,
      "outputs": []
    },
    {
      "cell_type": "markdown",
      "source": [
        "#1.1 Importação dos dados\n",
        "Para que o algoritmo consiga performar, precisamos importar o arquivo contendo os dados, a fim de tratá-los e posteriormente fazer analises mais acuradas. Como possuímos três tabelas com dados diferentes, separamo-nos em 3 dataframes diferentes."
      ],
      "metadata": {
        "id": "ByGP7gtJbXlY"
      }
    },
    {
      "cell_type": "code",
      "source": [
        "# Importando o arquivo que contém a base de dados\n",
        "\n",
        "# Dataframe da tabela \"Everymind\"\n",
        "df_everymind = pd.read_excel('/content/Base Colaboradores Everymind_Inteli_2020 a 2022vModelo Preditivo.xlsx', sheet_name = \"Everymind\")\n",
        "\n",
        "# Dataframe da tabela \"Reconhecimento\"\n",
        "df_reconhecimento = pd.read_excel('/content/Base Colaboradores Everymind_Inteli_2020 a 2022vModelo Preditivo.xlsx', sheet_name = \"Reconhecimento\")\n",
        "\n",
        "# Dataframe da tabela \"Reconhecimento\"\n",
        "df_ambiente = pd.read_excel('/content/Base Colaboradores Everymind_Inteli_2020 a 2022vModelo Preditivo.xlsx', sheet_name = \"Ambiente de Trabalho 27.07\")"
      ],
      "metadata": {
        "id": "Pi4q5Auv4Irl"
      },
      "execution_count": null,
      "outputs": []
    },
    {
      "cell_type": "markdown",
      "source": [
        "#2. Formatação\n",
        " Nesta seção, vamos tratar os dados a fim de padronizá-los para que sejam aceitos e melhor utilizados pelo algoritmo a partir de funções que modificam a forma do dado. No momento, estamos trabalhando com alguns tipos de dados, sendo eles:\n",
        "\n",
        "\n",
        "\n",
        "*   Dados relacionadas a tempo\n",
        "*   Dados relaciondados a nome\n",
        "\n",
        "\n",
        "\n",
        "##2.1 Variáveis relacionadas a tempo\n",
        "As manipulações para dados deste tipo envolvem a conversão do formato para o padrão \"YYYY-MM-DD\" (Ex: 2020-09-14) e a inclusão de valores em cédulas vazias para efeitos de cálculo (Na coluna \"Dt Saida\", quando não consta a data de saída, atribuimos o dia atual para podermos calcular o número de dias na empresa). Sofrem essa alteração os dados presentes nas colunas \"Dt Admissao\", \"Dt Nascimento\" e \"Dt Saida\". As transformações seguem abaixo:\n",
        "\n"
      ],
      "metadata": {
        "id": "oPPsdvPg5wEW"
      }
    },
    {
      "cell_type": "code",
      "source": [
        "#------------------------------------Tabela Everymind--------------------------\n",
        "\n",
        "# Formata a data de admissao no formato ano/mes/dia\n",
        "for i in range(0, len(df_everymind['Dt Admissao'])):\n",
        "\n",
        "  df_everymind['Dt Admissao'][i] = str(df_everymind['Dt Admissao'][i]).replace('00:00:00', '')\n",
        "  df_everymind['Dt Admissao'][i] = str(df_everymind['Dt Admissao'][i]).replace('/', '-')\n",
        "  df_everymind['Dt Admissao'][i] = moment.date(df_everymind['Dt Admissao'][i]).format(\"YYYY-MM-DD\")\n",
        "\n",
        "df_everymind['Dt Admissao'] = pd.to_datetime(df_everymind['Dt Admissao'], format=\"%Y/%m/%d\")\n",
        "\n",
        "# Formata a data de nascimento no formato ano/mes/dia\n",
        "\n",
        "for i in range(0, len(df_everymind['Dt Nascimento'])):\n",
        "\n",
        "  df_everymind['Dt Nascimento'][i] = moment.date(df_everymind['Dt Nascimento'][i]).format(\"YYYY-MM-DD\")\n",
        "\n",
        "df_everymind['Dt Nascimento'] = pd.to_datetime(df_everymind['Dt Nascimento'], format=\"%Y/%m/%d\")\n",
        "\n",
        "\n",
        "# Formata a data de saída, sendo que se o valor for vazio, atribui a data atual como data de saída\n",
        "\n",
        "df_everymind['Dt Saida'] = pd.to_datetime(df_everymind['Dt Saida'], format=\"%Y/%m/%d\")\n",
        "\n",
        "df_saida = df_everymind['Dt Saida'].isnull()\n",
        "\n",
        "# Verifica se a cédula é vazia e se for, adiciona a data de hoje\n",
        "\n",
        "for i in range(0,len(df_saida)):\n",
        "  if df_saida[i] == True:\n",
        "    df_everymind['Dt Saida'][i] = pd.Timestamp.today()\n",
        "\n",
        "df_everymind['Dt Saida'] = pd.to_datetime(df_everymind['Dt Saida'], format=\"%Y/%m/%d\")\n",
        "\n",
        "#------------------------------------Tabela Reconhecimento--------------------------\n",
        "\n",
        "# Coloca a coluna \"Data de Admissao\" no formato ano/mes/dia\n",
        "\n",
        "for i in range(0, len(df_reconhecimento['Data de Admissão'])):\n",
        "\n",
        "  df_reconhecimento['Data de Admissão'][i] = str(df_reconhecimento['Data de Admissão'][i]).replace('00:00:00', '')\n",
        "  df_reconhecimento['Data de Admissão'][i] = str(df_reconhecimento['Data de Admissão'][i]).replace('/', '-')\n",
        "  df_reconhecimento['Data de Admissão'][i] = moment.date(df_reconhecimento['Data de Admissão'][i]).format(\"YYYY-MM-DD\")\n",
        "\n",
        "df_reconhecimento['Data de Admissão'] = pd.to_datetime(df_reconhecimento['Data de Admissão'], format=\"%Y/%m/%d\")\n",
        "\n",
        "# Formata a data de Vigência no formato ano/mes/dia\n",
        "for i in range(0, len(df_reconhecimento['Data Vigência'])):\n",
        "  \n",
        "  df_reconhecimento['Data Vigência'][i] = str(df_reconhecimento['Data Vigência'][i]).replace('00:00:00', '')\n",
        "  df_reconhecimento['Data Vigência'][i] = str(df_reconhecimento['Data Vigência'][i]).replace('/', '-')\n",
        "  df_reconhecimento['Data Vigência'][i] = moment.date(df_reconhecimento['Data Vigência'][i]).format(\"YYYY-MM-DD\")\n",
        "\n",
        "df_reconhecimento['Data Vigência'] = pd.to_datetime(df_reconhecimento['Data Vigência'], format=\"%Y/%m/%d\")\n",
        "\n",
        "display(df_everymind)"
      ],
      "metadata": {
        "id": "M49T6VYyB_P2"
      },
      "execution_count": null,
      "outputs": []
    },
    {
      "cell_type": "markdown",
      "source": [
        "##2.2 Variáveis relacionadas a nomes\n",
        "\n",
        "Para que o programa funcione corretamente, todos os dados que contêm nomes e/ou informações baseadas em texto foram padronizados removendo todos os espaços em branco (Exemplo: \"Funcional Pl\" vira \"FuncionalPl\").\n",
        "\n"
      ],
      "metadata": {
        "id": "xtBND_05daZK"
      }
    },
    {
      "cell_type": "code",
      "source": [
        "# ------------------------------------Tabela Everymind--------------------------\n",
        "\n",
        "\n",
        "# Pega todas as colunas do dataframe com type \"object\" e tira todos os espaços em branco\n",
        "dtg = df_everymind.select_dtypes(include = \"object\").columns\n",
        "\n",
        "for j in dtg:\n",
        "  df_everymind[j] = df_everymind[j].str.replace(' ', '')\n",
        "\n",
        "# Pega todos os campos vazios da coluna de \"Tipo Saida\" e coloca \"ColaboradorAtivo\" nela.\n",
        "\n",
        "dfsaii = df_everymind['Tipo Saida'].isnull()\n",
        "\n",
        "for i in range(0,len(dfsaii)):\n",
        "  if dfsaii[i] == True:\n",
        "    df_everymind['Tipo Saida'][i] = \"ColaboradorAtivo\"\n",
        "\n",
        "df_everymind['Tipo Saida'] = dfsaii\n",
        "\n",
        "# Cria uma coluna nova\n",
        "df_everymind['PessoaColaboradora'] = \"\"\n",
        "\n",
        "#Pega a coluna \"Nome completo\" tira o texto, deixa apenas o número do colaborador e adiciona na coluna criada \"PessoaColaboradora\" \n",
        "\n",
        "for i in range(0, len(df_everymind['Nome Completo'])):\n",
        "  df_everymind['PessoaColaboradora'][i] = str(df_everymind['Nome Completo'][i]).replace('PessoaColaboradora', '')\n",
        "\n",
        "\n",
        "# ------------------------------------Tabela Reconhecimento--------------------------\n",
        "\n",
        "\n",
        "# Pega todas as colunas com type \"object\" e tira todos os espaços para ficar padronizado\n",
        "df_reconhecimento_types = df_reconhecimento.select_dtypes(include = \"object\").columns\n",
        "\n",
        "for j in df_reconhecimento_types:\n",
        "  df_reconhecimento[j] = df_reconhecimento[j].str.replace(' ', '')\n",
        "\n",
        "# Cria uma nova coluna \"Pessoa colaboradora\"\n",
        "df_reconhecimento['PessoaColaboradora'] = \"\"\n",
        "\n",
        "# Transforma a coluna \"Codinome\" em number, tirando os textos e colocando o numero do colaborador na coluna \"PessoaColaboradora\"\n",
        "for i in range(0, len(df_reconhecimento['Codinome'])):\n",
        "  df_reconhecimento['PessoaColaboradora'][i] = str(df_reconhecimento['Codinome'][i]).replace('PessoaColaboradora', '')\n",
        "\n",
        "\n",
        "# ------------------------------------Tabela Ambiente de Trabalho 27.07--------------------------\n",
        "\n",
        "\n",
        "# Pega todas as colunas com type \"object\" e tira todos os espaços para ficar padronizado\n",
        "df_ambiente_types = df_ambiente.select_dtypes(include = \"object\").columns\n",
        "\n",
        "for j in df_ambiente_types:\n",
        "  df_ambiente[j] = df_ambiente[j].str.replace(' ', '')\n",
        "\n",
        "# Pega todos os campos vazios da coluna com a Keyword e atribui 0\n",
        "keywords = ['Pulou', 'Muito Insatisfeito', 'Insatisfeito', 'Neutro', 'Satisfeito', 'Muito Satisfeito']\n",
        "\n",
        "for i in keywords:\n",
        "  \n",
        "  df_ambiente_satisfaction = df_ambiente[i].isnull()\n",
        "\n",
        "  for j in range(0,len(df_ambiente_satisfaction)):\n",
        "    if df_ambiente_satisfaction[j] == True:\n",
        "      df_ambiente[i][j] = \"0\"\n",
        "\n",
        "display(df_ambiente)"
      ],
      "metadata": {
        "id": "-QfA5nh9ep3S"
      },
      "execution_count": null,
      "outputs": []
    },
    {
      "cell_type": "markdown",
      "source": [
        "#3. Derivação de novos atributos\n",
        "\n",
        "A partir da limpeza dos dados e do relacionamento entre eles, conseguimos gerar novos elementos que facilitam as analises e auxiliam na tomada de decisões da IA. A partir dos dados obtidos, obtivemos os seguintes atributos:\n",
        "\n",
        "\n",
        "*   Número de dias na empresa\n",
        "*   Idade do colaborador\n",
        "*   Dias para reconhecimento entre data de admissão e vigência\n",
        "\n",
        "\n"
      ],
      "metadata": {
        "id": "TD0CxvejwTdi"
      }
    },
    {
      "cell_type": "code",
      "source": [
        "# Derivação das datas em novos atributos\n",
        "\n",
        "# Função que calcula os dias entre duas datas\n",
        "def numOfDays(date1, date2):\n",
        "    return (date2-date1).days\n",
        "\n",
        "# Cria uma coluna de idade e uma de numero de dias na empresa na empresa \n",
        "df_everymind['Idade'] = \"\"\n",
        "df_everymind['NumeroDias'] = \"\"\n",
        "\n",
        "# Faz o calculo da idade e armazena \n",
        "for i in range(0, len(df_everymind['Dt Nascimento'])):\n",
        "  if df_everymind['Tipo Saida'][i] == str('ColaboradorAtivo'):\n",
        "    if date.today().month>=(df_everymind['Dt Nascimento'][i]).month:\n",
        "      df_everymind['Idade'][i] = date.today().year - (df_everymind['Dt Nascimento'][i]).year\n",
        "    else:\n",
        "      df_everymind['Idade'][i] = (date.today().year - (df_everymind['Dt Nascimento'][i]).year)-1\n",
        "  else:\n",
        "    if df_everymind['Dt Saida'][i].month>=(df_everymind['Dt Nascimento'][i]).month:\n",
        "      df_everymind['Idade'][i] = date.today().year - (df_everymind['Dt Nascimento'][i]).year\n",
        "    else:\n",
        "      df_everymind['Idade'][i] = (df_everymind['Dt Saida'][i].year - df_everymind['Dt Nascimento'][i].year)-1\n",
        "\n",
        "# Faz o calculo do numero de dias na empresa de cada colaborador\n",
        "\n",
        "date1 = df_everymind['Dt Admissao']\n",
        "date2 = df_everymind['Dt Saida']\n",
        "\n",
        "for i in range(0, len(date2)):\n",
        "  df_everymind['NumeroDias'][i] = str(numOfDays(date1[i], date2[i]))\n",
        "\n",
        "#Cria uma coluna \"DiasParaReconhecimento\"\n",
        "df_reconhecimento['DiasParaReconhecimento'] = \"\"\n",
        "\n",
        "#Calcula os dias que o empregador entrou na empresa até receber reconhecimento\n",
        "date_reconhecimento1 = df_reconhecimento['Data de Admissão']\n",
        "date_reconhecimento2 = df_reconhecimento['Data Vigência']\n",
        "for i in range(0, len(date_reconhecimento2)):\n",
        "  df_reconhecimento['DiasParaReconhecimento'][i] = str(numOfDays(date_reconhecimento1[i], date_reconhecimento2[i]))"
      ],
      "metadata": {
        "id": "VXCYyBBg9bNm"
      },
      "execution_count": null,
      "outputs": []
    },
    {
      "cell_type": "markdown",
      "source": [
        "#4. Encoders\n",
        "\n",
        "As variáveis do tipo _string_ são reconhecidas com dificuldade pelo modelo, por conta disso, é necessário transformá-las em números (tipo _int_ e _float_). Existem duas maneiras de se fazer o \"encoding\", sendo elas:\n",
        "\n",
        "\n",
        "* Label Encoding\n",
        "* One Hot Encoding"
      ],
      "metadata": {
        "id": "L8e9hBYiOa8j"
      }
    },
    {
      "cell_type": "markdown",
      "source": [
        "##4.1 Label Encoding\n",
        "\n",
        "O Label Encoding transforma as features em números ordenados, ou seja, em ordem. É normalmente usada quando uma feature é mais importante que outra. No projeto a única que identificamos que possui ordem é a escolaridade (na tabela Everymind)."
      ],
      "metadata": {
        "id": "Eyxsdf9MP_a0"
      }
    },
    {
      "cell_type": "code",
      "source": [
        "# Cria um novo Data Frame para a coluna de Escolaridade e raliza o processo de Label Encoding\n",
        "data_frame_esco = pd.DataFrame(df, columns=[\"Escolaridade \"]) \n",
        "df_esco_atual = data_frame_esco.replace(['EnsinoMédioIncompleto',\n",
        "                                         'EnsinoMédio', \n",
        "                                         'Técnico', \n",
        "                                         'Superiorincompleto', \n",
        "                                         'Graduação', \n",
        "                                         'PósGraduação', \n",
        "                                         'Mestrado'], \n",
        "                                         [0,1,2,3,4,5,6])"
      ],
      "metadata": {
        "id": "rY1oHumuWkFA"
      },
      "execution_count": null,
      "outputs": []
    },
    {
      "cell_type": "markdown",
      "source": [
        "##4.2 One Hot Encoding\n",
        "\n",
        "O One Hot Encoding cria uma coluna para cada valor e faz uma atribuição do valor 1 (um) para a coluna correspondente da amostra e 0 (zero) para as outras. Dessa forma, uma linha tem apenas um valor. Essa forma de _encoding_ costuma ser mais utilizada, pois não atribui uma ordem às features. Nós usamos o One Hot Encoding em todas as tabelas."
      ],
      "metadata": {
        "id": "b72VF7emX2wD"
      }
    },
    {
      "cell_type": "code",
      "source": [
        "# ------------------------------------Tabela Everymind--------------------------\n",
        "\n",
        "# A função \"get_dummies()\" realiza o One Hot Encoding da coluna desejada. \n",
        "one_hot_cargos = pd.get_dummies(df_everymind[\"Cargo\"])\n",
        "one_hot_saida = pd.get_dummies(df_everymind[\"Tipo Saida\"])\n",
        "one_hot_genero = pd.get_dummies(df_everymind[\"Genero\"])\n",
        "one_hot_etnia = pd.get_dummies(df_everymind[\"Etnia\"])\n",
        "one_hot_civil = pd.get_dummies(df_everymind[\"Estado Civil\"]) \n",
        "one_hot_estado = pd.get_dummies(df_everymind[\"Estado\"])\n",
        "one_hot_cidade = pd.get_dummies(df_everymind[\"Cidade\"])\n",
        "one_hot_area = pd.get_dummies(df_everymind[\"Area\"])\n",
        "one_hot_colaborador = pd.get_dummies(df_everymind[\"PessoaColaboradora\"])\n",
        "\n",
        "\n",
        "# ------------------------------------Tabela Reconhecimento--------------------------\n",
        "\n",
        "# A mesma função acima se aplica nessa tabela\n",
        "data_frame_codinome = pd.get_dummies(df_reconhecimento[\"Codinome\"])\n",
        "data_frame_situacao = pd.get_dummies(df_reconhecimento[\"Situação\"])\n",
        "data_frame_novocargo = pd.get_dummies(df_reconhecimento[\"Novo Cargo\"])\n",
        "data_frame_motivo = pd.get_dummies(df_reconhecimento[\"Motivo\"])\n",
        "data_frame_funcao = pd.get_dummies(df_reconhecimento[\"Alterou Função\"])"
      ],
      "metadata": {
        "id": "284sBXUBY-nd"
      },
      "execution_count": null,
      "outputs": []
    },
    {
      "cell_type": "markdown",
      "source": [
        "#5. Concatenar os dados\n",
        "\n",
        "Para facilitar o desenvolvimento do projeto, foi decidido criar tabelas novas com as modificações feitas."
      ],
      "metadata": {
        "id": "En3-Eqy8bGsl"
      }
    },
    {
      "cell_type": "code",
      "source": [
        "# bru, não sei o que essas linhas significam, mas vou colocar aqui pq sei que elas são importantes\n",
        "collaborator = df['PessoaColaboradora']\n",
        "registration = df['Matrícula']\n",
        "age = df['Idade']\n",
        "companyTime = df['NumeroDias']\n",
        "monthlySalary = df['Salario Mês']"
      ],
      "metadata": {
        "id": "TWUHNkzTbf13"
      },
      "execution_count": null,
      "outputs": []
    },
    {
      "cell_type": "code",
      "source": [
        "# ------------------------------------Tabela Everymind--------------------------\n",
        "\n",
        "#Cria uma tabela nova com os dados formatados (rodar quando os dados tiverem finalizados)\n",
        "newData = pd.DataFrame()\n",
        "newData = pd.concat([newData,registration], axis = 1)\n",
        "newData = pd.concat([newData,collaborator], axis = 1)\n",
        "newData = pd.concat([newData,age], axis = 1)\n",
        "newData = pd.concat([newData,companyTime], axis = 1)\n",
        "newData = pd.concat([newData,one_hot_saida], axis = 1)\n",
        "newData = pd.concat([newData,one_hot_cargos], axis = 1)\n",
        "newData = pd.concat([newData,monthlySalary], axis = 1)\n",
        "newData = pd.concat([newData,one_hot_genero], axis = 1)\n",
        "newData = pd.concat([newData,one_hot_civil], axis = 1)\n",
        "newData = pd.concat([newData,df_esco_atual], axis = 1)\n",
        "newData = pd.concat([newData,one_hot_estado], axis = 1)\n",
        "newData = pd.concat([newData,one_hot_cidade], axis = 1)\n",
        "newData = pd.concat([newData,one_hot_area], axis = 1)\n",
        "\n",
        "\n",
        "newData.to_excel('dados_formatados_aba_everymind.xlsx')\n",
        "\n",
        "\n",
        "# ------------------------------------Tabela Reconhecimento--------------------------\n",
        "\n",
        "#Cria uma tabela nova com os dados formatados (rodar quando os dados tiverem finalizados)\n",
        "newData_reconhecimento = pd.DataFrame()\n",
        "newData_reconhecimento = pd.concat([newData_one,data_frame_codinome], axis = 1)\n",
        "newData_reconhecimento = pd.concat([newData_one,data_frame_situacao], axis = 1)\n",
        "newData_reconhecimento = pd.concat([newData_one,data_frame_novocargo], axis = 1)\n",
        "newData_reconhecimento = pd.concat([newData_one,data_frame_motivo], axis = 1)\n",
        "newData_reconhecimento = pd.concat([newData_one,data_frame_funcao], axis = 1)\n",
        "\n",
        "display(newData_one)"
      ],
      "metadata": {
        "id": "krPZwsqabFP5"
      },
      "execution_count": null,
      "outputs": []
    }
  ]
}