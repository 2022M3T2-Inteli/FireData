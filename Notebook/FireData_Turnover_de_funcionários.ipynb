{
  "nbformat": 4,
  "nbformat_minor": 0,
  "metadata": {
    "colab": {
      "provenance": [],
      "collapsed_sections": []
    },
    "kernelspec": {
      "name": "python3",
      "display_name": "Python 3"
    },
    "language_info": {
      "name": "python"
    }
  },
  "cells": [
    {
      "cell_type": "markdown",
      "source": [
        "# Everymind - FireData\n",
        "Neste notebook, apresentamos a descrição do processo de desenvolver um modelo preditivo de classificação capaz de identificar quais funcionários têm tendências a sair ou permanecer na empresa.\n",
        "\n",
        "# Integrantes\n",
        "\n",
        "*   Alexandre Fonseca de Souza\n",
        "*   Bruno Otavio Bezerra de Meira\n",
        "*   Filipi Enzo Siqueira Kikuchi\n",
        "*   Gabriela de Morais da Silva\n",
        "*   João Pedro Sartori Garcia de Alcaraz\n",
        "*   Lucas Conti Pereira\n",
        "*   Sofia Moreiras Pimazzoni\n",
        "\n",
        "\n",
        "Primeiramente, utilizaremos o arquivo que contém a base de dados dos colaboradores para a future engineering."
      ],
      "metadata": {
        "id": "hEOMnCzS3kzu"
      }
    },
    {
      "cell_type": "markdown",
      "source": [
        "#1.Preparação do algoritmo\n",
        "Para que o algoritmo funcione da forma desejada, primeiro instalamos e importamos funções e bibliotecas que auxiliam na execução de algumas tarefas. Todas as importações estão listadas abaixo:"
      ],
      "metadata": {
        "id": "2MHdIKfj4IOg"
      }
    },
    {
      "cell_type": "code",
      "source": [
        "# Instalando o moment\n",
        "!pip install moment\n",
        "\n",
        "# Importação de bibliotecas\n",
        "# Pandas\n",
        "import pandas as pd\n",
        "\n",
        "# scikitlearn\n",
        "from sklearn.preprocessing import LabelEncoder\n",
        "\n",
        "# Datetime\n",
        "from datetime import datetime\n",
        "from datetime import date\n",
        "\n",
        "# Moment\n",
        "import moment\n",
        "import plotly.express as px\n",
        "from sklearn.tree import DecisionTreeClassifier\n",
        "from sklearn.model_selection import train_test_split\n",
        "from sklearn.preprocessing import MinMaxScaler\n",
        "from sklearn.metrics import confusion_matrix, ConfusionMatrixDisplay\n",
        "from sklearn.neighbors import KNeighborsClassifier\n",
        "import matplotlib.pyplot as plt\n",
        "import numpy as np\n",
        "from sklearn.tree import export_graphviz \n",
        "import graphviz\n",
        "from sklearn.metrics import accuracy_score, confusion_matrix, classification_report\n",
        "from sklearn.metrics import precision_score\n",
        "from sklearn.metrics import recall_score\n",
        "from sklearn.ensemble import RandomForestClassifier\n",
        "from sklearn.naive_bayes import GaussianNB\n",
        "from yellowbrick.classifier import ConfusionMatrix\n"
      ],
      "metadata": {
        "id": "f7mSIt9b4a3N",
        "colab": {
          "base_uri": "https://localhost:8080/"
        },
        "outputId": "45d5252c-af63-4fd5-c9d8-8dfbc5da9752"
      },
      "execution_count": 65,
      "outputs": [
        {
          "output_type": "stream",
          "name": "stdout",
          "text": [
            "Looking in indexes: https://pypi.org/simple, https://us-python.pkg.dev/colab-wheels/public/simple/\n",
            "Requirement already satisfied: moment in /usr/local/lib/python3.7/dist-packages (0.12.1)\n",
            "Requirement already satisfied: pytz>=2018.9 in /usr/local/lib/python3.7/dist-packages (from moment) (2022.2.1)\n",
            "Requirement already satisfied: dateparser>=0.7 in /usr/local/lib/python3.7/dist-packages (from moment) (1.1.1)\n",
            "Requirement already satisfied: times>=0.7 in /usr/local/lib/python3.7/dist-packages (from moment) (0.7)\n",
            "Requirement already satisfied: regex!=2019.02.19,!=2021.8.27,<2022.3.15 in /usr/local/lib/python3.7/dist-packages (from dateparser>=0.7->moment) (2022.3.2)\n",
            "Requirement already satisfied: tzlocal in /usr/local/lib/python3.7/dist-packages (from dateparser>=0.7->moment) (1.5.1)\n",
            "Requirement already satisfied: python-dateutil in /usr/local/lib/python3.7/dist-packages (from dateparser>=0.7->moment) (2.8.2)\n",
            "Requirement already satisfied: arrow in /usr/local/lib/python3.7/dist-packages (from times>=0.7->moment) (1.2.3)\n",
            "Requirement already satisfied: typing-extensions in /usr/local/lib/python3.7/dist-packages (from arrow->times>=0.7->moment) (4.1.1)\n",
            "Requirement already satisfied: six>=1.5 in /usr/local/lib/python3.7/dist-packages (from python-dateutil->dateparser>=0.7->moment) (1.15.0)\n"
          ]
        }
      ]
    },
    {
      "cell_type": "markdown",
      "source": [
        "1.1 Importação dos dados\n",
        "Para que o algoritmo consiga performar, precisamos importar o arquivo contendo os dados, a fim de tratá-los e posteriormente fazer analises mais acuradas. Como possuímos três tabelas com dados diferentes, separamo-nos em 3 dataframes diferentes."
      ],
      "metadata": {
        "id": "ByGP7gtJbXlY"
      }
    },
    {
      "cell_type": "code",
      "source": [
        "# Importando o arquivo que contém a base de dados\n",
        "\n",
        "# Dataframe da tabela \"Everymind\"\n",
        "df_everymind = pd.read_excel('/content/Base Colaboradores Everymind_Inteli_2020 a 2022vModelo Preditivo.xlsx', sheet_name = \"Everymind\")\n",
        "\n",
        "# Dataframe da tabela \"Reconhecimento\"\n",
        "df_reconhecimento = pd.read_excel('/content/Base Colaboradores Everymind_Inteli_2020 a 2022vModelo Preditivo.xlsx', sheet_name = \"Reconhecimento\")\n",
        "\n",
        "# Dataframe da tabela \"Reconhecimento\"\n",
        "df_ambiente = pd.read_excel('/content/Base Colaboradores Everymind_Inteli_2020 a 2022vModelo Preditivo.xlsx', sheet_name = \"Ambiente de Trabalho 27.07\")"
      ],
      "metadata": {
        "id": "Pi4q5Auv4Irl"
      },
      "execution_count": 66,
      "outputs": []
    },
    {
      "cell_type": "markdown",
      "source": [
        "# 2.Remover ou substituir registros em branco"
      ],
      "metadata": {
        "id": "Rvb89r4io3vQ"
      }
    },
    {
      "cell_type": "code",
      "source": [
        "#------------------------------------Tabela Everymind--------------------------\n",
        "\n",
        "# Verifica se dentro da coluna \"Dt Saisa\" tem cédulas vazias e caso tenha, adiciona a data de hoje.\n",
        "df_saida = df_everymind['Dt Saida'].isnull()\n",
        "\n",
        "for i in range(0,len(df_saida)):\n",
        "  if df_saida[i] == True:\n",
        "    df_everymind['Dt Saida'][i] = pd.Timestamp.today()\n",
        "\n",
        "# Verifica se dentro da coluna \"Tipo Saida\" tem cédulas vazias e caso tenha, adciona \"ColaboradorAtivo\".\n",
        "\n",
        "df_tipo_bool = df_everymind['Tipo Saida'].isnull()\n",
        "df_tipo_aux = df_everymind['Tipo Saida']\n",
        "\n",
        "for i in range(0,len(df_tipo_bool)):\n",
        "  if df_tipo_bool[i] == True:\n",
        "    df_tipo_bool[i] = \"ColaboradorAtivo\"\n",
        "  if df_tipo_bool[i] == False: \n",
        "    df_tipo_bool[i] = (df_tipo_aux[i])\n",
        "\n",
        "df_everymind['Tipo Saida'] = df_tipo_bool\n",
        "#------------------------------------Tabela Ambiente de trabalho--------------------------\n",
        "\n",
        "# Verifica se dentro das colunas de porcentagem de satisfação tem cédulas vazias e caso tenha, adiciona o 0.\n",
        "keywords = ['Pulou', 'Muito Insatisfeito', 'Insatisfeito', 'Neutro', 'Satisfeito', 'Muito Satisfeito']\n",
        "\n",
        "for i in keywords:\n",
        "  \n",
        "  df_ambiente_satisfaction = df_ambiente[i].isnull()\n",
        "\n",
        "  for j in range(0,len(df_ambiente_satisfaction)):\n",
        "    if df_ambiente_satisfaction[j] == True:\n",
        "      df_ambiente[i][j] = \"0\""
      ],
      "metadata": {
        "id": "bOYHHtWApRHm",
        "colab": {
          "base_uri": "https://localhost:8080/"
        },
        "outputId": "bd319e94-d048-4a72-8bce-329dec7da125"
      },
      "execution_count": 67,
      "outputs": [
        {
          "output_type": "stream",
          "name": "stderr",
          "text": [
            "/usr/local/lib/python3.7/dist-packages/ipykernel_launcher.py:8: SettingWithCopyWarning: \n",
            "A value is trying to be set on a copy of a slice from a DataFrame\n",
            "\n",
            "See the caveats in the documentation: https://pandas.pydata.org/pandas-docs/stable/user_guide/indexing.html#returning-a-view-versus-a-copy\n",
            "  \n"
          ]
        }
      ]
    },
    {
      "cell_type": "markdown",
      "source": [
        "#3. Formatação\n",
        " Nesta seção, vamos tratar os dados a fim de padronizá-los para que sejam aceitos e melhor utilizados pelo algoritmo a partir de funções que modificam a forma do dado. No momento, estamos trabalhando com alguns tipos de dados, sendo eles:\n",
        "\n",
        "\n",
        "\n",
        "*   Dados relacionadas a tempo e numeros\n",
        "*   Dados relaciondados a nome\n",
        "\n"
      ],
      "metadata": {
        "id": "oPPsdvPg5wEW"
      }
    },
    {
      "cell_type": "markdown",
      "source": [
        "3.1 Variáveis relacionadas a tempo e numeros\n",
        "As manipulações para dados do tipo data envolvem a conversão do formato para o padrão \"YYYY-MM-DD\" (Ex: 2020-09-14) e a inclusão de valores em cédulas vazias para efeitos de cálculo (Na coluna \"Dt Saida\", quando não consta a data de saída, atribuimos o dia atual para podermos calcular o número de dias na empresa). Sofrem essa alteração os dados presentes nas colunas \"Dt Admissao\", \"Dt Nascimento\" e \"Dt Saida\". As transformações seguem abaixo:"
      ],
      "metadata": {
        "id": "j6wRyojyh_bg"
      }
    },
    {
      "cell_type": "code",
      "source": [
        "#------------------------------------Tabela Everymind--------------------------\n",
        "\n",
        "# Formata a data de admissao no formato ano/mes/dia\n",
        "for i in range(0, len(df_everymind['Dt Admissao'])):\n",
        "  if df_everymind['Tipo Saida'][i] == \"ColaboradorAtivo\":\n",
        "    df_everymind['Dt Admissao'][i] = str(df_everymind['Dt Admissao'][i]).replace('00:00:00', '')\n",
        "    df_everymind['Dt Admissao'][i] = str(df_everymind['Dt Admissao'][i]).replace('/', '-')\n",
        "    df_everymind['Dt Admissao'][i] = moment.date(df_everymind['Dt Admissao'][i]).format(\"YYYY-MM-DD\")\n",
        "\n",
        "  if df_everymind['Tipo Saida'][i] != \"ColaboradorAtivo\":\n",
        "    df_everymind['Dt Admissao'][i] = str(df_everymind['Dt Admissao'][i]).replace('00:00:00', '')\n",
        "    df_everymind['Dt Admissao'][i] = str(df_everymind['Dt Admissao'][i]).replace('/', '-')\n",
        "    df_everymind['Dt Admissao'][i] = moment.date(df_everymind['Dt Admissao'][i]).format(\"YYYY-MM-DD\")\n",
        "\n",
        "df_everymind['Dt Admissao'] = pd.to_datetime(df_everymind['Dt Admissao'], format=\"%Y/%m/%d\")\n",
        "\n",
        "# Formata a data de nascimento no formato ano/mes/dia\n",
        "\n",
        "for i in range(0, len(df_everymind['Dt Nascimento'])):\n",
        "  if df_everymind['Tipo Saida'][i] == \"ColaboradorAtivo\":\n",
        "    df_everymind['Dt Nascimento'][i] = moment.date(df_everymind['Dt Nascimento'][i]).format(\"YYYY-MM-DD\")\n",
        "  if df_everymind['Tipo Saida'][i] != \"ColaboradorAtivo\":\n",
        "    df_everymind['Dt Nascimento'][i] = moment.date(df_everymind['Dt Nascimento'][i]).format(\"YYYY-MM-DD\")\n",
        "\n",
        "df_everymind['Dt Nascimento'] = pd.to_datetime(df_everymind['Dt Nascimento'], format=\"%Y/%m/%d\")\n",
        "\n",
        "\n",
        "# Formata a data de saída, sendo que se o valor for vazio, atribui a data atual como data de saída\n",
        "\n",
        "df_everymind['Dt Saida'] = pd.to_datetime(df_everymind['Dt Saida'], format=\"%Y/%m/%d\")\n",
        "\n",
        "#------------------------------------Tabela Reconhecimento--------------------------\n",
        "\n",
        "# Coloca a coluna \"Data de Admissao\" no formato ano/mes/dia\n",
        "\n",
        "for i in range(0, len(df_reconhecimento['Data de Admissão'])):\n",
        "\n",
        "  df_reconhecimento['Data de Admissão'][i] = str(df_reconhecimento['Data de Admissão'][i]).replace('00:00:00', '')\n",
        "  df_reconhecimento['Data de Admissão'][i] = str(df_reconhecimento['Data de Admissão'][i]).replace('/', '-')\n",
        "  df_reconhecimento['Data de Admissão'][i] = moment.date(df_reconhecimento['Data de Admissão'][i]).format(\"YYYY-MM-DD\")\n",
        "\n",
        "df_reconhecimento['Data de Admissão'] = pd.to_datetime(df_reconhecimento['Data de Admissão'], format=\"%Y/%m/%d\")\n",
        "\n",
        "# Formata a data de Vigência no formato ano/mes/dia\n",
        "for i in range(0, len(df_reconhecimento['Data Vigência'])):\n",
        "  \n",
        "  df_reconhecimento['Data Vigência'][i] = str(df_reconhecimento['Data Vigência'][i]).replace('00:00:00', '')\n",
        "  df_reconhecimento['Data Vigência'][i] = str(df_reconhecimento['Data Vigência'][i]).replace('/', '-')\n",
        "  df_reconhecimento['Data Vigência'][i] = moment.date(df_reconhecimento['Data Vigência'][i]).format(\"YYYY-MM-DD\")\n",
        "\n",
        "df_reconhecimento['Data Vigência'] = pd.to_datetime(df_reconhecimento['Data Vigência'], format=\"%Y/%m/%d\")\n",
        "\n",
        "\n",
        "#------------------------------------Tabela Ambiente de trabalho--------------------------\n",
        "\n",
        "\n",
        "for i in keywords:\n",
        "  for j in range(0,len(df_ambiente[i])):\n",
        "    df_ambiente[i][j] = df_ambiente[i][j].replace('%', '')\n",
        "  df_ambiente[i] = df_ambiente[i].astype(float)\n",
        "  "
      ],
      "metadata": {
        "id": "M49T6VYyB_P2",
        "colab": {
          "base_uri": "https://localhost:8080/"
        },
        "outputId": "ad0c6d1f-1821-4b30-ca89-07ca3dee4fcd"
      },
      "execution_count": 68,
      "outputs": [
        {
          "output_type": "stream",
          "name": "stderr",
          "text": [
            "/usr/local/lib/python3.7/dist-packages/ipykernel_launcher.py:11: SettingWithCopyWarning: \n",
            "A value is trying to be set on a copy of a slice from a DataFrame\n",
            "\n",
            "See the caveats in the documentation: https://pandas.pydata.org/pandas-docs/stable/user_guide/indexing.html#returning-a-view-versus-a-copy\n",
            "  # This is added back by InteractiveShellApp.init_path()\n",
            "/usr/local/lib/python3.7/dist-packages/ipykernel_launcher.py:12: SettingWithCopyWarning: \n",
            "A value is trying to be set on a copy of a slice from a DataFrame\n",
            "\n",
            "See the caveats in the documentation: https://pandas.pydata.org/pandas-docs/stable/user_guide/indexing.html#returning-a-view-versus-a-copy\n",
            "  if sys.path[0] == '':\n",
            "/usr/local/lib/python3.7/dist-packages/ipykernel_launcher.py:13: SettingWithCopyWarning: \n",
            "A value is trying to be set on a copy of a slice from a DataFrame\n",
            "\n",
            "See the caveats in the documentation: https://pandas.pydata.org/pandas-docs/stable/user_guide/indexing.html#returning-a-view-versus-a-copy\n",
            "  del sys.path[0]\n",
            "/usr/local/lib/python3.7/dist-packages/ipykernel_launcher.py:6: SettingWithCopyWarning: \n",
            "A value is trying to be set on a copy of a slice from a DataFrame\n",
            "\n",
            "See the caveats in the documentation: https://pandas.pydata.org/pandas-docs/stable/user_guide/indexing.html#returning-a-view-versus-a-copy\n",
            "  \n",
            "/usr/local/lib/python3.7/dist-packages/ipykernel_launcher.py:7: SettingWithCopyWarning: \n",
            "A value is trying to be set on a copy of a slice from a DataFrame\n",
            "\n",
            "See the caveats in the documentation: https://pandas.pydata.org/pandas-docs/stable/user_guide/indexing.html#returning-a-view-versus-a-copy\n",
            "  import sys\n",
            "/usr/local/lib/python3.7/dist-packages/ipykernel_launcher.py:8: SettingWithCopyWarning: \n",
            "A value is trying to be set on a copy of a slice from a DataFrame\n",
            "\n",
            "See the caveats in the documentation: https://pandas.pydata.org/pandas-docs/stable/user_guide/indexing.html#returning-a-view-versus-a-copy\n",
            "  \n",
            "/usr/local/lib/python3.7/dist-packages/ipykernel_launcher.py:23: SettingWithCopyWarning: \n",
            "A value is trying to be set on a copy of a slice from a DataFrame\n",
            "\n",
            "See the caveats in the documentation: https://pandas.pydata.org/pandas-docs/stable/user_guide/indexing.html#returning-a-view-versus-a-copy\n",
            "/usr/local/lib/python3.7/dist-packages/ipykernel_launcher.py:21: SettingWithCopyWarning: \n",
            "A value is trying to be set on a copy of a slice from a DataFrame\n",
            "\n",
            "See the caveats in the documentation: https://pandas.pydata.org/pandas-docs/stable/user_guide/indexing.html#returning-a-view-versus-a-copy\n",
            "/usr/local/lib/python3.7/dist-packages/ipykernel_launcher.py:38: SettingWithCopyWarning: \n",
            "A value is trying to be set on a copy of a slice from a DataFrame\n",
            "\n",
            "See the caveats in the documentation: https://pandas.pydata.org/pandas-docs/stable/user_guide/indexing.html#returning-a-view-versus-a-copy\n",
            "/usr/local/lib/python3.7/dist-packages/ipykernel_launcher.py:39: SettingWithCopyWarning: \n",
            "A value is trying to be set on a copy of a slice from a DataFrame\n",
            "\n",
            "See the caveats in the documentation: https://pandas.pydata.org/pandas-docs/stable/user_guide/indexing.html#returning-a-view-versus-a-copy\n",
            "/usr/local/lib/python3.7/dist-packages/ipykernel_launcher.py:40: SettingWithCopyWarning: \n",
            "A value is trying to be set on a copy of a slice from a DataFrame\n",
            "\n",
            "See the caveats in the documentation: https://pandas.pydata.org/pandas-docs/stable/user_guide/indexing.html#returning-a-view-versus-a-copy\n",
            "/usr/local/lib/python3.7/dist-packages/ipykernel_launcher.py:47: SettingWithCopyWarning: \n",
            "A value is trying to be set on a copy of a slice from a DataFrame\n",
            "\n",
            "See the caveats in the documentation: https://pandas.pydata.org/pandas-docs/stable/user_guide/indexing.html#returning-a-view-versus-a-copy\n",
            "/usr/local/lib/python3.7/dist-packages/ipykernel_launcher.py:48: SettingWithCopyWarning: \n",
            "A value is trying to be set on a copy of a slice from a DataFrame\n",
            "\n",
            "See the caveats in the documentation: https://pandas.pydata.org/pandas-docs/stable/user_guide/indexing.html#returning-a-view-versus-a-copy\n",
            "/usr/local/lib/python3.7/dist-packages/ipykernel_launcher.py:49: SettingWithCopyWarning: \n",
            "A value is trying to be set on a copy of a slice from a DataFrame\n",
            "\n",
            "See the caveats in the documentation: https://pandas.pydata.org/pandas-docs/stable/user_guide/indexing.html#returning-a-view-versus-a-copy\n",
            "/usr/local/lib/python3.7/dist-packages/ipykernel_launcher.py:59: SettingWithCopyWarning: \n",
            "A value is trying to be set on a copy of a slice from a DataFrame\n",
            "\n",
            "See the caveats in the documentation: https://pandas.pydata.org/pandas-docs/stable/user_guide/indexing.html#returning-a-view-versus-a-copy\n"
          ]
        }
      ]
    },
    {
      "cell_type": "markdown",
      "source": [
        "##3.2 Variáveis relacionadas a nomes\n",
        "\n",
        "Para que o programa funcione corretamente, todos os dados que contêm nomes e/ou informações baseadas em texto foram padronizados removendo todos os espaços em branco (Exemplo: \"Funcional Pl\" vira \"FuncionalPl\").\n",
        "\n"
      ],
      "metadata": {
        "id": "xtBND_05daZK"
      }
    },
    {
      "cell_type": "code",
      "source": [
        "# ------------------------------------Tabela Everymind--------------------------\n",
        "\n",
        "\n",
        "# Pega todas as colunas do dataframe com type \"object\" e tira todos os espaços em branco\n",
        "dtg = df_everymind.select_dtypes(include = \"object\").columns\n",
        "\n",
        "for j in dtg:\n",
        "  df_everymind[j] = df_everymind[j].str.replace(' ', '')\n",
        "\n",
        "for i in df_everymind:\n",
        "  df_everymind[j] = df_everymind[j].str.replace('-', '')\n",
        "# Cria uma coluna nova\n",
        "\n",
        "df_everymind['PessoaColaboradora'] = \"\"\n",
        "\n",
        "#Pega a coluna \"Nome completo\" tira o texto, deixa apenas o número do colaborador e adiciona na coluna criada \"PessoaColaboradora\" \n",
        "\n",
        "for i in range(0, len(df_everymind['Nome Completo'])):\n",
        "  df_everymind['PessoaColaboradora'][i] = str(df_everymind['Nome Completo'][i]).replace('PessoaColaboradora', '')\n",
        "\n",
        "\n",
        "# ------------------------------------Tabela Reconhecimento--------------------------\n",
        "\n",
        "\n",
        "# Pega todas as colunas com type \"object\" e tira todos os espaços para ficar padronizado\n",
        "df_reconhecimento_types = df_reconhecimento.select_dtypes(include = \"object\").columns\n",
        "\n",
        "for j in df_reconhecimento_types:\n",
        "  df_reconhecimento[j] = df_reconhecimento[j].str.replace(' ', '')\n",
        "\n",
        "for i in df_reconhecimento:\n",
        "  df_reconhecimento[j] = df_reconhecimento[j].str.replace('-', '')\n",
        "\n",
        "# Cria uma nova coluna \"Pessoa colaboradora\"\n",
        "df_reconhecimento['PessoaColaboradora'] = \"\"\n",
        "\n",
        "# Transforma a coluna \"Codinome\" em number, tirando os textos e colocando o numero do colaborador na coluna \"PessoaColaboradora\"\n",
        "for i in range(0, len(df_reconhecimento['Codinome'])):\n",
        "  df_reconhecimento['PessoaColaboradora'][i] = str(df_reconhecimento['Codinome'][i]).replace('PessoaColaboradora', '')\n",
        "\n",
        "\n",
        "# ------------------------------------Tabela Ambiente de Trabalho 27.07--------------------------\n",
        "\n",
        "\n",
        "# Pega todas as colunas com type \"object\" e tira todos os espaços para ficar padronizado\n",
        "df_ambiente_types = df_ambiente.select_dtypes(include = \"object\").columns\n",
        "\n",
        "for j in df_ambiente_types:\n",
        "  df_ambiente[j] = df_ambiente[j].str.replace(' ', '')\n",
        "\n",
        "for i in df_ambiente:\n",
        "  df_ambiente[j] = df_ambiente[j].str.replace('-', '')"
      ],
      "metadata": {
        "id": "-QfA5nh9ep3S",
        "colab": {
          "base_uri": "https://localhost:8080/"
        },
        "outputId": "3289d1c9-8cf1-4655-96e0-054269fd4e1e"
      },
      "execution_count": 69,
      "outputs": [
        {
          "output_type": "stream",
          "name": "stderr",
          "text": [
            "/usr/local/lib/python3.7/dist-packages/ipykernel_launcher.py:19: SettingWithCopyWarning: \n",
            "A value is trying to be set on a copy of a slice from a DataFrame\n",
            "\n",
            "See the caveats in the documentation: https://pandas.pydata.org/pandas-docs/stable/user_guide/indexing.html#returning-a-view-versus-a-copy\n",
            "/usr/local/lib/python3.7/dist-packages/ipykernel_launcher.py:39: SettingWithCopyWarning: \n",
            "A value is trying to be set on a copy of a slice from a DataFrame\n",
            "\n",
            "See the caveats in the documentation: https://pandas.pydata.org/pandas-docs/stable/user_guide/indexing.html#returning-a-view-versus-a-copy\n"
          ]
        }
      ]
    },
    {
      "cell_type": "markdown",
      "source": [
        "#4. Derivação de novos atributos\n",
        "\n",
        "A partir da limpeza dos dados e do relacionamento entre eles, conseguimos gerar novos elementos que facilitam as analises e auxiliam na tomada de decisões da IA. A partir dos dados obtidos, obtivemos os seguintes atributos:\n",
        "\n",
        "\n",
        "*   Número de dias na empresa\n",
        "*   Idade do colaborador\n",
        "*   Dias para reconhecimento entre data de admissão e vigência\n",
        "\n",
        "\n"
      ],
      "metadata": {
        "id": "TD0CxvejwTdi"
      }
    },
    {
      "cell_type": "code",
      "source": [
        "# ------------------------------------Tabela Everymind--------------------------\n",
        "\n",
        "# Função que calcula os dias entre duas datas\n",
        "def numOfDays(date1, date2):\n",
        "    return (date2-date1).days\n",
        "\n",
        "# Cria uma coluna de idade e uma de numero de dias na empresa na empresa \n",
        "df_everymind['Idade'] = 0\n",
        "df_everymind['NumeroMeses'] = 0\n",
        "\n",
        "# Faz o calculo da idade e armazena \n",
        "for i in range(0, len(df_everymind['Dt Nascimento'])):\n",
        "  if df_everymind['Tipo Saida'][i] == str('ColaboradorAtivo'):\n",
        "    if date.today().month>=(df_everymind['Dt Nascimento'][i]).month:\n",
        "      df_everymind['Idade'][i] = date.today().year - (df_everymind['Dt Nascimento'][i]).year\n",
        "    else:\n",
        "      df_everymind['Idade'][i] = (date.today().year - (df_everymind['Dt Nascimento'][i]).year)-1\n",
        "  else:\n",
        "    if df_everymind['Dt Saida'][i].month>=(df_everymind['Dt Nascimento'][i]).month:\n",
        "      df_everymind['Idade'][i] = date.today().year - (df_everymind['Dt Nascimento'][i]).year\n",
        "    else:\n",
        "      df_everymind['Idade'][i] = (df_everymind['Dt Saida'][i].year - df_everymind['Dt Nascimento'][i].year)-1\n",
        "\n",
        "# Faz o calculo do numero de meses na empresa de cada colaborador\n",
        "\n",
        "for i in range(0, len(df_everymind['Dt Admissao'])):\n",
        "  if df_everymind['Tipo Saida'][i] == str('Ativo'):\n",
        "    df_everymind['NumeroMeses'][i] = (((date.today().year - df_everymind['Dt Admissao'][i].year)*12)+date.today().month - df_everymind['Dt Admissao'][i].month)\n",
        "  else:\n",
        "    df_everymind['NumeroMeses'][i] = (df_everymind['Dt Saida'][i].year - df_everymind['Dt Admissao'][i].year)*12+df_everymind['Dt Saida'][i].month - df_everymind['Dt Admissao'][i].month\n",
        "    \n",
        "# ------------------------------------Tabela Reconhecimento--------------------------\n",
        "\n",
        "\n",
        "#Cria uma coluna \"DiasParaReconhecimento\"\n",
        "df_reconhecimento['DiasParaReconhecimento'] = 0\n",
        "\n",
        "#Calcula os dias que o empregador entrou na empresa até receber reconhecimento\n",
        "date_reconhecimento1 = df_reconhecimento['Data de Admissão']\n",
        "date_reconhecimento2 = df_reconhecimento['Data Vigência']\n",
        "for i in range(0, len(date_reconhecimento2)):\n",
        "  df_reconhecimento['DiasParaReconhecimento'][i] = str(numOfDays(date_reconhecimento1[i], date_reconhecimento2[i]))"
      ],
      "metadata": {
        "id": "VXCYyBBg9bNm",
        "colab": {
          "base_uri": "https://localhost:8080/"
        },
        "outputId": "2c2f6776-55e8-499d-9988-8854ca10b03a"
      },
      "execution_count": 70,
      "outputs": [
        {
          "output_type": "stream",
          "name": "stderr",
          "text": [
            "/usr/local/lib/python3.7/dist-packages/ipykernel_launcher.py:20: SettingWithCopyWarning: \n",
            "A value is trying to be set on a copy of a slice from a DataFrame\n",
            "\n",
            "See the caveats in the documentation: https://pandas.pydata.org/pandas-docs/stable/user_guide/indexing.html#returning-a-view-versus-a-copy\n",
            "/usr/local/lib/python3.7/dist-packages/ipykernel_launcher.py:22: SettingWithCopyWarning: \n",
            "A value is trying to be set on a copy of a slice from a DataFrame\n",
            "\n",
            "See the caveats in the documentation: https://pandas.pydata.org/pandas-docs/stable/user_guide/indexing.html#returning-a-view-versus-a-copy\n",
            "/usr/local/lib/python3.7/dist-packages/ipykernel_launcher.py:15: SettingWithCopyWarning: \n",
            "A value is trying to be set on a copy of a slice from a DataFrame\n",
            "\n",
            "See the caveats in the documentation: https://pandas.pydata.org/pandas-docs/stable/user_guide/indexing.html#returning-a-view-versus-a-copy\n",
            "  from ipykernel import kernelapp as app\n",
            "/usr/local/lib/python3.7/dist-packages/ipykernel_launcher.py:17: SettingWithCopyWarning: \n",
            "A value is trying to be set on a copy of a slice from a DataFrame\n",
            "\n",
            "See the caveats in the documentation: https://pandas.pydata.org/pandas-docs/stable/user_guide/indexing.html#returning-a-view-versus-a-copy\n",
            "/usr/local/lib/python3.7/dist-packages/ipykernel_launcher.py:30: SettingWithCopyWarning: \n",
            "A value is trying to be set on a copy of a slice from a DataFrame\n",
            "\n",
            "See the caveats in the documentation: https://pandas.pydata.org/pandas-docs/stable/user_guide/indexing.html#returning-a-view-versus-a-copy\n",
            "/usr/local/lib/python3.7/dist-packages/ipykernel_launcher.py:42: SettingWithCopyWarning: \n",
            "A value is trying to be set on a copy of a slice from a DataFrame\n",
            "\n",
            "See the caveats in the documentation: https://pandas.pydata.org/pandas-docs/stable/user_guide/indexing.html#returning-a-view-versus-a-copy\n"
          ]
        }
      ]
    },
    {
      "cell_type": "markdown",
      "source": [
        "#5. Encoders\n",
        "\n",
        "As variáveis do tipo _string_ são reconhecidas com dificuldade pelo modelo, por conta disso, é necessário transformá-las em números (tipo _int_ e _float_). Existem duas maneiras de se fazer o \"encoding\", sendo elas:\n",
        "\n",
        "\n",
        "* Label Encoding\n",
        "* One Hot Encoding"
      ],
      "metadata": {
        "id": "L8e9hBYiOa8j"
      }
    },
    {
      "cell_type": "markdown",
      "source": [
        "##5.1 Label Encoding\n",
        "\n",
        "O Label Encoding transforma as features em números ordenados, ou seja, em ordem. É normalmente usada quando uma feature é mais importante que outra. No projeto a única que identificamos que possui ordem é a escolaridade (na tabela Everymind)."
      ],
      "metadata": {
        "id": "Eyxsdf9MP_a0"
      }
    },
    {
      "cell_type": "code",
      "source": [
        "# Cria um novo Data Frame para a coluna de Escolaridade e raliza o processo de Label Encoding\n",
        "data_frame_esco = pd.DataFrame(df_everymind, columns=[\"Escolaridade \"]) \n",
        "df_esco_atual = data_frame_esco.replace(['EnsinoMédioIncompleto',\n",
        "                                         'EnsinoMédio', \n",
        "                                         'Técnico', \n",
        "                                         'Superiorincompleto', \n",
        "                                         'Graduação', \n",
        "                                         'PósGraduação', \n",
        "                                         'Mestrado'], \n",
        "                                         [0,1,2,3,4,5,6])"
      ],
      "metadata": {
        "id": "rY1oHumuWkFA"
      },
      "execution_count": 71,
      "outputs": []
    },
    {
      "cell_type": "markdown",
      "source": [
        "##5.2 One Hot Encoding\n",
        "\n",
        "O One Hot Encoding cria uma coluna para cada valor e faz uma atribuição do valor 1 (um) para a coluna correspondente da amostra e 0 (zero) para as outras. Dessa forma, uma linha tem apenas um valor. Essa forma de _encoding_ costuma ser mais utilizada, pois não atribui uma ordem às features. Nós usamos o One Hot Encoding em todas as tabelas."
      ],
      "metadata": {
        "id": "b72VF7emX2wD"
      }
    },
    {
      "cell_type": "code",
      "source": [
        "# ------------------------------------Tabela Everymind--------------------------\n",
        "\n",
        "# A função \"get_dummies()\" realiza o One Hot Encoding da coluna desejada. \n",
        "one_hot_cargos = pd.get_dummies(df_everymind[\"Cargo\"])\n",
        "one_hot_saida = pd.get_dummies(df_everymind[\"Tipo Saida\"])\n",
        "one_hot_genero = pd.get_dummies(df_everymind[\"Genero\"])\n",
        "one_hot_etnia = pd.get_dummies(df_everymind[\"Etnia\"])\n",
        "one_hot_civil = pd.get_dummies(df_everymind[\"Estado Civil\"]) \n",
        "one_hot_estado = pd.get_dummies(df_everymind[\"Estado\"])\n",
        "one_hot_cidade = pd.get_dummies(df_everymind[\"Cidade\"])\n",
        "one_hot_area = pd.get_dummies(df_everymind[\"Area\"])\n",
        "one_hot_colaborador = pd.get_dummies(df_everymind[\"PessoaColaboradora\"])\n",
        "\n",
        "\n",
        "# ------------------------------------Tabela Reconhecimento--------------------------\n",
        "\n",
        "# A mesma função acima se aplica nessa tabela\n",
        "one_hot_codinome = pd.get_dummies(df_reconhecimento[\"Codinome\"])\n",
        "one_hot_situacao = pd.get_dummies(df_reconhecimento[\"Situação\"])\n",
        "one_hot_novocargo = pd.get_dummies(df_reconhecimento[\"Novo Cargo\"])\n",
        "one_hot_motivo = pd.get_dummies(df_reconhecimento[\"Motivo\"])\n",
        "one_hot_funcao = pd.get_dummies(df_reconhecimento[\"Alterou Função\"])\n",
        "\n",
        "# ------------------------------------Tabela Ambiente de trabalho--------------------------\n",
        "\n",
        "one_hot_div = pd.get_dummies(df_ambiente[\"Divisao\"])\n",
        "one_hot_pilar = pd.get_dummies(df_ambiente[\"Pilar\"])\n",
        "one_hot_factor = pd.get_dummies(df_ambiente[\"Fator\"])\n",
        "one_hot_question = pd.get_dummies(df_ambiente[\"Pergunta\"])\n",
        "one_hot_reliabilityRate = pd.get_dummies(df_ambiente[\"Taxa de Confiabilidade\"])\n",
        "\n",
        "one_hot_div"
      ],
      "metadata": {
        "id": "284sBXUBY-nd",
        "colab": {
          "base_uri": "https://localhost:8080/",
          "height": 0
        },
        "outputId": "ba6dec45-8b80-4db1-b07e-c45650828386"
      },
      "execution_count": 72,
      "outputs": [
        {
          "output_type": "execute_result",
          "data": {
            "text/plain": [
              "      AMS&PS  Analytics&Integration  CPG&RetailI  CPG&RetailII  Commerce  \\\n",
              "0          0                      0            0             0         0   \n",
              "1          0                      0            0             0         0   \n",
              "2          0                      0            0             0         0   \n",
              "3          0                      0            0             0         0   \n",
              "4          0                      0            0             0         0   \n",
              "...      ...                    ...          ...           ...       ...   \n",
              "1689       0                      0            0             0         0   \n",
              "1690       0                      0            0             0         0   \n",
              "1691       0                      0            0             0         0   \n",
              "1692       0                      0            0             0         0   \n",
              "1693       0                      0            0             0         0   \n",
              "\n",
              "      Core&IndustriasI  Core&IndustriasII  Everymind  MktCloud  \\\n",
              "0                    0                  0          1         0   \n",
              "1                    0                  0          1         0   \n",
              "2                    0                  0          1         0   \n",
              "3                    0                  0          1         0   \n",
              "4                    0                  0          1         0   \n",
              "...                ...                ...        ...       ...   \n",
              "1689                 0                  0          0         0   \n",
              "1690                 0                  0          0         0   \n",
              "1691                 0                  0          0         0   \n",
              "1692                 0                  0          0         0   \n",
              "1693                 0                  0          0         0   \n",
              "\n",
              "      People&Culture  Vendas  \n",
              "0                  0       0  \n",
              "1                  0       0  \n",
              "2                  0       0  \n",
              "3                  0       0  \n",
              "4                  0       0  \n",
              "...              ...     ...  \n",
              "1689               0       1  \n",
              "1690               0       1  \n",
              "1691               0       1  \n",
              "1692               0       1  \n",
              "1693               0       1  \n",
              "\n",
              "[1694 rows x 11 columns]"
            ],
            "text/html": [
              "\n",
              "  <div id=\"df-1512ab69-a24a-43d2-99f5-0bf3635cf2bf\">\n",
              "    <div class=\"colab-df-container\">\n",
              "      <div>\n",
              "<style scoped>\n",
              "    .dataframe tbody tr th:only-of-type {\n",
              "        vertical-align: middle;\n",
              "    }\n",
              "\n",
              "    .dataframe tbody tr th {\n",
              "        vertical-align: top;\n",
              "    }\n",
              "\n",
              "    .dataframe thead th {\n",
              "        text-align: right;\n",
              "    }\n",
              "</style>\n",
              "<table border=\"1\" class=\"dataframe\">\n",
              "  <thead>\n",
              "    <tr style=\"text-align: right;\">\n",
              "      <th></th>\n",
              "      <th>AMS&amp;PS</th>\n",
              "      <th>Analytics&amp;Integration</th>\n",
              "      <th>CPG&amp;RetailI</th>\n",
              "      <th>CPG&amp;RetailII</th>\n",
              "      <th>Commerce</th>\n",
              "      <th>Core&amp;IndustriasI</th>\n",
              "      <th>Core&amp;IndustriasII</th>\n",
              "      <th>Everymind</th>\n",
              "      <th>MktCloud</th>\n",
              "      <th>People&amp;Culture</th>\n",
              "      <th>Vendas</th>\n",
              "    </tr>\n",
              "  </thead>\n",
              "  <tbody>\n",
              "    <tr>\n",
              "      <th>0</th>\n",
              "      <td>0</td>\n",
              "      <td>0</td>\n",
              "      <td>0</td>\n",
              "      <td>0</td>\n",
              "      <td>0</td>\n",
              "      <td>0</td>\n",
              "      <td>0</td>\n",
              "      <td>1</td>\n",
              "      <td>0</td>\n",
              "      <td>0</td>\n",
              "      <td>0</td>\n",
              "    </tr>\n",
              "    <tr>\n",
              "      <th>1</th>\n",
              "      <td>0</td>\n",
              "      <td>0</td>\n",
              "      <td>0</td>\n",
              "      <td>0</td>\n",
              "      <td>0</td>\n",
              "      <td>0</td>\n",
              "      <td>0</td>\n",
              "      <td>1</td>\n",
              "      <td>0</td>\n",
              "      <td>0</td>\n",
              "      <td>0</td>\n",
              "    </tr>\n",
              "    <tr>\n",
              "      <th>2</th>\n",
              "      <td>0</td>\n",
              "      <td>0</td>\n",
              "      <td>0</td>\n",
              "      <td>0</td>\n",
              "      <td>0</td>\n",
              "      <td>0</td>\n",
              "      <td>0</td>\n",
              "      <td>1</td>\n",
              "      <td>0</td>\n",
              "      <td>0</td>\n",
              "      <td>0</td>\n",
              "    </tr>\n",
              "    <tr>\n",
              "      <th>3</th>\n",
              "      <td>0</td>\n",
              "      <td>0</td>\n",
              "      <td>0</td>\n",
              "      <td>0</td>\n",
              "      <td>0</td>\n",
              "      <td>0</td>\n",
              "      <td>0</td>\n",
              "      <td>1</td>\n",
              "      <td>0</td>\n",
              "      <td>0</td>\n",
              "      <td>0</td>\n",
              "    </tr>\n",
              "    <tr>\n",
              "      <th>4</th>\n",
              "      <td>0</td>\n",
              "      <td>0</td>\n",
              "      <td>0</td>\n",
              "      <td>0</td>\n",
              "      <td>0</td>\n",
              "      <td>0</td>\n",
              "      <td>0</td>\n",
              "      <td>1</td>\n",
              "      <td>0</td>\n",
              "      <td>0</td>\n",
              "      <td>0</td>\n",
              "    </tr>\n",
              "    <tr>\n",
              "      <th>...</th>\n",
              "      <td>...</td>\n",
              "      <td>...</td>\n",
              "      <td>...</td>\n",
              "      <td>...</td>\n",
              "      <td>...</td>\n",
              "      <td>...</td>\n",
              "      <td>...</td>\n",
              "      <td>...</td>\n",
              "      <td>...</td>\n",
              "      <td>...</td>\n",
              "      <td>...</td>\n",
              "    </tr>\n",
              "    <tr>\n",
              "      <th>1689</th>\n",
              "      <td>0</td>\n",
              "      <td>0</td>\n",
              "      <td>0</td>\n",
              "      <td>0</td>\n",
              "      <td>0</td>\n",
              "      <td>0</td>\n",
              "      <td>0</td>\n",
              "      <td>0</td>\n",
              "      <td>0</td>\n",
              "      <td>0</td>\n",
              "      <td>1</td>\n",
              "    </tr>\n",
              "    <tr>\n",
              "      <th>1690</th>\n",
              "      <td>0</td>\n",
              "      <td>0</td>\n",
              "      <td>0</td>\n",
              "      <td>0</td>\n",
              "      <td>0</td>\n",
              "      <td>0</td>\n",
              "      <td>0</td>\n",
              "      <td>0</td>\n",
              "      <td>0</td>\n",
              "      <td>0</td>\n",
              "      <td>1</td>\n",
              "    </tr>\n",
              "    <tr>\n",
              "      <th>1691</th>\n",
              "      <td>0</td>\n",
              "      <td>0</td>\n",
              "      <td>0</td>\n",
              "      <td>0</td>\n",
              "      <td>0</td>\n",
              "      <td>0</td>\n",
              "      <td>0</td>\n",
              "      <td>0</td>\n",
              "      <td>0</td>\n",
              "      <td>0</td>\n",
              "      <td>1</td>\n",
              "    </tr>\n",
              "    <tr>\n",
              "      <th>1692</th>\n",
              "      <td>0</td>\n",
              "      <td>0</td>\n",
              "      <td>0</td>\n",
              "      <td>0</td>\n",
              "      <td>0</td>\n",
              "      <td>0</td>\n",
              "      <td>0</td>\n",
              "      <td>0</td>\n",
              "      <td>0</td>\n",
              "      <td>0</td>\n",
              "      <td>1</td>\n",
              "    </tr>\n",
              "    <tr>\n",
              "      <th>1693</th>\n",
              "      <td>0</td>\n",
              "      <td>0</td>\n",
              "      <td>0</td>\n",
              "      <td>0</td>\n",
              "      <td>0</td>\n",
              "      <td>0</td>\n",
              "      <td>0</td>\n",
              "      <td>0</td>\n",
              "      <td>0</td>\n",
              "      <td>0</td>\n",
              "      <td>1</td>\n",
              "    </tr>\n",
              "  </tbody>\n",
              "</table>\n",
              "<p>1694 rows × 11 columns</p>\n",
              "</div>\n",
              "      <button class=\"colab-df-convert\" onclick=\"convertToInteractive('df-1512ab69-a24a-43d2-99f5-0bf3635cf2bf')\"\n",
              "              title=\"Convert this dataframe to an interactive table.\"\n",
              "              style=\"display:none;\">\n",
              "        \n",
              "  <svg xmlns=\"http://www.w3.org/2000/svg\" height=\"24px\"viewBox=\"0 0 24 24\"\n",
              "       width=\"24px\">\n",
              "    <path d=\"M0 0h24v24H0V0z\" fill=\"none\"/>\n",
              "    <path d=\"M18.56 5.44l.94 2.06.94-2.06 2.06-.94-2.06-.94-.94-2.06-.94 2.06-2.06.94zm-11 1L8.5 8.5l.94-2.06 2.06-.94-2.06-.94L8.5 2.5l-.94 2.06-2.06.94zm10 10l.94 2.06.94-2.06 2.06-.94-2.06-.94-.94-2.06-.94 2.06-2.06.94z\"/><path d=\"M17.41 7.96l-1.37-1.37c-.4-.4-.92-.59-1.43-.59-.52 0-1.04.2-1.43.59L10.3 9.45l-7.72 7.72c-.78.78-.78 2.05 0 2.83L4 21.41c.39.39.9.59 1.41.59.51 0 1.02-.2 1.41-.59l7.78-7.78 2.81-2.81c.8-.78.8-2.07 0-2.86zM5.41 20L4 18.59l7.72-7.72 1.47 1.35L5.41 20z\"/>\n",
              "  </svg>\n",
              "      </button>\n",
              "      \n",
              "  <style>\n",
              "    .colab-df-container {\n",
              "      display:flex;\n",
              "      flex-wrap:wrap;\n",
              "      gap: 12px;\n",
              "    }\n",
              "\n",
              "    .colab-df-convert {\n",
              "      background-color: #E8F0FE;\n",
              "      border: none;\n",
              "      border-radius: 50%;\n",
              "      cursor: pointer;\n",
              "      display: none;\n",
              "      fill: #1967D2;\n",
              "      height: 32px;\n",
              "      padding: 0 0 0 0;\n",
              "      width: 32px;\n",
              "    }\n",
              "\n",
              "    .colab-df-convert:hover {\n",
              "      background-color: #E2EBFA;\n",
              "      box-shadow: 0px 1px 2px rgba(60, 64, 67, 0.3), 0px 1px 3px 1px rgba(60, 64, 67, 0.15);\n",
              "      fill: #174EA6;\n",
              "    }\n",
              "\n",
              "    [theme=dark] .colab-df-convert {\n",
              "      background-color: #3B4455;\n",
              "      fill: #D2E3FC;\n",
              "    }\n",
              "\n",
              "    [theme=dark] .colab-df-convert:hover {\n",
              "      background-color: #434B5C;\n",
              "      box-shadow: 0px 1px 3px 1px rgba(0, 0, 0, 0.15);\n",
              "      filter: drop-shadow(0px 1px 2px rgba(0, 0, 0, 0.3));\n",
              "      fill: #FFFFFF;\n",
              "    }\n",
              "  </style>\n",
              "\n",
              "      <script>\n",
              "        const buttonEl =\n",
              "          document.querySelector('#df-1512ab69-a24a-43d2-99f5-0bf3635cf2bf button.colab-df-convert');\n",
              "        buttonEl.style.display =\n",
              "          google.colab.kernel.accessAllowed ? 'block' : 'none';\n",
              "\n",
              "        async function convertToInteractive(key) {\n",
              "          const element = document.querySelector('#df-1512ab69-a24a-43d2-99f5-0bf3635cf2bf');\n",
              "          const dataTable =\n",
              "            await google.colab.kernel.invokeFunction('convertToInteractive',\n",
              "                                                     [key], {});\n",
              "          if (!dataTable) return;\n",
              "\n",
              "          const docLinkHtml = 'Like what you see? Visit the ' +\n",
              "            '<a target=\"_blank\" href=https://colab.research.google.com/notebooks/data_table.ipynb>data table notebook</a>'\n",
              "            + ' to learn more about interactive tables.';\n",
              "          element.innerHTML = '';\n",
              "          dataTable['output_type'] = 'display_data';\n",
              "          await google.colab.output.renderOutput(dataTable, element);\n",
              "          const docLink = document.createElement('div');\n",
              "          docLink.innerHTML = docLinkHtml;\n",
              "          element.appendChild(docLink);\n",
              "        }\n",
              "      </script>\n",
              "    </div>\n",
              "  </div>\n",
              "  "
            ]
          },
          "metadata": {},
          "execution_count": 72
        }
      ]
    },
    {
      "cell_type": "markdown",
      "source": [
        "#6. Criação de novas tabelas\n",
        "\n",
        "Para facilitar o desenvolvimento do projeto, foi decidido criar tabelas novas com as modificações feitas."
      ],
      "metadata": {
        "id": "En3-Eqy8bGsl"
      }
    },
    {
      "cell_type": "markdown",
      "source": [
        "6.1. Armazenando os dados em variaveis"
      ],
      "metadata": {
        "id": "0TasagPMhT9R"
      }
    },
    {
      "cell_type": "code",
      "source": [
        "# ------------------------------------Tabela Everymind--------------------------\n",
        "\n",
        "collaborator = df_everymind['PessoaColaboradora']\n",
        "registration = df_everymind['Matrícula']\n",
        "age = df_everymind['Idade']\n",
        "companyTime = df_everymind['NumeroMeses']\n",
        "monthlySalary = df_everymind['Salario Mês']\n",
        "\n",
        "# ------------------------------------Tabela Reconhecimento--------------------------\n",
        "\n",
        "registrationRecognition = df_reconhecimento['Matricula']\n",
        "registrationRecognition = df_reconhecimento['PessoaColaboradora']\n",
        "daysRecognition = df_reconhecimento['DiasParaReconhecimento']\n",
        "newSalary =  df_reconhecimento['Novo Salario']\n",
        "\n",
        "# ------------------------------------Tabela Ambiente de trabalho--------------------------\n",
        "\n",
        "punctuation = df_ambiente['Pontuação']\n",
        "subpunctuation = df_ambiente['Pontuação.1']\n",
        "searchSkip = df_ambiente['Pulou']\n",
        "veryUnsatisfied = df_ambiente['Muito Insatisfeito']\n",
        "unsatisfied = df_ambiente['Insatisfeito']\n",
        "neutral = df_ambiente['Neutro']\n",
        "satisfied = df_ambiente['Satisfeito']\n",
        "verySatisfied = df_ambiente['Muito Satisfeito']"
      ],
      "metadata": {
        "id": "TWUHNkzTbf13"
      },
      "execution_count": 73,
      "outputs": []
    },
    {
      "cell_type": "markdown",
      "source": [
        "6.2. Concatenando os dados na nova tabela"
      ],
      "metadata": {
        "id": "sec2nOIihmd2"
      }
    },
    {
      "cell_type": "code",
      "source": [
        "# ------------------------------------Tabela Everymind--------------------------\n",
        "\n",
        "# Cria uma tabela nova com os dados formatados\n",
        "newData = pd.DataFrame()\n",
        "newData = pd.concat([newData,registration], axis = 1)\n",
        "newData = pd.concat([newData,collaborator], axis = 1)\n",
        "newData = pd.concat([newData,age], axis = 1)\n",
        "newData = pd.concat([newData,companyTime], axis = 1)\n",
        "newData = pd.concat([newData,one_hot_saida], axis = 1)\n",
        "newData = pd.concat([newData,one_hot_cargos], axis = 1)\n",
        "newData = pd.concat([newData,monthlySalary], axis = 1)\n",
        "newData = pd.concat([newData,one_hot_genero], axis = 1)\n",
        "newData = pd.concat([newData,one_hot_civil], axis = 1)\n",
        "newData = pd.concat([newData,df_esco_atual], axis = 1)\n",
        "newData = pd.concat([newData,one_hot_estado], axis = 1)\n",
        "newData = pd.concat([newData,one_hot_cidade], axis = 1)\n",
        "newData = pd.concat([newData,one_hot_area], axis = 1)\n",
        "\n",
        "# ------------------------------------Tabela Reconhecimento--------------------------\n",
        "\n",
        "# Cria uma tabela nova com os dados formatados\n",
        "newData_reconhecimento = pd.DataFrame()\n",
        "newData_reconhecimento = pd.concat([newData_reconhecimento,one_hot_codinome], axis = 1)\n",
        "newData_reconhecimento = pd.concat([newData_reconhecimento,one_hot_situacao], axis = 1)\n",
        "newData_reconhecimento = pd.concat([newData_reconhecimento,one_hot_novocargo], axis = 1)\n",
        "newData_reconhecimento = pd.concat([newData_reconhecimento,one_hot_motivo], axis = 1)\n",
        "newData_reconhecimento = pd.concat([newData_reconhecimento,one_hot_funcao], axis = 1)\n",
        "\n",
        "\n",
        "# ------------------------------------Tabela Reconhecimento--------------------------\n",
        "\n",
        "# Cria uma tabela nova com os dados formatados\n",
        "newData_ambiente = pd.DataFrame()\n",
        "newData_ambiente = pd.concat([newData_ambiente,one_hot_div], axis = 1)\n",
        "newData_ambiente = pd.concat([newData_ambiente,one_hot_pilar], axis = 1)\n",
        "newData_ambiente = pd.concat([newData_ambiente,punctuation], axis = 1)\n",
        "newData_ambiente = pd.concat([newData_ambiente,one_hot_factor], axis = 1)\n",
        "newData_ambiente = pd.concat([newData_ambiente,subpunctuation], axis = 1)\n",
        "newData_ambiente = pd.concat([newData_ambiente,one_hot_question], axis = 1)\n",
        "newData_ambiente = pd.concat([newData_ambiente,searchSkip], axis = 1)\n",
        "newData_ambiente = pd.concat([newData_ambiente,veryUnsatisfied], axis = 1)\n",
        "newData_ambiente = pd.concat([newData_ambiente,unsatisfied], axis = 1)\n",
        "newData_ambiente = pd.concat([newData_ambiente,neutral], axis = 1)\n",
        "newData_ambiente = pd.concat([newData_ambiente,satisfied], axis = 1)\n",
        "newData_ambiente = pd.concat([newData_ambiente,verySatisfied], axis = 1)\n",
        "newData_ambiente = pd.concat([newData_ambiente,one_hot_reliabilityRate], axis = 1)"
      ],
      "metadata": {
        "id": "krPZwsqabFP5"
      },
      "execution_count": 74,
      "outputs": []
    },
    {
      "cell_type": "markdown",
      "source": [
        "# 7.Download das novas tabelas\n",
        "\n",
        "Para verificação e facilidade de análise vamos fazer o download das tabelas."
      ],
      "metadata": {
        "id": "t5o4H_l2iY9X"
      }
    },
    {
      "cell_type": "code",
      "source": [
        "# newData.to_excel('formatData_Everymind.xlsx')\n",
        "# newData_reconhecimento.to_excel('formatData_Reconhecimento.xlsx')\n",
        "# newData_ambiente.to_excel('formatData_Ambiente.xlsx')"
      ],
      "metadata": {
        "id": "fwyZNOoHipW-"
      },
      "execution_count": 75,
      "outputs": []
    },
    {
      "cell_type": "markdown",
      "source": [
        "# 8.Integrar tabelas\n",
        "\n",
        "Identificamos a necessidade de gerar novas colunas importantes e adicionar na análise dos modelos de predição para gerar um resultado mais certeiro.\n",
        "\n",
        "Os dados criados foram:\n",
        "\n",
        "\n",
        "*   Média do tempo de promoção (Também se aplica aos que tem mais de um reconhecimento).\n",
        "*   Se o colaborador é remoto ou não\n",
        "\n"
      ],
      "metadata": {
        "id": "W-LOl5H615e7"
      }
    },
    {
      "cell_type": "code",
      "source": [
        "df_reconhecimento['Espera de promoção'] = \"\"\n",
        "df_everymind['mediaTempoPromoção'] = 0"
      ],
      "metadata": {
        "id": "vgGXi6Hr32QH"
      },
      "execution_count": 76,
      "outputs": []
    },
    {
      "cell_type": "code",
      "source": [
        "date1 = df_reconhecimento['Data de Admissão']\n",
        "date2 = df_reconhecimento['Data Vigência']\n",
        "for i in range(0, len(date2)):\n",
        "  df_reconhecimento['Espera de promoção'][i] = str(numOfDays(date1[i], date2[i]))"
      ],
      "metadata": {
        "colab": {
          "base_uri": "https://localhost:8080/"
        },
        "id": "5KmvuCCe36Fo",
        "outputId": "297b88b2-7f3d-40b1-c1ee-8ff4875b342b"
      },
      "execution_count": 77,
      "outputs": [
        {
          "output_type": "stream",
          "name": "stderr",
          "text": [
            "/usr/local/lib/python3.7/dist-packages/ipykernel_launcher.py:4: SettingWithCopyWarning: \n",
            "A value is trying to be set on a copy of a slice from a DataFrame\n",
            "\n",
            "See the caveats in the documentation: https://pandas.pydata.org/pandas-docs/stable/user_guide/indexing.html#returning-a-view-versus-a-copy\n",
            "  after removing the cwd from sys.path.\n"
          ]
        }
      ]
    },
    {
      "cell_type": "code",
      "source": [
        "arrayColab = df_reconhecimento['PessoaColaboradora'].unique()\n",
        "\n",
        "wait_days_test = []\n",
        "mean_time = []\n",
        "\n",
        "for i in df_reconhecimento['PessoaColaboradora'].unique():\n",
        "  wait_days_test.append(df_reconhecimento.loc[df_reconhecimento['PessoaColaboradora'] == i]['Espera de promoção'].values.tolist())\n",
        "  wait_days_test[-1] = list(map(int, wait_days_test[-1]))\n",
        "\n",
        "for i in range(0,len(wait_days_test)):\n",
        "  wait_days_test[i] = np.sort(wait_days_test[i]).tolist()\n",
        "\n",
        "for i in range(0, len(wait_days_test)):\n",
        "  mean_time_calculation = 0\n",
        "  for j in range(len(wait_days_test[i])-1, 0, -1):\n",
        "    wait_days_test[i][j] = wait_days_test[i][j]-wait_days_test[i][j-1]\n",
        "    mean_time_calculation += wait_days_test[i][j]\n",
        "  mean_time.append(mean_time_calculation+wait_days_test[i][0]/len(wait_days_test[i]))"
      ],
      "metadata": {
        "id": "A3nUQ2F32C8g"
      },
      "execution_count": 78,
      "outputs": []
    },
    {
      "cell_type": "code",
      "source": [
        "placeholder = df_reconhecimento['PessoaColaboradora'].unique()\n",
        "for i in range (0, len(placeholder)):\n",
        "  df_everymind.loc[df_everymind.PessoaColaboradora == placeholder[i], 'mediaTempoPromoção'] = mean_time[i]\n",
        "for i in range (0, len(df_everymind['mediaTempoPromoção'])):\n",
        "  print(str(df_everymind[\"PessoaColaboradora\"][i]) + \" \" + str(df_everymind['mediaTempoPromoção'][i]))"
      ],
      "metadata": {
        "colab": {
          "base_uri": "https://localhost:8080/"
        },
        "id": "tin-wIBf5Og5",
        "outputId": "04499127-1373-4f7f-d7e2-a14e8e0130b4"
      },
      "execution_count": 79,
      "outputs": [
        {
          "output_type": "stream",
          "name": "stdout",
          "text": [
            "1 0.0\n",
            "10 137.0\n",
            "100 0.0\n",
            "101 427.33333333333337\n",
            "102 0.0\n",
            "103 151.0\n",
            "104 0.0\n",
            "105 0.0\n",
            "106 638.3333333333334\n",
            "107 0.0\n",
            "108 228.33333333333334\n",
            "109 0.0\n",
            "11 0.0\n",
            "110 0.0\n",
            "111 0.0\n",
            "112 0.0\n",
            "113 486.0\n",
            "114 0.0\n",
            "115 134.0\n",
            "116 365.0\n",
            "117 265.0\n",
            "118 439.0\n",
            "119 241.5\n",
            "12 0.0\n",
            "120 302.0\n",
            "121 0.0\n",
            "122 891.6\n",
            "123 0.0\n",
            "124 0.0\n",
            "125 325.0\n",
            "126 0.0\n",
            "127 419.0\n",
            "128 0.0\n",
            "129 0.0\n",
            "13 0.0\n",
            "130 243.0\n",
            "131 179.0\n",
            "132 0.0\n",
            "133 0.0\n",
            "134 669.3333333333334\n",
            "135 0.0\n",
            "136 0.0\n",
            "137 626.0\n",
            "138 0.0\n",
            "139 0.0\n",
            "14 750.5714285714286\n",
            "140 0.0\n",
            "141 0.0\n",
            "142 0.0\n",
            "143 0.0\n",
            "144 0.0\n",
            "145 243.0\n",
            "146 223.5\n",
            "147 0.0\n",
            "148 340.5\n",
            "149 0.0\n",
            "15 314.5\n",
            "150 0.0\n",
            "151 0.0\n",
            "152 0.0\n",
            "153 0.0\n",
            "154 0.0\n",
            "155 0.0\n",
            "156 0.0\n",
            "157 363.5\n",
            "158 0.0\n",
            "159 0.0\n",
            "16 303.0\n",
            "160 0.0\n",
            "161 343.0\n",
            "162 715.0\n",
            "163 0.0\n",
            "164 0.0\n",
            "165 466.0\n",
            "166 0.0\n",
            "167 339.5\n",
            "168 307.5\n",
            "169 463.5\n",
            "17 0.0\n",
            "170 0.0\n",
            "171 659.3333333333334\n",
            "172 0.0\n",
            "173 0.0\n",
            "174 0.0\n",
            "175 0.0\n",
            "176 0.0\n",
            "177 0.0\n",
            "178 0.0\n",
            "179 0.0\n",
            "18 0.0\n",
            "180 0.0\n",
            "181 0.0\n",
            "182 0.0\n",
            "183 0.0\n",
            "184 0.0\n",
            "185 448.0\n",
            "185 448.0\n",
            "186 0.0\n",
            "187 0.0\n",
            "188 793.75\n",
            "189 172.0\n",
            "19 0.0\n",
            "190 176.0\n",
            "191 0.0\n",
            "192 150.0\n",
            "193 0.0\n",
            "194 0.0\n",
            "195 0.0\n",
            "196 221.0\n",
            "197 0.0\n",
            "198 0.0\n",
            "199 299.0\n",
            "2 0.0\n",
            "20 349.0\n",
            "20 349.0\n",
            "200 519.75\n",
            "201 334.0\n",
            "202 440.0\n",
            "203 0.0\n",
            "204 776.0\n",
            "205 0.0\n",
            "206 0.0\n",
            "207 0.0\n",
            "208 0.0\n",
            "209 193.0\n",
            "21 0.0\n",
            "210 575.0\n",
            "211 0.0\n",
            "212 0.0\n",
            "213 0.0\n",
            "214 0.0\n",
            "215 179.0\n",
            "216 240.0\n",
            "217 0.0\n",
            "218 0.0\n",
            "219 243.0\n",
            "22 1127.3333333333333\n",
            "220 0.0\n",
            "221 613.0\n",
            "222 0.0\n",
            "223 272.6666666666667\n",
            "224 122.0\n",
            "225 0.0\n",
            "226 0.0\n",
            "227 196.5\n",
            "228 0.0\n",
            "229 0.0\n",
            "23 312.0\n",
            "230 334.0\n",
            "231 302.0\n",
            "232 0.0\n",
            "233 243.0\n",
            "234 0.0\n",
            "235 0.0\n",
            "236 1145.6666666666667\n",
            "237 0.0\n",
            "238 243.0\n",
            "239 0.0\n",
            "24 425.6666666666667\n",
            "240 0.0\n",
            "241 0.0\n",
            "242 448.5\n",
            "243 274.0\n",
            "244 531.6666666666666\n",
            "245 0.0\n",
            "246 585.25\n",
            "247 982.0\n",
            "248 0.0\n",
            "249 0.0\n",
            "25 0.0\n",
            "250 211.0\n",
            "251 0.0\n",
            "252 0.0\n",
            "253 981.6666666666666\n",
            "254 0.0\n",
            "255 0.0\n",
            "256 0.0\n",
            "257 0.0\n",
            "258 92.0\n",
            "259 0.0\n",
            "26 0.0\n",
            "260 553.6666666666666\n",
            "261 339.0\n",
            "262 0.0\n",
            "263 0.0\n",
            "264 0.0\n",
            "265 1009.3333333333333\n",
            "266 0.0\n",
            "267 337.5\n",
            "268 0.0\n",
            "269 182.0\n",
            "27 0.0\n",
            "270 203.0\n",
            "271 0.0\n",
            "272 565.0\n",
            "273 565.0\n",
            "274 307.5\n",
            "275 5659.0\n",
            "276 0.0\n",
            "277 391.0\n",
            "278 0.0\n",
            "279 184.5\n",
            "28 0.0\n",
            "280 0.0\n",
            "281 0.0\n",
            "282 612.6666666666666\n",
            "283 0.0\n",
            "284 0.0\n",
            "285 0.0\n",
            "285 0.0\n",
            "287 4262.0\n",
            "288 0.0\n",
            "289 0.0\n",
            "29 274.0\n",
            "290 718.6666666666666\n",
            "291 1156.0\n",
            "292 0.0\n",
            "293 243.0\n",
            "294 0.0\n",
            "295 377.0\n",
            "296 444.0\n",
            "297 0.0\n",
            "298 0.0\n",
            "299 0.0\n",
            "3 0.0\n",
            "30 738.0\n",
            "300 0.0\n",
            "300 0.0\n",
            "302 0.0\n",
            "303 0.0\n",
            "305 0.0\n",
            "307 0.0\n",
            "308 0.0\n",
            "309 0.0\n",
            "31 0.0\n",
            "310 0.0\n",
            "312 0.0\n",
            "313 0.0\n",
            "314 0.0\n",
            "315 0.0\n",
            "316 303.0\n",
            "317 0.0\n",
            "318 0.0\n",
            "319 0.0\n",
            "32 0.0\n",
            "320 0.0\n",
            "321 0.0\n",
            "322 242.0\n",
            "323 0.0\n",
            "324 743.0\n",
            "325 0.0\n",
            "326 0.0\n",
            "327 0.0\n",
            "328 548.0\n",
            "329 0.0\n",
            "33 225.0\n",
            "33 225.0\n",
            "330 0.0\n",
            "331 0.0\n",
            "332 0.0\n",
            "333 0.0\n",
            "334 105.0\n",
            "335 565.0\n",
            "336 1398.5\n",
            "337 0.0\n",
            "338 0.0\n",
            "339 0.0\n",
            "34 0.0\n",
            "340 0.0\n",
            "341 316.0\n",
            "342 0.0\n",
            "343 0.0\n",
            "344 1274.0\n",
            "345 0.0\n",
            "346 179.0\n",
            "347 0.0\n",
            "348 0.0\n",
            "349 1013.0\n",
            "35 111.0\n",
            "350 0.0\n",
            "351 0.0\n",
            "352 0.0\n",
            "353 0.0\n",
            "354 350.0\n",
            "355 0.0\n",
            "356 258.0\n",
            "357 0.0\n",
            "358 303.0\n",
            "359 0.0\n",
            "36 0.0\n",
            "360 0.0\n",
            "361 134.0\n",
            "362 0.0\n",
            "363 415.3333333333333\n",
            "364 0.0\n",
            "365 0.0\n",
            "366 0.0\n",
            "367 0.0\n",
            "368 0.0\n",
            "369 0.0\n",
            "37 0.0\n",
            "370 640.25\n",
            "371 0.0\n",
            "372 0.0\n",
            "374 0.0\n",
            "376 347.0\n",
            "377 330.0\n",
            "378 303.0\n",
            "379 0.0\n",
            "38 819.8\n",
            "380 0.0\n",
            "381 243.0\n",
            "382 306.0\n",
            "383 439.0\n",
            "384 0.0\n",
            "385 142.0\n",
            "386 750.0\n",
            "387 174.0\n",
            "388 0.0\n",
            "389 633.0\n",
            "39 328.0\n",
            "390 0.0\n",
            "391 1421.5\n",
            "393 0.0\n",
            "394 715.5\n",
            "395 0.0\n",
            "396 0.0\n",
            "397 243.0\n",
            "398 0.0\n",
            "399 0.0\n",
            "4 0.0\n",
            "40 0.0\n",
            "400 0.0\n",
            "401 0.0\n",
            "402 361.0\n",
            "403 0.0\n",
            "404 0.0\n",
            "405 0.0\n",
            "406 0.0\n",
            "407 0.0\n",
            "408 243.0\n",
            "409 824.5\n",
            "41 0.0\n",
            "410 394.5\n",
            "411 386.0\n",
            "412 1546.0\n",
            "414 0.0\n",
            "415 0.0\n",
            "416 0.0\n",
            "417 820.0\n",
            "418 0.0\n",
            "419 0.0\n",
            "42 936.0\n",
            "420 0.0\n",
            "421 0.0\n",
            "422 0.0\n",
            "423 149.0\n",
            "424 402.0\n",
            "425 941.3333333333334\n",
            "426 743.0\n",
            "427 0.0\n",
            "428 0.0\n",
            "429 323.0\n",
            "43 0.0\n",
            "430 0.0\n",
            "431 0.0\n",
            "432 0.0\n",
            "433 243.0\n",
            "434 0.0\n",
            "435 0.0\n",
            "436 0.0\n",
            "437 0.0\n",
            "438 0.0\n",
            "439 0.0\n",
            "44 0.0\n",
            "440 330.0\n",
            "441 0.0\n",
            "442 0.0\n",
            "443 306.0\n",
            "444 0.0\n",
            "445 0.0\n",
            "446 0.0\n",
            "447 0.0\n",
            "448 132.0\n",
            "449 0.0\n",
            "45 621.25\n",
            "450 561.0\n",
            "451 0.0\n",
            "452 0.0\n",
            "453 0.0\n",
            "454 697.2\n",
            "455 1153.0\n",
            "456 0.0\n",
            "457 0.0\n",
            "458 0.0\n",
            "459 239.5\n",
            "46 0.0\n",
            "460 0.0\n",
            "461 0.0\n",
            "462 0.0\n",
            "463 330.0\n",
            "464 0.0\n",
            "465 0.0\n",
            "466 243.0\n",
            "467 0.0\n",
            "468 0.0\n",
            "469 0.0\n",
            "47 0.0\n",
            "470 0.0\n",
            "471 0.0\n",
            "472 0.0\n",
            "473 196.5\n",
            "474 0.0\n",
            "475 0.0\n",
            "476 0.0\n",
            "477 0.0\n",
            "478 0.0\n",
            "479 0.0\n",
            "48 274.0\n",
            "49 0.0\n",
            "5 0.0\n",
            "50 0.0\n",
            "51 0.0\n",
            "52 0.0\n",
            "53 240.0\n",
            "54 1215.0\n",
            "55 0.0\n",
            "56 0.0\n",
            "57 0.0\n",
            "58 0.0\n",
            "59 214.0\n",
            "6 202.5\n",
            "60 780.5\n",
            "61 393.5\n",
            "62 506.0\n",
            "63 0.0\n",
            "64 0.0\n",
            "65 76.0\n",
            "66 0.0\n",
            "67 561.0\n",
            "68 351.0\n",
            "69 0.0\n",
            "7 377.0\n",
            "70 0.0\n",
            "71 926.25\n",
            "72 0.0\n",
            "73 0.0\n",
            "74 348.0\n",
            "75 0.0\n",
            "76 0.0\n",
            "77 0.0\n",
            "78 2419.0\n",
            "79 235.0\n",
            "8 0.0\n",
            "80 0.0\n",
            "81 317.0\n",
            "82 0.0\n",
            "83 0.0\n",
            "84 0.0\n",
            "85 0.0\n",
            "86 1034.5\n",
            "87 0.0\n",
            "88 0.0\n",
            "89 0.0\n",
            "9 677.6666666666666\n",
            "90 0.0\n",
            "91 0.0\n",
            "92 1061.0\n",
            "93 0.0\n",
            "94 293.0\n",
            "95 0.0\n",
            "96 0.0\n",
            "97 0.0\n",
            "98 444.0\n",
            "99 0.0\n"
          ]
        }
      ]
    },
    {
      "cell_type": "code",
      "source": [
        "df_everymind['mediaTempoPromoção']"
      ],
      "metadata": {
        "colab": {
          "base_uri": "https://localhost:8080/"
        },
        "id": "v96Qz6ODHY2L",
        "outputId": "76120c84-a7a2-4631-8c21-d6240f945b68"
      },
      "execution_count": 80,
      "outputs": [
        {
          "output_type": "execute_result",
          "data": {
            "text/plain": [
              "0        0.000000\n",
              "1      137.000000\n",
              "2        0.000000\n",
              "3      427.333333\n",
              "4        0.000000\n",
              "          ...    \n",
              "470      0.000000\n",
              "471      0.000000\n",
              "472      0.000000\n",
              "473    444.000000\n",
              "474      0.000000\n",
              "Name: mediaTempoPromoção, Length: 475, dtype: float64"
            ]
          },
          "metadata": {},
          "execution_count": 80
        }
      ]
    },
    {
      "cell_type": "markdown",
      "source": [
        "Criação de uma tabela com os dados de promoção de cada colaborador confome pedido do Eduardo."
      ],
      "metadata": {
        "id": "bcurToLRmTGu"
      }
    },
    {
      "cell_type": "code",
      "source": [
        "df_promo = pd.DataFrame()\n",
        "df_promo = df_promo.assign(Colaborador = arrayColab)\n",
        "df_promo = df_promo.assign(Promocoes = wait_days_test)\n",
        "#df_promo.to_excel('pedidoPromo.xlsx')\n",
        "df_promo"
      ],
      "metadata": {
        "colab": {
          "base_uri": "https://localhost:8080/",
          "height": 0
        },
        "id": "1LH7gpjcGhqS",
        "outputId": "13a688e4-d03c-4e02-bdc5-8c0b643d877e"
      },
      "execution_count": 81,
      "outputs": [
        {
          "output_type": "execute_result",
          "data": {
            "text/plain": [
              "    Colaborador              Promocoes\n",
              "0            10                  [137]\n",
              "1           101         [547, 61, 184]\n",
              "2           103              [118, 92]\n",
              "3           106         [361, 457, 61]\n",
              "4           108         [142, 153, 28]\n",
              "..          ...                    ...\n",
              "168          86            [1399, 335]\n",
              "169           9        [302, 182, 395]\n",
              "170          92  [1924, 123, 273, 184]\n",
              "171          94         [153, 92, 150]\n",
              "172          98                  [444]\n",
              "\n",
              "[173 rows x 2 columns]"
            ],
            "text/html": [
              "\n",
              "  <div id=\"df-f72b3554-2e2d-40ab-b6c3-e6f21b2dbe11\">\n",
              "    <div class=\"colab-df-container\">\n",
              "      <div>\n",
              "<style scoped>\n",
              "    .dataframe tbody tr th:only-of-type {\n",
              "        vertical-align: middle;\n",
              "    }\n",
              "\n",
              "    .dataframe tbody tr th {\n",
              "        vertical-align: top;\n",
              "    }\n",
              "\n",
              "    .dataframe thead th {\n",
              "        text-align: right;\n",
              "    }\n",
              "</style>\n",
              "<table border=\"1\" class=\"dataframe\">\n",
              "  <thead>\n",
              "    <tr style=\"text-align: right;\">\n",
              "      <th></th>\n",
              "      <th>Colaborador</th>\n",
              "      <th>Promocoes</th>\n",
              "    </tr>\n",
              "  </thead>\n",
              "  <tbody>\n",
              "    <tr>\n",
              "      <th>0</th>\n",
              "      <td>10</td>\n",
              "      <td>[137]</td>\n",
              "    </tr>\n",
              "    <tr>\n",
              "      <th>1</th>\n",
              "      <td>101</td>\n",
              "      <td>[547, 61, 184]</td>\n",
              "    </tr>\n",
              "    <tr>\n",
              "      <th>2</th>\n",
              "      <td>103</td>\n",
              "      <td>[118, 92]</td>\n",
              "    </tr>\n",
              "    <tr>\n",
              "      <th>3</th>\n",
              "      <td>106</td>\n",
              "      <td>[361, 457, 61]</td>\n",
              "    </tr>\n",
              "    <tr>\n",
              "      <th>4</th>\n",
              "      <td>108</td>\n",
              "      <td>[142, 153, 28]</td>\n",
              "    </tr>\n",
              "    <tr>\n",
              "      <th>...</th>\n",
              "      <td>...</td>\n",
              "      <td>...</td>\n",
              "    </tr>\n",
              "    <tr>\n",
              "      <th>168</th>\n",
              "      <td>86</td>\n",
              "      <td>[1399, 335]</td>\n",
              "    </tr>\n",
              "    <tr>\n",
              "      <th>169</th>\n",
              "      <td>9</td>\n",
              "      <td>[302, 182, 395]</td>\n",
              "    </tr>\n",
              "    <tr>\n",
              "      <th>170</th>\n",
              "      <td>92</td>\n",
              "      <td>[1924, 123, 273, 184]</td>\n",
              "    </tr>\n",
              "    <tr>\n",
              "      <th>171</th>\n",
              "      <td>94</td>\n",
              "      <td>[153, 92, 150]</td>\n",
              "    </tr>\n",
              "    <tr>\n",
              "      <th>172</th>\n",
              "      <td>98</td>\n",
              "      <td>[444]</td>\n",
              "    </tr>\n",
              "  </tbody>\n",
              "</table>\n",
              "<p>173 rows × 2 columns</p>\n",
              "</div>\n",
              "      <button class=\"colab-df-convert\" onclick=\"convertToInteractive('df-f72b3554-2e2d-40ab-b6c3-e6f21b2dbe11')\"\n",
              "              title=\"Convert this dataframe to an interactive table.\"\n",
              "              style=\"display:none;\">\n",
              "        \n",
              "  <svg xmlns=\"http://www.w3.org/2000/svg\" height=\"24px\"viewBox=\"0 0 24 24\"\n",
              "       width=\"24px\">\n",
              "    <path d=\"M0 0h24v24H0V0z\" fill=\"none\"/>\n",
              "    <path d=\"M18.56 5.44l.94 2.06.94-2.06 2.06-.94-2.06-.94-.94-2.06-.94 2.06-2.06.94zm-11 1L8.5 8.5l.94-2.06 2.06-.94-2.06-.94L8.5 2.5l-.94 2.06-2.06.94zm10 10l.94 2.06.94-2.06 2.06-.94-2.06-.94-.94-2.06-.94 2.06-2.06.94z\"/><path d=\"M17.41 7.96l-1.37-1.37c-.4-.4-.92-.59-1.43-.59-.52 0-1.04.2-1.43.59L10.3 9.45l-7.72 7.72c-.78.78-.78 2.05 0 2.83L4 21.41c.39.39.9.59 1.41.59.51 0 1.02-.2 1.41-.59l7.78-7.78 2.81-2.81c.8-.78.8-2.07 0-2.86zM5.41 20L4 18.59l7.72-7.72 1.47 1.35L5.41 20z\"/>\n",
              "  </svg>\n",
              "      </button>\n",
              "      \n",
              "  <style>\n",
              "    .colab-df-container {\n",
              "      display:flex;\n",
              "      flex-wrap:wrap;\n",
              "      gap: 12px;\n",
              "    }\n",
              "\n",
              "    .colab-df-convert {\n",
              "      background-color: #E8F0FE;\n",
              "      border: none;\n",
              "      border-radius: 50%;\n",
              "      cursor: pointer;\n",
              "      display: none;\n",
              "      fill: #1967D2;\n",
              "      height: 32px;\n",
              "      padding: 0 0 0 0;\n",
              "      width: 32px;\n",
              "    }\n",
              "\n",
              "    .colab-df-convert:hover {\n",
              "      background-color: #E2EBFA;\n",
              "      box-shadow: 0px 1px 2px rgba(60, 64, 67, 0.3), 0px 1px 3px 1px rgba(60, 64, 67, 0.15);\n",
              "      fill: #174EA6;\n",
              "    }\n",
              "\n",
              "    [theme=dark] .colab-df-convert {\n",
              "      background-color: #3B4455;\n",
              "      fill: #D2E3FC;\n",
              "    }\n",
              "\n",
              "    [theme=dark] .colab-df-convert:hover {\n",
              "      background-color: #434B5C;\n",
              "      box-shadow: 0px 1px 3px 1px rgba(0, 0, 0, 0.15);\n",
              "      filter: drop-shadow(0px 1px 2px rgba(0, 0, 0, 0.3));\n",
              "      fill: #FFFFFF;\n",
              "    }\n",
              "  </style>\n",
              "\n",
              "      <script>\n",
              "        const buttonEl =\n",
              "          document.querySelector('#df-f72b3554-2e2d-40ab-b6c3-e6f21b2dbe11 button.colab-df-convert');\n",
              "        buttonEl.style.display =\n",
              "          google.colab.kernel.accessAllowed ? 'block' : 'none';\n",
              "\n",
              "        async function convertToInteractive(key) {\n",
              "          const element = document.querySelector('#df-f72b3554-2e2d-40ab-b6c3-e6f21b2dbe11');\n",
              "          const dataTable =\n",
              "            await google.colab.kernel.invokeFunction('convertToInteractive',\n",
              "                                                     [key], {});\n",
              "          if (!dataTable) return;\n",
              "\n",
              "          const docLinkHtml = 'Like what you see? Visit the ' +\n",
              "            '<a target=\"_blank\" href=https://colab.research.google.com/notebooks/data_table.ipynb>data table notebook</a>'\n",
              "            + ' to learn more about interactive tables.';\n",
              "          element.innerHTML = '';\n",
              "          dataTable['output_type'] = 'display_data';\n",
              "          await google.colab.output.renderOutput(dataTable, element);\n",
              "          const docLink = document.createElement('div');\n",
              "          docLink.innerHTML = docLinkHtml;\n",
              "          element.appendChild(docLink);\n",
              "        }\n",
              "      </script>\n",
              "    </div>\n",
              "  </div>\n",
              "  "
            ]
          },
          "metadata": {},
          "execution_count": 81
        }
      ]
    },
    {
      "cell_type": "code",
      "source": [
        "df_everymind['Saiu'] = 0\n",
        "\n",
        "for i in range(0, len(df_everymind['Matrícula'])):\n",
        "  if df_everymind['Tipo Saida'][i] == \"ColaboradorAtivo\":\n",
        "    df_everymind['Saiu'][i] = 0\n",
        "  else:\n",
        "    df_everymind['Saiu'][i] = 1"
      ],
      "metadata": {
        "colab": {
          "base_uri": "https://localhost:8080/"
        },
        "id": "OFkQhSZtpKVv",
        "outputId": "65a1556a-3266-44fb-b4ff-dea7d4f572d1"
      },
      "execution_count": 82,
      "outputs": [
        {
          "output_type": "stream",
          "name": "stderr",
          "text": [
            "/usr/local/lib/python3.7/dist-packages/ipykernel_launcher.py:7: SettingWithCopyWarning: \n",
            "A value is trying to be set on a copy of a slice from a DataFrame\n",
            "\n",
            "See the caveats in the documentation: https://pandas.pydata.org/pandas-docs/stable/user_guide/indexing.html#returning-a-view-versus-a-copy\n",
            "  import sys\n",
            "/usr/local/lib/python3.7/dist-packages/ipykernel_launcher.py:5: SettingWithCopyWarning: \n",
            "A value is trying to be set on a copy of a slice from a DataFrame\n",
            "\n",
            "See the caveats in the documentation: https://pandas.pydata.org/pandas-docs/stable/user_guide/indexing.html#returning-a-view-versus-a-copy\n",
            "  \"\"\"\n"
          ]
        }
      ]
    },
    {
      "cell_type": "code",
      "source": [
        "df_everymind['Remoto'] = 0\n",
        "\n",
        "for i in range(0, len(df_everymind['Matrícula'])):\n",
        "  if df_everymind['Cidade'][i] != \"SãoPaulo\" and df_everymind['Estado'][i] != \"SP\":\n",
        "    df_everymind['Remoto'][i] = 1\n",
        "  else:\n",
        "    df_everymind['Remoto'][i] = 0\n",
        "\n",
        "dummie_remoto = pd.get_dummies(df_everymind['Remoto'])"
      ],
      "metadata": {
        "colab": {
          "base_uri": "https://localhost:8080/"
        },
        "id": "0IieGXSCs2sX",
        "outputId": "6728350f-9375-41ef-8276-46f783d2b6ee"
      },
      "execution_count": 83,
      "outputs": [
        {
          "output_type": "stream",
          "name": "stderr",
          "text": [
            "/usr/local/lib/python3.7/dist-packages/ipykernel_launcher.py:7: SettingWithCopyWarning: \n",
            "A value is trying to be set on a copy of a slice from a DataFrame\n",
            "\n",
            "See the caveats in the documentation: https://pandas.pydata.org/pandas-docs/stable/user_guide/indexing.html#returning-a-view-versus-a-copy\n",
            "  import sys\n",
            "/usr/local/lib/python3.7/dist-packages/ipykernel_launcher.py:5: SettingWithCopyWarning: \n",
            "A value is trying to be set on a copy of a slice from a DataFrame\n",
            "\n",
            "See the caveats in the documentation: https://pandas.pydata.org/pandas-docs/stable/user_guide/indexing.html#returning-a-view-versus-a-copy\n",
            "  \"\"\"\n"
          ]
        }
      ]
    },
    {
      "cell_type": "markdown",
      "source": [],
      "metadata": {
        "id": "k6C6bQGm76RJ"
      }
    },
    {
      "cell_type": "markdown",
      "source": [
        "Dados da arvore de decisão"
      ],
      "metadata": {
        "id": "zY8BJFeEG3el"
      }
    },
    {
      "cell_type": "code",
      "source": [
        "arvoree = pd.DataFrame()\n",
        "arvoree = pd.concat([arvoree,df_everymind['Salario Mês']], axis = 1)\n",
        "arvoree = pd.concat([arvoree,df_everymind['Idade']], axis = 1)\n",
        "arvoree = pd.concat([arvoree,df_everymind['mediaTempoPromoção']], axis = 1)\n",
        "arvoree = pd.concat([arvoree,df_everymind['NumeroMeses']], axis = 1)\n",
        "arvoree = pd.concat([arvoree,dummie_remoto], axis = 1)\n",
        "arvoree = pd.concat([arvoree,df_esco_atual], axis = 1)\n",
        "arvoree = pd.concat([arvoree,one_hot_genero], axis = 1)\n",
        "arvoree = pd.concat([arvoree,one_hot_civil], axis = 1)\n",
        "arvoree = pd.concat([arvoree,one_hot_area], axis = 1)\n",
        "arvoree = pd.concat([arvoree,one_hot_cargos], axis = 1)"
      ],
      "metadata": {
        "id": "YmvGkzTT8QxY"
      },
      "execution_count": 84,
      "outputs": []
    },
    {
      "cell_type": "code",
      "source": [
        "arvoree1 = pd.DataFrame()\n",
        "arvoree1 = pd.concat([arvoree1,df_everymind['Salario Mês']], axis = 1)\n",
        "arvoree1 = pd.concat([arvoree1,df_everymind['Idade']], axis = 1)\n",
        "# arvoree1 = pd.concat([arvoree1,df_everymind['mediaTempoPromoção']], axis = 1)\n",
        "arvoree1 = pd.concat([arvoree1,df_everymind['NumeroMeses']], axis = 1)\n",
        "arvoree1 = pd.concat([arvoree1,dummie_remoto], axis = 1)\n",
        "arvoree1 = pd.concat([arvoree1,df_esco_atual], axis = 1)"
      ],
      "metadata": {
        "id": "PAAlTYry8Ac7"
      },
      "execution_count": 85,
      "outputs": []
    },
    {
      "cell_type": "markdown",
      "source": [
        "dados do knn"
      ],
      "metadata": {
        "id": "Ap3MPHUXG60A"
      }
    },
    {
      "cell_type": "markdown",
      "source": [
        "# 9. Árvore de decisão\n",
        "\n",
        "A Árvore de decisão é um algoritmo de aprendizado de máquina supervisionado para classificação e para regressão, o algoritmo divide as variáveis em ramos, esses ramos são calculados conforme a entropia (\"confusão\" dos dados) e ganho de informação de cada variável (baseado na importância da variável), também é aplicado uma hierarquia na relação desses ramos, existe o nó-raiz e o nós-folha sendo o nó-raiz um dos atributos da base de dados e os nós folhas a classe ou valor que será gerado como resposta. \n"
      ],
      "metadata": {
        "id": "EfMb-onjjPUM"
      }
    },
    {
      "cell_type": "code",
      "source": [
        "arvoree1 = pd.DataFrame()\n",
        "arvoree1 = pd.concat([arvoree1,df_everymind['Salario Mês']], axis = 1)\n",
        "arvoree1 = pd.concat([arvoree1,df_everymind['Idade']], axis = 1)\n",
        "# arvoree1 = pd.concat([arvoree1,df_everymind['mediaTempoPromoção']], axis = 1)\n",
        "arvoree1 = pd.concat([arvoree1,df_everymind['NumeroMeses']], axis = 1)\n",
        "arvoree1 = pd.concat([arvoree1,dummie_remoto], axis = 1)\n",
        "arvoree1 = pd.concat([arvoree1,df_esco_atual], axis = 1)"
      ],
      "metadata": {
        "id": "mJVvzC0djV7x"
      },
      "execution_count": 86,
      "outputs": []
    },
    {
      "cell_type": "code",
      "source": [
        "x_tree_two = arvoree1\n",
        "y_tree_two = df_everymind[['Saiu']]\n",
        "\n",
        "x_train, x_test, y_train, y_test = train_test_split(x_tree_two, y_tree_two, \n",
        "                                                    test_size = 0.3, \n",
        "                                                     random_state = 42)"
      ],
      "metadata": {
        "id": "EnH2wD7B1N3A"
      },
      "execution_count": 87,
      "outputs": []
    },
    {
      "cell_type": "code",
      "source": [
        "print(x_train.shape)\n",
        "print(y_train.shape)\n",
        "print(x_test.shape)\n",
        "print(y_test.shape)"
      ],
      "metadata": {
        "colab": {
          "base_uri": "https://localhost:8080/"
        },
        "id": "cWEK7IHSrxQG",
        "outputId": "ccdcfc3b-e527-40da-9237-85dffe9d24ca"
      },
      "execution_count": 88,
      "outputs": [
        {
          "output_type": "stream",
          "name": "stdout",
          "text": [
            "(332, 6)\n",
            "(332, 1)\n",
            "(143, 6)\n",
            "(143, 1)\n"
          ]
        }
      ]
    },
    {
      "cell_type": "code",
      "source": [
        "dt = DecisionTreeClassifier()\n",
        "dt.fit(x_train, y_train.squeeze())"
      ],
      "metadata": {
        "colab": {
          "base_uri": "https://localhost:8080/"
        },
        "id": "OqBDjW9Bmjk-",
        "outputId": "9d05eb4f-e021-439a-c0ec-533ea1b485c4"
      },
      "execution_count": 89,
      "outputs": [
        {
          "output_type": "stream",
          "name": "stderr",
          "text": [
            "/usr/local/lib/python3.7/dist-packages/sklearn/utils/validation.py:1692: FutureWarning: Feature names only support names that are all strings. Got feature names with dtypes: ['int', 'str']. An error will be raised in 1.2.\n",
            "  FutureWarning,\n"
          ]
        },
        {
          "output_type": "execute_result",
          "data": {
            "text/plain": [
              "DecisionTreeClassifier()"
            ]
          },
          "metadata": {},
          "execution_count": 89
        }
      ]
    },
    {
      "cell_type": "code",
      "source": [
        "print('Acuracidade (treino): ', dt.score( x_train, y_train ))\n",
        "print('Acuracidade (teste): ', dt.score( x_test, y_test ))"
      ],
      "metadata": {
        "colab": {
          "base_uri": "https://localhost:8080/"
        },
        "id": "bFJ63oYj0orx",
        "outputId": "e795100a-1dab-4932-b007-089b61a8e6ed"
      },
      "execution_count": 90,
      "outputs": [
        {
          "output_type": "stream",
          "name": "stdout",
          "text": [
            "Acuracidade (treino):  1.0\n",
            "Acuracidade (teste):  0.7552447552447552\n"
          ]
        },
        {
          "output_type": "stream",
          "name": "stderr",
          "text": [
            "/usr/local/lib/python3.7/dist-packages/sklearn/utils/validation.py:1692: FutureWarning: Feature names only support names that are all strings. Got feature names with dtypes: ['int', 'str']. An error will be raised in 1.2.\n",
            "  FutureWarning,\n",
            "/usr/local/lib/python3.7/dist-packages/sklearn/utils/validation.py:1692: FutureWarning: Feature names only support names that are all strings. Got feature names with dtypes: ['int', 'str']. An error will be raised in 1.2.\n",
            "  FutureWarning,\n"
          ]
        }
      ]
    },
    {
      "cell_type": "code",
      "source": [
        "y_pred = dt.predict(x_test)\n",
        "y_pred"
      ],
      "metadata": {
        "colab": {
          "base_uri": "https://localhost:8080/"
        },
        "id": "aifoJyH301U_",
        "outputId": "7f10cb41-8b26-4fdf-f378-ad26b282dd31"
      },
      "execution_count": 91,
      "outputs": [
        {
          "output_type": "stream",
          "name": "stderr",
          "text": [
            "/usr/local/lib/python3.7/dist-packages/sklearn/utils/validation.py:1692: FutureWarning: Feature names only support names that are all strings. Got feature names with dtypes: ['int', 'str']. An error will be raised in 1.2.\n",
            "  FutureWarning,\n"
          ]
        },
        {
          "output_type": "execute_result",
          "data": {
            "text/plain": [
              "array([0, 0, 1, 1, 0, 1, 0, 0, 1, 1, 1, 0, 1, 0, 0, 0, 0, 0, 0, 1, 1, 0,\n",
              "       0, 1, 0, 1, 0, 0, 1, 0, 0, 0, 0, 1, 1, 0, 0, 0, 0, 0, 1, 0, 1, 1,\n",
              "       0, 1, 1, 0, 0, 0, 0, 1, 0, 0, 1, 0, 0, 0, 1, 0, 1, 0, 1, 1, 1, 1,\n",
              "       0, 1, 0, 1, 0, 0, 0, 1, 1, 1, 0, 1, 0, 1, 1, 0, 0, 0, 0, 0, 0, 1,\n",
              "       1, 0, 0, 1, 1, 1, 0, 0, 0, 0, 0, 1, 0, 1, 1, 0, 0, 0, 1, 0, 0, 0,\n",
              "       0, 1, 0, 0, 1, 1, 1, 0, 0, 1, 0, 0, 1, 0, 1, 0, 0, 0, 0, 0, 0, 0,\n",
              "       1, 0, 0, 1, 1, 0, 1, 0, 1, 1, 0])"
            ]
          },
          "metadata": {},
          "execution_count": 91
        }
      ]
    },
    {
      "cell_type": "code",
      "source": [
        "y_true = y_test\n",
        "y_true"
      ],
      "metadata": {
        "colab": {
          "base_uri": "https://localhost:8080/",
          "height": 0
        },
        "id": "KfRxtzam09Uz",
        "outputId": "a05687f3-7648-429d-c378-c307928bb49b"
      },
      "execution_count": 92,
      "outputs": [
        {
          "output_type": "execute_result",
          "data": {
            "text/plain": [
              "     Saiu\n",
              "375     0\n",
              "422     0\n",
              "9       1\n",
              "73      1\n",
              "354     0\n",
              "..    ...\n",
              "3       1\n",
              "454     0\n",
              "60      1\n",
              "110     1\n",
              "388     0\n",
              "\n",
              "[143 rows x 1 columns]"
            ],
            "text/html": [
              "\n",
              "  <div id=\"df-8c285b8e-cc11-48f0-a773-7759a4de11ac\">\n",
              "    <div class=\"colab-df-container\">\n",
              "      <div>\n",
              "<style scoped>\n",
              "    .dataframe tbody tr th:only-of-type {\n",
              "        vertical-align: middle;\n",
              "    }\n",
              "\n",
              "    .dataframe tbody tr th {\n",
              "        vertical-align: top;\n",
              "    }\n",
              "\n",
              "    .dataframe thead th {\n",
              "        text-align: right;\n",
              "    }\n",
              "</style>\n",
              "<table border=\"1\" class=\"dataframe\">\n",
              "  <thead>\n",
              "    <tr style=\"text-align: right;\">\n",
              "      <th></th>\n",
              "      <th>Saiu</th>\n",
              "    </tr>\n",
              "  </thead>\n",
              "  <tbody>\n",
              "    <tr>\n",
              "      <th>375</th>\n",
              "      <td>0</td>\n",
              "    </tr>\n",
              "    <tr>\n",
              "      <th>422</th>\n",
              "      <td>0</td>\n",
              "    </tr>\n",
              "    <tr>\n",
              "      <th>9</th>\n",
              "      <td>1</td>\n",
              "    </tr>\n",
              "    <tr>\n",
              "      <th>73</th>\n",
              "      <td>1</td>\n",
              "    </tr>\n",
              "    <tr>\n",
              "      <th>354</th>\n",
              "      <td>0</td>\n",
              "    </tr>\n",
              "    <tr>\n",
              "      <th>...</th>\n",
              "      <td>...</td>\n",
              "    </tr>\n",
              "    <tr>\n",
              "      <th>3</th>\n",
              "      <td>1</td>\n",
              "    </tr>\n",
              "    <tr>\n",
              "      <th>454</th>\n",
              "      <td>0</td>\n",
              "    </tr>\n",
              "    <tr>\n",
              "      <th>60</th>\n",
              "      <td>1</td>\n",
              "    </tr>\n",
              "    <tr>\n",
              "      <th>110</th>\n",
              "      <td>1</td>\n",
              "    </tr>\n",
              "    <tr>\n",
              "      <th>388</th>\n",
              "      <td>0</td>\n",
              "    </tr>\n",
              "  </tbody>\n",
              "</table>\n",
              "<p>143 rows × 1 columns</p>\n",
              "</div>\n",
              "      <button class=\"colab-df-convert\" onclick=\"convertToInteractive('df-8c285b8e-cc11-48f0-a773-7759a4de11ac')\"\n",
              "              title=\"Convert this dataframe to an interactive table.\"\n",
              "              style=\"display:none;\">\n",
              "        \n",
              "  <svg xmlns=\"http://www.w3.org/2000/svg\" height=\"24px\"viewBox=\"0 0 24 24\"\n",
              "       width=\"24px\">\n",
              "    <path d=\"M0 0h24v24H0V0z\" fill=\"none\"/>\n",
              "    <path d=\"M18.56 5.44l.94 2.06.94-2.06 2.06-.94-2.06-.94-.94-2.06-.94 2.06-2.06.94zm-11 1L8.5 8.5l.94-2.06 2.06-.94-2.06-.94L8.5 2.5l-.94 2.06-2.06.94zm10 10l.94 2.06.94-2.06 2.06-.94-2.06-.94-.94-2.06-.94 2.06-2.06.94z\"/><path d=\"M17.41 7.96l-1.37-1.37c-.4-.4-.92-.59-1.43-.59-.52 0-1.04.2-1.43.59L10.3 9.45l-7.72 7.72c-.78.78-.78 2.05 0 2.83L4 21.41c.39.39.9.59 1.41.59.51 0 1.02-.2 1.41-.59l7.78-7.78 2.81-2.81c.8-.78.8-2.07 0-2.86zM5.41 20L4 18.59l7.72-7.72 1.47 1.35L5.41 20z\"/>\n",
              "  </svg>\n",
              "      </button>\n",
              "      \n",
              "  <style>\n",
              "    .colab-df-container {\n",
              "      display:flex;\n",
              "      flex-wrap:wrap;\n",
              "      gap: 12px;\n",
              "    }\n",
              "\n",
              "    .colab-df-convert {\n",
              "      background-color: #E8F0FE;\n",
              "      border: none;\n",
              "      border-radius: 50%;\n",
              "      cursor: pointer;\n",
              "      display: none;\n",
              "      fill: #1967D2;\n",
              "      height: 32px;\n",
              "      padding: 0 0 0 0;\n",
              "      width: 32px;\n",
              "    }\n",
              "\n",
              "    .colab-df-convert:hover {\n",
              "      background-color: #E2EBFA;\n",
              "      box-shadow: 0px 1px 2px rgba(60, 64, 67, 0.3), 0px 1px 3px 1px rgba(60, 64, 67, 0.15);\n",
              "      fill: #174EA6;\n",
              "    }\n",
              "\n",
              "    [theme=dark] .colab-df-convert {\n",
              "      background-color: #3B4455;\n",
              "      fill: #D2E3FC;\n",
              "    }\n",
              "\n",
              "    [theme=dark] .colab-df-convert:hover {\n",
              "      background-color: #434B5C;\n",
              "      box-shadow: 0px 1px 3px 1px rgba(0, 0, 0, 0.15);\n",
              "      filter: drop-shadow(0px 1px 2px rgba(0, 0, 0, 0.3));\n",
              "      fill: #FFFFFF;\n",
              "    }\n",
              "  </style>\n",
              "\n",
              "      <script>\n",
              "        const buttonEl =\n",
              "          document.querySelector('#df-8c285b8e-cc11-48f0-a773-7759a4de11ac button.colab-df-convert');\n",
              "        buttonEl.style.display =\n",
              "          google.colab.kernel.accessAllowed ? 'block' : 'none';\n",
              "\n",
              "        async function convertToInteractive(key) {\n",
              "          const element = document.querySelector('#df-8c285b8e-cc11-48f0-a773-7759a4de11ac');\n",
              "          const dataTable =\n",
              "            await google.colab.kernel.invokeFunction('convertToInteractive',\n",
              "                                                     [key], {});\n",
              "          if (!dataTable) return;\n",
              "\n",
              "          const docLinkHtml = 'Like what you see? Visit the ' +\n",
              "            '<a target=\"_blank\" href=https://colab.research.google.com/notebooks/data_table.ipynb>data table notebook</a>'\n",
              "            + ' to learn more about interactive tables.';\n",
              "          element.innerHTML = '';\n",
              "          dataTable['output_type'] = 'display_data';\n",
              "          await google.colab.output.renderOutput(dataTable, element);\n",
              "          const docLink = document.createElement('div');\n",
              "          docLink.innerHTML = docLinkHtml;\n",
              "          element.appendChild(docLink);\n",
              "        }\n",
              "      </script>\n",
              "    </div>\n",
              "  </div>\n",
              "  "
            ]
          },
          "metadata": {},
          "execution_count": 92
        }
      ]
    },
    {
      "cell_type": "code",
      "source": [
        "cm = confusion_matrix(y_true, y_pred)\n",
        "display(cm)"
      ],
      "metadata": {
        "colab": {
          "base_uri": "https://localhost:8080/",
          "height": 0
        },
        "id": "VR-6Fefw1bKE",
        "outputId": "5bced380-0356-4e54-98ad-2bca486a063b"
      },
      "execution_count": 93,
      "outputs": [
        {
          "output_type": "display_data",
          "data": {
            "text/plain": [
              "array([[66, 15],\n",
              "       [20, 42]])"
            ]
          },
          "metadata": {}
        }
      ]
    },
    {
      "cell_type": "code",
      "source": [
        "# knn = KNeighborsClassifier(n_neighbors=7)\n",
        "# knn.fit(x_train, y_train.squeeze())"
      ],
      "metadata": {
        "id": "KRyKejHe3T5F"
      },
      "execution_count": 94,
      "outputs": []
    },
    {
      "cell_type": "code",
      "source": [
        "disp = ConfusionMatrixDisplay(confusion_matrix=cm)\n",
        "\n",
        "disp.plot()\n",
        "plt.show()"
      ],
      "metadata": {
        "colab": {
          "base_uri": "https://localhost:8080/",
          "height": 0
        },
        "id": "0-aQ2HxV2DFa",
        "outputId": "cb973c82-f9f2-4b52-ee47-09c95c810f67"
      },
      "execution_count": 95,
      "outputs": [
        {
          "output_type": "display_data",
          "data": {
            "text/plain": [
              "<Figure size 576x396 with 2 Axes>"
            ],
            "image/png": "[encoded data removed]"
          },
          "metadata": {}
        }
      ]
    },
    {
      "cell_type": "code",
      "source": [
        "dot_data = export_graphviz(dt, out_file=None, class_names=list(map(str, dt.classes_))) \n",
        "graph = graphviz.Source(dot_data)\n",
        "graph.render('ArvoreDeDecisão.pdf')\n",
        "graph"
      ],
      "metadata": {
        "colab": {
          "base_uri": "https://localhost:8080/",
          "height": 0
        },
        "id": "dsiwaNEm-EXU",
        "outputId": "568aa95f-8bea-4c85-8cf2-cd3371359fca"
      },
      "execution_count": 96,
      "outputs": [
        {
          "output_type": "execute_result",
          "data": {
            "text/plain": [
              "<graphviz.files.Source at 0x7f75c9f55410>"
            ],
            "image/svg+xml": "<?xml version=\"1.0\" encoding=\"UTF-8\" standalone=\"no\"?>\n<!DOCTYPE svg PUBLIC \"-//W3C//DTD SVG 1.1//EN\"\n \"http://www.w3.org/Graphics/SVG/1.1/DTD/svg11.dtd\">\n<!-- Generated by graphviz version 2.40.1 (20161225.0304)\n -->\n<!-- Title: Tree Pages: 1 -->\n<svg width=\"3200pt\" height=\"1980pt\"\n viewBox=\"0.00 0.00 3200.00 1980.00\" xmlns=\"http://www.w3.org/2000/svg\" xmlns:xlink=\"http://www.w3.org/1999/xlink\">\n<g id=\"graph0\" class=\"graph\" transform=\"scale(1 1) rotate(0) translate(4 1976)\">\n<title>Tree</title>\n<polygon fill=\"#ffffff\" stroke=\"transparent\" points=\"-4,4 -4,-1976 3196,-1976 3196,4 -4,4\"/>\n<!-- 0 -->\n<g id=\"node1\" class=\"node\">\n<title>0</title>\n<polygon fill=\"none\" stroke=\"#000000\" points=\"1241.5,-1972 1109.5,-1972 1109.5,-1889 1241.5,-1889 1241.5,-1972\"/>\n<text text-anchor=\"middle\" x=\"1175.5\" y=\"-1956.8\" font-family=\"Helvetica,sans-Serif\" font-size=\"14.00\" fill=\"#000000\">X[5] &lt;= 3.5</text>\n<text text-anchor=\"middle\" x=\"1175.5\" y=\"-1941.8\" font-family=\"Helvetica,sans-Serif\" font-size=\"14.00\" fill=\"#000000\">gini = 0.475</text>\n<text text-anchor=\"middle\" x=\"1175.5\" y=\"-1926.8\" font-family=\"Helvetica,sans-Serif\" font-size=\"14.00\" fill=\"#000000\">samples = 332</text>\n<text text-anchor=\"middle\" x=\"1175.5\" y=\"-1911.8\" font-family=\"Helvetica,sans-Serif\" font-size=\"14.00\" fill=\"#000000\">value = [203, 129]</text>\n<text text-anchor=\"middle\" x=\"1175.5\" y=\"-1896.8\" font-family=\"Helvetica,sans-Serif\" font-size=\"14.00\" fill=\"#000000\">class = 0</text>\n</g>\n<!-- 1 -->\n<g id=\"node2\" class=\"node\">\n<title>1</title>\n<polygon fill=\"none\" stroke=\"#000000\" points=\"930.5,-1853 814.5,-1853 814.5,-1770 930.5,-1770 930.5,-1853\"/>\n<text text-anchor=\"middle\" x=\"872.5\" y=\"-1837.8\" font-family=\"Helvetica,sans-Serif\" font-size=\"14.00\" fill=\"#000000\">X[2] &lt;= 7.5</text>\n<text text-anchor=\"middle\" x=\"872.5\" y=\"-1822.8\" font-family=\"Helvetica,sans-Serif\" font-size=\"14.00\" fill=\"#000000\">gini = 0.329</text>\n<text text-anchor=\"middle\" x=\"872.5\" y=\"-1807.8\" font-family=\"Helvetica,sans-Serif\" font-size=\"14.00\" fill=\"#000000\">samples = 111</text>\n<text text-anchor=\"middle\" x=\"872.5\" y=\"-1792.8\" font-family=\"Helvetica,sans-Serif\" font-size=\"14.00\" fill=\"#000000\">value = [88, 23]</text>\n<text text-anchor=\"middle\" x=\"872.5\" y=\"-1777.8\" font-family=\"Helvetica,sans-Serif\" font-size=\"14.00\" fill=\"#000000\">class = 0</text>\n</g>\n<!-- 0&#45;&gt;1 -->\n<g id=\"edge1\" class=\"edge\">\n<title>0&#45;&gt;1</title>\n<path fill=\"none\" stroke=\"#000000\" d=\"M1109.3798,-1904.532C1059.2404,-1884.8403 990.5763,-1857.8732 940.0817,-1838.042\"/>\n<polygon fill=\"#000000\" stroke=\"#000000\" points=\"941.1423,-1834.6983 930.5549,-1834.3004 938.5833,-1841.2138 941.1423,-1834.6983\"/>\n<text text-anchor=\"middle\" x=\"940.5469\" y=\"-1853.5168\" font-family=\"Helvetica,sans-Serif\" font-size=\"14.00\" fill=\"#000000\">True</text>\n</g>\n<!-- 44 -->\n<g id=\"node45\" class=\"node\">\n<title>44</title>\n<polygon fill=\"none\" stroke=\"#000000\" points=\"1696.5,-1853 1564.5,-1853 1564.5,-1770 1696.5,-1770 1696.5,-1853\"/>\n<text text-anchor=\"middle\" x=\"1630.5\" y=\"-1837.8\" font-family=\"Helvetica,sans-Serif\" font-size=\"14.00\" fill=\"#000000\">X[0] &lt;= 7139.468</text>\n<text text-anchor=\"middle\" x=\"1630.5\" y=\"-1822.8\" font-family=\"Helvetica,sans-Serif\" font-size=\"14.00\" fill=\"#000000\">gini = 0.499</text>\n<text text-anchor=\"middle\" x=\"1630.5\" y=\"-1807.8\" font-family=\"Helvetica,sans-Serif\" font-size=\"14.00\" fill=\"#000000\">samples = 221</text>\n<text text-anchor=\"middle\" x=\"1630.5\" y=\"-1792.8\" font-family=\"Helvetica,sans-Serif\" font-size=\"14.00\" fill=\"#000000\">value = [115, 106]</text>\n<text text-anchor=\"middle\" x=\"1630.5\" y=\"-1777.8\" font-family=\"Helvetica,sans-Serif\" font-size=\"14.00\" fill=\"#000000\">class = 0</text>\n</g>\n<!-- 0&#45;&gt;44 -->\n<g id=\"edge44\" class=\"edge\">\n<title>0&#45;&gt;44</title>\n<path fill=\"none\" stroke=\"#000000\" d=\"M1241.6609,-1913.1964C1324.7245,-1891.472 1466.9079,-1854.2856 1554.3944,-1831.4045\"/>\n<polygon fill=\"#000000\" stroke=\"#000000\" points=\"1555.4703,-1834.741 1564.2592,-1828.8245 1553.699,-1827.9687 1555.4703,-1834.741\"/>\n<text text-anchor=\"middle\" x=\"1551.6298\" y=\"-1846.6999\" font-family=\"Helvetica,sans-Serif\" font-size=\"14.00\" fill=\"#000000\">False</text>\n</g>\n<!-- 2 -->\n<g id=\"node3\" class=\"node\">\n<title>2</title>\n<polygon fill=\"none\" stroke=\"#000000\" points=\"517.5,-1734 389.5,-1734 389.5,-1651 517.5,-1651 517.5,-1734\"/>\n<text text-anchor=\"middle\" x=\"453.5\" y=\"-1718.8\" font-family=\"Helvetica,sans-Serif\" font-size=\"14.00\" fill=\"#000000\">X[0] &lt;= 1704.088</text>\n<text text-anchor=\"middle\" x=\"453.5\" y=\"-1703.8\" font-family=\"Helvetica,sans-Serif\" font-size=\"14.00\" fill=\"#000000\">gini = 0.155</text>\n<text text-anchor=\"middle\" x=\"453.5\" y=\"-1688.8\" font-family=\"Helvetica,sans-Serif\" font-size=\"14.00\" fill=\"#000000\">samples = 71</text>\n<text text-anchor=\"middle\" x=\"453.5\" y=\"-1673.8\" font-family=\"Helvetica,sans-Serif\" font-size=\"14.00\" fill=\"#000000\">value = [65, 6]</text>\n<text text-anchor=\"middle\" x=\"453.5\" y=\"-1658.8\" font-family=\"Helvetica,sans-Serif\" font-size=\"14.00\" fill=\"#000000\">class = 0</text>\n</g>\n<!-- 1&#45;&gt;2 -->\n<g id=\"edge2\" class=\"edge\">\n<title>1&#45;&gt;2</title>\n<path fill=\"none\" stroke=\"#000000\" d=\"M814.2398,-1794.9536C739.3684,-1773.6894 609.3145,-1736.7528 527.5153,-1713.5211\"/>\n<polygon fill=\"#000000\" stroke=\"#000000\" points=\"528.3618,-1710.1231 517.786,-1710.7578 526.4493,-1716.8568 528.3618,-1710.1231\"/>\n</g>\n<!-- 19 -->\n<g id=\"node20\" class=\"node\">\n<title>19</title>\n<polygon fill=\"none\" stroke=\"#000000\" points=\"930.5,-1734 814.5,-1734 814.5,-1651 930.5,-1651 930.5,-1734\"/>\n<text text-anchor=\"middle\" x=\"872.5\" y=\"-1718.8\" font-family=\"Helvetica,sans-Serif\" font-size=\"14.00\" fill=\"#000000\">X[2] &lt;= 15.5</text>\n<text text-anchor=\"middle\" x=\"872.5\" y=\"-1703.8\" font-family=\"Helvetica,sans-Serif\" font-size=\"14.00\" fill=\"#000000\">gini = 0.489</text>\n<text text-anchor=\"middle\" x=\"872.5\" y=\"-1688.8\" font-family=\"Helvetica,sans-Serif\" font-size=\"14.00\" fill=\"#000000\">samples = 40</text>\n<text text-anchor=\"middle\" x=\"872.5\" y=\"-1673.8\" font-family=\"Helvetica,sans-Serif\" font-size=\"14.00\" fill=\"#000000\">value = [23, 17]</text>\n<text text-anchor=\"middle\" x=\"872.5\" y=\"-1658.8\" font-family=\"Helvetica,sans-Serif\" font-size=\"14.00\" fill=\"#000000\">class = 0</text>\n</g>\n<!-- 1&#45;&gt;19 -->\n<g id=\"edge19\" class=\"edge\">\n<title>1&#45;&gt;19</title>\n<path fill=\"none\" stroke=\"#000000\" d=\"M872.5,-1769.8796C872.5,-1761.6838 872.5,-1752.9891 872.5,-1744.5013\"/>\n<polygon fill=\"#000000\" stroke=\"#000000\" points=\"876.0001,-1744.298 872.5,-1734.2981 869.0001,-1744.2981 876.0001,-1744.298\"/>\n</g>\n<!-- 3 -->\n<g id=\"node4\" class=\"node\">\n<title>3</title>\n<polygon fill=\"none\" stroke=\"#000000\" points=\"305,-1615 198,-1615 198,-1532 305,-1532 305,-1615\"/>\n<text text-anchor=\"middle\" x=\"251.5\" y=\"-1599.8\" font-family=\"Helvetica,sans-Serif\" font-size=\"14.00\" fill=\"#000000\">X[1] &lt;= 20.5</text>\n<text text-anchor=\"middle\" x=\"251.5\" y=\"-1584.8\" font-family=\"Helvetica,sans-Serif\" font-size=\"14.00\" fill=\"#000000\">gini = 0.036</text>\n<text text-anchor=\"middle\" x=\"251.5\" y=\"-1569.8\" font-family=\"Helvetica,sans-Serif\" font-size=\"14.00\" fill=\"#000000\">samples = 55</text>\n<text text-anchor=\"middle\" x=\"251.5\" y=\"-1554.8\" font-family=\"Helvetica,sans-Serif\" font-size=\"14.00\" fill=\"#000000\">value = [54, 1]</text>\n<text text-anchor=\"middle\" x=\"251.5\" y=\"-1539.8\" font-family=\"Helvetica,sans-Serif\" font-size=\"14.00\" fill=\"#000000\">class = 0</text>\n</g>\n<!-- 2&#45;&gt;3 -->\n<g id=\"edge3\" class=\"edge\">\n<title>2&#45;&gt;3</title>\n<path fill=\"none\" stroke=\"#000000\" d=\"M389.3084,-1654.6841C365.1295,-1640.4401 337.6902,-1624.2754 313.6964,-1610.1405\"/>\n<polygon fill=\"#000000\" stroke=\"#000000\" points=\"315.4175,-1607.0922 305.0249,-1605.032 311.8644,-1613.1235 315.4175,-1607.0922\"/>\n</g>\n<!-- 12 -->\n<g id=\"node13\" class=\"node\">\n<title>12</title>\n<polygon fill=\"none\" stroke=\"#000000\" points=\"509,-1615 398,-1615 398,-1532 509,-1532 509,-1615\"/>\n<text text-anchor=\"middle\" x=\"453.5\" y=\"-1599.8\" font-family=\"Helvetica,sans-Serif\" font-size=\"14.00\" fill=\"#000000\">X[0] &lt;= 2450.0</text>\n<text text-anchor=\"middle\" x=\"453.5\" y=\"-1584.8\" font-family=\"Helvetica,sans-Serif\" font-size=\"14.00\" fill=\"#000000\">gini = 0.43</text>\n<text text-anchor=\"middle\" x=\"453.5\" y=\"-1569.8\" font-family=\"Helvetica,sans-Serif\" font-size=\"14.00\" fill=\"#000000\">samples = 16</text>\n<text text-anchor=\"middle\" x=\"453.5\" y=\"-1554.8\" font-family=\"Helvetica,sans-Serif\" font-size=\"14.00\" fill=\"#000000\">value = [11, 5]</text>\n<text text-anchor=\"middle\" x=\"453.5\" y=\"-1539.8\" font-family=\"Helvetica,sans-Serif\" font-size=\"14.00\" fill=\"#000000\">class = 0</text>\n</g>\n<!-- 2&#45;&gt;12 -->\n<g id=\"edge12\" class=\"edge\">\n<title>2&#45;&gt;12</title>\n<path fill=\"none\" stroke=\"#000000\" d=\"M453.5,-1650.8796C453.5,-1642.6838 453.5,-1633.9891 453.5,-1625.5013\"/>\n<polygon fill=\"#000000\" stroke=\"#000000\" points=\"457.0001,-1625.298 453.5,-1615.2981 450.0001,-1625.2981 457.0001,-1625.298\"/>\n</g>\n<!-- 4 -->\n<g id=\"node5\" class=\"node\">\n<title>4</title>\n<polygon fill=\"none\" stroke=\"#000000\" points=\"180,-1496 73,-1496 73,-1413 180,-1413 180,-1496\"/>\n<text text-anchor=\"middle\" x=\"126.5\" y=\"-1480.8\" font-family=\"Helvetica,sans-Serif\" font-size=\"14.00\" fill=\"#000000\">X[4] &lt;= 0.5</text>\n<text text-anchor=\"middle\" x=\"126.5\" y=\"-1465.8\" font-family=\"Helvetica,sans-Serif\" font-size=\"14.00\" fill=\"#000000\">gini = 0.142</text>\n<text text-anchor=\"middle\" x=\"126.5\" y=\"-1450.8\" font-family=\"Helvetica,sans-Serif\" font-size=\"14.00\" fill=\"#000000\">samples = 13</text>\n<text text-anchor=\"middle\" x=\"126.5\" y=\"-1435.8\" font-family=\"Helvetica,sans-Serif\" font-size=\"14.00\" fill=\"#000000\">value = [12, 1]</text>\n<text text-anchor=\"middle\" x=\"126.5\" y=\"-1420.8\" font-family=\"Helvetica,sans-Serif\" font-size=\"14.00\" fill=\"#000000\">class = 0</text>\n</g>\n<!-- 3&#45;&gt;4 -->\n<g id=\"edge4\" class=\"edge\">\n<title>3&#45;&gt;4</title>\n<path fill=\"none\" stroke=\"#000000\" d=\"M207.7811,-1531.8796C198.1314,-1522.6931 187.8234,-1512.8798 177.9009,-1503.4336\"/>\n<polygon fill=\"#000000\" stroke=\"#000000\" points=\"180.0616,-1500.6582 170.4055,-1496.2981 175.235,-1505.7282 180.0616,-1500.6582\"/>\n</g>\n<!-- 11 -->\n<g id=\"node12\" class=\"node\">\n<title>11</title>\n<polygon fill=\"none\" stroke=\"#000000\" points=\"305,-1488.5 198,-1488.5 198,-1420.5 305,-1420.5 305,-1488.5\"/>\n<text text-anchor=\"middle\" x=\"251.5\" y=\"-1473.3\" font-family=\"Helvetica,sans-Serif\" font-size=\"14.00\" fill=\"#000000\">gini = 0.0</text>\n<text text-anchor=\"middle\" x=\"251.5\" y=\"-1458.3\" font-family=\"Helvetica,sans-Serif\" font-size=\"14.00\" fill=\"#000000\">samples = 42</text>\n<text text-anchor=\"middle\" x=\"251.5\" y=\"-1443.3\" font-family=\"Helvetica,sans-Serif\" font-size=\"14.00\" fill=\"#000000\">value = [42, 0]</text>\n<text text-anchor=\"middle\" x=\"251.5\" y=\"-1428.3\" font-family=\"Helvetica,sans-Serif\" font-size=\"14.00\" fill=\"#000000\">class = 0</text>\n</g>\n<!-- 3&#45;&gt;11 -->\n<g id=\"edge11\" class=\"edge\">\n<title>3&#45;&gt;11</title>\n<path fill=\"none\" stroke=\"#000000\" d=\"M251.5,-1531.8796C251.5,-1521.2134 251.5,-1509.7021 251.5,-1498.9015\"/>\n<polygon fill=\"#000000\" stroke=\"#000000\" points=\"255.0001,-1498.8149 251.5,-1488.8149 248.0001,-1498.815 255.0001,-1498.8149\"/>\n</g>\n<!-- 5 -->\n<g id=\"node6\" class=\"node\">\n<title>5</title>\n<polygon fill=\"none\" stroke=\"#000000\" points=\"107,-1369.5 0,-1369.5 0,-1301.5 107,-1301.5 107,-1369.5\"/>\n<text text-anchor=\"middle\" x=\"53.5\" y=\"-1354.3\" font-family=\"Helvetica,sans-Serif\" font-size=\"14.00\" fill=\"#000000\">gini = 0.0</text>\n<text text-anchor=\"middle\" x=\"53.5\" y=\"-1339.3\" font-family=\"Helvetica,sans-Serif\" font-size=\"14.00\" fill=\"#000000\">samples = 10</text>\n<text text-anchor=\"middle\" x=\"53.5\" y=\"-1324.3\" font-family=\"Helvetica,sans-Serif\" font-size=\"14.00\" fill=\"#000000\">value = [10, 0]</text>\n<text text-anchor=\"middle\" x=\"53.5\" y=\"-1309.3\" font-family=\"Helvetica,sans-Serif\" font-size=\"14.00\" fill=\"#000000\">class = 0</text>\n</g>\n<!-- 4&#45;&gt;5 -->\n<g id=\"edge5\" class=\"edge\">\n<title>4&#45;&gt;5</title>\n<path fill=\"none\" stroke=\"#000000\" d=\"M100.9681,-1412.8796C94.1552,-1401.7735 86.7802,-1389.7513 79.9206,-1378.5691\"/>\n<polygon fill=\"#000000\" stroke=\"#000000\" points=\"82.7628,-1376.5087 74.5503,-1369.8149 76.796,-1380.1691 82.7628,-1376.5087\"/>\n</g>\n<!-- 6 -->\n<g id=\"node7\" class=\"node\">\n<title>6</title>\n<polygon fill=\"none\" stroke=\"#000000\" points=\"224,-1377 125,-1377 125,-1294 224,-1294 224,-1377\"/>\n<text text-anchor=\"middle\" x=\"174.5\" y=\"-1361.8\" font-family=\"Helvetica,sans-Serif\" font-size=\"14.00\" fill=\"#000000\">X[2] &lt;= 3.5</text>\n<text text-anchor=\"middle\" x=\"174.5\" y=\"-1346.8\" font-family=\"Helvetica,sans-Serif\" font-size=\"14.00\" fill=\"#000000\">gini = 0.444</text>\n<text text-anchor=\"middle\" x=\"174.5\" y=\"-1331.8\" font-family=\"Helvetica,sans-Serif\" font-size=\"14.00\" fill=\"#000000\">samples = 3</text>\n<text text-anchor=\"middle\" x=\"174.5\" y=\"-1316.8\" font-family=\"Helvetica,sans-Serif\" font-size=\"14.00\" fill=\"#000000\">value = [2, 1]</text>\n<text text-anchor=\"middle\" x=\"174.5\" y=\"-1301.8\" font-family=\"Helvetica,sans-Serif\" font-size=\"14.00\" fill=\"#000000\">class = 0</text>\n</g>\n<!-- 4&#45;&gt;6 -->\n<g id=\"edge6\" class=\"edge\">\n<title>4&#45;&gt;6</title>\n<path fill=\"none\" stroke=\"#000000\" d=\"M143.2881,-1412.8796C146.7029,-1404.4136 150.3325,-1395.4153 153.863,-1386.6626\"/>\n<polygon fill=\"#000000\" stroke=\"#000000\" points=\"157.1453,-1387.8813 157.6403,-1377.2981 150.6536,-1385.2628 157.1453,-1387.8813\"/>\n</g>\n<!-- 7 -->\n<g id=\"node8\" class=\"node\">\n<title>7</title>\n<polygon fill=\"none\" stroke=\"#000000\" points=\"114,-1250.5 15,-1250.5 15,-1182.5 114,-1182.5 114,-1250.5\"/>\n<text text-anchor=\"middle\" x=\"64.5\" y=\"-1235.3\" font-family=\"Helvetica,sans-Serif\" font-size=\"14.00\" fill=\"#000000\">gini = 0.0</text>\n<text text-anchor=\"middle\" x=\"64.5\" y=\"-1220.3\" font-family=\"Helvetica,sans-Serif\" font-size=\"14.00\" fill=\"#000000\">samples = 1</text>\n<text text-anchor=\"middle\" x=\"64.5\" y=\"-1205.3\" font-family=\"Helvetica,sans-Serif\" font-size=\"14.00\" fill=\"#000000\">value = [1, 0]</text>\n<text text-anchor=\"middle\" x=\"64.5\" y=\"-1190.3\" font-family=\"Helvetica,sans-Serif\" font-size=\"14.00\" fill=\"#000000\">class = 0</text>\n</g>\n<!-- 6&#45;&gt;7 -->\n<g id=\"edge7\" class=\"edge\">\n<title>6&#45;&gt;7</title>\n<path fill=\"none\" stroke=\"#000000\" d=\"M136.0273,-1293.8796C125.3547,-1282.3337 113.7667,-1269.7976 103.0875,-1258.2446\"/>\n<polygon fill=\"#000000\" stroke=\"#000000\" points=\"105.5778,-1255.7825 96.2197,-1250.8149 100.4375,-1260.534 105.5778,-1255.7825\"/>\n</g>\n<!-- 8 -->\n<g id=\"node9\" class=\"node\">\n<title>8</title>\n<polygon fill=\"none\" stroke=\"#000000\" points=\"231,-1258 132,-1258 132,-1175 231,-1175 231,-1258\"/>\n<text text-anchor=\"middle\" x=\"181.5\" y=\"-1242.8\" font-family=\"Helvetica,sans-Serif\" font-size=\"14.00\" fill=\"#000000\">X[2] &lt;= 6.0</text>\n<text text-anchor=\"middle\" x=\"181.5\" y=\"-1227.8\" font-family=\"Helvetica,sans-Serif\" font-size=\"14.00\" fill=\"#000000\">gini = 0.5</text>\n<text text-anchor=\"middle\" x=\"181.5\" y=\"-1212.8\" font-family=\"Helvetica,sans-Serif\" font-size=\"14.00\" fill=\"#000000\">samples = 2</text>\n<text text-anchor=\"middle\" x=\"181.5\" y=\"-1197.8\" font-family=\"Helvetica,sans-Serif\" font-size=\"14.00\" fill=\"#000000\">value = [1, 1]</text>\n<text text-anchor=\"middle\" x=\"181.5\" y=\"-1182.8\" font-family=\"Helvetica,sans-Serif\" font-size=\"14.00\" fill=\"#000000\">class = 0</text>\n</g>\n<!-- 6&#45;&gt;8 -->\n<g id=\"edge8\" class=\"edge\">\n<title>6&#45;&gt;8</title>\n<path fill=\"none\" stroke=\"#000000\" d=\"M176.9483,-1293.8796C177.4304,-1285.6838 177.9418,-1276.9891 178.4411,-1268.5013\"/>\n<polygon fill=\"#000000\" stroke=\"#000000\" points=\"181.9479,-1268.4864 179.0413,-1258.2981 174.96,-1268.0753 181.9479,-1268.4864\"/>\n</g>\n<!-- 9 -->\n<g id=\"node10\" class=\"node\">\n<title>9</title>\n<polygon fill=\"none\" stroke=\"#000000\" points=\"173,-1131.5 74,-1131.5 74,-1063.5 173,-1063.5 173,-1131.5\"/>\n<text text-anchor=\"middle\" x=\"123.5\" y=\"-1116.3\" font-family=\"Helvetica,sans-Serif\" font-size=\"14.00\" fill=\"#000000\">gini = 0.0</text>\n<text text-anchor=\"middle\" x=\"123.5\" y=\"-1101.3\" font-family=\"Helvetica,sans-Serif\" font-size=\"14.00\" fill=\"#000000\">samples = 1</text>\n<text text-anchor=\"middle\" x=\"123.5\" y=\"-1086.3\" font-family=\"Helvetica,sans-Serif\" font-size=\"14.00\" fill=\"#000000\">value = [0, 1]</text>\n<text text-anchor=\"middle\" x=\"123.5\" y=\"-1071.3\" font-family=\"Helvetica,sans-Serif\" font-size=\"14.00\" fill=\"#000000\">class = 1</text>\n</g>\n<!-- 8&#45;&gt;9 -->\n<g id=\"edge9\" class=\"edge\">\n<title>8&#45;&gt;9</title>\n<path fill=\"none\" stroke=\"#000000\" d=\"M161.2144,-1174.8796C155.855,-1163.8835 150.0578,-1151.9893 144.6537,-1140.9015\"/>\n<polygon fill=\"#000000\" stroke=\"#000000\" points=\"147.7524,-1139.2706 140.2249,-1131.8149 141.46,-1142.3375 147.7524,-1139.2706\"/>\n</g>\n<!-- 10 -->\n<g id=\"node11\" class=\"node\">\n<title>10</title>\n<polygon fill=\"none\" stroke=\"#000000\" points=\"290,-1131.5 191,-1131.5 191,-1063.5 290,-1063.5 290,-1131.5\"/>\n<text text-anchor=\"middle\" x=\"240.5\" y=\"-1116.3\" font-family=\"Helvetica,sans-Serif\" font-size=\"14.00\" fill=\"#000000\">gini = 0.0</text>\n<text text-anchor=\"middle\" x=\"240.5\" y=\"-1101.3\" font-family=\"Helvetica,sans-Serif\" font-size=\"14.00\" fill=\"#000000\">samples = 1</text>\n<text text-anchor=\"middle\" x=\"240.5\" y=\"-1086.3\" font-family=\"Helvetica,sans-Serif\" font-size=\"14.00\" fill=\"#000000\">value = [1, 0]</text>\n<text text-anchor=\"middle\" x=\"240.5\" y=\"-1071.3\" font-family=\"Helvetica,sans-Serif\" font-size=\"14.00\" fill=\"#000000\">class = 0</text>\n</g>\n<!-- 8&#45;&gt;10 -->\n<g id=\"edge10\" class=\"edge\">\n<title>8&#45;&gt;10</title>\n<path fill=\"none\" stroke=\"#000000\" d=\"M202.1353,-1174.8796C207.5872,-1163.8835 213.4843,-1151.9893 218.9816,-1140.9015\"/>\n<polygon fill=\"#000000\" stroke=\"#000000\" points=\"222.1804,-1142.3289 223.4867,-1131.8149 215.9089,-1139.2195 222.1804,-1142.3289\"/>\n</g>\n<!-- 13 -->\n<g id=\"node14\" class=\"node\">\n<title>13</title>\n<polygon fill=\"none\" stroke=\"#000000\" points=\"451.5,-1496 323.5,-1496 323.5,-1413 451.5,-1413 451.5,-1496\"/>\n<text text-anchor=\"middle\" x=\"387.5\" y=\"-1480.8\" font-family=\"Helvetica,sans-Serif\" font-size=\"14.00\" fill=\"#000000\">X[0] &lt;= 2259.525</text>\n<text text-anchor=\"middle\" x=\"387.5\" y=\"-1465.8\" font-family=\"Helvetica,sans-Serif\" font-size=\"14.00\" fill=\"#000000\">gini = 0.408</text>\n<text text-anchor=\"middle\" x=\"387.5\" y=\"-1450.8\" font-family=\"Helvetica,sans-Serif\" font-size=\"14.00\" fill=\"#000000\">samples = 7</text>\n<text text-anchor=\"middle\" x=\"387.5\" y=\"-1435.8\" font-family=\"Helvetica,sans-Serif\" font-size=\"14.00\" fill=\"#000000\">value = [2, 5]</text>\n<text text-anchor=\"middle\" x=\"387.5\" y=\"-1420.8\" font-family=\"Helvetica,sans-Serif\" font-size=\"14.00\" fill=\"#000000\">class = 1</text>\n</g>\n<!-- 12&#45;&gt;13 -->\n<g id=\"edge13\" class=\"edge\">\n<title>12&#45;&gt;13</title>\n<path fill=\"none\" stroke=\"#000000\" d=\"M430.4164,-1531.8796C425.6211,-1523.2335 420.5178,-1514.0322 415.5662,-1505.1042\"/>\n<polygon fill=\"#000000\" stroke=\"#000000\" points=\"418.5931,-1503.3455 410.6821,-1496.2981 412.4716,-1506.7407 418.5931,-1503.3455\"/>\n</g>\n<!-- 18 -->\n<g id=\"node19\" class=\"node\">\n<title>18</title>\n<polygon fill=\"none\" stroke=\"#000000\" points=\"569,-1488.5 470,-1488.5 470,-1420.5 569,-1420.5 569,-1488.5\"/>\n<text text-anchor=\"middle\" x=\"519.5\" y=\"-1473.3\" font-family=\"Helvetica,sans-Serif\" font-size=\"14.00\" fill=\"#000000\">gini = 0.0</text>\n<text text-anchor=\"middle\" x=\"519.5\" y=\"-1458.3\" font-family=\"Helvetica,sans-Serif\" font-size=\"14.00\" fill=\"#000000\">samples = 9</text>\n<text text-anchor=\"middle\" x=\"519.5\" y=\"-1443.3\" font-family=\"Helvetica,sans-Serif\" font-size=\"14.00\" fill=\"#000000\">value = [9, 0]</text>\n<text text-anchor=\"middle\" x=\"519.5\" y=\"-1428.3\" font-family=\"Helvetica,sans-Serif\" font-size=\"14.00\" fill=\"#000000\">class = 0</text>\n</g>\n<!-- 12&#45;&gt;18 -->\n<g id=\"edge18\" class=\"edge\">\n<title>12&#45;&gt;18</title>\n<path fill=\"none\" stroke=\"#000000\" d=\"M476.5836,-1531.8796C482.7433,-1520.7735 489.4111,-1508.7513 495.6129,-1497.5691\"/>\n<polygon fill=\"#000000\" stroke=\"#000000\" points=\"498.6787,-1499.2576 500.4682,-1488.8149 492.5572,-1495.8624 498.6787,-1499.2576\"/>\n</g>\n<!-- 14 -->\n<g id=\"node15\" class=\"node\">\n<title>14</title>\n<polygon fill=\"none\" stroke=\"#000000\" points=\"364,-1377 265,-1377 265,-1294 364,-1294 364,-1377\"/>\n<text text-anchor=\"middle\" x=\"314.5\" y=\"-1361.8\" font-family=\"Helvetica,sans-Serif\" font-size=\"14.00\" fill=\"#000000\">X[4] &lt;= 0.5</text>\n<text text-anchor=\"middle\" x=\"314.5\" y=\"-1346.8\" font-family=\"Helvetica,sans-Serif\" font-size=\"14.00\" fill=\"#000000\">gini = 0.5</text>\n<text text-anchor=\"middle\" x=\"314.5\" y=\"-1331.8\" font-family=\"Helvetica,sans-Serif\" font-size=\"14.00\" fill=\"#000000\">samples = 4</text>\n<text text-anchor=\"middle\" x=\"314.5\" y=\"-1316.8\" font-family=\"Helvetica,sans-Serif\" font-size=\"14.00\" fill=\"#000000\">value = [2, 2]</text>\n<text text-anchor=\"middle\" x=\"314.5\" y=\"-1301.8\" font-family=\"Helvetica,sans-Serif\" font-size=\"14.00\" fill=\"#000000\">class = 0</text>\n</g>\n<!-- 13&#45;&gt;14 -->\n<g id=\"edge14\" class=\"edge\">\n<title>13&#45;&gt;14</title>\n<path fill=\"none\" stroke=\"#000000\" d=\"M361.9681,-1412.8796C356.609,-1404.1434 350.9021,-1394.8404 345.3718,-1385.8253\"/>\n<polygon fill=\"#000000\" stroke=\"#000000\" points=\"348.3533,-1383.9919 340.1408,-1377.2981 342.3865,-1387.6522 348.3533,-1383.9919\"/>\n</g>\n<!-- 17 -->\n<g id=\"node18\" class=\"node\">\n<title>17</title>\n<polygon fill=\"none\" stroke=\"#000000\" points=\"481,-1369.5 382,-1369.5 382,-1301.5 481,-1301.5 481,-1369.5\"/>\n<text text-anchor=\"middle\" x=\"431.5\" y=\"-1354.3\" font-family=\"Helvetica,sans-Serif\" font-size=\"14.00\" fill=\"#000000\">gini = 0.0</text>\n<text text-anchor=\"middle\" x=\"431.5\" y=\"-1339.3\" font-family=\"Helvetica,sans-Serif\" font-size=\"14.00\" fill=\"#000000\">samples = 3</text>\n<text text-anchor=\"middle\" x=\"431.5\" y=\"-1324.3\" font-family=\"Helvetica,sans-Serif\" font-size=\"14.00\" fill=\"#000000\">value = [0, 3]</text>\n<text text-anchor=\"middle\" x=\"431.5\" y=\"-1309.3\" font-family=\"Helvetica,sans-Serif\" font-size=\"14.00\" fill=\"#000000\">class = 1</text>\n</g>\n<!-- 13&#45;&gt;17 -->\n<g id=\"edge17\" class=\"edge\">\n<title>13&#45;&gt;17</title>\n<path fill=\"none\" stroke=\"#000000\" d=\"M402.8891,-1412.8796C406.9142,-1401.9935 411.2648,-1390.227 415.3293,-1379.2344\"/>\n<polygon fill=\"#000000\" stroke=\"#000000\" points=\"418.6268,-1380.4082 418.8121,-1369.8149 412.0613,-1377.9805 418.6268,-1380.4082\"/>\n</g>\n<!-- 15 -->\n<g id=\"node16\" class=\"node\">\n<title>15</title>\n<polygon fill=\"none\" stroke=\"#000000\" points=\"361,-1250.5 262,-1250.5 262,-1182.5 361,-1182.5 361,-1250.5\"/>\n<text text-anchor=\"middle\" x=\"311.5\" y=\"-1235.3\" font-family=\"Helvetica,sans-Serif\" font-size=\"14.00\" fill=\"#000000\">gini = 0.0</text>\n<text text-anchor=\"middle\" x=\"311.5\" y=\"-1220.3\" font-family=\"Helvetica,sans-Serif\" font-size=\"14.00\" fill=\"#000000\">samples = 2</text>\n<text text-anchor=\"middle\" x=\"311.5\" y=\"-1205.3\" font-family=\"Helvetica,sans-Serif\" font-size=\"14.00\" fill=\"#000000\">value = [0, 2]</text>\n<text text-anchor=\"middle\" x=\"311.5\" y=\"-1190.3\" font-family=\"Helvetica,sans-Serif\" font-size=\"14.00\" fill=\"#000000\">class = 1</text>\n</g>\n<!-- 14&#45;&gt;15 -->\n<g id=\"edge15\" class=\"edge\">\n<title>14&#45;&gt;15</title>\n<path fill=\"none\" stroke=\"#000000\" d=\"M313.4507,-1293.8796C313.1818,-1283.2134 312.8916,-1271.7021 312.6194,-1260.9015\"/>\n<polygon fill=\"#000000\" stroke=\"#000000\" points=\"316.1161,-1260.7235 312.3651,-1250.8149 309.1183,-1260.9 316.1161,-1260.7235\"/>\n</g>\n<!-- 16 -->\n<g id=\"node17\" class=\"node\">\n<title>16</title>\n<polygon fill=\"none\" stroke=\"#000000\" points=\"478,-1250.5 379,-1250.5 379,-1182.5 478,-1182.5 478,-1250.5\"/>\n<text text-anchor=\"middle\" x=\"428.5\" y=\"-1235.3\" font-family=\"Helvetica,sans-Serif\" font-size=\"14.00\" fill=\"#000000\">gini = 0.0</text>\n<text text-anchor=\"middle\" x=\"428.5\" y=\"-1220.3\" font-family=\"Helvetica,sans-Serif\" font-size=\"14.00\" fill=\"#000000\">samples = 2</text>\n<text text-anchor=\"middle\" x=\"428.5\" y=\"-1205.3\" font-family=\"Helvetica,sans-Serif\" font-size=\"14.00\" fill=\"#000000\">value = [2, 0]</text>\n<text text-anchor=\"middle\" x=\"428.5\" y=\"-1190.3\" font-family=\"Helvetica,sans-Serif\" font-size=\"14.00\" fill=\"#000000\">class = 0</text>\n</g>\n<!-- 14&#45;&gt;16 -->\n<g id=\"edge16\" class=\"edge\">\n<title>14&#45;&gt;16</title>\n<path fill=\"none\" stroke=\"#000000\" d=\"M354.3717,-1293.8796C365.4324,-1282.3337 377.4418,-1269.7976 388.5094,-1258.2446\"/>\n<polygon fill=\"#000000\" stroke=\"#000000\" points=\"391.2365,-1260.4573 395.6269,-1250.8149 386.1817,-1255.6149 391.2365,-1260.4573\"/>\n</g>\n<!-- 20 -->\n<g id=\"node21\" class=\"node\">\n<title>20</title>\n<polygon fill=\"none\" stroke=\"#000000\" points=\"817,-1615 710,-1615 710,-1532 817,-1532 817,-1615\"/>\n<text text-anchor=\"middle\" x=\"763.5\" y=\"-1599.8\" font-family=\"Helvetica,sans-Serif\" font-size=\"14.00\" fill=\"#000000\">X[1] &lt;= 19.5</text>\n<text text-anchor=\"middle\" x=\"763.5\" y=\"-1584.8\" font-family=\"Helvetica,sans-Serif\" font-size=\"14.00\" fill=\"#000000\">gini = 0.346</text>\n<text text-anchor=\"middle\" x=\"763.5\" y=\"-1569.8\" font-family=\"Helvetica,sans-Serif\" font-size=\"14.00\" fill=\"#000000\">samples = 18</text>\n<text text-anchor=\"middle\" x=\"763.5\" y=\"-1554.8\" font-family=\"Helvetica,sans-Serif\" font-size=\"14.00\" fill=\"#000000\">value = [4, 14]</text>\n<text text-anchor=\"middle\" x=\"763.5\" y=\"-1539.8\" font-family=\"Helvetica,sans-Serif\" font-size=\"14.00\" fill=\"#000000\">class = 1</text>\n</g>\n<!-- 19&#45;&gt;20 -->\n<g id=\"edge20\" class=\"edge\">\n<title>19&#45;&gt;20</title>\n<path fill=\"none\" stroke=\"#000000\" d=\"M834.3771,-1650.8796C826.0451,-1641.7832 817.1502,-1632.0722 808.5761,-1622.7116\"/>\n<polygon fill=\"#000000\" stroke=\"#000000\" points=\"811.1211,-1620.3081 801.7856,-1615.2981 805.9592,-1625.0363 811.1211,-1620.3081\"/>\n</g>\n<!-- 29 -->\n<g id=\"node30\" class=\"node\">\n<title>29</title>\n<polygon fill=\"none\" stroke=\"#000000\" points=\"997,-1615 890,-1615 890,-1532 997,-1532 997,-1615\"/>\n<text text-anchor=\"middle\" x=\"943.5\" y=\"-1599.8\" font-family=\"Helvetica,sans-Serif\" font-size=\"14.00\" fill=\"#000000\">X[2] &lt;= 17.0</text>\n<text text-anchor=\"middle\" x=\"943.5\" y=\"-1584.8\" font-family=\"Helvetica,sans-Serif\" font-size=\"14.00\" fill=\"#000000\">gini = 0.236</text>\n<text text-anchor=\"middle\" x=\"943.5\" y=\"-1569.8\" font-family=\"Helvetica,sans-Serif\" font-size=\"14.00\" fill=\"#000000\">samples = 22</text>\n<text text-anchor=\"middle\" x=\"943.5\" y=\"-1554.8\" font-family=\"Helvetica,sans-Serif\" font-size=\"14.00\" fill=\"#000000\">value = [19, 3]</text>\n<text text-anchor=\"middle\" x=\"943.5\" y=\"-1539.8\" font-family=\"Helvetica,sans-Serif\" font-size=\"14.00\" fill=\"#000000\">class = 0</text>\n</g>\n<!-- 19&#45;&gt;29 -->\n<g id=\"edge29\" class=\"edge\">\n<title>19&#45;&gt;29</title>\n<path fill=\"none\" stroke=\"#000000\" d=\"M897.3324,-1650.8796C902.4909,-1642.2335 907.9808,-1633.0322 913.3076,-1624.1042\"/>\n<polygon fill=\"#000000\" stroke=\"#000000\" points=\"916.4436,-1625.679 918.5617,-1615.2981 910.4322,-1622.0924 916.4436,-1625.679\"/>\n</g>\n<!-- 21 -->\n<g id=\"node22\" class=\"node\">\n<title>21</title>\n<polygon fill=\"none\" stroke=\"#000000\" points=\"686,-1488.5 587,-1488.5 587,-1420.5 686,-1420.5 686,-1488.5\"/>\n<text text-anchor=\"middle\" x=\"636.5\" y=\"-1473.3\" font-family=\"Helvetica,sans-Serif\" font-size=\"14.00\" fill=\"#000000\">gini = 0.0</text>\n<text text-anchor=\"middle\" x=\"636.5\" y=\"-1458.3\" font-family=\"Helvetica,sans-Serif\" font-size=\"14.00\" fill=\"#000000\">samples = 2</text>\n<text text-anchor=\"middle\" x=\"636.5\" y=\"-1443.3\" font-family=\"Helvetica,sans-Serif\" font-size=\"14.00\" fill=\"#000000\">value = [2, 0]</text>\n<text text-anchor=\"middle\" x=\"636.5\" y=\"-1428.3\" font-family=\"Helvetica,sans-Serif\" font-size=\"14.00\" fill=\"#000000\">class = 0</text>\n</g>\n<!-- 20&#45;&gt;21 -->\n<g id=\"edge21\" class=\"edge\">\n<title>20&#45;&gt;21</title>\n<path fill=\"none\" stroke=\"#000000\" d=\"M719.0816,-1531.8796C706.6421,-1520.2237 693.1257,-1507.5587 680.699,-1495.9148\"/>\n<polygon fill=\"#000000\" stroke=\"#000000\" points=\"682.8121,-1493.0985 673.1218,-1488.8149 678.0259,-1498.2065 682.8121,-1493.0985\"/>\n</g>\n<!-- 22 -->\n<g id=\"node23\" class=\"node\">\n<title>22</title>\n<polygon fill=\"none\" stroke=\"#000000\" points=\"823,-1496 704,-1496 704,-1413 823,-1413 823,-1496\"/>\n<text text-anchor=\"middle\" x=\"763.5\" y=\"-1480.8\" font-family=\"Helvetica,sans-Serif\" font-size=\"14.00\" fill=\"#000000\">X[0] &lt;= 3707.55</text>\n<text text-anchor=\"middle\" x=\"763.5\" y=\"-1465.8\" font-family=\"Helvetica,sans-Serif\" font-size=\"14.00\" fill=\"#000000\">gini = 0.219</text>\n<text text-anchor=\"middle\" x=\"763.5\" y=\"-1450.8\" font-family=\"Helvetica,sans-Serif\" font-size=\"14.00\" fill=\"#000000\">samples = 16</text>\n<text text-anchor=\"middle\" x=\"763.5\" y=\"-1435.8\" font-family=\"Helvetica,sans-Serif\" font-size=\"14.00\" fill=\"#000000\">value = [2, 14]</text>\n<text text-anchor=\"middle\" x=\"763.5\" y=\"-1420.8\" font-family=\"Helvetica,sans-Serif\" font-size=\"14.00\" fill=\"#000000\">class = 1</text>\n</g>\n<!-- 20&#45;&gt;22 -->\n<g id=\"edge22\" class=\"edge\">\n<title>20&#45;&gt;22</title>\n<path fill=\"none\" stroke=\"#000000\" d=\"M763.5,-1531.8796C763.5,-1523.6838 763.5,-1514.9891 763.5,-1506.5013\"/>\n<polygon fill=\"#000000\" stroke=\"#000000\" points=\"767.0001,-1506.298 763.5,-1496.2981 760.0001,-1506.2981 767.0001,-1506.298\"/>\n</g>\n<!-- 23 -->\n<g id=\"node24\" class=\"node\">\n<title>23</title>\n<polygon fill=\"none\" stroke=\"#000000\" points=\"676,-1377 569,-1377 569,-1294 676,-1294 676,-1377\"/>\n<text text-anchor=\"middle\" x=\"622.5\" y=\"-1361.8\" font-family=\"Helvetica,sans-Serif\" font-size=\"14.00\" fill=\"#000000\">X[1] &lt;= 32.0</text>\n<text text-anchor=\"middle\" x=\"622.5\" y=\"-1346.8\" font-family=\"Helvetica,sans-Serif\" font-size=\"14.00\" fill=\"#000000\">gini = 0.124</text>\n<text text-anchor=\"middle\" x=\"622.5\" y=\"-1331.8\" font-family=\"Helvetica,sans-Serif\" font-size=\"14.00\" fill=\"#000000\">samples = 15</text>\n<text text-anchor=\"middle\" x=\"622.5\" y=\"-1316.8\" font-family=\"Helvetica,sans-Serif\" font-size=\"14.00\" fill=\"#000000\">value = [1, 14]</text>\n<text text-anchor=\"middle\" x=\"622.5\" y=\"-1301.8\" font-family=\"Helvetica,sans-Serif\" font-size=\"14.00\" fill=\"#000000\">class = 1</text>\n</g>\n<!-- 22&#45;&gt;23 -->\n<g id=\"edge23\" class=\"edge\">\n<title>22&#45;&gt;23</title>\n<path fill=\"none\" stroke=\"#000000\" d=\"M714.185,-1412.8796C703.0868,-1403.513 691.2165,-1393.4948 679.8223,-1383.8784\"/>\n<polygon fill=\"#000000\" stroke=\"#000000\" points=\"681.925,-1381.0731 672.0254,-1377.2981 677.4101,-1386.4225 681.925,-1381.0731\"/>\n</g>\n<!-- 28 -->\n<g id=\"node29\" class=\"node\">\n<title>28</title>\n<polygon fill=\"none\" stroke=\"#000000\" points=\"793,-1369.5 694,-1369.5 694,-1301.5 793,-1301.5 793,-1369.5\"/>\n<text text-anchor=\"middle\" x=\"743.5\" y=\"-1354.3\" font-family=\"Helvetica,sans-Serif\" font-size=\"14.00\" fill=\"#000000\">gini = 0.0</text>\n<text text-anchor=\"middle\" x=\"743.5\" y=\"-1339.3\" font-family=\"Helvetica,sans-Serif\" font-size=\"14.00\" fill=\"#000000\">samples = 1</text>\n<text text-anchor=\"middle\" x=\"743.5\" y=\"-1324.3\" font-family=\"Helvetica,sans-Serif\" font-size=\"14.00\" fill=\"#000000\">value = [1, 0]</text>\n<text text-anchor=\"middle\" x=\"743.5\" y=\"-1309.3\" font-family=\"Helvetica,sans-Serif\" font-size=\"14.00\" fill=\"#000000\">class = 0</text>\n</g>\n<!-- 22&#45;&gt;28 -->\n<g id=\"edge28\" class=\"edge\">\n<title>22&#45;&gt;28</title>\n<path fill=\"none\" stroke=\"#000000\" d=\"M756.505,-1412.8796C754.7123,-1402.2134 752.7777,-1390.7021 750.9624,-1379.9015\"/>\n<polygon fill=\"#000000\" stroke=\"#000000\" points=\"754.3763,-1379.0965 749.2672,-1369.8149 747.4731,-1380.2568 754.3763,-1379.0965\"/>\n</g>\n<!-- 24 -->\n<g id=\"node25\" class=\"node\">\n<title>24</title>\n<polygon fill=\"none\" stroke=\"#000000\" points=\"648,-1250.5 541,-1250.5 541,-1182.5 648,-1182.5 648,-1250.5\"/>\n<text text-anchor=\"middle\" x=\"594.5\" y=\"-1235.3\" font-family=\"Helvetica,sans-Serif\" font-size=\"14.00\" fill=\"#000000\">gini = 0.0</text>\n<text text-anchor=\"middle\" x=\"594.5\" y=\"-1220.3\" font-family=\"Helvetica,sans-Serif\" font-size=\"14.00\" fill=\"#000000\">samples = 13</text>\n<text text-anchor=\"middle\" x=\"594.5\" y=\"-1205.3\" font-family=\"Helvetica,sans-Serif\" font-size=\"14.00\" fill=\"#000000\">value = [0, 13]</text>\n<text text-anchor=\"middle\" x=\"594.5\" y=\"-1190.3\" font-family=\"Helvetica,sans-Serif\" font-size=\"14.00\" fill=\"#000000\">class = 1</text>\n</g>\n<!-- 23&#45;&gt;24 -->\n<g id=\"edge24\" class=\"edge\">\n<title>23&#45;&gt;24</title>\n<path fill=\"none\" stroke=\"#000000\" d=\"M612.707,-1293.8796C610.1714,-1283.1034 607.4329,-1271.4647 604.8689,-1260.5677\"/>\n<polygon fill=\"#000000\" stroke=\"#000000\" points=\"608.2715,-1259.7474 602.5741,-1250.8149 601.4576,-1261.3508 608.2715,-1259.7474\"/>\n</g>\n<!-- 25 -->\n<g id=\"node26\" class=\"node\">\n<title>25</title>\n<polygon fill=\"none\" stroke=\"#000000\" points=\"765,-1258 666,-1258 666,-1175 765,-1175 765,-1258\"/>\n<text text-anchor=\"middle\" x=\"715.5\" y=\"-1242.8\" font-family=\"Helvetica,sans-Serif\" font-size=\"14.00\" fill=\"#000000\">X[2] &lt;= 13.0</text>\n<text text-anchor=\"middle\" x=\"715.5\" y=\"-1227.8\" font-family=\"Helvetica,sans-Serif\" font-size=\"14.00\" fill=\"#000000\">gini = 0.5</text>\n<text text-anchor=\"middle\" x=\"715.5\" y=\"-1212.8\" font-family=\"Helvetica,sans-Serif\" font-size=\"14.00\" fill=\"#000000\">samples = 2</text>\n<text text-anchor=\"middle\" x=\"715.5\" y=\"-1197.8\" font-family=\"Helvetica,sans-Serif\" font-size=\"14.00\" fill=\"#000000\">value = [1, 1]</text>\n<text text-anchor=\"middle\" x=\"715.5\" y=\"-1182.8\" font-family=\"Helvetica,sans-Serif\" font-size=\"14.00\" fill=\"#000000\">class = 0</text>\n</g>\n<!-- 23&#45;&gt;25 -->\n<g id=\"edge25\" class=\"edge\">\n<title>23&#45;&gt;25</title>\n<path fill=\"none\" stroke=\"#000000\" d=\"M655.0269,-1293.8796C661.9951,-1284.9633 669.4247,-1275.4565 676.6056,-1266.268\"/>\n<polygon fill=\"#000000\" stroke=\"#000000\" points=\"679.4343,-1268.3326 682.8343,-1258.2981 673.9188,-1264.0221 679.4343,-1268.3326\"/>\n</g>\n<!-- 26 -->\n<g id=\"node27\" class=\"node\">\n<title>26</title>\n<polygon fill=\"none\" stroke=\"#000000\" points=\"662,-1131.5 563,-1131.5 563,-1063.5 662,-1063.5 662,-1131.5\"/>\n<text text-anchor=\"middle\" x=\"612.5\" y=\"-1116.3\" font-family=\"Helvetica,sans-Serif\" font-size=\"14.00\" fill=\"#000000\">gini = 0.0</text>\n<text text-anchor=\"middle\" x=\"612.5\" y=\"-1101.3\" font-family=\"Helvetica,sans-Serif\" font-size=\"14.00\" fill=\"#000000\">samples = 1</text>\n<text text-anchor=\"middle\" x=\"612.5\" y=\"-1086.3\" font-family=\"Helvetica,sans-Serif\" font-size=\"14.00\" fill=\"#000000\">value = [1, 0]</text>\n<text text-anchor=\"middle\" x=\"612.5\" y=\"-1071.3\" font-family=\"Helvetica,sans-Serif\" font-size=\"14.00\" fill=\"#000000\">class = 0</text>\n</g>\n<!-- 25&#45;&gt;26 -->\n<g id=\"edge26\" class=\"edge\">\n<title>25&#45;&gt;26</title>\n<path fill=\"none\" stroke=\"#000000\" d=\"M679.4756,-1174.8796C669.5773,-1163.4436 658.8381,-1151.0363 648.9178,-1139.575\"/>\n<polygon fill=\"#000000\" stroke=\"#000000\" points=\"651.3921,-1137.0855 642.2012,-1131.8149 646.0993,-1141.6666 651.3921,-1137.0855\"/>\n</g>\n<!-- 27 -->\n<g id=\"node28\" class=\"node\">\n<title>27</title>\n<polygon fill=\"none\" stroke=\"#000000\" points=\"779,-1131.5 680,-1131.5 680,-1063.5 779,-1063.5 779,-1131.5\"/>\n<text text-anchor=\"middle\" x=\"729.5\" y=\"-1116.3\" font-family=\"Helvetica,sans-Serif\" font-size=\"14.00\" fill=\"#000000\">gini = 0.0</text>\n<text text-anchor=\"middle\" x=\"729.5\" y=\"-1101.3\" font-family=\"Helvetica,sans-Serif\" font-size=\"14.00\" fill=\"#000000\">samples = 1</text>\n<text text-anchor=\"middle\" x=\"729.5\" y=\"-1086.3\" font-family=\"Helvetica,sans-Serif\" font-size=\"14.00\" fill=\"#000000\">value = [0, 1]</text>\n<text text-anchor=\"middle\" x=\"729.5\" y=\"-1071.3\" font-family=\"Helvetica,sans-Serif\" font-size=\"14.00\" fill=\"#000000\">class = 1</text>\n</g>\n<!-- 25&#45;&gt;27 -->\n<g id=\"edge27\" class=\"edge\">\n<title>25&#45;&gt;27</title>\n<path fill=\"none\" stroke=\"#000000\" d=\"M720.3965,-1174.8796C721.6514,-1164.2134 723.0056,-1152.7021 724.2763,-1141.9015\"/>\n<polygon fill=\"#000000\" stroke=\"#000000\" points=\"727.7705,-1142.1554 725.4629,-1131.8149 720.8184,-1141.3375 727.7705,-1142.1554\"/>\n</g>\n<!-- 30 -->\n<g id=\"node31\" class=\"node\">\n<title>30</title>\n<polygon fill=\"none\" stroke=\"#000000\" points=\"1007.5,-1496 879.5,-1496 879.5,-1413 1007.5,-1413 1007.5,-1496\"/>\n<text text-anchor=\"middle\" x=\"943.5\" y=\"-1480.8\" font-family=\"Helvetica,sans-Serif\" font-size=\"14.00\" fill=\"#000000\">X[0] &lt;= 1430.435</text>\n<text text-anchor=\"middle\" x=\"943.5\" y=\"-1465.8\" font-family=\"Helvetica,sans-Serif\" font-size=\"14.00\" fill=\"#000000\">gini = 0.48</text>\n<text text-anchor=\"middle\" x=\"943.5\" y=\"-1450.8\" font-family=\"Helvetica,sans-Serif\" font-size=\"14.00\" fill=\"#000000\">samples = 5</text>\n<text text-anchor=\"middle\" x=\"943.5\" y=\"-1435.8\" font-family=\"Helvetica,sans-Serif\" font-size=\"14.00\" fill=\"#000000\">value = [3, 2]</text>\n<text text-anchor=\"middle\" x=\"943.5\" y=\"-1420.8\" font-family=\"Helvetica,sans-Serif\" font-size=\"14.00\" fill=\"#000000\">class = 0</text>\n</g>\n<!-- 29&#45;&gt;30 -->\n<g id=\"edge30\" class=\"edge\">\n<title>29&#45;&gt;30</title>\n<path fill=\"none\" stroke=\"#000000\" d=\"M943.5,-1531.8796C943.5,-1523.6838 943.5,-1514.9891 943.5,-1506.5013\"/>\n<polygon fill=\"#000000\" stroke=\"#000000\" points=\"947.0001,-1506.298 943.5,-1496.2981 940.0001,-1506.2981 947.0001,-1506.298\"/>\n</g>\n<!-- 37 -->\n<g id=\"node38\" class=\"node\">\n<title>37</title>\n<polygon fill=\"none\" stroke=\"#000000\" points=\"1152,-1496 1045,-1496 1045,-1413 1152,-1413 1152,-1496\"/>\n<text text-anchor=\"middle\" x=\"1098.5\" y=\"-1480.8\" font-family=\"Helvetica,sans-Serif\" font-size=\"14.00\" fill=\"#000000\">X[1] &lt;= 30.5</text>\n<text text-anchor=\"middle\" x=\"1098.5\" y=\"-1465.8\" font-family=\"Helvetica,sans-Serif\" font-size=\"14.00\" fill=\"#000000\">gini = 0.111</text>\n<text text-anchor=\"middle\" x=\"1098.5\" y=\"-1450.8\" font-family=\"Helvetica,sans-Serif\" font-size=\"14.00\" fill=\"#000000\">samples = 17</text>\n<text text-anchor=\"middle\" x=\"1098.5\" y=\"-1435.8\" font-family=\"Helvetica,sans-Serif\" font-size=\"14.00\" fill=\"#000000\">value = [16, 1]</text>\n<text text-anchor=\"middle\" x=\"1098.5\" y=\"-1420.8\" font-family=\"Helvetica,sans-Serif\" font-size=\"14.00\" fill=\"#000000\">class = 0</text>\n</g>\n<!-- 29&#45;&gt;37 -->\n<g id=\"edge37\" class=\"edge\">\n<title>29&#45;&gt;37</title>\n<path fill=\"none\" stroke=\"#000000\" d=\"M997.2765,-1532.2135C1010.0204,-1522.4295 1023.7115,-1511.9183 1036.7778,-1501.8867\"/>\n<polygon fill=\"#000000\" stroke=\"#000000\" points=\"1039.018,-1504.5794 1044.8186,-1495.7135 1034.7552,-1499.027 1039.018,-1504.5794\"/>\n</g>\n<!-- 31 -->\n<g id=\"node32\" class=\"node\">\n<title>31</title>\n<polygon fill=\"none\" stroke=\"#000000\" points=\"910,-1369.5 811,-1369.5 811,-1301.5 910,-1301.5 910,-1369.5\"/>\n<text text-anchor=\"middle\" x=\"860.5\" y=\"-1354.3\" font-family=\"Helvetica,sans-Serif\" font-size=\"14.00\" fill=\"#000000\">gini = 0.0</text>\n<text text-anchor=\"middle\" x=\"860.5\" y=\"-1339.3\" font-family=\"Helvetica,sans-Serif\" font-size=\"14.00\" fill=\"#000000\">samples = 1</text>\n<text text-anchor=\"middle\" x=\"860.5\" y=\"-1324.3\" font-family=\"Helvetica,sans-Serif\" font-size=\"14.00\" fill=\"#000000\">value = [0, 1]</text>\n<text text-anchor=\"middle\" x=\"860.5\" y=\"-1309.3\" font-family=\"Helvetica,sans-Serif\" font-size=\"14.00\" fill=\"#000000\">class = 1</text>\n</g>\n<!-- 30&#45;&gt;31 -->\n<g id=\"edge31\" class=\"edge\">\n<title>30&#45;&gt;31</title>\n<path fill=\"none\" stroke=\"#000000\" d=\"M914.4706,-1412.8796C906.6477,-1401.6636 898.173,-1389.5131 890.3083,-1378.2372\"/>\n<polygon fill=\"#000000\" stroke=\"#000000\" points=\"893.0254,-1376.0147 884.4339,-1369.8149 887.284,-1380.0192 893.0254,-1376.0147\"/>\n</g>\n<!-- 32 -->\n<g id=\"node33\" class=\"node\">\n<title>32</title>\n<polygon fill=\"none\" stroke=\"#000000\" points=\"1027,-1377 928,-1377 928,-1294 1027,-1294 1027,-1377\"/>\n<text text-anchor=\"middle\" x=\"977.5\" y=\"-1361.8\" font-family=\"Helvetica,sans-Serif\" font-size=\"14.00\" fill=\"#000000\">X[1] &lt;= 27.5</text>\n<text text-anchor=\"middle\" x=\"977.5\" y=\"-1346.8\" font-family=\"Helvetica,sans-Serif\" font-size=\"14.00\" fill=\"#000000\">gini = 0.375</text>\n<text text-anchor=\"middle\" x=\"977.5\" y=\"-1331.8\" font-family=\"Helvetica,sans-Serif\" font-size=\"14.00\" fill=\"#000000\">samples = 4</text>\n<text text-anchor=\"middle\" x=\"977.5\" y=\"-1316.8\" font-family=\"Helvetica,sans-Serif\" font-size=\"14.00\" fill=\"#000000\">value = [3, 1]</text>\n<text text-anchor=\"middle\" x=\"977.5\" y=\"-1301.8\" font-family=\"Helvetica,sans-Serif\" font-size=\"14.00\" fill=\"#000000\">class = 0</text>\n</g>\n<!-- 30&#45;&gt;32 -->\n<g id=\"edge32\" class=\"edge\">\n<title>30&#45;&gt;32</title>\n<path fill=\"none\" stroke=\"#000000\" d=\"M955.3916,-1412.8796C957.7847,-1404.5037 960.3267,-1395.6067 962.8023,-1386.942\"/>\n<polygon fill=\"#000000\" stroke=\"#000000\" points=\"966.1757,-1387.8749 965.5577,-1377.2981 959.4451,-1385.9518 966.1757,-1387.8749\"/>\n</g>\n<!-- 33 -->\n<g id=\"node34\" class=\"node\">\n<title>33</title>\n<polygon fill=\"none\" stroke=\"#000000\" points=\"910,-1250.5 811,-1250.5 811,-1182.5 910,-1182.5 910,-1250.5\"/>\n<text text-anchor=\"middle\" x=\"860.5\" y=\"-1235.3\" font-family=\"Helvetica,sans-Serif\" font-size=\"14.00\" fill=\"#000000\">gini = 0.0</text>\n<text text-anchor=\"middle\" x=\"860.5\" y=\"-1220.3\" font-family=\"Helvetica,sans-Serif\" font-size=\"14.00\" fill=\"#000000\">samples = 2</text>\n<text text-anchor=\"middle\" x=\"860.5\" y=\"-1205.3\" font-family=\"Helvetica,sans-Serif\" font-size=\"14.00\" fill=\"#000000\">value = [2, 0]</text>\n<text text-anchor=\"middle\" x=\"860.5\" y=\"-1190.3\" font-family=\"Helvetica,sans-Serif\" font-size=\"14.00\" fill=\"#000000\">class = 0</text>\n</g>\n<!-- 32&#45;&gt;33 -->\n<g id=\"edge33\" class=\"edge\">\n<title>32&#45;&gt;33</title>\n<path fill=\"none\" stroke=\"#000000\" d=\"M936.5791,-1293.8796C925.2272,-1282.3337 912.9018,-1269.7976 901.543,-1258.2446\"/>\n<polygon fill=\"#000000\" stroke=\"#000000\" points=\"903.7449,-1255.4919 894.2382,-1250.8149 898.7534,-1260.3995 903.7449,-1255.4919\"/>\n</g>\n<!-- 34 -->\n<g id=\"node35\" class=\"node\">\n<title>34</title>\n<polygon fill=\"none\" stroke=\"#000000\" points=\"1027,-1258 928,-1258 928,-1175 1027,-1175 1027,-1258\"/>\n<text text-anchor=\"middle\" x=\"977.5\" y=\"-1242.8\" font-family=\"Helvetica,sans-Serif\" font-size=\"14.00\" fill=\"#000000\">X[1] &lt;= 32.0</text>\n<text text-anchor=\"middle\" x=\"977.5\" y=\"-1227.8\" font-family=\"Helvetica,sans-Serif\" font-size=\"14.00\" fill=\"#000000\">gini = 0.5</text>\n<text text-anchor=\"middle\" x=\"977.5\" y=\"-1212.8\" font-family=\"Helvetica,sans-Serif\" font-size=\"14.00\" fill=\"#000000\">samples = 2</text>\n<text text-anchor=\"middle\" x=\"977.5\" y=\"-1197.8\" font-family=\"Helvetica,sans-Serif\" font-size=\"14.00\" fill=\"#000000\">value = [1, 1]</text>\n<text text-anchor=\"middle\" x=\"977.5\" y=\"-1182.8\" font-family=\"Helvetica,sans-Serif\" font-size=\"14.00\" fill=\"#000000\">class = 0</text>\n</g>\n<!-- 32&#45;&gt;34 -->\n<g id=\"edge34\" class=\"edge\">\n<title>32&#45;&gt;34</title>\n<path fill=\"none\" stroke=\"#000000\" d=\"M977.5,-1293.8796C977.5,-1285.6838 977.5,-1276.9891 977.5,-1268.5013\"/>\n<polygon fill=\"#000000\" stroke=\"#000000\" points=\"981.0001,-1268.298 977.5,-1258.2981 974.0001,-1268.2981 981.0001,-1268.298\"/>\n</g>\n<!-- 35 -->\n<g id=\"node36\" class=\"node\">\n<title>35</title>\n<polygon fill=\"none\" stroke=\"#000000\" points=\"910,-1131.5 811,-1131.5 811,-1063.5 910,-1063.5 910,-1131.5\"/>\n<text text-anchor=\"middle\" x=\"860.5\" y=\"-1116.3\" font-family=\"Helvetica,sans-Serif\" font-size=\"14.00\" fill=\"#000000\">gini = 0.0</text>\n<text text-anchor=\"middle\" x=\"860.5\" y=\"-1101.3\" font-family=\"Helvetica,sans-Serif\" font-size=\"14.00\" fill=\"#000000\">samples = 1</text>\n<text text-anchor=\"middle\" x=\"860.5\" y=\"-1086.3\" font-family=\"Helvetica,sans-Serif\" font-size=\"14.00\" fill=\"#000000\">value = [0, 1]</text>\n<text text-anchor=\"middle\" x=\"860.5\" y=\"-1071.3\" font-family=\"Helvetica,sans-Serif\" font-size=\"14.00\" fill=\"#000000\">class = 1</text>\n</g>\n<!-- 34&#45;&gt;35 -->\n<g id=\"edge35\" class=\"edge\">\n<title>34&#45;&gt;35</title>\n<path fill=\"none\" stroke=\"#000000\" d=\"M936.5791,-1174.8796C925.2272,-1163.3337 912.9018,-1150.7976 901.543,-1139.2446\"/>\n<polygon fill=\"#000000\" stroke=\"#000000\" points=\"903.7449,-1136.4919 894.2382,-1131.8149 898.7534,-1141.3995 903.7449,-1136.4919\"/>\n</g>\n<!-- 36 -->\n<g id=\"node37\" class=\"node\">\n<title>36</title>\n<polygon fill=\"none\" stroke=\"#000000\" points=\"1027,-1131.5 928,-1131.5 928,-1063.5 1027,-1063.5 1027,-1131.5\"/>\n<text text-anchor=\"middle\" x=\"977.5\" y=\"-1116.3\" font-family=\"Helvetica,sans-Serif\" font-size=\"14.00\" fill=\"#000000\">gini = 0.0</text>\n<text text-anchor=\"middle\" x=\"977.5\" y=\"-1101.3\" font-family=\"Helvetica,sans-Serif\" font-size=\"14.00\" fill=\"#000000\">samples = 1</text>\n<text text-anchor=\"middle\" x=\"977.5\" y=\"-1086.3\" font-family=\"Helvetica,sans-Serif\" font-size=\"14.00\" fill=\"#000000\">value = [1, 0]</text>\n<text text-anchor=\"middle\" x=\"977.5\" y=\"-1071.3\" font-family=\"Helvetica,sans-Serif\" font-size=\"14.00\" fill=\"#000000\">class = 0</text>\n</g>\n<!-- 34&#45;&gt;36 -->\n<g id=\"edge36\" class=\"edge\">\n<title>34&#45;&gt;36</title>\n<path fill=\"none\" stroke=\"#000000\" d=\"M977.5,-1174.8796C977.5,-1164.2134 977.5,-1152.7021 977.5,-1141.9015\"/>\n<polygon fill=\"#000000\" stroke=\"#000000\" points=\"981.0001,-1141.8149 977.5,-1131.8149 974.0001,-1141.815 981.0001,-1141.8149\"/>\n</g>\n<!-- 38 -->\n<g id=\"node39\" class=\"node\">\n<title>38</title>\n<polygon fill=\"none\" stroke=\"#000000\" points=\"1152,-1369.5 1045,-1369.5 1045,-1301.5 1152,-1301.5 1152,-1369.5\"/>\n<text text-anchor=\"middle\" x=\"1098.5\" y=\"-1354.3\" font-family=\"Helvetica,sans-Serif\" font-size=\"14.00\" fill=\"#000000\">gini = 0.0</text>\n<text text-anchor=\"middle\" x=\"1098.5\" y=\"-1339.3\" font-family=\"Helvetica,sans-Serif\" font-size=\"14.00\" fill=\"#000000\">samples = 13</text>\n<text text-anchor=\"middle\" x=\"1098.5\" y=\"-1324.3\" font-family=\"Helvetica,sans-Serif\" font-size=\"14.00\" fill=\"#000000\">value = [13, 0]</text>\n<text text-anchor=\"middle\" x=\"1098.5\" y=\"-1309.3\" font-family=\"Helvetica,sans-Serif\" font-size=\"14.00\" fill=\"#000000\">class = 0</text>\n</g>\n<!-- 37&#45;&gt;38 -->\n<g id=\"edge38\" class=\"edge\">\n<title>37&#45;&gt;38</title>\n<path fill=\"none\" stroke=\"#000000\" d=\"M1098.5,-1412.8796C1098.5,-1402.2134 1098.5,-1390.7021 1098.5,-1379.9015\"/>\n<polygon fill=\"#000000\" stroke=\"#000000\" points=\"1102.0001,-1379.8149 1098.5,-1369.8149 1095.0001,-1379.815 1102.0001,-1379.8149\"/>\n</g>\n<!-- 39 -->\n<g id=\"node40\" class=\"node\">\n<title>39</title>\n<polygon fill=\"none\" stroke=\"#000000\" points=\"1269,-1377 1170,-1377 1170,-1294 1269,-1294 1269,-1377\"/>\n<text text-anchor=\"middle\" x=\"1219.5\" y=\"-1361.8\" font-family=\"Helvetica,sans-Serif\" font-size=\"14.00\" fill=\"#000000\">X[1] &lt;= 33.5</text>\n<text text-anchor=\"middle\" x=\"1219.5\" y=\"-1346.8\" font-family=\"Helvetica,sans-Serif\" font-size=\"14.00\" fill=\"#000000\">gini = 0.375</text>\n<text text-anchor=\"middle\" x=\"1219.5\" y=\"-1331.8\" font-family=\"Helvetica,sans-Serif\" font-size=\"14.00\" fill=\"#000000\">samples = 4</text>\n<text text-anchor=\"middle\" x=\"1219.5\" y=\"-1316.8\" font-family=\"Helvetica,sans-Serif\" font-size=\"14.00\" fill=\"#000000\">value = [3, 1]</text>\n<text text-anchor=\"middle\" x=\"1219.5\" y=\"-1301.8\" font-family=\"Helvetica,sans-Serif\" font-size=\"14.00\" fill=\"#000000\">class = 0</text>\n</g>\n<!-- 37&#45;&gt;39 -->\n<g id=\"edge39\" class=\"edge\">\n<title>37&#45;&gt;39</title>\n<path fill=\"none\" stroke=\"#000000\" d=\"M1140.8199,-1412.8796C1150.1608,-1403.6931 1160.139,-1393.8798 1169.744,-1384.4336\"/>\n<polygon fill=\"#000000\" stroke=\"#000000\" points=\"1172.3238,-1386.8054 1176.9994,-1377.2981 1167.4155,-1381.8146 1172.3238,-1386.8054\"/>\n</g>\n<!-- 40 -->\n<g id=\"node41\" class=\"node\">\n<title>40</title>\n<polygon fill=\"none\" stroke=\"#000000\" points=\"1203,-1258 1104,-1258 1104,-1175 1203,-1175 1203,-1258\"/>\n<text text-anchor=\"middle\" x=\"1153.5\" y=\"-1242.8\" font-family=\"Helvetica,sans-Serif\" font-size=\"14.00\" fill=\"#000000\">X[2] &lt;= 27.5</text>\n<text text-anchor=\"middle\" x=\"1153.5\" y=\"-1227.8\" font-family=\"Helvetica,sans-Serif\" font-size=\"14.00\" fill=\"#000000\">gini = 0.5</text>\n<text text-anchor=\"middle\" x=\"1153.5\" y=\"-1212.8\" font-family=\"Helvetica,sans-Serif\" font-size=\"14.00\" fill=\"#000000\">samples = 2</text>\n<text text-anchor=\"middle\" x=\"1153.5\" y=\"-1197.8\" font-family=\"Helvetica,sans-Serif\" font-size=\"14.00\" fill=\"#000000\">value = [1, 1]</text>\n<text text-anchor=\"middle\" x=\"1153.5\" y=\"-1182.8\" font-family=\"Helvetica,sans-Serif\" font-size=\"14.00\" fill=\"#000000\">class = 0</text>\n</g>\n<!-- 39&#45;&gt;40 -->\n<g id=\"edge40\" class=\"edge\">\n<title>39&#45;&gt;40</title>\n<path fill=\"none\" stroke=\"#000000\" d=\"M1196.4164,-1293.8796C1191.6211,-1285.2335 1186.5178,-1276.0322 1181.5662,-1267.1042\"/>\n<polygon fill=\"#000000\" stroke=\"#000000\" points=\"1184.5931,-1265.3455 1176.6821,-1258.2981 1178.4716,-1268.7407 1184.5931,-1265.3455\"/>\n</g>\n<!-- 43 -->\n<g id=\"node44\" class=\"node\">\n<title>43</title>\n<polygon fill=\"none\" stroke=\"#000000\" points=\"1320,-1250.5 1221,-1250.5 1221,-1182.5 1320,-1182.5 1320,-1250.5\"/>\n<text text-anchor=\"middle\" x=\"1270.5\" y=\"-1235.3\" font-family=\"Helvetica,sans-Serif\" font-size=\"14.00\" fill=\"#000000\">gini = 0.0</text>\n<text text-anchor=\"middle\" x=\"1270.5\" y=\"-1220.3\" font-family=\"Helvetica,sans-Serif\" font-size=\"14.00\" fill=\"#000000\">samples = 2</text>\n<text text-anchor=\"middle\" x=\"1270.5\" y=\"-1205.3\" font-family=\"Helvetica,sans-Serif\" font-size=\"14.00\" fill=\"#000000\">value = [2, 0]</text>\n<text text-anchor=\"middle\" x=\"1270.5\" y=\"-1190.3\" font-family=\"Helvetica,sans-Serif\" font-size=\"14.00\" fill=\"#000000\">class = 0</text>\n</g>\n<!-- 39&#45;&gt;43 -->\n<g id=\"edge43\" class=\"edge\">\n<title>39&#45;&gt;43</title>\n<path fill=\"none\" stroke=\"#000000\" d=\"M1237.3373,-1293.8796C1242.0028,-1282.9935 1247.0456,-1271.227 1251.7567,-1260.2344\"/>\n<polygon fill=\"#000000\" stroke=\"#000000\" points=\"1255.0714,-1261.3851 1255.7936,-1250.8149 1248.6373,-1258.6277 1255.0714,-1261.3851\"/>\n</g>\n<!-- 41 -->\n<g id=\"node42\" class=\"node\">\n<title>41</title>\n<polygon fill=\"none\" stroke=\"#000000\" points=\"1144,-1131.5 1045,-1131.5 1045,-1063.5 1144,-1063.5 1144,-1131.5\"/>\n<text text-anchor=\"middle\" x=\"1094.5\" y=\"-1116.3\" font-family=\"Helvetica,sans-Serif\" font-size=\"14.00\" fill=\"#000000\">gini = 0.0</text>\n<text text-anchor=\"middle\" x=\"1094.5\" y=\"-1101.3\" font-family=\"Helvetica,sans-Serif\" font-size=\"14.00\" fill=\"#000000\">samples = 1</text>\n<text text-anchor=\"middle\" x=\"1094.5\" y=\"-1086.3\" font-family=\"Helvetica,sans-Serif\" font-size=\"14.00\" fill=\"#000000\">value = [1, 0]</text>\n<text text-anchor=\"middle\" x=\"1094.5\" y=\"-1071.3\" font-family=\"Helvetica,sans-Serif\" font-size=\"14.00\" fill=\"#000000\">class = 0</text>\n</g>\n<!-- 40&#45;&gt;41 -->\n<g id=\"edge41\" class=\"edge\">\n<title>40&#45;&gt;41</title>\n<path fill=\"none\" stroke=\"#000000\" d=\"M1132.8647,-1174.8796C1127.4128,-1163.8835 1121.5157,-1151.9893 1116.0184,-1140.9015\"/>\n<polygon fill=\"#000000\" stroke=\"#000000\" points=\"1119.0911,-1139.2195 1111.5133,-1131.8149 1112.8196,-1142.3289 1119.0911,-1139.2195\"/>\n</g>\n<!-- 42 -->\n<g id=\"node43\" class=\"node\">\n<title>42</title>\n<polygon fill=\"none\" stroke=\"#000000\" points=\"1261,-1131.5 1162,-1131.5 1162,-1063.5 1261,-1063.5 1261,-1131.5\"/>\n<text text-anchor=\"middle\" x=\"1211.5\" y=\"-1116.3\" font-family=\"Helvetica,sans-Serif\" font-size=\"14.00\" fill=\"#000000\">gini = 0.0</text>\n<text text-anchor=\"middle\" x=\"1211.5\" y=\"-1101.3\" font-family=\"Helvetica,sans-Serif\" font-size=\"14.00\" fill=\"#000000\">samples = 1</text>\n<text text-anchor=\"middle\" x=\"1211.5\" y=\"-1086.3\" font-family=\"Helvetica,sans-Serif\" font-size=\"14.00\" fill=\"#000000\">value = [0, 1]</text>\n<text text-anchor=\"middle\" x=\"1211.5\" y=\"-1071.3\" font-family=\"Helvetica,sans-Serif\" font-size=\"14.00\" fill=\"#000000\">class = 1</text>\n</g>\n<!-- 40&#45;&gt;42 -->\n<g id=\"edge42\" class=\"edge\">\n<title>40&#45;&gt;42</title>\n<path fill=\"none\" stroke=\"#000000\" d=\"M1173.7856,-1174.8796C1179.145,-1163.8835 1184.9422,-1151.9893 1190.3463,-1140.9015\"/>\n<polygon fill=\"#000000\" stroke=\"#000000\" points=\"1193.54,-1142.3375 1194.7751,-1131.8149 1187.2476,-1139.2706 1193.54,-1142.3375\"/>\n</g>\n<!-- 45 -->\n<g id=\"node46\" class=\"node\">\n<title>45</title>\n<polygon fill=\"none\" stroke=\"#000000\" points=\"1692.5,-1734 1568.5,-1734 1568.5,-1651 1692.5,-1651 1692.5,-1734\"/>\n<text text-anchor=\"middle\" x=\"1630.5\" y=\"-1718.8\" font-family=\"Helvetica,sans-Serif\" font-size=\"14.00\" fill=\"#000000\">X[2] &lt;= 12.5</text>\n<text text-anchor=\"middle\" x=\"1630.5\" y=\"-1703.8\" font-family=\"Helvetica,sans-Serif\" font-size=\"14.00\" fill=\"#000000\">gini = 0.498</text>\n<text text-anchor=\"middle\" x=\"1630.5\" y=\"-1688.8\" font-family=\"Helvetica,sans-Serif\" font-size=\"14.00\" fill=\"#000000\">samples = 198</text>\n<text text-anchor=\"middle\" x=\"1630.5\" y=\"-1673.8\" font-family=\"Helvetica,sans-Serif\" font-size=\"14.00\" fill=\"#000000\">value = [93, 105]</text>\n<text text-anchor=\"middle\" x=\"1630.5\" y=\"-1658.8\" font-family=\"Helvetica,sans-Serif\" font-size=\"14.00\" fill=\"#000000\">class = 1</text>\n</g>\n<!-- 44&#45;&gt;45 -->\n<g id=\"edge45\" class=\"edge\">\n<title>44&#45;&gt;45</title>\n<path fill=\"none\" stroke=\"#000000\" d=\"M1630.5,-1769.8796C1630.5,-1761.6838 1630.5,-1752.9891 1630.5,-1744.5013\"/>\n<polygon fill=\"#000000\" stroke=\"#000000\" points=\"1634.0001,-1744.298 1630.5,-1734.2981 1627.0001,-1744.2981 1634.0001,-1744.298\"/>\n</g>\n<!-- 164 -->\n<g id=\"node165\" class=\"node\">\n<title>164</title>\n<polygon fill=\"none\" stroke=\"#000000\" points=\"1881,-1734 1774,-1734 1774,-1651 1881,-1651 1881,-1734\"/>\n<text text-anchor=\"middle\" x=\"1827.5\" y=\"-1718.8\" font-family=\"Helvetica,sans-Serif\" font-size=\"14.00\" fill=\"#000000\">X[2] &lt;= 1.5</text>\n<text text-anchor=\"middle\" x=\"1827.5\" y=\"-1703.8\" font-family=\"Helvetica,sans-Serif\" font-size=\"14.00\" fill=\"#000000\">gini = 0.083</text>\n<text text-anchor=\"middle\" x=\"1827.5\" y=\"-1688.8\" font-family=\"Helvetica,sans-Serif\" font-size=\"14.00\" fill=\"#000000\">samples = 23</text>\n<text text-anchor=\"middle\" x=\"1827.5\" y=\"-1673.8\" font-family=\"Helvetica,sans-Serif\" font-size=\"14.00\" fill=\"#000000\">value = [22, 1]</text>\n<text text-anchor=\"middle\" x=\"1827.5\" y=\"-1658.8\" font-family=\"Helvetica,sans-Serif\" font-size=\"14.00\" fill=\"#000000\">class = 0</text>\n</g>\n<!-- 44&#45;&gt;164 -->\n<g id=\"edge164\" class=\"edge\">\n<title>44&#45;&gt;164</title>\n<path fill=\"none\" stroke=\"#000000\" d=\"M1696.6462,-1771.5437C1718.7508,-1758.1911 1743.3009,-1743.3614 1765.1098,-1730.1875\"/>\n<polygon fill=\"#000000\" stroke=\"#000000\" points=\"1767.2046,-1733.0111 1773.9545,-1724.8447 1763.5852,-1727.0194 1767.2046,-1733.0111\"/>\n</g>\n<!-- 46 -->\n<g id=\"node47\" class=\"node\">\n<title>46</title>\n<polygon fill=\"none\" stroke=\"#000000\" points=\"1625.5,-1615 1509.5,-1615 1509.5,-1532 1625.5,-1532 1625.5,-1615\"/>\n<text text-anchor=\"middle\" x=\"1567.5\" y=\"-1599.8\" font-family=\"Helvetica,sans-Serif\" font-size=\"14.00\" fill=\"#000000\">X[2] &lt;= &#45;0.5</text>\n<text text-anchor=\"middle\" x=\"1567.5\" y=\"-1584.8\" font-family=\"Helvetica,sans-Serif\" font-size=\"14.00\" fill=\"#000000\">gini = 0.458</text>\n<text text-anchor=\"middle\" x=\"1567.5\" y=\"-1569.8\" font-family=\"Helvetica,sans-Serif\" font-size=\"14.00\" fill=\"#000000\">samples = 107</text>\n<text text-anchor=\"middle\" x=\"1567.5\" y=\"-1554.8\" font-family=\"Helvetica,sans-Serif\" font-size=\"14.00\" fill=\"#000000\">value = [38, 69]</text>\n<text text-anchor=\"middle\" x=\"1567.5\" y=\"-1539.8\" font-family=\"Helvetica,sans-Serif\" font-size=\"14.00\" fill=\"#000000\">class = 1</text>\n</g>\n<!-- 45&#45;&gt;46 -->\n<g id=\"edge46\" class=\"edge\">\n<title>45&#45;&gt;46</title>\n<path fill=\"none\" stroke=\"#000000\" d=\"M1608.4657,-1650.8796C1603.936,-1642.3236 1599.1185,-1633.2238 1594.4382,-1624.3833\"/>\n<polygon fill=\"#000000\" stroke=\"#000000\" points=\"1597.4006,-1622.4983 1589.6284,-1615.2981 1591.2141,-1625.7736 1597.4006,-1622.4983\"/>\n</g>\n<!-- 103 -->\n<g id=\"node104\" class=\"node\">\n<title>103</title>\n<polygon fill=\"none\" stroke=\"#000000\" points=\"1759.5,-1615 1643.5,-1615 1643.5,-1532 1759.5,-1532 1759.5,-1615\"/>\n<text text-anchor=\"middle\" x=\"1701.5\" y=\"-1599.8\" font-family=\"Helvetica,sans-Serif\" font-size=\"14.00\" fill=\"#000000\">X[3] &lt;= 0.5</text>\n<text text-anchor=\"middle\" x=\"1701.5\" y=\"-1584.8\" font-family=\"Helvetica,sans-Serif\" font-size=\"14.00\" fill=\"#000000\">gini = 0.478</text>\n<text text-anchor=\"middle\" x=\"1701.5\" y=\"-1569.8\" font-family=\"Helvetica,sans-Serif\" font-size=\"14.00\" fill=\"#000000\">samples = 91</text>\n<text text-anchor=\"middle\" x=\"1701.5\" y=\"-1554.8\" font-family=\"Helvetica,sans-Serif\" font-size=\"14.00\" fill=\"#000000\">value = [55, 36]</text>\n<text text-anchor=\"middle\" x=\"1701.5\" y=\"-1539.8\" font-family=\"Helvetica,sans-Serif\" font-size=\"14.00\" fill=\"#000000\">class = 0</text>\n</g>\n<!-- 45&#45;&gt;103 -->\n<g id=\"edge103\" class=\"edge\">\n<title>45&#45;&gt;103</title>\n<path fill=\"none\" stroke=\"#000000\" d=\"M1655.3324,-1650.8796C1660.4909,-1642.2335 1665.9808,-1633.0322 1671.3076,-1624.1042\"/>\n<polygon fill=\"#000000\" stroke=\"#000000\" points=\"1674.4436,-1625.679 1676.5617,-1615.2981 1668.4322,-1622.0924 1674.4436,-1625.679\"/>\n</g>\n<!-- 47 -->\n<g id=\"node48\" class=\"node\">\n<title>47</title>\n<polygon fill=\"none\" stroke=\"#000000\" points=\"1495,-1488.5 1396,-1488.5 1396,-1420.5 1495,-1420.5 1495,-1488.5\"/>\n<text text-anchor=\"middle\" x=\"1445.5\" y=\"-1473.3\" font-family=\"Helvetica,sans-Serif\" font-size=\"14.00\" fill=\"#000000\">gini = 0.0</text>\n<text text-anchor=\"middle\" x=\"1445.5\" y=\"-1458.3\" font-family=\"Helvetica,sans-Serif\" font-size=\"14.00\" fill=\"#000000\">samples = 7</text>\n<text text-anchor=\"middle\" x=\"1445.5\" y=\"-1443.3\" font-family=\"Helvetica,sans-Serif\" font-size=\"14.00\" fill=\"#000000\">value = [7, 0]</text>\n<text text-anchor=\"middle\" x=\"1445.5\" y=\"-1428.3\" font-family=\"Helvetica,sans-Serif\" font-size=\"14.00\" fill=\"#000000\">class = 0</text>\n</g>\n<!-- 46&#45;&gt;47 -->\n<g id=\"edge47\" class=\"edge\">\n<title>46&#45;&gt;47</title>\n<path fill=\"none\" stroke=\"#000000\" d=\"M1524.8303,-1531.8796C1512.8806,-1520.2237 1499.8963,-1507.5587 1487.9589,-1495.9148\"/>\n<polygon fill=\"#000000\" stroke=\"#000000\" points=\"1490.2825,-1493.292 1480.68,-1488.8149 1485.3947,-1498.303 1490.2825,-1493.292\"/>\n</g>\n<!-- 48 -->\n<g id=\"node49\" class=\"node\">\n<title>48</title>\n<polygon fill=\"none\" stroke=\"#000000\" points=\"1629.5,-1496 1513.5,-1496 1513.5,-1413 1629.5,-1413 1629.5,-1496\"/>\n<text text-anchor=\"middle\" x=\"1571.5\" y=\"-1480.8\" font-family=\"Helvetica,sans-Serif\" font-size=\"14.00\" fill=\"#000000\">X[1] &lt;= 60.5</text>\n<text text-anchor=\"middle\" x=\"1571.5\" y=\"-1465.8\" font-family=\"Helvetica,sans-Serif\" font-size=\"14.00\" fill=\"#000000\">gini = 0.428</text>\n<text text-anchor=\"middle\" x=\"1571.5\" y=\"-1450.8\" font-family=\"Helvetica,sans-Serif\" font-size=\"14.00\" fill=\"#000000\">samples = 100</text>\n<text text-anchor=\"middle\" x=\"1571.5\" y=\"-1435.8\" font-family=\"Helvetica,sans-Serif\" font-size=\"14.00\" fill=\"#000000\">value = [31, 69]</text>\n<text text-anchor=\"middle\" x=\"1571.5\" y=\"-1420.8\" font-family=\"Helvetica,sans-Serif\" font-size=\"14.00\" fill=\"#000000\">class = 1</text>\n</g>\n<!-- 46&#45;&gt;48 -->\n<g id=\"edge48\" class=\"edge\">\n<title>46&#45;&gt;48</title>\n<path fill=\"none\" stroke=\"#000000\" d=\"M1568.899,-1531.8796C1569.1745,-1523.6838 1569.4668,-1514.9891 1569.7521,-1506.5013\"/>\n<polygon fill=\"#000000\" stroke=\"#000000\" points=\"1573.257,-1506.41 1570.095,-1496.2981 1566.261,-1506.1748 1573.257,-1506.41\"/>\n</g>\n<!-- 49 -->\n<g id=\"node50\" class=\"node\">\n<title>49</title>\n<polygon fill=\"none\" stroke=\"#000000\" points=\"1566.5,-1377 1450.5,-1377 1450.5,-1294 1566.5,-1294 1566.5,-1377\"/>\n<text text-anchor=\"middle\" x=\"1508.5\" y=\"-1361.8\" font-family=\"Helvetica,sans-Serif\" font-size=\"14.00\" fill=\"#000000\">X[0] &lt;= 1108.5</text>\n<text text-anchor=\"middle\" x=\"1508.5\" y=\"-1346.8\" font-family=\"Helvetica,sans-Serif\" font-size=\"14.00\" fill=\"#000000\">gini = 0.417</text>\n<text text-anchor=\"middle\" x=\"1508.5\" y=\"-1331.8\" font-family=\"Helvetica,sans-Serif\" font-size=\"14.00\" fill=\"#000000\">samples = 98</text>\n<text text-anchor=\"middle\" x=\"1508.5\" y=\"-1316.8\" font-family=\"Helvetica,sans-Serif\" font-size=\"14.00\" fill=\"#000000\">value = [29, 69]</text>\n<text text-anchor=\"middle\" x=\"1508.5\" y=\"-1301.8\" font-family=\"Helvetica,sans-Serif\" font-size=\"14.00\" fill=\"#000000\">class = 1</text>\n</g>\n<!-- 48&#45;&gt;49 -->\n<g id=\"edge49\" class=\"edge\">\n<title>48&#45;&gt;49</title>\n<path fill=\"none\" stroke=\"#000000\" d=\"M1549.4657,-1412.8796C1544.936,-1404.3236 1540.1185,-1395.2238 1535.4382,-1386.3833\"/>\n<polygon fill=\"#000000\" stroke=\"#000000\" points=\"1538.4006,-1384.4983 1530.6284,-1377.2981 1532.2141,-1387.7736 1538.4006,-1384.4983\"/>\n</g>\n<!-- 102 -->\n<g id=\"node103\" class=\"node\">\n<title>102</title>\n<polygon fill=\"none\" stroke=\"#000000\" points=\"1684,-1369.5 1585,-1369.5 1585,-1301.5 1684,-1301.5 1684,-1369.5\"/>\n<text text-anchor=\"middle\" x=\"1634.5\" y=\"-1354.3\" font-family=\"Helvetica,sans-Serif\" font-size=\"14.00\" fill=\"#000000\">gini = 0.0</text>\n<text text-anchor=\"middle\" x=\"1634.5\" y=\"-1339.3\" font-family=\"Helvetica,sans-Serif\" font-size=\"14.00\" fill=\"#000000\">samples = 2</text>\n<text text-anchor=\"middle\" x=\"1634.5\" y=\"-1324.3\" font-family=\"Helvetica,sans-Serif\" font-size=\"14.00\" fill=\"#000000\">value = [2, 0]</text>\n<text text-anchor=\"middle\" x=\"1634.5\" y=\"-1309.3\" font-family=\"Helvetica,sans-Serif\" font-size=\"14.00\" fill=\"#000000\">class = 0</text>\n</g>\n<!-- 48&#45;&gt;102 -->\n<g id=\"edge102\" class=\"edge\">\n<title>48&#45;&gt;102</title>\n<path fill=\"none\" stroke=\"#000000\" d=\"M1593.5343,-1412.8796C1599.3558,-1401.8835 1605.6527,-1389.9893 1611.5227,-1378.9015\"/>\n<polygon fill=\"#000000\" stroke=\"#000000\" points=\"1614.7476,-1380.2905 1616.3333,-1369.8149 1608.5611,-1377.0152 1614.7476,-1380.2905\"/>\n</g>\n<!-- 50 -->\n<g id=\"node51\" class=\"node\">\n<title>50</title>\n<polygon fill=\"none\" stroke=\"#000000\" points=\"1498,-1258 1387,-1258 1387,-1175 1498,-1175 1498,-1258\"/>\n<text text-anchor=\"middle\" x=\"1442.5\" y=\"-1242.8\" font-family=\"Helvetica,sans-Serif\" font-size=\"14.00\" fill=\"#000000\">X[0] &lt;= 1008.5</text>\n<text text-anchor=\"middle\" x=\"1442.5\" y=\"-1227.8\" font-family=\"Helvetica,sans-Serif\" font-size=\"14.00\" fill=\"#000000\">gini = 0.498</text>\n<text text-anchor=\"middle\" x=\"1442.5\" y=\"-1212.8\" font-family=\"Helvetica,sans-Serif\" font-size=\"14.00\" fill=\"#000000\">samples = 15</text>\n<text text-anchor=\"middle\" x=\"1442.5\" y=\"-1197.8\" font-family=\"Helvetica,sans-Serif\" font-size=\"14.00\" fill=\"#000000\">value = [8, 7]</text>\n<text text-anchor=\"middle\" x=\"1442.5\" y=\"-1182.8\" font-family=\"Helvetica,sans-Serif\" font-size=\"14.00\" fill=\"#000000\">class = 0</text>\n</g>\n<!-- 49&#45;&gt;50 -->\n<g id=\"edge50\" class=\"edge\">\n<title>49&#45;&gt;50</title>\n<path fill=\"none\" stroke=\"#000000\" d=\"M1485.4164,-1293.8796C1480.6211,-1285.2335 1475.5178,-1276.0322 1470.5662,-1267.1042\"/>\n<polygon fill=\"#000000\" stroke=\"#000000\" points=\"1473.5931,-1265.3455 1465.6821,-1258.2981 1467.4716,-1268.7407 1473.5931,-1265.3455\"/>\n</g>\n<!-- 53 -->\n<g id=\"node54\" class=\"node\">\n<title>53</title>\n<polygon fill=\"none\" stroke=\"#000000\" points=\"1632.5,-1258 1516.5,-1258 1516.5,-1175 1632.5,-1175 1632.5,-1258\"/>\n<text text-anchor=\"middle\" x=\"1574.5\" y=\"-1242.8\" font-family=\"Helvetica,sans-Serif\" font-size=\"14.00\" fill=\"#000000\">X[1] &lt;= 33.5</text>\n<text text-anchor=\"middle\" x=\"1574.5\" y=\"-1227.8\" font-family=\"Helvetica,sans-Serif\" font-size=\"14.00\" fill=\"#000000\">gini = 0.378</text>\n<text text-anchor=\"middle\" x=\"1574.5\" y=\"-1212.8\" font-family=\"Helvetica,sans-Serif\" font-size=\"14.00\" fill=\"#000000\">samples = 83</text>\n<text text-anchor=\"middle\" x=\"1574.5\" y=\"-1197.8\" font-family=\"Helvetica,sans-Serif\" font-size=\"14.00\" fill=\"#000000\">value = [21, 62]</text>\n<text text-anchor=\"middle\" x=\"1574.5\" y=\"-1182.8\" font-family=\"Helvetica,sans-Serif\" font-size=\"14.00\" fill=\"#000000\">class = 1</text>\n</g>\n<!-- 49&#45;&gt;53 -->\n<g id=\"edge53\" class=\"edge\">\n<title>49&#45;&gt;53</title>\n<path fill=\"none\" stroke=\"#000000\" d=\"M1531.5836,-1293.8796C1536.3789,-1285.2335 1541.4822,-1276.0322 1546.4338,-1267.1042\"/>\n<polygon fill=\"#000000\" stroke=\"#000000\" points=\"1549.5284,-1268.7407 1551.3179,-1258.2981 1543.4069,-1265.3455 1549.5284,-1268.7407\"/>\n</g>\n<!-- 51 -->\n<g id=\"node52\" class=\"node\">\n<title>51</title>\n<polygon fill=\"none\" stroke=\"#000000\" points=\"1378,-1131.5 1279,-1131.5 1279,-1063.5 1378,-1063.5 1378,-1131.5\"/>\n<text text-anchor=\"middle\" x=\"1328.5\" y=\"-1116.3\" font-family=\"Helvetica,sans-Serif\" font-size=\"14.00\" fill=\"#000000\">gini = 0.0</text>\n<text text-anchor=\"middle\" x=\"1328.5\" y=\"-1101.3\" font-family=\"Helvetica,sans-Serif\" font-size=\"14.00\" fill=\"#000000\">samples = 7</text>\n<text text-anchor=\"middle\" x=\"1328.5\" y=\"-1086.3\" font-family=\"Helvetica,sans-Serif\" font-size=\"14.00\" fill=\"#000000\">value = [0, 7]</text>\n<text text-anchor=\"middle\" x=\"1328.5\" y=\"-1071.3\" font-family=\"Helvetica,sans-Serif\" font-size=\"14.00\" fill=\"#000000\">class = 1</text>\n</g>\n<!-- 50&#45;&gt;51 -->\n<g id=\"edge51\" class=\"edge\">\n<title>50&#45;&gt;51</title>\n<path fill=\"none\" stroke=\"#000000\" d=\"M1402.6283,-1174.8796C1391.5676,-1163.3337 1379.5582,-1150.7976 1368.4906,-1139.2446\"/>\n<polygon fill=\"#000000\" stroke=\"#000000\" points=\"1370.8183,-1136.6149 1361.3731,-1131.8149 1365.7635,-1141.4573 1370.8183,-1136.6149\"/>\n</g>\n<!-- 52 -->\n<g id=\"node53\" class=\"node\">\n<title>52</title>\n<polygon fill=\"none\" stroke=\"#000000\" points=\"1495,-1131.5 1396,-1131.5 1396,-1063.5 1495,-1063.5 1495,-1131.5\"/>\n<text text-anchor=\"middle\" x=\"1445.5\" y=\"-1116.3\" font-family=\"Helvetica,sans-Serif\" font-size=\"14.00\" fill=\"#000000\">gini = 0.0</text>\n<text text-anchor=\"middle\" x=\"1445.5\" y=\"-1101.3\" font-family=\"Helvetica,sans-Serif\" font-size=\"14.00\" fill=\"#000000\">samples = 8</text>\n<text text-anchor=\"middle\" x=\"1445.5\" y=\"-1086.3\" font-family=\"Helvetica,sans-Serif\" font-size=\"14.00\" fill=\"#000000\">value = [8, 0]</text>\n<text text-anchor=\"middle\" x=\"1445.5\" y=\"-1071.3\" font-family=\"Helvetica,sans-Serif\" font-size=\"14.00\" fill=\"#000000\">class = 0</text>\n</g>\n<!-- 50&#45;&gt;52 -->\n<g id=\"edge52\" class=\"edge\">\n<title>50&#45;&gt;52</title>\n<path fill=\"none\" stroke=\"#000000\" d=\"M1443.5493,-1174.8796C1443.8182,-1164.2134 1444.1084,-1152.7021 1444.3806,-1141.9015\"/>\n<polygon fill=\"#000000\" stroke=\"#000000\" points=\"1447.8817,-1141.9 1444.6349,-1131.8149 1440.8839,-1141.7235 1447.8817,-1141.9\"/>\n</g>\n<!-- 54 -->\n<g id=\"node55\" class=\"node\">\n<title>54</title>\n<polygon fill=\"none\" stroke=\"#000000\" points=\"1629.5,-1139 1513.5,-1139 1513.5,-1056 1629.5,-1056 1629.5,-1139\"/>\n<text text-anchor=\"middle\" x=\"1571.5\" y=\"-1123.8\" font-family=\"Helvetica,sans-Serif\" font-size=\"14.00\" fill=\"#000000\">X[1] &lt;= 29.5</text>\n<text text-anchor=\"middle\" x=\"1571.5\" y=\"-1108.8\" font-family=\"Helvetica,sans-Serif\" font-size=\"14.00\" fill=\"#000000\">gini = 0.435</text>\n<text text-anchor=\"middle\" x=\"1571.5\" y=\"-1093.8\" font-family=\"Helvetica,sans-Serif\" font-size=\"14.00\" fill=\"#000000\">samples = 50</text>\n<text text-anchor=\"middle\" x=\"1571.5\" y=\"-1078.8\" font-family=\"Helvetica,sans-Serif\" font-size=\"14.00\" fill=\"#000000\">value = [16, 34]</text>\n<text text-anchor=\"middle\" x=\"1571.5\" y=\"-1063.8\" font-family=\"Helvetica,sans-Serif\" font-size=\"14.00\" fill=\"#000000\">class = 1</text>\n</g>\n<!-- 53&#45;&gt;54 -->\n<g id=\"edge54\" class=\"edge\">\n<title>53&#45;&gt;54</title>\n<path fill=\"none\" stroke=\"#000000\" d=\"M1573.4507,-1174.8796C1573.2441,-1166.6838 1573.0249,-1157.9891 1572.811,-1149.5013\"/>\n<polygon fill=\"#000000\" stroke=\"#000000\" points=\"1576.3047,-1149.2067 1572.5537,-1139.2981 1569.307,-1149.3831 1576.3047,-1149.2067\"/>\n</g>\n<!-- 89 -->\n<g id=\"node90\" class=\"node\">\n<title>89</title>\n<polygon fill=\"none\" stroke=\"#000000\" points=\"1755,-1139 1648,-1139 1648,-1056 1755,-1056 1755,-1139\"/>\n<text text-anchor=\"middle\" x=\"1701.5\" y=\"-1123.8\" font-family=\"Helvetica,sans-Serif\" font-size=\"14.00\" fill=\"#000000\">X[2] &lt;= 5.5</text>\n<text text-anchor=\"middle\" x=\"1701.5\" y=\"-1108.8\" font-family=\"Helvetica,sans-Serif\" font-size=\"14.00\" fill=\"#000000\">gini = 0.257</text>\n<text text-anchor=\"middle\" x=\"1701.5\" y=\"-1093.8\" font-family=\"Helvetica,sans-Serif\" font-size=\"14.00\" fill=\"#000000\">samples = 33</text>\n<text text-anchor=\"middle\" x=\"1701.5\" y=\"-1078.8\" font-family=\"Helvetica,sans-Serif\" font-size=\"14.00\" fill=\"#000000\">value = [5, 28]</text>\n<text text-anchor=\"middle\" x=\"1701.5\" y=\"-1063.8\" font-family=\"Helvetica,sans-Serif\" font-size=\"14.00\" fill=\"#000000\">class = 1</text>\n</g>\n<!-- 53&#45;&gt;89 -->\n<g id=\"edge89\" class=\"edge\">\n<title>53&#45;&gt;89</title>\n<path fill=\"none\" stroke=\"#000000\" d=\"M1618.9184,-1174.8796C1628.8186,-1165.6031 1639.4009,-1155.6874 1649.5731,-1146.1559\"/>\n<polygon fill=\"#000000\" stroke=\"#000000\" points=\"1651.9879,-1148.6896 1656.892,-1139.2981 1647.2016,-1143.5816 1651.9879,-1148.6896\"/>\n</g>\n<!-- 55 -->\n<g id=\"node56\" class=\"node\">\n<title>55</title>\n<polygon fill=\"none\" stroke=\"#000000\" points=\"1273,-1020 1162,-1020 1162,-937 1273,-937 1273,-1020\"/>\n<text text-anchor=\"middle\" x=\"1217.5\" y=\"-1004.8\" font-family=\"Helvetica,sans-Serif\" font-size=\"14.00\" fill=\"#000000\">X[0] &lt;= 6840.1</text>\n<text text-anchor=\"middle\" x=\"1217.5\" y=\"-989.8\" font-family=\"Helvetica,sans-Serif\" font-size=\"14.00\" fill=\"#000000\">gini = 0.293</text>\n<text text-anchor=\"middle\" x=\"1217.5\" y=\"-974.8\" font-family=\"Helvetica,sans-Serif\" font-size=\"14.00\" fill=\"#000000\">samples = 28</text>\n<text text-anchor=\"middle\" x=\"1217.5\" y=\"-959.8\" font-family=\"Helvetica,sans-Serif\" font-size=\"14.00\" fill=\"#000000\">value = [5, 23]</text>\n<text text-anchor=\"middle\" x=\"1217.5\" y=\"-944.8\" font-family=\"Helvetica,sans-Serif\" font-size=\"14.00\" fill=\"#000000\">class = 1</text>\n</g>\n<!-- 54&#45;&gt;55 -->\n<g id=\"edge55\" class=\"edge\">\n<title>54&#45;&gt;55</title>\n<path fill=\"none\" stroke=\"#000000\" d=\"M1513.4607,-1060.6386C1510.1368,-1058.9816 1506.8032,-1057.4211 1503.5,-1056 1430.7974,-1024.7214 1342.1848,-1003.0474 1283.0433,-990.7306\"/>\n<polygon fill=\"#000000\" stroke=\"#000000\" points=\"1283.5832,-987.2685 1273.0837,-988.6869 1282.176,-994.1257 1283.5832,-987.2685\"/>\n</g>\n<!-- 68 -->\n<g id=\"node69\" class=\"node\">\n<title>68</title>\n<polygon fill=\"none\" stroke=\"#000000\" points=\"1629.5,-1020 1513.5,-1020 1513.5,-937 1629.5,-937 1629.5,-1020\"/>\n<text text-anchor=\"middle\" x=\"1571.5\" y=\"-1004.8\" font-family=\"Helvetica,sans-Serif\" font-size=\"14.00\" fill=\"#000000\">X[0] &lt;= 6175.8</text>\n<text text-anchor=\"middle\" x=\"1571.5\" y=\"-989.8\" font-family=\"Helvetica,sans-Serif\" font-size=\"14.00\" fill=\"#000000\">gini = 0.5</text>\n<text text-anchor=\"middle\" x=\"1571.5\" y=\"-974.8\" font-family=\"Helvetica,sans-Serif\" font-size=\"14.00\" fill=\"#000000\">samples = 22</text>\n<text text-anchor=\"middle\" x=\"1571.5\" y=\"-959.8\" font-family=\"Helvetica,sans-Serif\" font-size=\"14.00\" fill=\"#000000\">value = [11, 11]</text>\n<text text-anchor=\"middle\" x=\"1571.5\" y=\"-944.8\" font-family=\"Helvetica,sans-Serif\" font-size=\"14.00\" fill=\"#000000\">class = 0</text>\n</g>\n<!-- 54&#45;&gt;68 -->\n<g id=\"edge68\" class=\"edge\">\n<title>54&#45;&gt;68</title>\n<path fill=\"none\" stroke=\"#000000\" d=\"M1571.5,-1055.8796C1571.5,-1047.6838 1571.5,-1038.9891 1571.5,-1030.5013\"/>\n<polygon fill=\"#000000\" stroke=\"#000000\" points=\"1575.0001,-1030.298 1571.5,-1020.2981 1568.0001,-1030.2981 1575.0001,-1030.298\"/>\n</g>\n<!-- 56 -->\n<g id=\"node57\" class=\"node\">\n<title>56</title>\n<polygon fill=\"none\" stroke=\"#000000\" points=\"1042,-901 935,-901 935,-818 1042,-818 1042,-901\"/>\n<text text-anchor=\"middle\" x=\"988.5\" y=\"-885.8\" font-family=\"Helvetica,sans-Serif\" font-size=\"14.00\" fill=\"#000000\">X[2] &lt;= 4.0</text>\n<text text-anchor=\"middle\" x=\"988.5\" y=\"-870.8\" font-family=\"Helvetica,sans-Serif\" font-size=\"14.00\" fill=\"#000000\">gini = 0.252</text>\n<text text-anchor=\"middle\" x=\"988.5\" y=\"-855.8\" font-family=\"Helvetica,sans-Serif\" font-size=\"14.00\" fill=\"#000000\">samples = 27</text>\n<text text-anchor=\"middle\" x=\"988.5\" y=\"-840.8\" font-family=\"Helvetica,sans-Serif\" font-size=\"14.00\" fill=\"#000000\">value = [4, 23]</text>\n<text text-anchor=\"middle\" x=\"988.5\" y=\"-825.8\" font-family=\"Helvetica,sans-Serif\" font-size=\"14.00\" fill=\"#000000\">class = 1</text>\n</g>\n<!-- 55&#45;&gt;56 -->\n<g id=\"edge56\" class=\"edge\">\n<title>55&#45;&gt;56</title>\n<path fill=\"none\" stroke=\"#000000\" d=\"M1161.7731,-949.5415C1128.3519,-932.1742 1085.765,-910.0438 1051.1753,-892.0693\"/>\n<polygon fill=\"#000000\" stroke=\"#000000\" points=\"1052.5935,-888.8619 1042.1062,-887.3565 1049.3657,-895.0733 1052.5935,-888.8619\"/>\n</g>\n<!-- 67 -->\n<g id=\"node68\" class=\"node\">\n<title>67</title>\n<polygon fill=\"none\" stroke=\"#000000\" points=\"1267,-893.5 1168,-893.5 1168,-825.5 1267,-825.5 1267,-893.5\"/>\n<text text-anchor=\"middle\" x=\"1217.5\" y=\"-878.3\" font-family=\"Helvetica,sans-Serif\" font-size=\"14.00\" fill=\"#000000\">gini = 0.0</text>\n<text text-anchor=\"middle\" x=\"1217.5\" y=\"-863.3\" font-family=\"Helvetica,sans-Serif\" font-size=\"14.00\" fill=\"#000000\">samples = 1</text>\n<text text-anchor=\"middle\" x=\"1217.5\" y=\"-848.3\" font-family=\"Helvetica,sans-Serif\" font-size=\"14.00\" fill=\"#000000\">value = [1, 0]</text>\n<text text-anchor=\"middle\" x=\"1217.5\" y=\"-833.3\" font-family=\"Helvetica,sans-Serif\" font-size=\"14.00\" fill=\"#000000\">class = 0</text>\n</g>\n<!-- 55&#45;&gt;67 -->\n<g id=\"edge67\" class=\"edge\">\n<title>55&#45;&gt;67</title>\n<path fill=\"none\" stroke=\"#000000\" d=\"M1217.5,-936.8796C1217.5,-926.2134 1217.5,-914.7021 1217.5,-903.9015\"/>\n<polygon fill=\"#000000\" stroke=\"#000000\" points=\"1221.0001,-903.8149 1217.5,-893.8149 1214.0001,-903.815 1221.0001,-903.8149\"/>\n</g>\n<!-- 57 -->\n<g id=\"node58\" class=\"node\">\n<title>57</title>\n<polygon fill=\"none\" stroke=\"#000000\" points=\"857.5,-782 753.5,-782 753.5,-699 857.5,-699 857.5,-782\"/>\n<text text-anchor=\"middle\" x=\"805.5\" y=\"-766.8\" font-family=\"Helvetica,sans-Serif\" font-size=\"14.00\" fill=\"#000000\">X[2] &lt;= 2.5</text>\n<text text-anchor=\"middle\" x=\"805.5\" y=\"-751.8\" font-family=\"Helvetica,sans-Serif\" font-size=\"14.00\" fill=\"#000000\">gini = 0.42</text>\n<text text-anchor=\"middle\" x=\"805.5\" y=\"-736.8\" font-family=\"Helvetica,sans-Serif\" font-size=\"14.00\" fill=\"#000000\">samples = 10</text>\n<text text-anchor=\"middle\" x=\"805.5\" y=\"-721.8\" font-family=\"Helvetica,sans-Serif\" font-size=\"14.00\" fill=\"#000000\">value = [3, 7]</text>\n<text text-anchor=\"middle\" x=\"805.5\" y=\"-706.8\" font-family=\"Helvetica,sans-Serif\" font-size=\"14.00\" fill=\"#000000\">class = 1</text>\n</g>\n<!-- 56&#45;&gt;57 -->\n<g id=\"edge57\" class=\"edge\">\n<title>56&#45;&gt;57</title>\n<path fill=\"none\" stroke=\"#000000\" d=\"M934.5837,-824.4397C913.1764,-810.5191 888.447,-794.4382 866.3972,-780.0998\"/>\n<polygon fill=\"#000000\" stroke=\"#000000\" points=\"868.0635,-777.0085 857.7721,-774.4911 864.2474,-782.8768 868.0635,-777.0085\"/>\n</g>\n<!-- 62 -->\n<g id=\"node63\" class=\"node\">\n<title>62</title>\n<polygon fill=\"none\" stroke=\"#000000\" points=\"1042,-782 935,-782 935,-699 1042,-699 1042,-782\"/>\n<text text-anchor=\"middle\" x=\"988.5\" y=\"-766.8\" font-family=\"Helvetica,sans-Serif\" font-size=\"14.00\" fill=\"#000000\">X[2] &lt;= 10.5</text>\n<text text-anchor=\"middle\" x=\"988.5\" y=\"-751.8\" font-family=\"Helvetica,sans-Serif\" font-size=\"14.00\" fill=\"#000000\">gini = 0.111</text>\n<text text-anchor=\"middle\" x=\"988.5\" y=\"-736.8\" font-family=\"Helvetica,sans-Serif\" font-size=\"14.00\" fill=\"#000000\">samples = 17</text>\n<text text-anchor=\"middle\" x=\"988.5\" y=\"-721.8\" font-family=\"Helvetica,sans-Serif\" font-size=\"14.00\" fill=\"#000000\">value = [1, 16]</text>\n<text text-anchor=\"middle\" x=\"988.5\" y=\"-706.8\" font-family=\"Helvetica,sans-Serif\" font-size=\"14.00\" fill=\"#000000\">class = 1</text>\n</g>\n<!-- 56&#45;&gt;62 -->\n<g id=\"edge62\" class=\"edge\">\n<title>56&#45;&gt;62</title>\n<path fill=\"none\" stroke=\"#000000\" d=\"M988.5,-817.8796C988.5,-809.6838 988.5,-800.9891 988.5,-792.5013\"/>\n<polygon fill=\"#000000\" stroke=\"#000000\" points=\"992.0001,-792.298 988.5,-782.2981 985.0001,-792.2981 992.0001,-792.298\"/>\n</g>\n<!-- 58 -->\n<g id=\"node59\" class=\"node\">\n<title>58</title>\n<polygon fill=\"none\" stroke=\"#000000\" points=\"738,-655.5 639,-655.5 639,-587.5 738,-587.5 738,-655.5\"/>\n<text text-anchor=\"middle\" x=\"688.5\" y=\"-640.3\" font-family=\"Helvetica,sans-Serif\" font-size=\"14.00\" fill=\"#000000\">gini = 0.0</text>\n<text text-anchor=\"middle\" x=\"688.5\" y=\"-625.3\" font-family=\"Helvetica,sans-Serif\" font-size=\"14.00\" fill=\"#000000\">samples = 6</text>\n<text text-anchor=\"middle\" x=\"688.5\" y=\"-610.3\" font-family=\"Helvetica,sans-Serif\" font-size=\"14.00\" fill=\"#000000\">value = [0, 6]</text>\n<text text-anchor=\"middle\" x=\"688.5\" y=\"-595.3\" font-family=\"Helvetica,sans-Serif\" font-size=\"14.00\" fill=\"#000000\">class = 1</text>\n</g>\n<!-- 57&#45;&gt;58 -->\n<g id=\"edge58\" class=\"edge\">\n<title>57&#45;&gt;58</title>\n<path fill=\"none\" stroke=\"#000000\" d=\"M764.5791,-698.8796C753.2272,-687.3337 740.9018,-674.7976 729.543,-663.2446\"/>\n<polygon fill=\"#000000\" stroke=\"#000000\" points=\"731.7449,-660.4919 722.2382,-655.8149 726.7534,-665.3995 731.7449,-660.4919\"/>\n</g>\n<!-- 59 -->\n<g id=\"node60\" class=\"node\">\n<title>59</title>\n<polygon fill=\"none\" stroke=\"#000000\" points=\"855,-663 756,-663 756,-580 855,-580 855,-663\"/>\n<text text-anchor=\"middle\" x=\"805.5\" y=\"-647.8\" font-family=\"Helvetica,sans-Serif\" font-size=\"14.00\" fill=\"#000000\">X[4] &lt;= 0.5</text>\n<text text-anchor=\"middle\" x=\"805.5\" y=\"-632.8\" font-family=\"Helvetica,sans-Serif\" font-size=\"14.00\" fill=\"#000000\">gini = 0.375</text>\n<text text-anchor=\"middle\" x=\"805.5\" y=\"-617.8\" font-family=\"Helvetica,sans-Serif\" font-size=\"14.00\" fill=\"#000000\">samples = 4</text>\n<text text-anchor=\"middle\" x=\"805.5\" y=\"-602.8\" font-family=\"Helvetica,sans-Serif\" font-size=\"14.00\" fill=\"#000000\">value = [3, 1]</text>\n<text text-anchor=\"middle\" x=\"805.5\" y=\"-587.8\" font-family=\"Helvetica,sans-Serif\" font-size=\"14.00\" fill=\"#000000\">class = 0</text>\n</g>\n<!-- 57&#45;&gt;59 -->\n<g id=\"edge59\" class=\"edge\">\n<title>57&#45;&gt;59</title>\n<path fill=\"none\" stroke=\"#000000\" d=\"M805.5,-698.8796C805.5,-690.6838 805.5,-681.9891 805.5,-673.5013\"/>\n<polygon fill=\"#000000\" stroke=\"#000000\" points=\"809.0001,-673.298 805.5,-663.2981 802.0001,-673.2981 809.0001,-673.298\"/>\n</g>\n<!-- 60 -->\n<g id=\"node61\" class=\"node\">\n<title>60</title>\n<polygon fill=\"none\" stroke=\"#000000\" points=\"742,-536.5 643,-536.5 643,-468.5 742,-468.5 742,-536.5\"/>\n<text text-anchor=\"middle\" x=\"692.5\" y=\"-521.3\" font-family=\"Helvetica,sans-Serif\" font-size=\"14.00\" fill=\"#000000\">gini = 0.0</text>\n<text text-anchor=\"middle\" x=\"692.5\" y=\"-506.3\" font-family=\"Helvetica,sans-Serif\" font-size=\"14.00\" fill=\"#000000\">samples = 3</text>\n<text text-anchor=\"middle\" x=\"692.5\" y=\"-491.3\" font-family=\"Helvetica,sans-Serif\" font-size=\"14.00\" fill=\"#000000\">value = [3, 0]</text>\n<text text-anchor=\"middle\" x=\"692.5\" y=\"-476.3\" font-family=\"Helvetica,sans-Serif\" font-size=\"14.00\" fill=\"#000000\">class = 0</text>\n</g>\n<!-- 59&#45;&gt;60 -->\n<g id=\"edge60\" class=\"edge\">\n<title>59&#45;&gt;60</title>\n<path fill=\"none\" stroke=\"#000000\" d=\"M765.9781,-579.8796C755.0143,-568.3337 743.1103,-555.7976 732.1399,-544.2446\"/>\n<polygon fill=\"#000000\" stroke=\"#000000\" points=\"734.5087,-541.6564 725.0848,-536.8149 729.4327,-546.4766 734.5087,-541.6564\"/>\n</g>\n<!-- 61 -->\n<g id=\"node62\" class=\"node\">\n<title>61</title>\n<polygon fill=\"none\" stroke=\"#000000\" points=\"859,-536.5 760,-536.5 760,-468.5 859,-468.5 859,-536.5\"/>\n<text text-anchor=\"middle\" x=\"809.5\" y=\"-521.3\" font-family=\"Helvetica,sans-Serif\" font-size=\"14.00\" fill=\"#000000\">gini = 0.0</text>\n<text text-anchor=\"middle\" x=\"809.5\" y=\"-506.3\" font-family=\"Helvetica,sans-Serif\" font-size=\"14.00\" fill=\"#000000\">samples = 1</text>\n<text text-anchor=\"middle\" x=\"809.5\" y=\"-491.3\" font-family=\"Helvetica,sans-Serif\" font-size=\"14.00\" fill=\"#000000\">value = [0, 1]</text>\n<text text-anchor=\"middle\" x=\"809.5\" y=\"-476.3\" font-family=\"Helvetica,sans-Serif\" font-size=\"14.00\" fill=\"#000000\">class = 1</text>\n</g>\n<!-- 59&#45;&gt;61 -->\n<g id=\"edge61\" class=\"edge\">\n<title>59&#45;&gt;61</title>\n<path fill=\"none\" stroke=\"#000000\" d=\"M806.899,-579.8796C807.2575,-569.2134 807.6445,-557.7021 808.0075,-546.9015\"/>\n<polygon fill=\"#000000\" stroke=\"#000000\" points=\"811.5085,-546.9269 808.3466,-536.8149 804.5125,-546.6917 811.5085,-546.9269\"/>\n</g>\n<!-- 63 -->\n<g id=\"node64\" class=\"node\">\n<title>63</title>\n<polygon fill=\"none\" stroke=\"#000000\" points=\"980,-655.5 873,-655.5 873,-587.5 980,-587.5 980,-655.5\"/>\n<text text-anchor=\"middle\" x=\"926.5\" y=\"-640.3\" font-family=\"Helvetica,sans-Serif\" font-size=\"14.00\" fill=\"#000000\">gini = 0.0</text>\n<text text-anchor=\"middle\" x=\"926.5\" y=\"-625.3\" font-family=\"Helvetica,sans-Serif\" font-size=\"14.00\" fill=\"#000000\">samples = 13</text>\n<text text-anchor=\"middle\" x=\"926.5\" y=\"-610.3\" font-family=\"Helvetica,sans-Serif\" font-size=\"14.00\" fill=\"#000000\">value = [0, 13]</text>\n<text text-anchor=\"middle\" x=\"926.5\" y=\"-595.3\" font-family=\"Helvetica,sans-Serif\" font-size=\"14.00\" fill=\"#000000\">class = 1</text>\n</g>\n<!-- 62&#45;&gt;63 -->\n<g id=\"edge63\" class=\"edge\">\n<title>62&#45;&gt;63</title>\n<path fill=\"none\" stroke=\"#000000\" d=\"M966.8154,-698.8796C961.0864,-687.8835 954.8894,-675.9893 949.1126,-664.9015\"/>\n<polygon fill=\"#000000\" stroke=\"#000000\" points=\"952.103,-663.0662 944.3784,-655.8149 945.895,-666.3007 952.103,-663.0662\"/>\n</g>\n<!-- 64 -->\n<g id=\"node65\" class=\"node\">\n<title>64</title>\n<polygon fill=\"none\" stroke=\"#000000\" points=\"1097,-663 998,-663 998,-580 1097,-580 1097,-663\"/>\n<text text-anchor=\"middle\" x=\"1047.5\" y=\"-647.8\" font-family=\"Helvetica,sans-Serif\" font-size=\"14.00\" fill=\"#000000\">X[1] &lt;= 28.5</text>\n<text text-anchor=\"middle\" x=\"1047.5\" y=\"-632.8\" font-family=\"Helvetica,sans-Serif\" font-size=\"14.00\" fill=\"#000000\">gini = 0.375</text>\n<text text-anchor=\"middle\" x=\"1047.5\" y=\"-617.8\" font-family=\"Helvetica,sans-Serif\" font-size=\"14.00\" fill=\"#000000\">samples = 4</text>\n<text text-anchor=\"middle\" x=\"1047.5\" y=\"-602.8\" font-family=\"Helvetica,sans-Serif\" font-size=\"14.00\" fill=\"#000000\">value = [1, 3]</text>\n<text text-anchor=\"middle\" x=\"1047.5\" y=\"-587.8\" font-family=\"Helvetica,sans-Serif\" font-size=\"14.00\" fill=\"#000000\">class = 1</text>\n</g>\n<!-- 62&#45;&gt;64 -->\n<g id=\"edge64\" class=\"edge\">\n<title>62&#45;&gt;64</title>\n<path fill=\"none\" stroke=\"#000000\" d=\"M1009.1353,-698.8796C1013.3774,-690.3236 1017.889,-681.2238 1022.2721,-672.3833\"/>\n<polygon fill=\"#000000\" stroke=\"#000000\" points=\"1025.4703,-673.8121 1026.7766,-663.2981 1019.1988,-670.7026 1025.4703,-673.8121\"/>\n</g>\n<!-- 65 -->\n<g id=\"node66\" class=\"node\">\n<title>65</title>\n<polygon fill=\"none\" stroke=\"#000000\" points=\"980,-536.5 881,-536.5 881,-468.5 980,-468.5 980,-536.5\"/>\n<text text-anchor=\"middle\" x=\"930.5\" y=\"-521.3\" font-family=\"Helvetica,sans-Serif\" font-size=\"14.00\" fill=\"#000000\">gini = 0.0</text>\n<text text-anchor=\"middle\" x=\"930.5\" y=\"-506.3\" font-family=\"Helvetica,sans-Serif\" font-size=\"14.00\" fill=\"#000000\">samples = 3</text>\n<text text-anchor=\"middle\" x=\"930.5\" y=\"-491.3\" font-family=\"Helvetica,sans-Serif\" font-size=\"14.00\" fill=\"#000000\">value = [0, 3]</text>\n<text text-anchor=\"middle\" x=\"930.5\" y=\"-476.3\" font-family=\"Helvetica,sans-Serif\" font-size=\"14.00\" fill=\"#000000\">class = 1</text>\n</g>\n<!-- 64&#45;&gt;65 -->\n<g id=\"edge65\" class=\"edge\">\n<title>64&#45;&gt;65</title>\n<path fill=\"none\" stroke=\"#000000\" d=\"M1006.5791,-579.8796C995.2272,-568.3337 982.9018,-555.7976 971.543,-544.2446\"/>\n<polygon fill=\"#000000\" stroke=\"#000000\" points=\"973.7449,-541.4919 964.2382,-536.8149 968.7534,-546.3995 973.7449,-541.4919\"/>\n</g>\n<!-- 66 -->\n<g id=\"node67\" class=\"node\">\n<title>66</title>\n<polygon fill=\"none\" stroke=\"#000000\" points=\"1097,-536.5 998,-536.5 998,-468.5 1097,-468.5 1097,-536.5\"/>\n<text text-anchor=\"middle\" x=\"1047.5\" y=\"-521.3\" font-family=\"Helvetica,sans-Serif\" font-size=\"14.00\" fill=\"#000000\">gini = 0.0</text>\n<text text-anchor=\"middle\" x=\"1047.5\" y=\"-506.3\" font-family=\"Helvetica,sans-Serif\" font-size=\"14.00\" fill=\"#000000\">samples = 1</text>\n<text text-anchor=\"middle\" x=\"1047.5\" y=\"-491.3\" font-family=\"Helvetica,sans-Serif\" font-size=\"14.00\" fill=\"#000000\">value = [1, 0]</text>\n<text text-anchor=\"middle\" x=\"1047.5\" y=\"-476.3\" font-family=\"Helvetica,sans-Serif\" font-size=\"14.00\" fill=\"#000000\">class = 0</text>\n</g>\n<!-- 64&#45;&gt;66 -->\n<g id=\"edge66\" class=\"edge\">\n<title>64&#45;&gt;66</title>\n<path fill=\"none\" stroke=\"#000000\" d=\"M1047.5,-579.8796C1047.5,-569.2134 1047.5,-557.7021 1047.5,-546.9015\"/>\n<polygon fill=\"#000000\" stroke=\"#000000\" points=\"1051.0001,-546.8149 1047.5,-536.8149 1044.0001,-546.815 1051.0001,-546.8149\"/>\n</g>\n<!-- 69 -->\n<g id=\"node70\" class=\"node\">\n<title>69</title>\n<polygon fill=\"none\" stroke=\"#000000\" points=\"1508,-901 1401,-901 1401,-818 1508,-818 1508,-901\"/>\n<text text-anchor=\"middle\" x=\"1454.5\" y=\"-885.8\" font-family=\"Helvetica,sans-Serif\" font-size=\"14.00\" fill=\"#000000\">X[1] &lt;= 30.5</text>\n<text text-anchor=\"middle\" x=\"1454.5\" y=\"-870.8\" font-family=\"Helvetica,sans-Serif\" font-size=\"14.00\" fill=\"#000000\">gini = 0.488</text>\n<text text-anchor=\"middle\" x=\"1454.5\" y=\"-855.8\" font-family=\"Helvetica,sans-Serif\" font-size=\"14.00\" fill=\"#000000\">samples = 19</text>\n<text text-anchor=\"middle\" x=\"1454.5\" y=\"-840.8\" font-family=\"Helvetica,sans-Serif\" font-size=\"14.00\" fill=\"#000000\">value = [8, 11]</text>\n<text text-anchor=\"middle\" x=\"1454.5\" y=\"-825.8\" font-family=\"Helvetica,sans-Serif\" font-size=\"14.00\" fill=\"#000000\">class = 1</text>\n</g>\n<!-- 68&#45;&gt;69 -->\n<g id=\"edge69\" class=\"edge\">\n<title>68&#45;&gt;69</title>\n<path fill=\"none\" stroke=\"#000000\" d=\"M1530.5791,-936.8796C1521.547,-927.6931 1511.8987,-917.8798 1502.6112,-908.4336\"/>\n<polygon fill=\"#000000\" stroke=\"#000000\" points=\"1505.1023,-905.975 1495.5956,-901.2981 1500.1107,-910.8827 1505.1023,-905.975\"/>\n</g>\n<!-- 88 -->\n<g id=\"node89\" class=\"node\">\n<title>88</title>\n<polygon fill=\"none\" stroke=\"#000000\" points=\"1625,-893.5 1526,-893.5 1526,-825.5 1625,-825.5 1625,-893.5\"/>\n<text text-anchor=\"middle\" x=\"1575.5\" y=\"-878.3\" font-family=\"Helvetica,sans-Serif\" font-size=\"14.00\" fill=\"#000000\">gini = 0.0</text>\n<text text-anchor=\"middle\" x=\"1575.5\" y=\"-863.3\" font-family=\"Helvetica,sans-Serif\" font-size=\"14.00\" fill=\"#000000\">samples = 3</text>\n<text text-anchor=\"middle\" x=\"1575.5\" y=\"-848.3\" font-family=\"Helvetica,sans-Serif\" font-size=\"14.00\" fill=\"#000000\">value = [3, 0]</text>\n<text text-anchor=\"middle\" x=\"1575.5\" y=\"-833.3\" font-family=\"Helvetica,sans-Serif\" font-size=\"14.00\" fill=\"#000000\">class = 0</text>\n</g>\n<!-- 68&#45;&gt;88 -->\n<g id=\"edge88\" class=\"edge\">\n<title>68&#45;&gt;88</title>\n<path fill=\"none\" stroke=\"#000000\" d=\"M1572.899,-936.8796C1573.2575,-926.2134 1573.6445,-914.7021 1574.0075,-903.9015\"/>\n<polygon fill=\"#000000\" stroke=\"#000000\" points=\"1577.5085,-903.9269 1574.3466,-893.8149 1570.5125,-903.6917 1577.5085,-903.9269\"/>\n</g>\n<!-- 70 -->\n<g id=\"node71\" class=\"node\">\n<title>70</title>\n<polygon fill=\"none\" stroke=\"#000000\" points=\"1331,-782 1232,-782 1232,-699 1331,-699 1331,-782\"/>\n<text text-anchor=\"middle\" x=\"1281.5\" y=\"-766.8\" font-family=\"Helvetica,sans-Serif\" font-size=\"14.00\" fill=\"#000000\">X[2] &lt;= 6.5</text>\n<text text-anchor=\"middle\" x=\"1281.5\" y=\"-751.8\" font-family=\"Helvetica,sans-Serif\" font-size=\"14.00\" fill=\"#000000\">gini = 0.32</text>\n<text text-anchor=\"middle\" x=\"1281.5\" y=\"-736.8\" font-family=\"Helvetica,sans-Serif\" font-size=\"14.00\" fill=\"#000000\">samples = 5</text>\n<text text-anchor=\"middle\" x=\"1281.5\" y=\"-721.8\" font-family=\"Helvetica,sans-Serif\" font-size=\"14.00\" fill=\"#000000\">value = [4, 1]</text>\n<text text-anchor=\"middle\" x=\"1281.5\" y=\"-706.8\" font-family=\"Helvetica,sans-Serif\" font-size=\"14.00\" fill=\"#000000\">class = 0</text>\n</g>\n<!-- 69&#45;&gt;70 -->\n<g id=\"edge70\" class=\"edge\">\n<title>69&#45;&gt;70</title>\n<path fill=\"none\" stroke=\"#000000\" d=\"M1400.71,-822.5C1381.2691,-809.1273 1359.2429,-793.9763 1339.4598,-780.3683\"/>\n<polygon fill=\"#000000\" stroke=\"#000000\" points=\"1341.3554,-777.4242 1331.1328,-774.6405 1337.3883,-783.1915 1341.3554,-777.4242\"/>\n</g>\n<!-- 75 -->\n<g id=\"node76\" class=\"node\">\n<title>75</title>\n<polygon fill=\"none\" stroke=\"#000000\" points=\"1510,-782 1403,-782 1403,-699 1510,-699 1510,-782\"/>\n<text text-anchor=\"middle\" x=\"1456.5\" y=\"-766.8\" font-family=\"Helvetica,sans-Serif\" font-size=\"14.00\" fill=\"#000000\">X[2] &lt;= 6.5</text>\n<text text-anchor=\"middle\" x=\"1456.5\" y=\"-751.8\" font-family=\"Helvetica,sans-Serif\" font-size=\"14.00\" fill=\"#000000\">gini = 0.408</text>\n<text text-anchor=\"middle\" x=\"1456.5\" y=\"-736.8\" font-family=\"Helvetica,sans-Serif\" font-size=\"14.00\" fill=\"#000000\">samples = 14</text>\n<text text-anchor=\"middle\" x=\"1456.5\" y=\"-721.8\" font-family=\"Helvetica,sans-Serif\" font-size=\"14.00\" fill=\"#000000\">value = [4, 10]</text>\n<text text-anchor=\"middle\" x=\"1456.5\" y=\"-706.8\" font-family=\"Helvetica,sans-Serif\" font-size=\"14.00\" fill=\"#000000\">class = 1</text>\n</g>\n<!-- 69&#45;&gt;75 -->\n<g id=\"edge75\" class=\"edge\">\n<title>69&#45;&gt;75</title>\n<path fill=\"none\" stroke=\"#000000\" d=\"M1455.1995,-817.8796C1455.3372,-809.6838 1455.4834,-800.9891 1455.626,-792.5013\"/>\n<polygon fill=\"#000000\" stroke=\"#000000\" points=\"1459.1289,-792.3555 1455.7975,-782.2981 1452.1299,-792.2378 1459.1289,-792.3555\"/>\n</g>\n<!-- 71 -->\n<g id=\"node72\" class=\"node\">\n<title>71</title>\n<polygon fill=\"none\" stroke=\"#000000\" points=\"1214,-655.5 1115,-655.5 1115,-587.5 1214,-587.5 1214,-655.5\"/>\n<text text-anchor=\"middle\" x=\"1164.5\" y=\"-640.3\" font-family=\"Helvetica,sans-Serif\" font-size=\"14.00\" fill=\"#000000\">gini = 0.0</text>\n<text text-anchor=\"middle\" x=\"1164.5\" y=\"-625.3\" font-family=\"Helvetica,sans-Serif\" font-size=\"14.00\" fill=\"#000000\">samples = 3</text>\n<text text-anchor=\"middle\" x=\"1164.5\" y=\"-610.3\" font-family=\"Helvetica,sans-Serif\" font-size=\"14.00\" fill=\"#000000\">value = [3, 0]</text>\n<text text-anchor=\"middle\" x=\"1164.5\" y=\"-595.3\" font-family=\"Helvetica,sans-Serif\" font-size=\"14.00\" fill=\"#000000\">class = 0</text>\n</g>\n<!-- 70&#45;&gt;71 -->\n<g id=\"edge71\" class=\"edge\">\n<title>70&#45;&gt;71</title>\n<path fill=\"none\" stroke=\"#000000\" d=\"M1240.5791,-698.8796C1229.2272,-687.3337 1216.9018,-674.7976 1205.543,-663.2446\"/>\n<polygon fill=\"#000000\" stroke=\"#000000\" points=\"1207.7449,-660.4919 1198.2382,-655.8149 1202.7534,-665.3995 1207.7449,-660.4919\"/>\n</g>\n<!-- 72 -->\n<g id=\"node73\" class=\"node\">\n<title>72</title>\n<polygon fill=\"none\" stroke=\"#000000\" points=\"1331,-663 1232,-663 1232,-580 1331,-580 1331,-663\"/>\n<text text-anchor=\"middle\" x=\"1281.5\" y=\"-647.8\" font-family=\"Helvetica,sans-Serif\" font-size=\"14.00\" fill=\"#000000\">X[2] &lt;= 8.5</text>\n<text text-anchor=\"middle\" x=\"1281.5\" y=\"-632.8\" font-family=\"Helvetica,sans-Serif\" font-size=\"14.00\" fill=\"#000000\">gini = 0.5</text>\n<text text-anchor=\"middle\" x=\"1281.5\" y=\"-617.8\" font-family=\"Helvetica,sans-Serif\" font-size=\"14.00\" fill=\"#000000\">samples = 2</text>\n<text text-anchor=\"middle\" x=\"1281.5\" y=\"-602.8\" font-family=\"Helvetica,sans-Serif\" font-size=\"14.00\" fill=\"#000000\">value = [1, 1]</text>\n<text text-anchor=\"middle\" x=\"1281.5\" y=\"-587.8\" font-family=\"Helvetica,sans-Serif\" font-size=\"14.00\" fill=\"#000000\">class = 0</text>\n</g>\n<!-- 70&#45;&gt;72 -->\n<g id=\"edge72\" class=\"edge\">\n<title>70&#45;&gt;72</title>\n<path fill=\"none\" stroke=\"#000000\" d=\"M1281.5,-698.8796C1281.5,-690.6838 1281.5,-681.9891 1281.5,-673.5013\"/>\n<polygon fill=\"#000000\" stroke=\"#000000\" points=\"1285.0001,-673.298 1281.5,-663.2981 1278.0001,-673.2981 1285.0001,-673.298\"/>\n</g>\n<!-- 73 -->\n<g id=\"node74\" class=\"node\">\n<title>73</title>\n<polygon fill=\"none\" stroke=\"#000000\" points=\"1214,-536.5 1115,-536.5 1115,-468.5 1214,-468.5 1214,-536.5\"/>\n<text text-anchor=\"middle\" x=\"1164.5\" y=\"-521.3\" font-family=\"Helvetica,sans-Serif\" font-size=\"14.00\" fill=\"#000000\">gini = 0.0</text>\n<text text-anchor=\"middle\" x=\"1164.5\" y=\"-506.3\" font-family=\"Helvetica,sans-Serif\" font-size=\"14.00\" fill=\"#000000\">samples = 1</text>\n<text text-anchor=\"middle\" x=\"1164.5\" y=\"-491.3\" font-family=\"Helvetica,sans-Serif\" font-size=\"14.00\" fill=\"#000000\">value = [0, 1]</text>\n<text text-anchor=\"middle\" x=\"1164.5\" y=\"-476.3\" font-family=\"Helvetica,sans-Serif\" font-size=\"14.00\" fill=\"#000000\">class = 1</text>\n</g>\n<!-- 72&#45;&gt;73 -->\n<g id=\"edge73\" class=\"edge\">\n<title>72&#45;&gt;73</title>\n<path fill=\"none\" stroke=\"#000000\" d=\"M1240.5791,-579.8796C1229.2272,-568.3337 1216.9018,-555.7976 1205.543,-544.2446\"/>\n<polygon fill=\"#000000\" stroke=\"#000000\" points=\"1207.7449,-541.4919 1198.2382,-536.8149 1202.7534,-546.3995 1207.7449,-541.4919\"/>\n</g>\n<!-- 74 -->\n<g id=\"node75\" class=\"node\">\n<title>74</title>\n<polygon fill=\"none\" stroke=\"#000000\" points=\"1331,-536.5 1232,-536.5 1232,-468.5 1331,-468.5 1331,-536.5\"/>\n<text text-anchor=\"middle\" x=\"1281.5\" y=\"-521.3\" font-family=\"Helvetica,sans-Serif\" font-size=\"14.00\" fill=\"#000000\">gini = 0.0</text>\n<text text-anchor=\"middle\" x=\"1281.5\" y=\"-506.3\" font-family=\"Helvetica,sans-Serif\" font-size=\"14.00\" fill=\"#000000\">samples = 1</text>\n<text text-anchor=\"middle\" x=\"1281.5\" y=\"-491.3\" font-family=\"Helvetica,sans-Serif\" font-size=\"14.00\" fill=\"#000000\">value = [1, 0]</text>\n<text text-anchor=\"middle\" x=\"1281.5\" y=\"-476.3\" font-family=\"Helvetica,sans-Serif\" font-size=\"14.00\" fill=\"#000000\">class = 0</text>\n</g>\n<!-- 72&#45;&gt;74 -->\n<g id=\"edge74\" class=\"edge\">\n<title>72&#45;&gt;74</title>\n<path fill=\"none\" stroke=\"#000000\" d=\"M1281.5,-579.8796C1281.5,-569.2134 1281.5,-557.7021 1281.5,-546.9015\"/>\n<polygon fill=\"#000000\" stroke=\"#000000\" points=\"1285.0001,-546.8149 1281.5,-536.8149 1278.0001,-546.815 1285.0001,-546.8149\"/>\n</g>\n<!-- 76 -->\n<g id=\"node77\" class=\"node\">\n<title>76</title>\n<polygon fill=\"none\" stroke=\"#000000\" points=\"1512,-663 1401,-663 1401,-580 1512,-580 1512,-663\"/>\n<text text-anchor=\"middle\" x=\"1456.5\" y=\"-647.8\" font-family=\"Helvetica,sans-Serif\" font-size=\"14.00\" fill=\"#000000\">X[0] &lt;= 2450.0</text>\n<text text-anchor=\"middle\" x=\"1456.5\" y=\"-632.8\" font-family=\"Helvetica,sans-Serif\" font-size=\"14.00\" fill=\"#000000\">gini = 0.198</text>\n<text text-anchor=\"middle\" x=\"1456.5\" y=\"-617.8\" font-family=\"Helvetica,sans-Serif\" font-size=\"14.00\" fill=\"#000000\">samples = 9</text>\n<text text-anchor=\"middle\" x=\"1456.5\" y=\"-602.8\" font-family=\"Helvetica,sans-Serif\" font-size=\"14.00\" fill=\"#000000\">value = [1, 8]</text>\n<text text-anchor=\"middle\" x=\"1456.5\" y=\"-587.8\" font-family=\"Helvetica,sans-Serif\" font-size=\"14.00\" fill=\"#000000\">class = 1</text>\n</g>\n<!-- 75&#45;&gt;76 -->\n<g id=\"edge76\" class=\"edge\">\n<title>75&#45;&gt;76</title>\n<path fill=\"none\" stroke=\"#000000\" d=\"M1456.5,-698.8796C1456.5,-690.6838 1456.5,-681.9891 1456.5,-673.5013\"/>\n<polygon fill=\"#000000\" stroke=\"#000000\" points=\"1460.0001,-673.298 1456.5,-663.2981 1453.0001,-673.2981 1460.0001,-673.298\"/>\n</g>\n<!-- 83 -->\n<g id=\"node84\" class=\"node\">\n<title>83</title>\n<polygon fill=\"none\" stroke=\"#000000\" points=\"1637,-663 1538,-663 1538,-580 1637,-580 1637,-663\"/>\n<text text-anchor=\"middle\" x=\"1587.5\" y=\"-647.8\" font-family=\"Helvetica,sans-Serif\" font-size=\"14.00\" fill=\"#000000\">X[2] &lt;= 8.0</text>\n<text text-anchor=\"middle\" x=\"1587.5\" y=\"-632.8\" font-family=\"Helvetica,sans-Serif\" font-size=\"14.00\" fill=\"#000000\">gini = 0.48</text>\n<text text-anchor=\"middle\" x=\"1587.5\" y=\"-617.8\" font-family=\"Helvetica,sans-Serif\" font-size=\"14.00\" fill=\"#000000\">samples = 5</text>\n<text text-anchor=\"middle\" x=\"1587.5\" y=\"-602.8\" font-family=\"Helvetica,sans-Serif\" font-size=\"14.00\" fill=\"#000000\">value = [3, 2]</text>\n<text text-anchor=\"middle\" x=\"1587.5\" y=\"-587.8\" font-family=\"Helvetica,sans-Serif\" font-size=\"14.00\" fill=\"#000000\">class = 0</text>\n</g>\n<!-- 75&#45;&gt;83 -->\n<g id=\"edge83\" class=\"edge\">\n<title>75&#45;&gt;83</title>\n<path fill=\"none\" stroke=\"#000000\" d=\"M1502.3174,-698.8796C1512.5294,-689.6031 1523.445,-679.6874 1533.9376,-670.1559\"/>\n<polygon fill=\"#000000\" stroke=\"#000000\" points=\"1536.4384,-672.6127 1541.487,-663.2981 1531.7316,-667.4313 1536.4384,-672.6127\"/>\n</g>\n<!-- 77 -->\n<g id=\"node78\" class=\"node\">\n<title>77</title>\n<polygon fill=\"none\" stroke=\"#000000\" points=\"1448,-544 1349,-544 1349,-461 1448,-461 1448,-544\"/>\n<text text-anchor=\"middle\" x=\"1398.5\" y=\"-528.8\" font-family=\"Helvetica,sans-Serif\" font-size=\"14.00\" fill=\"#000000\">X[4] &lt;= 0.5</text>\n<text text-anchor=\"middle\" x=\"1398.5\" y=\"-513.8\" font-family=\"Helvetica,sans-Serif\" font-size=\"14.00\" fill=\"#000000\">gini = 0.444</text>\n<text text-anchor=\"middle\" x=\"1398.5\" y=\"-498.8\" font-family=\"Helvetica,sans-Serif\" font-size=\"14.00\" fill=\"#000000\">samples = 3</text>\n<text text-anchor=\"middle\" x=\"1398.5\" y=\"-483.8\" font-family=\"Helvetica,sans-Serif\" font-size=\"14.00\" fill=\"#000000\">value = [1, 2]</text>\n<text text-anchor=\"middle\" x=\"1398.5\" y=\"-468.8\" font-family=\"Helvetica,sans-Serif\" font-size=\"14.00\" fill=\"#000000\">class = 1</text>\n</g>\n<!-- 76&#45;&gt;77 -->\n<g id=\"edge77\" class=\"edge\">\n<title>76&#45;&gt;77</title>\n<path fill=\"none\" stroke=\"#000000\" d=\"M1436.2144,-579.8796C1432.0443,-571.3236 1427.6091,-562.2238 1423.3003,-553.3833\"/>\n<polygon fill=\"#000000\" stroke=\"#000000\" points=\"1426.3997,-551.7538 1418.8722,-544.2981 1420.1073,-554.8207 1426.3997,-551.7538\"/>\n</g>\n<!-- 82 -->\n<g id=\"node83\" class=\"node\">\n<title>82</title>\n<polygon fill=\"none\" stroke=\"#000000\" points=\"1565,-536.5 1466,-536.5 1466,-468.5 1565,-468.5 1565,-536.5\"/>\n<text text-anchor=\"middle\" x=\"1515.5\" y=\"-521.3\" font-family=\"Helvetica,sans-Serif\" font-size=\"14.00\" fill=\"#000000\">gini = 0.0</text>\n<text text-anchor=\"middle\" x=\"1515.5\" y=\"-506.3\" font-family=\"Helvetica,sans-Serif\" font-size=\"14.00\" fill=\"#000000\">samples = 6</text>\n<text text-anchor=\"middle\" x=\"1515.5\" y=\"-491.3\" font-family=\"Helvetica,sans-Serif\" font-size=\"14.00\" fill=\"#000000\">value = [0, 6]</text>\n<text text-anchor=\"middle\" x=\"1515.5\" y=\"-476.3\" font-family=\"Helvetica,sans-Serif\" font-size=\"14.00\" fill=\"#000000\">class = 1</text>\n</g>\n<!-- 76&#45;&gt;82 -->\n<g id=\"edge82\" class=\"edge\">\n<title>76&#45;&gt;82</title>\n<path fill=\"none\" stroke=\"#000000\" d=\"M1477.1353,-579.8796C1482.5872,-568.8835 1488.4843,-556.9893 1493.9816,-545.9015\"/>\n<polygon fill=\"#000000\" stroke=\"#000000\" points=\"1497.1804,-547.3289 1498.4867,-536.8149 1490.9089,-544.2195 1497.1804,-547.3289\"/>\n</g>\n<!-- 78 -->\n<g id=\"node79\" class=\"node\">\n<title>78</title>\n<polygon fill=\"none\" stroke=\"#000000\" points=\"1390,-417.5 1291,-417.5 1291,-349.5 1390,-349.5 1390,-417.5\"/>\n<text text-anchor=\"middle\" x=\"1340.5\" y=\"-402.3\" font-family=\"Helvetica,sans-Serif\" font-size=\"14.00\" fill=\"#000000\">gini = 0.0</text>\n<text text-anchor=\"middle\" x=\"1340.5\" y=\"-387.3\" font-family=\"Helvetica,sans-Serif\" font-size=\"14.00\" fill=\"#000000\">samples = 1</text>\n<text text-anchor=\"middle\" x=\"1340.5\" y=\"-372.3\" font-family=\"Helvetica,sans-Serif\" font-size=\"14.00\" fill=\"#000000\">value = [0, 1]</text>\n<text text-anchor=\"middle\" x=\"1340.5\" y=\"-357.3\" font-family=\"Helvetica,sans-Serif\" font-size=\"14.00\" fill=\"#000000\">class = 1</text>\n</g>\n<!-- 77&#45;&gt;78 -->\n<g id=\"edge78\" class=\"edge\">\n<title>77&#45;&gt;78</title>\n<path fill=\"none\" stroke=\"#000000\" d=\"M1378.2144,-460.8796C1372.855,-449.8835 1367.0578,-437.9893 1361.6537,-426.9015\"/>\n<polygon fill=\"#000000\" stroke=\"#000000\" points=\"1364.7524,-425.2706 1357.2249,-417.8149 1358.46,-428.3375 1364.7524,-425.2706\"/>\n</g>\n<!-- 79 -->\n<g id=\"node80\" class=\"node\">\n<title>79</title>\n<polygon fill=\"none\" stroke=\"#000000\" points=\"1507,-425 1408,-425 1408,-342 1507,-342 1507,-425\"/>\n<text text-anchor=\"middle\" x=\"1457.5\" y=\"-409.8\" font-family=\"Helvetica,sans-Serif\" font-size=\"14.00\" fill=\"#000000\">X[2] &lt;= 4.0</text>\n<text text-anchor=\"middle\" x=\"1457.5\" y=\"-394.8\" font-family=\"Helvetica,sans-Serif\" font-size=\"14.00\" fill=\"#000000\">gini = 0.5</text>\n<text text-anchor=\"middle\" x=\"1457.5\" y=\"-379.8\" font-family=\"Helvetica,sans-Serif\" font-size=\"14.00\" fill=\"#000000\">samples = 2</text>\n<text text-anchor=\"middle\" x=\"1457.5\" y=\"-364.8\" font-family=\"Helvetica,sans-Serif\" font-size=\"14.00\" fill=\"#000000\">value = [1, 1]</text>\n<text text-anchor=\"middle\" x=\"1457.5\" y=\"-349.8\" font-family=\"Helvetica,sans-Serif\" font-size=\"14.00\" fill=\"#000000\">class = 0</text>\n</g>\n<!-- 77&#45;&gt;79 -->\n<g id=\"edge79\" class=\"edge\">\n<title>77&#45;&gt;79</title>\n<path fill=\"none\" stroke=\"#000000\" d=\"M1419.1353,-460.8796C1423.3774,-452.3236 1427.889,-443.2238 1432.2721,-434.3833\"/>\n<polygon fill=\"#000000\" stroke=\"#000000\" points=\"1435.4703,-435.8121 1436.7766,-425.2981 1429.1988,-432.7026 1435.4703,-435.8121\"/>\n</g>\n<!-- 80 -->\n<g id=\"node81\" class=\"node\">\n<title>80</title>\n<polygon fill=\"none\" stroke=\"#000000\" points=\"1449,-298.5 1350,-298.5 1350,-230.5 1449,-230.5 1449,-298.5\"/>\n<text text-anchor=\"middle\" x=\"1399.5\" y=\"-283.3\" font-family=\"Helvetica,sans-Serif\" font-size=\"14.00\" fill=\"#000000\">gini = 0.0</text>\n<text text-anchor=\"middle\" x=\"1399.5\" y=\"-268.3\" font-family=\"Helvetica,sans-Serif\" font-size=\"14.00\" fill=\"#000000\">samples = 1</text>\n<text text-anchor=\"middle\" x=\"1399.5\" y=\"-253.3\" font-family=\"Helvetica,sans-Serif\" font-size=\"14.00\" fill=\"#000000\">value = [1, 0]</text>\n<text text-anchor=\"middle\" x=\"1399.5\" y=\"-238.3\" font-family=\"Helvetica,sans-Serif\" font-size=\"14.00\" fill=\"#000000\">class = 0</text>\n</g>\n<!-- 79&#45;&gt;80 -->\n<g id=\"edge80\" class=\"edge\">\n<title>79&#45;&gt;80</title>\n<path fill=\"none\" stroke=\"#000000\" d=\"M1437.2144,-341.8796C1431.855,-330.8835 1426.0578,-318.9893 1420.6537,-307.9015\"/>\n<polygon fill=\"#000000\" stroke=\"#000000\" points=\"1423.7524,-306.2706 1416.2249,-298.8149 1417.46,-309.3375 1423.7524,-306.2706\"/>\n</g>\n<!-- 81 -->\n<g id=\"node82\" class=\"node\">\n<title>81</title>\n<polygon fill=\"none\" stroke=\"#000000\" points=\"1566,-298.5 1467,-298.5 1467,-230.5 1566,-230.5 1566,-298.5\"/>\n<text text-anchor=\"middle\" x=\"1516.5\" y=\"-283.3\" font-family=\"Helvetica,sans-Serif\" font-size=\"14.00\" fill=\"#000000\">gini = 0.0</text>\n<text text-anchor=\"middle\" x=\"1516.5\" y=\"-268.3\" font-family=\"Helvetica,sans-Serif\" font-size=\"14.00\" fill=\"#000000\">samples = 1</text>\n<text text-anchor=\"middle\" x=\"1516.5\" y=\"-253.3\" font-family=\"Helvetica,sans-Serif\" font-size=\"14.00\" fill=\"#000000\">value = [0, 1]</text>\n<text text-anchor=\"middle\" x=\"1516.5\" y=\"-238.3\" font-family=\"Helvetica,sans-Serif\" font-size=\"14.00\" fill=\"#000000\">class = 1</text>\n</g>\n<!-- 79&#45;&gt;81 -->\n<g id=\"edge81\" class=\"edge\">\n<title>79&#45;&gt;81</title>\n<path fill=\"none\" stroke=\"#000000\" d=\"M1478.1353,-341.8796C1483.5872,-330.8835 1489.4843,-318.9893 1494.9816,-307.9015\"/>\n<polygon fill=\"#000000\" stroke=\"#000000\" points=\"1498.1804,-309.3289 1499.4867,-298.8149 1491.9089,-306.2195 1498.1804,-309.3289\"/>\n</g>\n<!-- 84 -->\n<g id=\"node85\" class=\"node\">\n<title>84</title>\n<polygon fill=\"none\" stroke=\"#000000\" points=\"1682,-536.5 1583,-536.5 1583,-468.5 1682,-468.5 1682,-536.5\"/>\n<text text-anchor=\"middle\" x=\"1632.5\" y=\"-521.3\" font-family=\"Helvetica,sans-Serif\" font-size=\"14.00\" fill=\"#000000\">gini = 0.0</text>\n<text text-anchor=\"middle\" x=\"1632.5\" y=\"-506.3\" font-family=\"Helvetica,sans-Serif\" font-size=\"14.00\" fill=\"#000000\">samples = 2</text>\n<text text-anchor=\"middle\" x=\"1632.5\" y=\"-491.3\" font-family=\"Helvetica,sans-Serif\" font-size=\"14.00\" fill=\"#000000\">value = [2, 0]</text>\n<text text-anchor=\"middle\" x=\"1632.5\" y=\"-476.3\" font-family=\"Helvetica,sans-Serif\" font-size=\"14.00\" fill=\"#000000\">class = 0</text>\n</g>\n<!-- 83&#45;&gt;84 -->\n<g id=\"edge84\" class=\"edge\">\n<title>83&#45;&gt;84</title>\n<path fill=\"none\" stroke=\"#000000\" d=\"M1603.2388,-579.8796C1607.3554,-568.9935 1611.8049,-557.227 1615.9618,-546.2344\"/>\n<polygon fill=\"#000000\" stroke=\"#000000\" points=\"1619.2604,-547.4065 1619.5238,-536.8149 1612.7129,-544.9305 1619.2604,-547.4065\"/>\n</g>\n<!-- 85 -->\n<g id=\"node86\" class=\"node\">\n<title>85</title>\n<polygon fill=\"none\" stroke=\"#000000\" points=\"1799,-544 1700,-544 1700,-461 1799,-461 1799,-544\"/>\n<text text-anchor=\"middle\" x=\"1749.5\" y=\"-528.8\" font-family=\"Helvetica,sans-Serif\" font-size=\"14.00\" fill=\"#000000\">X[2] &lt;= 11.0</text>\n<text text-anchor=\"middle\" x=\"1749.5\" y=\"-513.8\" font-family=\"Helvetica,sans-Serif\" font-size=\"14.00\" fill=\"#000000\">gini = 0.444</text>\n<text text-anchor=\"middle\" x=\"1749.5\" y=\"-498.8\" font-family=\"Helvetica,sans-Serif\" font-size=\"14.00\" fill=\"#000000\">samples = 3</text>\n<text text-anchor=\"middle\" x=\"1749.5\" y=\"-483.8\" font-family=\"Helvetica,sans-Serif\" font-size=\"14.00\" fill=\"#000000\">value = [1, 2]</text>\n<text text-anchor=\"middle\" x=\"1749.5\" y=\"-468.8\" font-family=\"Helvetica,sans-Serif\" font-size=\"14.00\" fill=\"#000000\">class = 1</text>\n</g>\n<!-- 83&#45;&gt;85 -->\n<g id=\"edge85\" class=\"edge\">\n<title>83&#45;&gt;85</title>\n<path fill=\"none\" stroke=\"#000000\" d=\"M1637.4272,-584.8251C1654.4447,-572.3246 1673.6188,-558.2399 1691.2326,-545.3014\"/>\n<polygon fill=\"#000000\" stroke=\"#000000\" points=\"1693.7504,-547.7947 1699.7376,-539.0538 1689.6063,-542.1532 1693.7504,-547.7947\"/>\n</g>\n<!-- 86 -->\n<g id=\"node87\" class=\"node\">\n<title>86</title>\n<polygon fill=\"none\" stroke=\"#000000\" points=\"1741,-417.5 1642,-417.5 1642,-349.5 1741,-349.5 1741,-417.5\"/>\n<text text-anchor=\"middle\" x=\"1691.5\" y=\"-402.3\" font-family=\"Helvetica,sans-Serif\" font-size=\"14.00\" fill=\"#000000\">gini = 0.0</text>\n<text text-anchor=\"middle\" x=\"1691.5\" y=\"-387.3\" font-family=\"Helvetica,sans-Serif\" font-size=\"14.00\" fill=\"#000000\">samples = 2</text>\n<text text-anchor=\"middle\" x=\"1691.5\" y=\"-372.3\" font-family=\"Helvetica,sans-Serif\" font-size=\"14.00\" fill=\"#000000\">value = [0, 2]</text>\n<text text-anchor=\"middle\" x=\"1691.5\" y=\"-357.3\" font-family=\"Helvetica,sans-Serif\" font-size=\"14.00\" fill=\"#000000\">class = 1</text>\n</g>\n<!-- 85&#45;&gt;86 -->\n<g id=\"edge86\" class=\"edge\">\n<title>85&#45;&gt;86</title>\n<path fill=\"none\" stroke=\"#000000\" d=\"M1729.2144,-460.8796C1723.855,-449.8835 1718.0578,-437.9893 1712.6537,-426.9015\"/>\n<polygon fill=\"#000000\" stroke=\"#000000\" points=\"1715.7524,-425.2706 1708.2249,-417.8149 1709.46,-428.3375 1715.7524,-425.2706\"/>\n</g>\n<!-- 87 -->\n<g id=\"node88\" class=\"node\">\n<title>87</title>\n<polygon fill=\"none\" stroke=\"#000000\" points=\"1858,-417.5 1759,-417.5 1759,-349.5 1858,-349.5 1858,-417.5\"/>\n<text text-anchor=\"middle\" x=\"1808.5\" y=\"-402.3\" font-family=\"Helvetica,sans-Serif\" font-size=\"14.00\" fill=\"#000000\">gini = 0.0</text>\n<text text-anchor=\"middle\" x=\"1808.5\" y=\"-387.3\" font-family=\"Helvetica,sans-Serif\" font-size=\"14.00\" fill=\"#000000\">samples = 1</text>\n<text text-anchor=\"middle\" x=\"1808.5\" y=\"-372.3\" font-family=\"Helvetica,sans-Serif\" font-size=\"14.00\" fill=\"#000000\">value = [1, 0]</text>\n<text text-anchor=\"middle\" x=\"1808.5\" y=\"-357.3\" font-family=\"Helvetica,sans-Serif\" font-size=\"14.00\" fill=\"#000000\">class = 0</text>\n</g>\n<!-- 85&#45;&gt;87 -->\n<g id=\"edge87\" class=\"edge\">\n<title>85&#45;&gt;87</title>\n<path fill=\"none\" stroke=\"#000000\" d=\"M1770.1353,-460.8796C1775.5872,-449.8835 1781.4843,-437.9893 1786.9816,-426.9015\"/>\n<polygon fill=\"#000000\" stroke=\"#000000\" points=\"1790.1804,-428.3289 1791.4867,-417.8149 1783.9089,-425.2195 1790.1804,-428.3289\"/>\n</g>\n<!-- 90 -->\n<g id=\"node91\" class=\"node\">\n<title>90</title>\n<polygon fill=\"none\" stroke=\"#000000\" points=\"1755,-1012.5 1648,-1012.5 1648,-944.5 1755,-944.5 1755,-1012.5\"/>\n<text text-anchor=\"middle\" x=\"1701.5\" y=\"-997.3\" font-family=\"Helvetica,sans-Serif\" font-size=\"14.00\" fill=\"#000000\">gini = 0.0</text>\n<text text-anchor=\"middle\" x=\"1701.5\" y=\"-982.3\" font-family=\"Helvetica,sans-Serif\" font-size=\"14.00\" fill=\"#000000\">samples = 12</text>\n<text text-anchor=\"middle\" x=\"1701.5\" y=\"-967.3\" font-family=\"Helvetica,sans-Serif\" font-size=\"14.00\" fill=\"#000000\">value = [0, 12]</text>\n<text text-anchor=\"middle\" x=\"1701.5\" y=\"-952.3\" font-family=\"Helvetica,sans-Serif\" font-size=\"14.00\" fill=\"#000000\">class = 1</text>\n</g>\n<!-- 89&#45;&gt;90 -->\n<g id=\"edge90\" class=\"edge\">\n<title>89&#45;&gt;90</title>\n<path fill=\"none\" stroke=\"#000000\" d=\"M1701.5,-1055.8796C1701.5,-1045.2134 1701.5,-1033.7021 1701.5,-1022.9015\"/>\n<polygon fill=\"#000000\" stroke=\"#000000\" points=\"1705.0001,-1022.8149 1701.5,-1012.8149 1698.0001,-1022.815 1705.0001,-1022.8149\"/>\n</g>\n<!-- 91 -->\n<g id=\"node92\" class=\"node\">\n<title>91</title>\n<polygon fill=\"none\" stroke=\"#000000\" points=\"1880,-1020 1773,-1020 1773,-937 1880,-937 1880,-1020\"/>\n<text text-anchor=\"middle\" x=\"1826.5\" y=\"-1004.8\" font-family=\"Helvetica,sans-Serif\" font-size=\"14.00\" fill=\"#000000\">X[5] &lt;= 4.5</text>\n<text text-anchor=\"middle\" x=\"1826.5\" y=\"-989.8\" font-family=\"Helvetica,sans-Serif\" font-size=\"14.00\" fill=\"#000000\">gini = 0.363</text>\n<text text-anchor=\"middle\" x=\"1826.5\" y=\"-974.8\" font-family=\"Helvetica,sans-Serif\" font-size=\"14.00\" fill=\"#000000\">samples = 21</text>\n<text text-anchor=\"middle\" x=\"1826.5\" y=\"-959.8\" font-family=\"Helvetica,sans-Serif\" font-size=\"14.00\" fill=\"#000000\">value = [5, 16]</text>\n<text text-anchor=\"middle\" x=\"1826.5\" y=\"-944.8\" font-family=\"Helvetica,sans-Serif\" font-size=\"14.00\" fill=\"#000000\">class = 1</text>\n</g>\n<!-- 89&#45;&gt;91 -->\n<g id=\"edge91\" class=\"edge\">\n<title>89&#45;&gt;91</title>\n<path fill=\"none\" stroke=\"#000000\" d=\"M1745.2189,-1055.8796C1754.8686,-1046.6931 1765.1766,-1036.8798 1775.0991,-1027.4336\"/>\n<polygon fill=\"#000000\" stroke=\"#000000\" points=\"1777.765,-1029.7282 1782.5945,-1020.2981 1772.9384,-1024.6582 1777.765,-1029.7282\"/>\n</g>\n<!-- 92 -->\n<g id=\"node93\" class=\"node\">\n<title>92</title>\n<polygon fill=\"none\" stroke=\"#000000\" points=\"1879,-901 1768,-901 1768,-818 1879,-818 1879,-901\"/>\n<text text-anchor=\"middle\" x=\"1823.5\" y=\"-885.8\" font-family=\"Helvetica,sans-Serif\" font-size=\"14.00\" fill=\"#000000\">X[0] &lt;= 3063.5</text>\n<text text-anchor=\"middle\" x=\"1823.5\" y=\"-870.8\" font-family=\"Helvetica,sans-Serif\" font-size=\"14.00\" fill=\"#000000\">gini = 0.219</text>\n<text text-anchor=\"middle\" x=\"1823.5\" y=\"-855.8\" font-family=\"Helvetica,sans-Serif\" font-size=\"14.00\" fill=\"#000000\">samples = 16</text>\n<text text-anchor=\"middle\" x=\"1823.5\" y=\"-840.8\" font-family=\"Helvetica,sans-Serif\" font-size=\"14.00\" fill=\"#000000\">value = [2, 14]</text>\n<text text-anchor=\"middle\" x=\"1823.5\" y=\"-825.8\" font-family=\"Helvetica,sans-Serif\" font-size=\"14.00\" fill=\"#000000\">class = 1</text>\n</g>\n<!-- 91&#45;&gt;92 -->\n<g id=\"edge92\" class=\"edge\">\n<title>91&#45;&gt;92</title>\n<path fill=\"none\" stroke=\"#000000\" d=\"M1825.4507,-936.8796C1825.2441,-928.6838 1825.0249,-919.9891 1824.811,-911.5013\"/>\n<polygon fill=\"#000000\" stroke=\"#000000\" points=\"1828.3047,-911.2067 1824.5537,-901.2981 1821.307,-911.3831 1828.3047,-911.2067\"/>\n</g>\n<!-- 97 -->\n<g id=\"node98\" class=\"node\">\n<title>97</title>\n<polygon fill=\"none\" stroke=\"#000000\" points=\"1996,-901 1897,-901 1897,-818 1996,-818 1996,-901\"/>\n<text text-anchor=\"middle\" x=\"1946.5\" y=\"-885.8\" font-family=\"Helvetica,sans-Serif\" font-size=\"14.00\" fill=\"#000000\">X[2] &lt;= 8.5</text>\n<text text-anchor=\"middle\" x=\"1946.5\" y=\"-870.8\" font-family=\"Helvetica,sans-Serif\" font-size=\"14.00\" fill=\"#000000\">gini = 0.48</text>\n<text text-anchor=\"middle\" x=\"1946.5\" y=\"-855.8\" font-family=\"Helvetica,sans-Serif\" font-size=\"14.00\" fill=\"#000000\">samples = 5</text>\n<text text-anchor=\"middle\" x=\"1946.5\" y=\"-840.8\" font-family=\"Helvetica,sans-Serif\" font-size=\"14.00\" fill=\"#000000\">value = [3, 2]</text>\n<text text-anchor=\"middle\" x=\"1946.5\" y=\"-825.8\" font-family=\"Helvetica,sans-Serif\" font-size=\"14.00\" fill=\"#000000\">class = 0</text>\n</g>\n<!-- 91&#45;&gt;97 -->\n<g id=\"edge97\" class=\"edge\">\n<title>91&#45;&gt;97</title>\n<path fill=\"none\" stroke=\"#000000\" d=\"M1868.4702,-936.8796C1877.7338,-927.6931 1887.6296,-917.8798 1897.1552,-908.4336\"/>\n<polygon fill=\"#000000\" stroke=\"#000000\" points=\"1899.7146,-910.8247 1904.3507,-901.2981 1894.7856,-905.8543 1899.7146,-910.8247\"/>\n</g>\n<!-- 93 -->\n<g id=\"node94\" class=\"node\">\n<title>93</title>\n<polygon fill=\"none\" stroke=\"#000000\" points=\"1754,-782 1655,-782 1655,-699 1754,-699 1754,-782\"/>\n<text text-anchor=\"middle\" x=\"1704.5\" y=\"-766.8\" font-family=\"Helvetica,sans-Serif\" font-size=\"14.00\" fill=\"#000000\">X[1] &lt;= 39.5</text>\n<text text-anchor=\"middle\" x=\"1704.5\" y=\"-751.8\" font-family=\"Helvetica,sans-Serif\" font-size=\"14.00\" fill=\"#000000\">gini = 0.444</text>\n<text text-anchor=\"middle\" x=\"1704.5\" y=\"-736.8\" font-family=\"Helvetica,sans-Serif\" font-size=\"14.00\" fill=\"#000000\">samples = 6</text>\n<text text-anchor=\"middle\" x=\"1704.5\" y=\"-721.8\" font-family=\"Helvetica,sans-Serif\" font-size=\"14.00\" fill=\"#000000\">value = [2, 4]</text>\n<text text-anchor=\"middle\" x=\"1704.5\" y=\"-706.8\" font-family=\"Helvetica,sans-Serif\" font-size=\"14.00\" fill=\"#000000\">class = 1</text>\n</g>\n<!-- 92&#45;&gt;93 -->\n<g id=\"edge93\" class=\"edge\">\n<title>92&#45;&gt;93</title>\n<path fill=\"none\" stroke=\"#000000\" d=\"M1781.8796,-817.8796C1772.6931,-808.6931 1762.8798,-798.8798 1753.4336,-789.4336\"/>\n<polygon fill=\"#000000\" stroke=\"#000000\" points=\"1755.8441,-786.8943 1746.2981,-782.2981 1750.8943,-791.8441 1755.8441,-786.8943\"/>\n</g>\n<!-- 96 -->\n<g id=\"node97\" class=\"node\">\n<title>96</title>\n<polygon fill=\"none\" stroke=\"#000000\" points=\"1879,-774.5 1772,-774.5 1772,-706.5 1879,-706.5 1879,-774.5\"/>\n<text text-anchor=\"middle\" x=\"1825.5\" y=\"-759.3\" font-family=\"Helvetica,sans-Serif\" font-size=\"14.00\" fill=\"#000000\">gini = 0.0</text>\n<text text-anchor=\"middle\" x=\"1825.5\" y=\"-744.3\" font-family=\"Helvetica,sans-Serif\" font-size=\"14.00\" fill=\"#000000\">samples = 10</text>\n<text text-anchor=\"middle\" x=\"1825.5\" y=\"-729.3\" font-family=\"Helvetica,sans-Serif\" font-size=\"14.00\" fill=\"#000000\">value = [0, 10]</text>\n<text text-anchor=\"middle\" x=\"1825.5\" y=\"-714.3\" font-family=\"Helvetica,sans-Serif\" font-size=\"14.00\" fill=\"#000000\">class = 1</text>\n</g>\n<!-- 92&#45;&gt;96 -->\n<g id=\"edge96\" class=\"edge\">\n<title>92&#45;&gt;96</title>\n<path fill=\"none\" stroke=\"#000000\" d=\"M1824.1995,-817.8796C1824.3788,-807.2134 1824.5722,-795.7021 1824.7538,-784.9015\"/>\n<polygon fill=\"#000000\" stroke=\"#000000\" points=\"1828.2546,-784.8724 1824.9233,-774.8149 1821.2556,-784.7547 1828.2546,-784.8724\"/>\n</g>\n<!-- 94 -->\n<g id=\"node95\" class=\"node\">\n<title>94</title>\n<polygon fill=\"none\" stroke=\"#000000\" points=\"1754,-655.5 1655,-655.5 1655,-587.5 1754,-587.5 1754,-655.5\"/>\n<text text-anchor=\"middle\" x=\"1704.5\" y=\"-640.3\" font-family=\"Helvetica,sans-Serif\" font-size=\"14.00\" fill=\"#000000\">gini = 0.0</text>\n<text text-anchor=\"middle\" x=\"1704.5\" y=\"-625.3\" font-family=\"Helvetica,sans-Serif\" font-size=\"14.00\" fill=\"#000000\">samples = 4</text>\n<text text-anchor=\"middle\" x=\"1704.5\" y=\"-610.3\" font-family=\"Helvetica,sans-Serif\" font-size=\"14.00\" fill=\"#000000\">value = [0, 4]</text>\n<text text-anchor=\"middle\" x=\"1704.5\" y=\"-595.3\" font-family=\"Helvetica,sans-Serif\" font-size=\"14.00\" fill=\"#000000\">class = 1</text>\n</g>\n<!-- 93&#45;&gt;94 -->\n<g id=\"edge94\" class=\"edge\">\n<title>93&#45;&gt;94</title>\n<path fill=\"none\" stroke=\"#000000\" d=\"M1704.5,-698.8796C1704.5,-688.2134 1704.5,-676.7021 1704.5,-665.9015\"/>\n<polygon fill=\"#000000\" stroke=\"#000000\" points=\"1708.0001,-665.8149 1704.5,-655.8149 1701.0001,-665.815 1708.0001,-665.8149\"/>\n</g>\n<!-- 95 -->\n<g id=\"node96\" class=\"node\">\n<title>95</title>\n<polygon fill=\"none\" stroke=\"#000000\" points=\"1871,-655.5 1772,-655.5 1772,-587.5 1871,-587.5 1871,-655.5\"/>\n<text text-anchor=\"middle\" x=\"1821.5\" y=\"-640.3\" font-family=\"Helvetica,sans-Serif\" font-size=\"14.00\" fill=\"#000000\">gini = 0.0</text>\n<text text-anchor=\"middle\" x=\"1821.5\" y=\"-625.3\" font-family=\"Helvetica,sans-Serif\" font-size=\"14.00\" fill=\"#000000\">samples = 2</text>\n<text text-anchor=\"middle\" x=\"1821.5\" y=\"-610.3\" font-family=\"Helvetica,sans-Serif\" font-size=\"14.00\" fill=\"#000000\">value = [2, 0]</text>\n<text text-anchor=\"middle\" x=\"1821.5\" y=\"-595.3\" font-family=\"Helvetica,sans-Serif\" font-size=\"14.00\" fill=\"#000000\">class = 0</text>\n</g>\n<!-- 93&#45;&gt;95 -->\n<g id=\"edge95\" class=\"edge\">\n<title>93&#45;&gt;95</title>\n<path fill=\"none\" stroke=\"#000000\" d=\"M1745.4209,-698.8796C1756.7728,-687.3337 1769.0982,-674.7976 1780.457,-663.2446\"/>\n<polygon fill=\"#000000\" stroke=\"#000000\" points=\"1783.2466,-665.3995 1787.7618,-655.8149 1778.2551,-660.4919 1783.2466,-665.3995\"/>\n</g>\n<!-- 98 -->\n<g id=\"node99\" class=\"node\">\n<title>98</title>\n<polygon fill=\"none\" stroke=\"#000000\" points=\"1996,-782 1897,-782 1897,-699 1996,-699 1996,-782\"/>\n<text text-anchor=\"middle\" x=\"1946.5\" y=\"-766.8\" font-family=\"Helvetica,sans-Serif\" font-size=\"14.00\" fill=\"#000000\">X[1] &lt;= 49.5</text>\n<text text-anchor=\"middle\" x=\"1946.5\" y=\"-751.8\" font-family=\"Helvetica,sans-Serif\" font-size=\"14.00\" fill=\"#000000\">gini = 0.444</text>\n<text text-anchor=\"middle\" x=\"1946.5\" y=\"-736.8\" font-family=\"Helvetica,sans-Serif\" font-size=\"14.00\" fill=\"#000000\">samples = 3</text>\n<text text-anchor=\"middle\" x=\"1946.5\" y=\"-721.8\" font-family=\"Helvetica,sans-Serif\" font-size=\"14.00\" fill=\"#000000\">value = [1, 2]</text>\n<text text-anchor=\"middle\" x=\"1946.5\" y=\"-706.8\" font-family=\"Helvetica,sans-Serif\" font-size=\"14.00\" fill=\"#000000\">class = 1</text>\n</g>\n<!-- 97&#45;&gt;98 -->\n<g id=\"edge98\" class=\"edge\">\n<title>97&#45;&gt;98</title>\n<path fill=\"none\" stroke=\"#000000\" d=\"M1946.5,-817.8796C1946.5,-809.6838 1946.5,-800.9891 1946.5,-792.5013\"/>\n<polygon fill=\"#000000\" stroke=\"#000000\" points=\"1950.0001,-792.298 1946.5,-782.2981 1943.0001,-792.2981 1950.0001,-792.298\"/>\n</g>\n<!-- 101 -->\n<g id=\"node102\" class=\"node\">\n<title>101</title>\n<polygon fill=\"none\" stroke=\"#000000\" points=\"2113,-774.5 2014,-774.5 2014,-706.5 2113,-706.5 2113,-774.5\"/>\n<text text-anchor=\"middle\" x=\"2063.5\" y=\"-759.3\" font-family=\"Helvetica,sans-Serif\" font-size=\"14.00\" fill=\"#000000\">gini = 0.0</text>\n<text text-anchor=\"middle\" x=\"2063.5\" y=\"-744.3\" font-family=\"Helvetica,sans-Serif\" font-size=\"14.00\" fill=\"#000000\">samples = 2</text>\n<text text-anchor=\"middle\" x=\"2063.5\" y=\"-729.3\" font-family=\"Helvetica,sans-Serif\" font-size=\"14.00\" fill=\"#000000\">value = [2, 0]</text>\n<text text-anchor=\"middle\" x=\"2063.5\" y=\"-714.3\" font-family=\"Helvetica,sans-Serif\" font-size=\"14.00\" fill=\"#000000\">class = 0</text>\n</g>\n<!-- 97&#45;&gt;101 -->\n<g id=\"edge101\" class=\"edge\">\n<title>97&#45;&gt;101</title>\n<path fill=\"none\" stroke=\"#000000\" d=\"M1987.4209,-817.8796C1998.7728,-806.3337 2011.0982,-793.7976 2022.457,-782.2446\"/>\n<polygon fill=\"#000000\" stroke=\"#000000\" points=\"2025.2466,-784.3995 2029.7618,-774.8149 2020.2551,-779.4919 2025.2466,-784.3995\"/>\n</g>\n<!-- 99 -->\n<g id=\"node100\" class=\"node\">\n<title>99</title>\n<polygon fill=\"none\" stroke=\"#000000\" points=\"1992,-655.5 1893,-655.5 1893,-587.5 1992,-587.5 1992,-655.5\"/>\n<text text-anchor=\"middle\" x=\"1942.5\" y=\"-640.3\" font-family=\"Helvetica,sans-Serif\" font-size=\"14.00\" fill=\"#000000\">gini = 0.0</text>\n<text text-anchor=\"middle\" x=\"1942.5\" y=\"-625.3\" font-family=\"Helvetica,sans-Serif\" font-size=\"14.00\" fill=\"#000000\">samples = 2</text>\n<text text-anchor=\"middle\" x=\"1942.5\" y=\"-610.3\" font-family=\"Helvetica,sans-Serif\" font-size=\"14.00\" fill=\"#000000\">value = [0, 2]</text>\n<text text-anchor=\"middle\" x=\"1942.5\" y=\"-595.3\" font-family=\"Helvetica,sans-Serif\" font-size=\"14.00\" fill=\"#000000\">class = 1</text>\n</g>\n<!-- 98&#45;&gt;99 -->\n<g id=\"edge99\" class=\"edge\">\n<title>98&#45;&gt;99</title>\n<path fill=\"none\" stroke=\"#000000\" d=\"M1945.101,-698.8796C1944.7425,-688.2134 1944.3555,-676.7021 1943.9925,-665.9015\"/>\n<polygon fill=\"#000000\" stroke=\"#000000\" points=\"1947.4875,-665.6917 1943.6534,-655.8149 1940.4915,-665.9269 1947.4875,-665.6917\"/>\n</g>\n<!-- 100 -->\n<g id=\"node101\" class=\"node\">\n<title>100</title>\n<polygon fill=\"none\" stroke=\"#000000\" points=\"2109,-655.5 2010,-655.5 2010,-587.5 2109,-587.5 2109,-655.5\"/>\n<text text-anchor=\"middle\" x=\"2059.5\" y=\"-640.3\" font-family=\"Helvetica,sans-Serif\" font-size=\"14.00\" fill=\"#000000\">gini = 0.0</text>\n<text text-anchor=\"middle\" x=\"2059.5\" y=\"-625.3\" font-family=\"Helvetica,sans-Serif\" font-size=\"14.00\" fill=\"#000000\">samples = 1</text>\n<text text-anchor=\"middle\" x=\"2059.5\" y=\"-610.3\" font-family=\"Helvetica,sans-Serif\" font-size=\"14.00\" fill=\"#000000\">value = [1, 0]</text>\n<text text-anchor=\"middle\" x=\"2059.5\" y=\"-595.3\" font-family=\"Helvetica,sans-Serif\" font-size=\"14.00\" fill=\"#000000\">class = 0</text>\n</g>\n<!-- 98&#45;&gt;100 -->\n<g id=\"edge100\" class=\"edge\">\n<title>98&#45;&gt;100</title>\n<path fill=\"none\" stroke=\"#000000\" d=\"M1986.0219,-698.8796C1996.9857,-687.3337 2008.8897,-674.7976 2019.8601,-663.2446\"/>\n<polygon fill=\"#000000\" stroke=\"#000000\" points=\"2022.5673,-665.4766 2026.9152,-655.8149 2017.4913,-660.6564 2022.5673,-665.4766\"/>\n</g>\n<!-- 104 -->\n<g id=\"node105\" class=\"node\">\n<title>104</title>\n<polygon fill=\"none\" stroke=\"#000000\" points=\"1751,-1488.5 1652,-1488.5 1652,-1420.5 1751,-1420.5 1751,-1488.5\"/>\n<text text-anchor=\"middle\" x=\"1701.5\" y=\"-1473.3\" font-family=\"Helvetica,sans-Serif\" font-size=\"14.00\" fill=\"#000000\">gini = 0.0</text>\n<text text-anchor=\"middle\" x=\"1701.5\" y=\"-1458.3\" font-family=\"Helvetica,sans-Serif\" font-size=\"14.00\" fill=\"#000000\">samples = 9</text>\n<text text-anchor=\"middle\" x=\"1701.5\" y=\"-1443.3\" font-family=\"Helvetica,sans-Serif\" font-size=\"14.00\" fill=\"#000000\">value = [9, 0]</text>\n<text text-anchor=\"middle\" x=\"1701.5\" y=\"-1428.3\" font-family=\"Helvetica,sans-Serif\" font-size=\"14.00\" fill=\"#000000\">class = 0</text>\n</g>\n<!-- 103&#45;&gt;104 -->\n<g id=\"edge104\" class=\"edge\">\n<title>103&#45;&gt;104</title>\n<path fill=\"none\" stroke=\"#000000\" d=\"M1701.5,-1531.8796C1701.5,-1521.2134 1701.5,-1509.7021 1701.5,-1498.9015\"/>\n<polygon fill=\"#000000\" stroke=\"#000000\" points=\"1705.0001,-1498.8149 1701.5,-1488.8149 1698.0001,-1498.815 1705.0001,-1498.8149\"/>\n</g>\n<!-- 105 -->\n<g id=\"node106\" class=\"node\">\n<title>105</title>\n<polygon fill=\"none\" stroke=\"#000000\" points=\"2426.5,-1496 2310.5,-1496 2310.5,-1413 2426.5,-1413 2426.5,-1496\"/>\n<text text-anchor=\"middle\" x=\"2368.5\" y=\"-1480.8\" font-family=\"Helvetica,sans-Serif\" font-size=\"14.00\" fill=\"#000000\">X[0] &lt;= 4125.0</text>\n<text text-anchor=\"middle\" x=\"2368.5\" y=\"-1465.8\" font-family=\"Helvetica,sans-Serif\" font-size=\"14.00\" fill=\"#000000\">gini = 0.493</text>\n<text text-anchor=\"middle\" x=\"2368.5\" y=\"-1450.8\" font-family=\"Helvetica,sans-Serif\" font-size=\"14.00\" fill=\"#000000\">samples = 82</text>\n<text text-anchor=\"middle\" x=\"2368.5\" y=\"-1435.8\" font-family=\"Helvetica,sans-Serif\" font-size=\"14.00\" fill=\"#000000\">value = [46, 36]</text>\n<text text-anchor=\"middle\" x=\"2368.5\" y=\"-1420.8\" font-family=\"Helvetica,sans-Serif\" font-size=\"14.00\" fill=\"#000000\">class = 0</text>\n</g>\n<!-- 103&#45;&gt;105 -->\n<g id=\"edge105\" class=\"edge\">\n<title>103&#45;&gt;105</title>\n<path fill=\"none\" stroke=\"#000000\" d=\"M1759.6056,-1535.564C1762.5615,-1534.2535 1765.5348,-1533.054 1768.5,-1532 1865.1948,-1497.6311 2163.8638,-1470.5754 2299.8268,-1459.6934\"/>\n<polygon fill=\"#000000\" stroke=\"#000000\" points=\"2300.424,-1463.157 2310.1154,-1458.876 2299.8696,-1456.179 2300.424,-1463.157\"/>\n</g>\n<!-- 106 -->\n<g id=\"node107\" class=\"node\">\n<title>106</title>\n<polygon fill=\"none\" stroke=\"#000000\" points=\"2426.5,-1377 2310.5,-1377 2310.5,-1294 2426.5,-1294 2426.5,-1377\"/>\n<text text-anchor=\"middle\" x=\"2368.5\" y=\"-1361.8\" font-family=\"Helvetica,sans-Serif\" font-size=\"14.00\" fill=\"#000000\">X[2] &lt;= 32.5</text>\n<text text-anchor=\"middle\" x=\"2368.5\" y=\"-1346.8\" font-family=\"Helvetica,sans-Serif\" font-size=\"14.00\" fill=\"#000000\">gini = 0.494</text>\n<text text-anchor=\"middle\" x=\"2368.5\" y=\"-1331.8\" font-family=\"Helvetica,sans-Serif\" font-size=\"14.00\" fill=\"#000000\">samples = 45</text>\n<text text-anchor=\"middle\" x=\"2368.5\" y=\"-1316.8\" font-family=\"Helvetica,sans-Serif\" font-size=\"14.00\" fill=\"#000000\">value = [20, 25]</text>\n<text text-anchor=\"middle\" x=\"2368.5\" y=\"-1301.8\" font-family=\"Helvetica,sans-Serif\" font-size=\"14.00\" fill=\"#000000\">class = 1</text>\n</g>\n<!-- 105&#45;&gt;106 -->\n<g id=\"edge106\" class=\"edge\">\n<title>105&#45;&gt;106</title>\n<path fill=\"none\" stroke=\"#000000\" d=\"M2368.5,-1412.8796C2368.5,-1404.6838 2368.5,-1395.9891 2368.5,-1387.5013\"/>\n<polygon fill=\"#000000\" stroke=\"#000000\" points=\"2372.0001,-1387.298 2368.5,-1377.2981 2365.0001,-1387.2981 2372.0001,-1387.298\"/>\n</g>\n<!-- 137 -->\n<g id=\"node138\" class=\"node\">\n<title>137</title>\n<polygon fill=\"none\" stroke=\"#000000\" points=\"2665.5,-1377 2549.5,-1377 2549.5,-1294 2665.5,-1294 2665.5,-1377\"/>\n<text text-anchor=\"middle\" x=\"2607.5\" y=\"-1361.8\" font-family=\"Helvetica,sans-Serif\" font-size=\"14.00\" fill=\"#000000\">X[1] &lt;= 24.5</text>\n<text text-anchor=\"middle\" x=\"2607.5\" y=\"-1346.8\" font-family=\"Helvetica,sans-Serif\" font-size=\"14.00\" fill=\"#000000\">gini = 0.418</text>\n<text text-anchor=\"middle\" x=\"2607.5\" y=\"-1331.8\" font-family=\"Helvetica,sans-Serif\" font-size=\"14.00\" fill=\"#000000\">samples = 37</text>\n<text text-anchor=\"middle\" x=\"2607.5\" y=\"-1316.8\" font-family=\"Helvetica,sans-Serif\" font-size=\"14.00\" fill=\"#000000\">value = [26, 11]</text>\n<text text-anchor=\"middle\" x=\"2607.5\" y=\"-1301.8\" font-family=\"Helvetica,sans-Serif\" font-size=\"14.00\" fill=\"#000000\">class = 0</text>\n</g>\n<!-- 105&#45;&gt;137 -->\n<g id=\"edge137\" class=\"edge\">\n<title>105&#45;&gt;137</title>\n<path fill=\"none\" stroke=\"#000000\" d=\"M2426.6604,-1425.5415C2460.9068,-1408.4899 2504.3745,-1386.847 2540.1105,-1369.0538\"/>\n<polygon fill=\"#000000\" stroke=\"#000000\" points=\"2542.1017,-1371.9722 2549.4935,-1364.3819 2538.9817,-1365.706 2542.1017,-1371.9722\"/>\n</g>\n<!-- 107 -->\n<g id=\"node108\" class=\"node\">\n<title>107</title>\n<polygon fill=\"none\" stroke=\"#000000\" points=\"2362.5,-1258 2246.5,-1258 2246.5,-1175 2362.5,-1175 2362.5,-1258\"/>\n<text text-anchor=\"middle\" x=\"2304.5\" y=\"-1242.8\" font-family=\"Helvetica,sans-Serif\" font-size=\"14.00\" fill=\"#000000\">X[2] &lt;= 16.5</text>\n<text text-anchor=\"middle\" x=\"2304.5\" y=\"-1227.8\" font-family=\"Helvetica,sans-Serif\" font-size=\"14.00\" fill=\"#000000\">gini = 0.496</text>\n<text text-anchor=\"middle\" x=\"2304.5\" y=\"-1212.8\" font-family=\"Helvetica,sans-Serif\" font-size=\"14.00\" fill=\"#000000\">samples = 35</text>\n<text text-anchor=\"middle\" x=\"2304.5\" y=\"-1197.8\" font-family=\"Helvetica,sans-Serif\" font-size=\"14.00\" fill=\"#000000\">value = [19, 16]</text>\n<text text-anchor=\"middle\" x=\"2304.5\" y=\"-1182.8\" font-family=\"Helvetica,sans-Serif\" font-size=\"14.00\" fill=\"#000000\">class = 0</text>\n</g>\n<!-- 106&#45;&gt;107 -->\n<g id=\"edge107\" class=\"edge\">\n<title>106&#45;&gt;107</title>\n<path fill=\"none\" stroke=\"#000000\" d=\"M2346.1159,-1293.8796C2341.5144,-1285.3236 2336.6204,-1276.2238 2331.8658,-1267.3833\"/>\n<polygon fill=\"#000000\" stroke=\"#000000\" points=\"2334.7988,-1265.4473 2326.9796,-1258.2981 2328.6338,-1268.763 2334.7988,-1265.4473\"/>\n</g>\n<!-- 132 -->\n<g id=\"node133\" class=\"node\">\n<title>132</title>\n<polygon fill=\"none\" stroke=\"#000000\" points=\"2484.5,-1258 2380.5,-1258 2380.5,-1175 2484.5,-1175 2484.5,-1258\"/>\n<text text-anchor=\"middle\" x=\"2432.5\" y=\"-1242.8\" font-family=\"Helvetica,sans-Serif\" font-size=\"14.00\" fill=\"#000000\">X[2] &lt;= 51.0</text>\n<text text-anchor=\"middle\" x=\"2432.5\" y=\"-1227.8\" font-family=\"Helvetica,sans-Serif\" font-size=\"14.00\" fill=\"#000000\">gini = 0.18</text>\n<text text-anchor=\"middle\" x=\"2432.5\" y=\"-1212.8\" font-family=\"Helvetica,sans-Serif\" font-size=\"14.00\" fill=\"#000000\">samples = 10</text>\n<text text-anchor=\"middle\" x=\"2432.5\" y=\"-1197.8\" font-family=\"Helvetica,sans-Serif\" font-size=\"14.00\" fill=\"#000000\">value = [1, 9]</text>\n<text text-anchor=\"middle\" x=\"2432.5\" y=\"-1182.8\" font-family=\"Helvetica,sans-Serif\" font-size=\"14.00\" fill=\"#000000\">class = 1</text>\n</g>\n<!-- 106&#45;&gt;132 -->\n<g id=\"edge132\" class=\"edge\">\n<title>106&#45;&gt;132</title>\n<path fill=\"none\" stroke=\"#000000\" d=\"M2390.8841,-1293.8796C2395.4856,-1285.3236 2400.3796,-1276.2238 2405.1342,-1267.3833\"/>\n<polygon fill=\"#000000\" stroke=\"#000000\" points=\"2408.3662,-1268.763 2410.0204,-1258.2981 2402.2012,-1265.4473 2408.3662,-1268.763\"/>\n</g>\n<!-- 108 -->\n<g id=\"node109\" class=\"node\">\n<title>108</title>\n<polygon fill=\"none\" stroke=\"#000000\" points=\"2229,-1139 2130,-1139 2130,-1056 2229,-1056 2229,-1139\"/>\n<text text-anchor=\"middle\" x=\"2179.5\" y=\"-1123.8\" font-family=\"Helvetica,sans-Serif\" font-size=\"14.00\" fill=\"#000000\">X[2] &lt;= 13.5</text>\n<text text-anchor=\"middle\" x=\"2179.5\" y=\"-1108.8\" font-family=\"Helvetica,sans-Serif\" font-size=\"14.00\" fill=\"#000000\">gini = 0.245</text>\n<text text-anchor=\"middle\" x=\"2179.5\" y=\"-1093.8\" font-family=\"Helvetica,sans-Serif\" font-size=\"14.00\" fill=\"#000000\">samples = 7</text>\n<text text-anchor=\"middle\" x=\"2179.5\" y=\"-1078.8\" font-family=\"Helvetica,sans-Serif\" font-size=\"14.00\" fill=\"#000000\">value = [1, 6]</text>\n<text text-anchor=\"middle\" x=\"2179.5\" y=\"-1063.8\" font-family=\"Helvetica,sans-Serif\" font-size=\"14.00\" fill=\"#000000\">class = 1</text>\n</g>\n<!-- 107&#45;&gt;108 -->\n<g id=\"edge108\" class=\"edge\">\n<title>107&#45;&gt;108</title>\n<path fill=\"none\" stroke=\"#000000\" d=\"M2260.7811,-1174.8796C2251.1314,-1165.6931 2240.8234,-1155.8798 2230.9009,-1146.4336\"/>\n<polygon fill=\"#000000\" stroke=\"#000000\" points=\"2233.0616,-1143.6582 2223.4055,-1139.2981 2228.235,-1148.7282 2233.0616,-1143.6582\"/>\n</g>\n<!-- 113 -->\n<g id=\"node114\" class=\"node\">\n<title>113</title>\n<polygon fill=\"none\" stroke=\"#000000\" points=\"2363.5,-1139 2247.5,-1139 2247.5,-1056 2363.5,-1056 2363.5,-1139\"/>\n<text text-anchor=\"middle\" x=\"2305.5\" y=\"-1123.8\" font-family=\"Helvetica,sans-Serif\" font-size=\"14.00\" fill=\"#000000\">X[2] &lt;= 18.5</text>\n<text text-anchor=\"middle\" x=\"2305.5\" y=\"-1108.8\" font-family=\"Helvetica,sans-Serif\" font-size=\"14.00\" fill=\"#000000\">gini = 0.459</text>\n<text text-anchor=\"middle\" x=\"2305.5\" y=\"-1093.8\" font-family=\"Helvetica,sans-Serif\" font-size=\"14.00\" fill=\"#000000\">samples = 28</text>\n<text text-anchor=\"middle\" x=\"2305.5\" y=\"-1078.8\" font-family=\"Helvetica,sans-Serif\" font-size=\"14.00\" fill=\"#000000\">value = [18, 10]</text>\n<text text-anchor=\"middle\" x=\"2305.5\" y=\"-1063.8\" font-family=\"Helvetica,sans-Serif\" font-size=\"14.00\" fill=\"#000000\">class = 0</text>\n</g>\n<!-- 107&#45;&gt;113 -->\n<g id=\"edge113\" class=\"edge\">\n<title>107&#45;&gt;113</title>\n<path fill=\"none\" stroke=\"#000000\" d=\"M2304.8498,-1174.8796C2304.9186,-1166.6838 2304.9917,-1157.9891 2305.063,-1149.5013\"/>\n<polygon fill=\"#000000\" stroke=\"#000000\" points=\"2308.5645,-1149.3272 2305.1488,-1139.2981 2301.5648,-1149.2683 2308.5645,-1149.3272\"/>\n</g>\n<!-- 109 -->\n<g id=\"node110\" class=\"node\">\n<title>109</title>\n<polygon fill=\"none\" stroke=\"#000000\" points=\"2113,-1020 2014,-1020 2014,-937 2113,-937 2113,-1020\"/>\n<text text-anchor=\"middle\" x=\"2063.5\" y=\"-1004.8\" font-family=\"Helvetica,sans-Serif\" font-size=\"14.00\" fill=\"#000000\">X[1] &lt;= 29.5</text>\n<text text-anchor=\"middle\" x=\"2063.5\" y=\"-989.8\" font-family=\"Helvetica,sans-Serif\" font-size=\"14.00\" fill=\"#000000\">gini = 0.5</text>\n<text text-anchor=\"middle\" x=\"2063.5\" y=\"-974.8\" font-family=\"Helvetica,sans-Serif\" font-size=\"14.00\" fill=\"#000000\">samples = 2</text>\n<text text-anchor=\"middle\" x=\"2063.5\" y=\"-959.8\" font-family=\"Helvetica,sans-Serif\" font-size=\"14.00\" fill=\"#000000\">value = [1, 1]</text>\n<text text-anchor=\"middle\" x=\"2063.5\" y=\"-944.8\" font-family=\"Helvetica,sans-Serif\" font-size=\"14.00\" fill=\"#000000\">class = 0</text>\n</g>\n<!-- 108&#45;&gt;109 -->\n<g id=\"edge109\" class=\"edge\">\n<title>108&#45;&gt;109</title>\n<path fill=\"none\" stroke=\"#000000\" d=\"M2138.9288,-1055.8796C2130.0618,-1046.7832 2120.5956,-1037.0722 2111.4709,-1027.7116\"/>\n<polygon fill=\"#000000\" stroke=\"#000000\" points=\"2113.7309,-1025.0158 2104.2443,-1020.2981 2108.7183,-1029.9019 2113.7309,-1025.0158\"/>\n</g>\n<!-- 112 -->\n<g id=\"node113\" class=\"node\">\n<title>112</title>\n<polygon fill=\"none\" stroke=\"#000000\" points=\"2230,-1012.5 2131,-1012.5 2131,-944.5 2230,-944.5 2230,-1012.5\"/>\n<text text-anchor=\"middle\" x=\"2180.5\" y=\"-997.3\" font-family=\"Helvetica,sans-Serif\" font-size=\"14.00\" fill=\"#000000\">gini = 0.0</text>\n<text text-anchor=\"middle\" x=\"2180.5\" y=\"-982.3\" font-family=\"Helvetica,sans-Serif\" font-size=\"14.00\" fill=\"#000000\">samples = 5</text>\n<text text-anchor=\"middle\" x=\"2180.5\" y=\"-967.3\" font-family=\"Helvetica,sans-Serif\" font-size=\"14.00\" fill=\"#000000\">value = [0, 5]</text>\n<text text-anchor=\"middle\" x=\"2180.5\" y=\"-952.3\" font-family=\"Helvetica,sans-Serif\" font-size=\"14.00\" fill=\"#000000\">class = 1</text>\n</g>\n<!-- 108&#45;&gt;112 -->\n<g id=\"edge112\" class=\"edge\">\n<title>108&#45;&gt;112</title>\n<path fill=\"none\" stroke=\"#000000\" d=\"M2179.8498,-1055.8796C2179.9394,-1045.2134 2180.0361,-1033.7021 2180.1269,-1022.9015\"/>\n<polygon fill=\"#000000\" stroke=\"#000000\" points=\"2183.6274,-1022.844 2180.2116,-1012.8149 2176.6276,-1022.7851 2183.6274,-1022.844\"/>\n</g>\n<!-- 110 -->\n<g id=\"node111\" class=\"node\">\n<title>110</title>\n<polygon fill=\"none\" stroke=\"#000000\" points=\"2113,-893.5 2014,-893.5 2014,-825.5 2113,-825.5 2113,-893.5\"/>\n<text text-anchor=\"middle\" x=\"2063.5\" y=\"-878.3\" font-family=\"Helvetica,sans-Serif\" font-size=\"14.00\" fill=\"#000000\">gini = 0.0</text>\n<text text-anchor=\"middle\" x=\"2063.5\" y=\"-863.3\" font-family=\"Helvetica,sans-Serif\" font-size=\"14.00\" fill=\"#000000\">samples = 1</text>\n<text text-anchor=\"middle\" x=\"2063.5\" y=\"-848.3\" font-family=\"Helvetica,sans-Serif\" font-size=\"14.00\" fill=\"#000000\">value = [1, 0]</text>\n<text text-anchor=\"middle\" x=\"2063.5\" y=\"-833.3\" font-family=\"Helvetica,sans-Serif\" font-size=\"14.00\" fill=\"#000000\">class = 0</text>\n</g>\n<!-- 109&#45;&gt;110 -->\n<g id=\"edge110\" class=\"edge\">\n<title>109&#45;&gt;110</title>\n<path fill=\"none\" stroke=\"#000000\" d=\"M2063.5,-936.8796C2063.5,-926.2134 2063.5,-914.7021 2063.5,-903.9015\"/>\n<polygon fill=\"#000000\" stroke=\"#000000\" points=\"2067.0001,-903.8149 2063.5,-893.8149 2060.0001,-903.815 2067.0001,-903.8149\"/>\n</g>\n<!-- 111 -->\n<g id=\"node112\" class=\"node\">\n<title>111</title>\n<polygon fill=\"none\" stroke=\"#000000\" points=\"2230,-893.5 2131,-893.5 2131,-825.5 2230,-825.5 2230,-893.5\"/>\n<text text-anchor=\"middle\" x=\"2180.5\" y=\"-878.3\" font-family=\"Helvetica,sans-Serif\" font-size=\"14.00\" fill=\"#000000\">gini = 0.0</text>\n<text text-anchor=\"middle\" x=\"2180.5\" y=\"-863.3\" font-family=\"Helvetica,sans-Serif\" font-size=\"14.00\" fill=\"#000000\">samples = 1</text>\n<text text-anchor=\"middle\" x=\"2180.5\" y=\"-848.3\" font-family=\"Helvetica,sans-Serif\" font-size=\"14.00\" fill=\"#000000\">value = [0, 1]</text>\n<text text-anchor=\"middle\" x=\"2180.5\" y=\"-833.3\" font-family=\"Helvetica,sans-Serif\" font-size=\"14.00\" fill=\"#000000\">class = 1</text>\n</g>\n<!-- 109&#45;&gt;111 -->\n<g id=\"edge111\" class=\"edge\">\n<title>109&#45;&gt;111</title>\n<path fill=\"none\" stroke=\"#000000\" d=\"M2104.4209,-936.8796C2115.7728,-925.3337 2128.0982,-912.7976 2139.457,-901.2446\"/>\n<polygon fill=\"#000000\" stroke=\"#000000\" points=\"2142.2466,-903.3995 2146.7618,-893.8149 2137.2551,-898.4919 2142.2466,-903.3995\"/>\n</g>\n<!-- 114 -->\n<g id=\"node115\" class=\"node\">\n<title>114</title>\n<polygon fill=\"none\" stroke=\"#000000\" points=\"2347,-1012.5 2248,-1012.5 2248,-944.5 2347,-944.5 2347,-1012.5\"/>\n<text text-anchor=\"middle\" x=\"2297.5\" y=\"-997.3\" font-family=\"Helvetica,sans-Serif\" font-size=\"14.00\" fill=\"#000000\">gini = 0.0</text>\n<text text-anchor=\"middle\" x=\"2297.5\" y=\"-982.3\" font-family=\"Helvetica,sans-Serif\" font-size=\"14.00\" fill=\"#000000\">samples = 8</text>\n<text text-anchor=\"middle\" x=\"2297.5\" y=\"-967.3\" font-family=\"Helvetica,sans-Serif\" font-size=\"14.00\" fill=\"#000000\">value = [8, 0]</text>\n<text text-anchor=\"middle\" x=\"2297.5\" y=\"-952.3\" font-family=\"Helvetica,sans-Serif\" font-size=\"14.00\" fill=\"#000000\">class = 0</text>\n</g>\n<!-- 113&#45;&gt;114 -->\n<g id=\"edge114\" class=\"edge\">\n<title>113&#45;&gt;114</title>\n<path fill=\"none\" stroke=\"#000000\" d=\"M2302.702,-1055.8796C2301.9849,-1045.2134 2301.2111,-1033.7021 2300.485,-1022.9015\"/>\n<polygon fill=\"#000000\" stroke=\"#000000\" points=\"2303.9699,-1022.5576 2299.8069,-1012.8149 2296.9856,-1023.0272 2303.9699,-1022.5576\"/>\n</g>\n<!-- 115 -->\n<g id=\"node116\" class=\"node\">\n<title>115</title>\n<polygon fill=\"none\" stroke=\"#000000\" points=\"2481.5,-1020 2365.5,-1020 2365.5,-937 2481.5,-937 2481.5,-1020\"/>\n<text text-anchor=\"middle\" x=\"2423.5\" y=\"-1004.8\" font-family=\"Helvetica,sans-Serif\" font-size=\"14.00\" fill=\"#000000\">X[2] &lt;= 29.0</text>\n<text text-anchor=\"middle\" x=\"2423.5\" y=\"-989.8\" font-family=\"Helvetica,sans-Serif\" font-size=\"14.00\" fill=\"#000000\">gini = 0.5</text>\n<text text-anchor=\"middle\" x=\"2423.5\" y=\"-974.8\" font-family=\"Helvetica,sans-Serif\" font-size=\"14.00\" fill=\"#000000\">samples = 20</text>\n<text text-anchor=\"middle\" x=\"2423.5\" y=\"-959.8\" font-family=\"Helvetica,sans-Serif\" font-size=\"14.00\" fill=\"#000000\">value = [10, 10]</text>\n<text text-anchor=\"middle\" x=\"2423.5\" y=\"-944.8\" font-family=\"Helvetica,sans-Serif\" font-size=\"14.00\" fill=\"#000000\">class = 0</text>\n</g>\n<!-- 113&#45;&gt;115 -->\n<g id=\"edge115\" class=\"edge\">\n<title>113&#45;&gt;115</title>\n<path fill=\"none\" stroke=\"#000000\" d=\"M2346.7707,-1055.8796C2355.8799,-1046.6931 2365.6108,-1036.8798 2374.9776,-1027.4336\"/>\n<polygon fill=\"#000000\" stroke=\"#000000\" points=\"2377.4973,-1029.8634 2382.0532,-1020.2981 2372.5267,-1024.9345 2377.4973,-1029.8634\"/>\n</g>\n<!-- 116 -->\n<g id=\"node117\" class=\"node\">\n<title>116</title>\n<polygon fill=\"none\" stroke=\"#000000\" points=\"2450,-901 2343,-901 2343,-818 2450,-818 2450,-901\"/>\n<text text-anchor=\"middle\" x=\"2396.5\" y=\"-885.8\" font-family=\"Helvetica,sans-Serif\" font-size=\"14.00\" fill=\"#000000\">X[2] &lt;= 19.5</text>\n<text text-anchor=\"middle\" x=\"2396.5\" y=\"-870.8\" font-family=\"Helvetica,sans-Serif\" font-size=\"14.00\" fill=\"#000000\">gini = 0.484</text>\n<text text-anchor=\"middle\" x=\"2396.5\" y=\"-855.8\" font-family=\"Helvetica,sans-Serif\" font-size=\"14.00\" fill=\"#000000\">samples = 17</text>\n<text text-anchor=\"middle\" x=\"2396.5\" y=\"-840.8\" font-family=\"Helvetica,sans-Serif\" font-size=\"14.00\" fill=\"#000000\">value = [7, 10]</text>\n<text text-anchor=\"middle\" x=\"2396.5\" y=\"-825.8\" font-family=\"Helvetica,sans-Serif\" font-size=\"14.00\" fill=\"#000000\">class = 1</text>\n</g>\n<!-- 115&#45;&gt;116 -->\n<g id=\"edge116\" class=\"edge\">\n<title>115&#45;&gt;116</title>\n<path fill=\"none\" stroke=\"#000000\" d=\"M2414.0567,-936.8796C2412.1767,-928.5938 2410.1811,-919.798 2408.2351,-911.2216\"/>\n<polygon fill=\"#000000\" stroke=\"#000000\" points=\"2411.6096,-910.2757 2405.9836,-901.2981 2404.7831,-911.8247 2411.6096,-910.2757\"/>\n</g>\n<!-- 131 -->\n<g id=\"node132\" class=\"node\">\n<title>131</title>\n<polygon fill=\"none\" stroke=\"#000000\" points=\"2567,-893.5 2468,-893.5 2468,-825.5 2567,-825.5 2567,-893.5\"/>\n<text text-anchor=\"middle\" x=\"2517.5\" y=\"-878.3\" font-family=\"Helvetica,sans-Serif\" font-size=\"14.00\" fill=\"#000000\">gini = 0.0</text>\n<text text-anchor=\"middle\" x=\"2517.5\" y=\"-863.3\" font-family=\"Helvetica,sans-Serif\" font-size=\"14.00\" fill=\"#000000\">samples = 3</text>\n<text text-anchor=\"middle\" x=\"2517.5\" y=\"-848.3\" font-family=\"Helvetica,sans-Serif\" font-size=\"14.00\" fill=\"#000000\">value = [3, 0]</text>\n<text text-anchor=\"middle\" x=\"2517.5\" y=\"-833.3\" font-family=\"Helvetica,sans-Serif\" font-size=\"14.00\" fill=\"#000000\">class = 0</text>\n</g>\n<!-- 115&#45;&gt;131 -->\n<g id=\"edge131\" class=\"edge\">\n<title>115&#45;&gt;131</title>\n<path fill=\"none\" stroke=\"#000000\" d=\"M2456.3766,-936.8796C2465.3232,-925.5536 2475.0224,-913.2748 2484.0029,-901.9058\"/>\n<polygon fill=\"#000000\" stroke=\"#000000\" points=\"2486.942,-903.8316 2490.3941,-893.8149 2481.449,-899.4926 2486.942,-903.8316\"/>\n</g>\n<!-- 117 -->\n<g id=\"node118\" class=\"node\">\n<title>117</title>\n<polygon fill=\"none\" stroke=\"#000000\" points=\"2351,-774.5 2252,-774.5 2252,-706.5 2351,-706.5 2351,-774.5\"/>\n<text text-anchor=\"middle\" x=\"2301.5\" y=\"-759.3\" font-family=\"Helvetica,sans-Serif\" font-size=\"14.00\" fill=\"#000000\">gini = 0.0</text>\n<text text-anchor=\"middle\" x=\"2301.5\" y=\"-744.3\" font-family=\"Helvetica,sans-Serif\" font-size=\"14.00\" fill=\"#000000\">samples = 2</text>\n<text text-anchor=\"middle\" x=\"2301.5\" y=\"-729.3\" font-family=\"Helvetica,sans-Serif\" font-size=\"14.00\" fill=\"#000000\">value = [0, 2]</text>\n<text text-anchor=\"middle\" x=\"2301.5\" y=\"-714.3\" font-family=\"Helvetica,sans-Serif\" font-size=\"14.00\" fill=\"#000000\">class = 1</text>\n</g>\n<!-- 116&#45;&gt;117 -->\n<g id=\"edge117\" class=\"edge\">\n<title>116&#45;&gt;117</title>\n<path fill=\"none\" stroke=\"#000000\" d=\"M2363.2736,-817.8796C2354.2319,-806.5536 2344.4295,-794.2748 2335.3534,-782.9058\"/>\n<polygon fill=\"#000000\" stroke=\"#000000\" points=\"2337.8685,-780.4464 2328.8943,-774.8149 2332.398,-784.8137 2337.8685,-780.4464\"/>\n</g>\n<!-- 118 -->\n<g id=\"node119\" class=\"node\">\n<title>118</title>\n<polygon fill=\"none\" stroke=\"#000000\" points=\"2473.5,-782 2369.5,-782 2369.5,-699 2473.5,-699 2473.5,-782\"/>\n<text text-anchor=\"middle\" x=\"2421.5\" y=\"-766.8\" font-family=\"Helvetica,sans-Serif\" font-size=\"14.00\" fill=\"#000000\">X[2] &lt;= 20.5</text>\n<text text-anchor=\"middle\" x=\"2421.5\" y=\"-751.8\" font-family=\"Helvetica,sans-Serif\" font-size=\"14.00\" fill=\"#000000\">gini = 0.498</text>\n<text text-anchor=\"middle\" x=\"2421.5\" y=\"-736.8\" font-family=\"Helvetica,sans-Serif\" font-size=\"14.00\" fill=\"#000000\">samples = 15</text>\n<text text-anchor=\"middle\" x=\"2421.5\" y=\"-721.8\" font-family=\"Helvetica,sans-Serif\" font-size=\"14.00\" fill=\"#000000\">value = [7, 8]</text>\n<text text-anchor=\"middle\" x=\"2421.5\" y=\"-706.8\" font-family=\"Helvetica,sans-Serif\" font-size=\"14.00\" fill=\"#000000\">class = 1</text>\n</g>\n<!-- 116&#45;&gt;118 -->\n<g id=\"edge118\" class=\"edge\">\n<title>116&#45;&gt;118</title>\n<path fill=\"none\" stroke=\"#000000\" d=\"M2405.2438,-817.8796C2406.9845,-809.5938 2408.8324,-800.798 2410.6341,-792.2216\"/>\n<polygon fill=\"#000000\" stroke=\"#000000\" points=\"2414.0881,-792.8041 2412.7189,-782.2981 2407.2376,-791.3648 2414.0881,-792.8041\"/>\n</g>\n<!-- 119 -->\n<g id=\"node120\" class=\"node\">\n<title>119</title>\n<polygon fill=\"none\" stroke=\"#000000\" points=\"2458,-655.5 2359,-655.5 2359,-587.5 2458,-587.5 2458,-655.5\"/>\n<text text-anchor=\"middle\" x=\"2408.5\" y=\"-640.3\" font-family=\"Helvetica,sans-Serif\" font-size=\"14.00\" fill=\"#000000\">gini = 0.0</text>\n<text text-anchor=\"middle\" x=\"2408.5\" y=\"-625.3\" font-family=\"Helvetica,sans-Serif\" font-size=\"14.00\" fill=\"#000000\">samples = 3</text>\n<text text-anchor=\"middle\" x=\"2408.5\" y=\"-610.3\" font-family=\"Helvetica,sans-Serif\" font-size=\"14.00\" fill=\"#000000\">value = [3, 0]</text>\n<text text-anchor=\"middle\" x=\"2408.5\" y=\"-595.3\" font-family=\"Helvetica,sans-Serif\" font-size=\"14.00\" fill=\"#000000\">class = 0</text>\n</g>\n<!-- 118&#45;&gt;119 -->\n<g id=\"edge119\" class=\"edge\">\n<title>118&#45;&gt;119</title>\n<path fill=\"none\" stroke=\"#000000\" d=\"M2416.9532,-698.8796C2415.788,-688.2134 2414.5305,-676.7021 2413.3506,-665.9015\"/>\n<polygon fill=\"#000000\" stroke=\"#000000\" points=\"2416.8141,-665.3757 2412.2487,-655.8149 2409.8555,-666.1359 2416.8141,-665.3757\"/>\n</g>\n<!-- 120 -->\n<g id=\"node121\" class=\"node\">\n<title>120</title>\n<polygon fill=\"none\" stroke=\"#000000\" points=\"2580.5,-663 2476.5,-663 2476.5,-580 2580.5,-580 2580.5,-663\"/>\n<text text-anchor=\"middle\" x=\"2528.5\" y=\"-647.8\" font-family=\"Helvetica,sans-Serif\" font-size=\"14.00\" fill=\"#000000\">X[1] &lt;= 30.0</text>\n<text text-anchor=\"middle\" x=\"2528.5\" y=\"-632.8\" font-family=\"Helvetica,sans-Serif\" font-size=\"14.00\" fill=\"#000000\">gini = 0.444</text>\n<text text-anchor=\"middle\" x=\"2528.5\" y=\"-617.8\" font-family=\"Helvetica,sans-Serif\" font-size=\"14.00\" fill=\"#000000\">samples = 12</text>\n<text text-anchor=\"middle\" x=\"2528.5\" y=\"-602.8\" font-family=\"Helvetica,sans-Serif\" font-size=\"14.00\" fill=\"#000000\">value = [4, 8]</text>\n<text text-anchor=\"middle\" x=\"2528.5\" y=\"-587.8\" font-family=\"Helvetica,sans-Serif\" font-size=\"14.00\" fill=\"#000000\">class = 1</text>\n</g>\n<!-- 118&#45;&gt;120 -->\n<g id=\"edge120\" class=\"edge\">\n<title>118&#45;&gt;120</title>\n<path fill=\"none\" stroke=\"#000000\" d=\"M2458.9234,-698.8796C2467.0215,-689.8733 2475.6614,-680.2644 2484.0009,-670.9897\"/>\n<polygon fill=\"#000000\" stroke=\"#000000\" points=\"2486.8333,-673.0743 2490.9169,-663.2981 2481.628,-668.394 2486.8333,-673.0743\"/>\n</g>\n<!-- 121 -->\n<g id=\"node122\" class=\"node\">\n<title>121</title>\n<polygon fill=\"none\" stroke=\"#000000\" points=\"2512,-544 2413,-544 2413,-461 2512,-461 2512,-544\"/>\n<text text-anchor=\"middle\" x=\"2462.5\" y=\"-528.8\" font-family=\"Helvetica,sans-Serif\" font-size=\"14.00\" fill=\"#000000\">X[1] &lt;= 24.5</text>\n<text text-anchor=\"middle\" x=\"2462.5\" y=\"-513.8\" font-family=\"Helvetica,sans-Serif\" font-size=\"14.00\" fill=\"#000000\">gini = 0.494</text>\n<text text-anchor=\"middle\" x=\"2462.5\" y=\"-498.8\" font-family=\"Helvetica,sans-Serif\" font-size=\"14.00\" fill=\"#000000\">samples = 9</text>\n<text text-anchor=\"middle\" x=\"2462.5\" y=\"-483.8\" font-family=\"Helvetica,sans-Serif\" font-size=\"14.00\" fill=\"#000000\">value = [4, 5]</text>\n<text text-anchor=\"middle\" x=\"2462.5\" y=\"-468.8\" font-family=\"Helvetica,sans-Serif\" font-size=\"14.00\" fill=\"#000000\">class = 1</text>\n</g>\n<!-- 120&#45;&gt;121 -->\n<g id=\"edge121\" class=\"edge\">\n<title>120&#45;&gt;121</title>\n<path fill=\"none\" stroke=\"#000000\" d=\"M2505.4164,-579.8796C2500.6211,-571.2335 2495.5178,-562.0322 2490.5662,-553.1042\"/>\n<polygon fill=\"#000000\" stroke=\"#000000\" points=\"2493.5931,-551.3455 2485.6821,-544.2981 2487.4716,-554.7407 2493.5931,-551.3455\"/>\n</g>\n<!-- 130 -->\n<g id=\"node131\" class=\"node\">\n<title>130</title>\n<polygon fill=\"none\" stroke=\"#000000\" points=\"2629,-536.5 2530,-536.5 2530,-468.5 2629,-468.5 2629,-536.5\"/>\n<text text-anchor=\"middle\" x=\"2579.5\" y=\"-521.3\" font-family=\"Helvetica,sans-Serif\" font-size=\"14.00\" fill=\"#000000\">gini = 0.0</text>\n<text text-anchor=\"middle\" x=\"2579.5\" y=\"-506.3\" font-family=\"Helvetica,sans-Serif\" font-size=\"14.00\" fill=\"#000000\">samples = 3</text>\n<text text-anchor=\"middle\" x=\"2579.5\" y=\"-491.3\" font-family=\"Helvetica,sans-Serif\" font-size=\"14.00\" fill=\"#000000\">value = [0, 3]</text>\n<text text-anchor=\"middle\" x=\"2579.5\" y=\"-476.3\" font-family=\"Helvetica,sans-Serif\" font-size=\"14.00\" fill=\"#000000\">class = 1</text>\n</g>\n<!-- 120&#45;&gt;130 -->\n<g id=\"edge130\" class=\"edge\">\n<title>120&#45;&gt;130</title>\n<path fill=\"none\" stroke=\"#000000\" d=\"M2546.3373,-579.8796C2551.0028,-568.9935 2556.0456,-557.227 2560.7567,-546.2344\"/>\n<polygon fill=\"#000000\" stroke=\"#000000\" points=\"2564.0714,-547.3851 2564.7936,-536.8149 2557.6373,-544.6277 2564.0714,-547.3851\"/>\n</g>\n<!-- 122 -->\n<g id=\"node123\" class=\"node\">\n<title>122</title>\n<polygon fill=\"none\" stroke=\"#000000\" points=\"2421,-417.5 2322,-417.5 2322,-349.5 2421,-349.5 2421,-417.5\"/>\n<text text-anchor=\"middle\" x=\"2371.5\" y=\"-402.3\" font-family=\"Helvetica,sans-Serif\" font-size=\"14.00\" fill=\"#000000\">gini = 0.0</text>\n<text text-anchor=\"middle\" x=\"2371.5\" y=\"-387.3\" font-family=\"Helvetica,sans-Serif\" font-size=\"14.00\" fill=\"#000000\">samples = 2</text>\n<text text-anchor=\"middle\" x=\"2371.5\" y=\"-372.3\" font-family=\"Helvetica,sans-Serif\" font-size=\"14.00\" fill=\"#000000\">value = [0, 2]</text>\n<text text-anchor=\"middle\" x=\"2371.5\" y=\"-357.3\" font-family=\"Helvetica,sans-Serif\" font-size=\"14.00\" fill=\"#000000\">class = 1</text>\n</g>\n<!-- 121&#45;&gt;122 -->\n<g id=\"edge122\" class=\"edge\">\n<title>121&#45;&gt;122</title>\n<path fill=\"none\" stroke=\"#000000\" d=\"M2430.6726,-460.8796C2422.0116,-449.5536 2412.6219,-437.2748 2403.928,-425.9058\"/>\n<polygon fill=\"#000000\" stroke=\"#000000\" points=\"2406.5956,-423.6324 2397.7408,-417.8149 2401.0351,-427.8846 2406.5956,-423.6324\"/>\n</g>\n<!-- 123 -->\n<g id=\"node124\" class=\"node\">\n<title>123</title>\n<polygon fill=\"none\" stroke=\"#000000\" points=\"2538,-425 2439,-425 2439,-342 2538,-342 2538,-425\"/>\n<text text-anchor=\"middle\" x=\"2488.5\" y=\"-409.8\" font-family=\"Helvetica,sans-Serif\" font-size=\"14.00\" fill=\"#000000\">X[1] &lt;= 26.5</text>\n<text text-anchor=\"middle\" x=\"2488.5\" y=\"-394.8\" font-family=\"Helvetica,sans-Serif\" font-size=\"14.00\" fill=\"#000000\">gini = 0.49</text>\n<text text-anchor=\"middle\" x=\"2488.5\" y=\"-379.8\" font-family=\"Helvetica,sans-Serif\" font-size=\"14.00\" fill=\"#000000\">samples = 7</text>\n<text text-anchor=\"middle\" x=\"2488.5\" y=\"-364.8\" font-family=\"Helvetica,sans-Serif\" font-size=\"14.00\" fill=\"#000000\">value = [4, 3]</text>\n<text text-anchor=\"middle\" x=\"2488.5\" y=\"-349.8\" font-family=\"Helvetica,sans-Serif\" font-size=\"14.00\" fill=\"#000000\">class = 0</text>\n</g>\n<!-- 121&#45;&gt;123 -->\n<g id=\"edge123\" class=\"edge\">\n<title>121&#45;&gt;123</title>\n<path fill=\"none\" stroke=\"#000000\" d=\"M2471.5935,-460.8796C2473.4039,-452.5938 2475.3257,-443.798 2477.1995,-435.2216\"/>\n<polygon fill=\"#000000\" stroke=\"#000000\" points=\"2480.6524,-435.8147 2479.3676,-425.2981 2473.8137,-434.3205 2480.6524,-435.8147\"/>\n</g>\n<!-- 124 -->\n<g id=\"node125\" class=\"node\">\n<title>124</title>\n<polygon fill=\"none\" stroke=\"#000000\" points=\"2424,-298.5 2325,-298.5 2325,-230.5 2424,-230.5 2424,-298.5\"/>\n<text text-anchor=\"middle\" x=\"2374.5\" y=\"-283.3\" font-family=\"Helvetica,sans-Serif\" font-size=\"14.00\" fill=\"#000000\">gini = 0.0</text>\n<text text-anchor=\"middle\" x=\"2374.5\" y=\"-268.3\" font-family=\"Helvetica,sans-Serif\" font-size=\"14.00\" fill=\"#000000\">samples = 2</text>\n<text text-anchor=\"middle\" x=\"2374.5\" y=\"-253.3\" font-family=\"Helvetica,sans-Serif\" font-size=\"14.00\" fill=\"#000000\">value = [2, 0]</text>\n<text text-anchor=\"middle\" x=\"2374.5\" y=\"-238.3\" font-family=\"Helvetica,sans-Serif\" font-size=\"14.00\" fill=\"#000000\">class = 0</text>\n</g>\n<!-- 123&#45;&gt;124 -->\n<g id=\"edge124\" class=\"edge\">\n<title>123&#45;&gt;124</title>\n<path fill=\"none\" stroke=\"#000000\" d=\"M2448.6283,-341.8796C2437.5676,-330.3337 2425.5582,-317.7976 2414.4906,-306.2446\"/>\n<polygon fill=\"#000000\" stroke=\"#000000\" points=\"2416.8183,-303.6149 2407.3731,-298.8149 2411.7635,-308.4573 2416.8183,-303.6149\"/>\n</g>\n<!-- 125 -->\n<g id=\"node126\" class=\"node\">\n<title>125</title>\n<polygon fill=\"none\" stroke=\"#000000\" points=\"2561,-306 2442,-306 2442,-223 2561,-223 2561,-306\"/>\n<text text-anchor=\"middle\" x=\"2501.5\" y=\"-290.8\" font-family=\"Helvetica,sans-Serif\" font-size=\"14.00\" fill=\"#000000\">X[0] &lt;= 2368.44</text>\n<text text-anchor=\"middle\" x=\"2501.5\" y=\"-275.8\" font-family=\"Helvetica,sans-Serif\" font-size=\"14.00\" fill=\"#000000\">gini = 0.48</text>\n<text text-anchor=\"middle\" x=\"2501.5\" y=\"-260.8\" font-family=\"Helvetica,sans-Serif\" font-size=\"14.00\" fill=\"#000000\">samples = 5</text>\n<text text-anchor=\"middle\" x=\"2501.5\" y=\"-245.8\" font-family=\"Helvetica,sans-Serif\" font-size=\"14.00\" fill=\"#000000\">value = [2, 3]</text>\n<text text-anchor=\"middle\" x=\"2501.5\" y=\"-230.8\" font-family=\"Helvetica,sans-Serif\" font-size=\"14.00\" fill=\"#000000\">class = 1</text>\n</g>\n<!-- 123&#45;&gt;125 -->\n<g id=\"edge125\" class=\"edge\">\n<title>123&#45;&gt;125</title>\n<path fill=\"none\" stroke=\"#000000\" d=\"M2493.0468,-341.8796C2493.9421,-333.6838 2494.8919,-324.9891 2495.8192,-316.5013\"/>\n<polygon fill=\"#000000\" stroke=\"#000000\" points=\"2499.3271,-316.6191 2496.9338,-306.2981 2492.3685,-315.8588 2499.3271,-316.6191\"/>\n</g>\n<!-- 126 -->\n<g id=\"node127\" class=\"node\">\n<title>126</title>\n<polygon fill=\"none\" stroke=\"#000000\" points=\"2499,-179.5 2400,-179.5 2400,-111.5 2499,-111.5 2499,-179.5\"/>\n<text text-anchor=\"middle\" x=\"2449.5\" y=\"-164.3\" font-family=\"Helvetica,sans-Serif\" font-size=\"14.00\" fill=\"#000000\">gini = 0.0</text>\n<text text-anchor=\"middle\" x=\"2449.5\" y=\"-149.3\" font-family=\"Helvetica,sans-Serif\" font-size=\"14.00\" fill=\"#000000\">samples = 2</text>\n<text text-anchor=\"middle\" x=\"2449.5\" y=\"-134.3\" font-family=\"Helvetica,sans-Serif\" font-size=\"14.00\" fill=\"#000000\">value = [0, 2]</text>\n<text text-anchor=\"middle\" x=\"2449.5\" y=\"-119.3\" font-family=\"Helvetica,sans-Serif\" font-size=\"14.00\" fill=\"#000000\">class = 1</text>\n</g>\n<!-- 125&#45;&gt;126 -->\n<g id=\"edge126\" class=\"edge\">\n<title>125&#45;&gt;126</title>\n<path fill=\"none\" stroke=\"#000000\" d=\"M2483.3129,-222.8796C2478.556,-211.9935 2473.4143,-200.227 2468.6108,-189.2344\"/>\n<polygon fill=\"#000000\" stroke=\"#000000\" points=\"2471.7061,-187.5768 2464.4948,-179.8149 2465.2918,-190.3798 2471.7061,-187.5768\"/>\n</g>\n<!-- 127 -->\n<g id=\"node128\" class=\"node\">\n<title>127</title>\n<polygon fill=\"none\" stroke=\"#000000\" points=\"2616,-187 2517,-187 2517,-104 2616,-104 2616,-187\"/>\n<text text-anchor=\"middle\" x=\"2566.5\" y=\"-171.8\" font-family=\"Helvetica,sans-Serif\" font-size=\"14.00\" fill=\"#000000\">X[2] &lt;= 27.5</text>\n<text text-anchor=\"middle\" x=\"2566.5\" y=\"-156.8\" font-family=\"Helvetica,sans-Serif\" font-size=\"14.00\" fill=\"#000000\">gini = 0.444</text>\n<text text-anchor=\"middle\" x=\"2566.5\" y=\"-141.8\" font-family=\"Helvetica,sans-Serif\" font-size=\"14.00\" fill=\"#000000\">samples = 3</text>\n<text text-anchor=\"middle\" x=\"2566.5\" y=\"-126.8\" font-family=\"Helvetica,sans-Serif\" font-size=\"14.00\" fill=\"#000000\">value = [2, 1]</text>\n<text text-anchor=\"middle\" x=\"2566.5\" y=\"-111.8\" font-family=\"Helvetica,sans-Serif\" font-size=\"14.00\" fill=\"#000000\">class = 0</text>\n</g>\n<!-- 125&#45;&gt;127 -->\n<g id=\"edge127\" class=\"edge\">\n<title>125&#45;&gt;127</title>\n<path fill=\"none\" stroke=\"#000000\" d=\"M2524.2338,-222.8796C2528.9565,-214.2335 2533.9824,-205.0322 2538.859,-196.1042\"/>\n<polygon fill=\"#000000\" stroke=\"#000000\" points=\"2541.947,-197.752 2543.6691,-187.2981 2535.8037,-194.3964 2541.947,-197.752\"/>\n</g>\n<!-- 128 -->\n<g id=\"node129\" class=\"node\">\n<title>128</title>\n<polygon fill=\"none\" stroke=\"#000000\" points=\"2590,-68 2491,-68 2491,0 2590,0 2590,-68\"/>\n<text text-anchor=\"middle\" x=\"2540.5\" y=\"-52.8\" font-family=\"Helvetica,sans-Serif\" font-size=\"14.00\" fill=\"#000000\">gini = 0.0</text>\n<text text-anchor=\"middle\" x=\"2540.5\" y=\"-37.8\" font-family=\"Helvetica,sans-Serif\" font-size=\"14.00\" fill=\"#000000\">samples = 2</text>\n<text text-anchor=\"middle\" x=\"2540.5\" y=\"-22.8\" font-family=\"Helvetica,sans-Serif\" font-size=\"14.00\" fill=\"#000000\">value = [2, 0]</text>\n<text text-anchor=\"middle\" x=\"2540.5\" y=\"-7.8\" font-family=\"Helvetica,sans-Serif\" font-size=\"14.00\" fill=\"#000000\">class = 0</text>\n</g>\n<!-- 127&#45;&gt;128 -->\n<g id=\"edge128\" class=\"edge\">\n<title>127&#45;&gt;128</title>\n<path fill=\"none\" stroke=\"#000000\" d=\"M2556.8186,-103.9815C2554.8469,-95.5261 2552.7661,-86.6026 2550.7746,-78.0623\"/>\n<polygon fill=\"#000000\" stroke=\"#000000\" points=\"2554.1693,-77.2076 2548.4897,-68.2637 2547.3522,-78.7973 2554.1693,-77.2076\"/>\n</g>\n<!-- 129 -->\n<g id=\"node130\" class=\"node\">\n<title>129</title>\n<polygon fill=\"none\" stroke=\"#000000\" points=\"2707,-68 2608,-68 2608,0 2707,0 2707,-68\"/>\n<text text-anchor=\"middle\" x=\"2657.5\" y=\"-52.8\" font-family=\"Helvetica,sans-Serif\" font-size=\"14.00\" fill=\"#000000\">gini = 0.0</text>\n<text text-anchor=\"middle\" x=\"2657.5\" y=\"-37.8\" font-family=\"Helvetica,sans-Serif\" font-size=\"14.00\" fill=\"#000000\">samples = 1</text>\n<text text-anchor=\"middle\" x=\"2657.5\" y=\"-22.8\" font-family=\"Helvetica,sans-Serif\" font-size=\"14.00\" fill=\"#000000\">value = [0, 1]</text>\n<text text-anchor=\"middle\" x=\"2657.5\" y=\"-7.8\" font-family=\"Helvetica,sans-Serif\" font-size=\"14.00\" fill=\"#000000\">class = 1</text>\n</g>\n<!-- 127&#45;&gt;129 -->\n<g id=\"edge129\" class=\"edge\">\n<title>127&#45;&gt;129</title>\n<path fill=\"none\" stroke=\"#000000\" d=\"M2600.385,-103.9815C2607.8109,-94.8828 2615.6792,-85.242 2623.1241,-76.1199\"/>\n<polygon fill=\"#000000\" stroke=\"#000000\" points=\"2625.9245,-78.224 2629.5359,-68.2637 2620.5014,-73.798 2625.9245,-78.224\"/>\n</g>\n<!-- 133 -->\n<g id=\"node134\" class=\"node\">\n<title>133</title>\n<polygon fill=\"none\" stroke=\"#000000\" points=\"2482,-1131.5 2383,-1131.5 2383,-1063.5 2482,-1063.5 2482,-1131.5\"/>\n<text text-anchor=\"middle\" x=\"2432.5\" y=\"-1116.3\" font-family=\"Helvetica,sans-Serif\" font-size=\"14.00\" fill=\"#000000\">gini = 0.0</text>\n<text text-anchor=\"middle\" x=\"2432.5\" y=\"-1101.3\" font-family=\"Helvetica,sans-Serif\" font-size=\"14.00\" fill=\"#000000\">samples = 8</text>\n<text text-anchor=\"middle\" x=\"2432.5\" y=\"-1086.3\" font-family=\"Helvetica,sans-Serif\" font-size=\"14.00\" fill=\"#000000\">value = [0, 8]</text>\n<text text-anchor=\"middle\" x=\"2432.5\" y=\"-1071.3\" font-family=\"Helvetica,sans-Serif\" font-size=\"14.00\" fill=\"#000000\">class = 1</text>\n</g>\n<!-- 132&#45;&gt;133 -->\n<g id=\"edge133\" class=\"edge\">\n<title>132&#45;&gt;133</title>\n<path fill=\"none\" stroke=\"#000000\" d=\"M2432.5,-1174.8796C2432.5,-1164.2134 2432.5,-1152.7021 2432.5,-1141.9015\"/>\n<polygon fill=\"#000000\" stroke=\"#000000\" points=\"2436.0001,-1141.8149 2432.5,-1131.8149 2429.0001,-1141.815 2436.0001,-1141.8149\"/>\n</g>\n<!-- 134 -->\n<g id=\"node135\" class=\"node\">\n<title>134</title>\n<polygon fill=\"none\" stroke=\"#000000\" points=\"2599,-1139 2500,-1139 2500,-1056 2599,-1056 2599,-1139\"/>\n<text text-anchor=\"middle\" x=\"2549.5\" y=\"-1123.8\" font-family=\"Helvetica,sans-Serif\" font-size=\"14.00\" fill=\"#000000\">X[2] &lt;= 52.5</text>\n<text text-anchor=\"middle\" x=\"2549.5\" y=\"-1108.8\" font-family=\"Helvetica,sans-Serif\" font-size=\"14.00\" fill=\"#000000\">gini = 0.5</text>\n<text text-anchor=\"middle\" x=\"2549.5\" y=\"-1093.8\" font-family=\"Helvetica,sans-Serif\" font-size=\"14.00\" fill=\"#000000\">samples = 2</text>\n<text text-anchor=\"middle\" x=\"2549.5\" y=\"-1078.8\" font-family=\"Helvetica,sans-Serif\" font-size=\"14.00\" fill=\"#000000\">value = [1, 1]</text>\n<text text-anchor=\"middle\" x=\"2549.5\" y=\"-1063.8\" font-family=\"Helvetica,sans-Serif\" font-size=\"14.00\" fill=\"#000000\">class = 0</text>\n</g>\n<!-- 132&#45;&gt;134 -->\n<g id=\"edge134\" class=\"edge\">\n<title>132&#45;&gt;134</title>\n<path fill=\"none\" stroke=\"#000000\" d=\"M2473.4209,-1174.8796C2482.453,-1165.6931 2492.1013,-1155.8798 2501.3888,-1146.4336\"/>\n<polygon fill=\"#000000\" stroke=\"#000000\" points=\"2503.8893,-1148.8827 2508.4044,-1139.2981 2498.8977,-1143.975 2503.8893,-1148.8827\"/>\n</g>\n<!-- 135 -->\n<g id=\"node136\" class=\"node\">\n<title>135</title>\n<polygon fill=\"none\" stroke=\"#000000\" points=\"2599,-1012.5 2500,-1012.5 2500,-944.5 2599,-944.5 2599,-1012.5\"/>\n<text text-anchor=\"middle\" x=\"2549.5\" y=\"-997.3\" font-family=\"Helvetica,sans-Serif\" font-size=\"14.00\" fill=\"#000000\">gini = 0.0</text>\n<text text-anchor=\"middle\" x=\"2549.5\" y=\"-982.3\" font-family=\"Helvetica,sans-Serif\" font-size=\"14.00\" fill=\"#000000\">samples = 1</text>\n<text text-anchor=\"middle\" x=\"2549.5\" y=\"-967.3\" font-family=\"Helvetica,sans-Serif\" font-size=\"14.00\" fill=\"#000000\">value = [1, 0]</text>\n<text text-anchor=\"middle\" x=\"2549.5\" y=\"-952.3\" font-family=\"Helvetica,sans-Serif\" font-size=\"14.00\" fill=\"#000000\">class = 0</text>\n</g>\n<!-- 134&#45;&gt;135 -->\n<g id=\"edge135\" class=\"edge\">\n<title>134&#45;&gt;135</title>\n<path fill=\"none\" stroke=\"#000000\" d=\"M2549.5,-1055.8796C2549.5,-1045.2134 2549.5,-1033.7021 2549.5,-1022.9015\"/>\n<polygon fill=\"#000000\" stroke=\"#000000\" points=\"2553.0001,-1022.8149 2549.5,-1012.8149 2546.0001,-1022.815 2553.0001,-1022.8149\"/>\n</g>\n<!-- 136 -->\n<g id=\"node137\" class=\"node\">\n<title>136</title>\n<polygon fill=\"none\" stroke=\"#000000\" points=\"2716,-1012.5 2617,-1012.5 2617,-944.5 2716,-944.5 2716,-1012.5\"/>\n<text text-anchor=\"middle\" x=\"2666.5\" y=\"-997.3\" font-family=\"Helvetica,sans-Serif\" font-size=\"14.00\" fill=\"#000000\">gini = 0.0</text>\n<text text-anchor=\"middle\" x=\"2666.5\" y=\"-982.3\" font-family=\"Helvetica,sans-Serif\" font-size=\"14.00\" fill=\"#000000\">samples = 1</text>\n<text text-anchor=\"middle\" x=\"2666.5\" y=\"-967.3\" font-family=\"Helvetica,sans-Serif\" font-size=\"14.00\" fill=\"#000000\">value = [0, 1]</text>\n<text text-anchor=\"middle\" x=\"2666.5\" y=\"-952.3\" font-family=\"Helvetica,sans-Serif\" font-size=\"14.00\" fill=\"#000000\">class = 1</text>\n</g>\n<!-- 134&#45;&gt;136 -->\n<g id=\"edge136\" class=\"edge\">\n<title>134&#45;&gt;136</title>\n<path fill=\"none\" stroke=\"#000000\" d=\"M2590.4209,-1055.8796C2601.7728,-1044.3337 2614.0982,-1031.7976 2625.457,-1020.2446\"/>\n<polygon fill=\"#000000\" stroke=\"#000000\" points=\"2628.2466,-1022.3995 2632.7618,-1012.8149 2623.2551,-1017.4919 2628.2466,-1022.3995\"/>\n</g>\n<!-- 138 -->\n<g id=\"node139\" class=\"node\">\n<title>138</title>\n<polygon fill=\"none\" stroke=\"#000000\" points=\"2657,-1250.5 2558,-1250.5 2558,-1182.5 2657,-1182.5 2657,-1250.5\"/>\n<text text-anchor=\"middle\" x=\"2607.5\" y=\"-1235.3\" font-family=\"Helvetica,sans-Serif\" font-size=\"14.00\" fill=\"#000000\">gini = 0.0</text>\n<text text-anchor=\"middle\" x=\"2607.5\" y=\"-1220.3\" font-family=\"Helvetica,sans-Serif\" font-size=\"14.00\" fill=\"#000000\">samples = 3</text>\n<text text-anchor=\"middle\" x=\"2607.5\" y=\"-1205.3\" font-family=\"Helvetica,sans-Serif\" font-size=\"14.00\" fill=\"#000000\">value = [0, 3]</text>\n<text text-anchor=\"middle\" x=\"2607.5\" y=\"-1190.3\" font-family=\"Helvetica,sans-Serif\" font-size=\"14.00\" fill=\"#000000\">class = 1</text>\n</g>\n<!-- 137&#45;&gt;138 -->\n<g id=\"edge138\" class=\"edge\">\n<title>137&#45;&gt;138</title>\n<path fill=\"none\" stroke=\"#000000\" d=\"M2607.5,-1293.8796C2607.5,-1283.2134 2607.5,-1271.7021 2607.5,-1260.9015\"/>\n<polygon fill=\"#000000\" stroke=\"#000000\" points=\"2611.0001,-1260.8149 2607.5,-1250.8149 2604.0001,-1260.815 2611.0001,-1260.8149\"/>\n</g>\n<!-- 139 -->\n<g id=\"node140\" class=\"node\">\n<title>139</title>\n<polygon fill=\"none\" stroke=\"#000000\" points=\"2897,-1258 2790,-1258 2790,-1175 2897,-1175 2897,-1258\"/>\n<text text-anchor=\"middle\" x=\"2843.5\" y=\"-1242.8\" font-family=\"Helvetica,sans-Serif\" font-size=\"14.00\" fill=\"#000000\">X[2] &lt;= 69.0</text>\n<text text-anchor=\"middle\" x=\"2843.5\" y=\"-1227.8\" font-family=\"Helvetica,sans-Serif\" font-size=\"14.00\" fill=\"#000000\">gini = 0.36</text>\n<text text-anchor=\"middle\" x=\"2843.5\" y=\"-1212.8\" font-family=\"Helvetica,sans-Serif\" font-size=\"14.00\" fill=\"#000000\">samples = 34</text>\n<text text-anchor=\"middle\" x=\"2843.5\" y=\"-1197.8\" font-family=\"Helvetica,sans-Serif\" font-size=\"14.00\" fill=\"#000000\">value = [26, 8]</text>\n<text text-anchor=\"middle\" x=\"2843.5\" y=\"-1182.8\" font-family=\"Helvetica,sans-Serif\" font-size=\"14.00\" fill=\"#000000\">class = 0</text>\n</g>\n<!-- 137&#45;&gt;139 -->\n<g id=\"edge139\" class=\"edge\">\n<title>137&#45;&gt;139</title>\n<path fill=\"none\" stroke=\"#000000\" d=\"M2665.5344,-1306.2369C2700.3632,-1288.6749 2744.6848,-1266.3263 2780.3838,-1248.3256\"/>\n<polygon fill=\"#000000\" stroke=\"#000000\" points=\"2782.3814,-1251.2381 2789.7346,-1243.6105 2779.2297,-1244.9878 2782.3814,-1251.2381\"/>\n</g>\n<!-- 140 -->\n<g id=\"node141\" class=\"node\">\n<title>140</title>\n<polygon fill=\"none\" stroke=\"#000000\" points=\"2897,-1139 2790,-1139 2790,-1056 2897,-1056 2897,-1139\"/>\n<text text-anchor=\"middle\" x=\"2843.5\" y=\"-1123.8\" font-family=\"Helvetica,sans-Serif\" font-size=\"14.00\" fill=\"#000000\">X[2] &lt;= 21.0</text>\n<text text-anchor=\"middle\" x=\"2843.5\" y=\"-1108.8\" font-family=\"Helvetica,sans-Serif\" font-size=\"14.00\" fill=\"#000000\">gini = 0.312</text>\n<text text-anchor=\"middle\" x=\"2843.5\" y=\"-1093.8\" font-family=\"Helvetica,sans-Serif\" font-size=\"14.00\" fill=\"#000000\">samples = 31</text>\n<text text-anchor=\"middle\" x=\"2843.5\" y=\"-1078.8\" font-family=\"Helvetica,sans-Serif\" font-size=\"14.00\" fill=\"#000000\">value = [25, 6]</text>\n<text text-anchor=\"middle\" x=\"2843.5\" y=\"-1063.8\" font-family=\"Helvetica,sans-Serif\" font-size=\"14.00\" fill=\"#000000\">class = 0</text>\n</g>\n<!-- 139&#45;&gt;140 -->\n<g id=\"edge140\" class=\"edge\">\n<title>139&#45;&gt;140</title>\n<path fill=\"none\" stroke=\"#000000\" d=\"M2843.5,-1174.8796C2843.5,-1166.6838 2843.5,-1157.9891 2843.5,-1149.5013\"/>\n<polygon fill=\"#000000\" stroke=\"#000000\" points=\"2847.0001,-1149.298 2843.5,-1139.2981 2840.0001,-1149.2981 2847.0001,-1149.298\"/>\n</g>\n<!-- 161 -->\n<g id=\"node162\" class=\"node\">\n<title>161</title>\n<polygon fill=\"none\" stroke=\"#000000\" points=\"3075,-1139 2976,-1139 2976,-1056 3075,-1056 3075,-1139\"/>\n<text text-anchor=\"middle\" x=\"3025.5\" y=\"-1123.8\" font-family=\"Helvetica,sans-Serif\" font-size=\"14.00\" fill=\"#000000\">X[2] &lt;= 86.0</text>\n<text text-anchor=\"middle\" x=\"3025.5\" y=\"-1108.8\" font-family=\"Helvetica,sans-Serif\" font-size=\"14.00\" fill=\"#000000\">gini = 0.444</text>\n<text text-anchor=\"middle\" x=\"3025.5\" y=\"-1093.8\" font-family=\"Helvetica,sans-Serif\" font-size=\"14.00\" fill=\"#000000\">samples = 3</text>\n<text text-anchor=\"middle\" x=\"3025.5\" y=\"-1078.8\" font-family=\"Helvetica,sans-Serif\" font-size=\"14.00\" fill=\"#000000\">value = [1, 2]</text>\n<text text-anchor=\"middle\" x=\"3025.5\" y=\"-1063.8\" font-family=\"Helvetica,sans-Serif\" font-size=\"14.00\" fill=\"#000000\">class = 1</text>\n</g>\n<!-- 139&#45;&gt;161 -->\n<g id=\"edge161\" class=\"edge\">\n<title>139&#45;&gt;161</title>\n<path fill=\"none\" stroke=\"#000000\" d=\"M2897.1216,-1181.4397C2919.25,-1166.9711 2944.9475,-1150.1689 2967.5123,-1135.4151\"/>\n<polygon fill=\"#000000\" stroke=\"#000000\" points=\"2969.5388,-1138.2718 2975.9931,-1129.8699 2965.708,-1132.413 2969.5388,-1138.2718\"/>\n</g>\n<!-- 141 -->\n<g id=\"node142\" class=\"node\">\n<title>141</title>\n<polygon fill=\"none\" stroke=\"#000000\" points=\"2833,-1012.5 2734,-1012.5 2734,-944.5 2833,-944.5 2833,-1012.5\"/>\n<text text-anchor=\"middle\" x=\"2783.5\" y=\"-997.3\" font-family=\"Helvetica,sans-Serif\" font-size=\"14.00\" fill=\"#000000\">gini = 0.0</text>\n<text text-anchor=\"middle\" x=\"2783.5\" y=\"-982.3\" font-family=\"Helvetica,sans-Serif\" font-size=\"14.00\" fill=\"#000000\">samples = 8</text>\n<text text-anchor=\"middle\" x=\"2783.5\" y=\"-967.3\" font-family=\"Helvetica,sans-Serif\" font-size=\"14.00\" fill=\"#000000\">value = [8, 0]</text>\n<text text-anchor=\"middle\" x=\"2783.5\" y=\"-952.3\" font-family=\"Helvetica,sans-Serif\" font-size=\"14.00\" fill=\"#000000\">class = 0</text>\n</g>\n<!-- 140&#45;&gt;141 -->\n<g id=\"edge141\" class=\"edge\">\n<title>140&#45;&gt;141</title>\n<path fill=\"none\" stroke=\"#000000\" d=\"M2822.5149,-1055.8796C2816.9707,-1044.8835 2810.9736,-1032.9893 2805.3831,-1021.9015\"/>\n<polygon fill=\"#000000\" stroke=\"#000000\" points=\"2808.4291,-1020.1684 2800.8016,-1012.8149 2802.1786,-1023.3199 2808.4291,-1020.1684\"/>\n</g>\n<!-- 142 -->\n<g id=\"node143\" class=\"node\">\n<title>142</title>\n<polygon fill=\"none\" stroke=\"#000000\" points=\"2958,-1020 2851,-1020 2851,-937 2958,-937 2958,-1020\"/>\n<text text-anchor=\"middle\" x=\"2904.5\" y=\"-1004.8\" font-family=\"Helvetica,sans-Serif\" font-size=\"14.00\" fill=\"#000000\">X[2] &lt;= 24.0</text>\n<text text-anchor=\"middle\" x=\"2904.5\" y=\"-989.8\" font-family=\"Helvetica,sans-Serif\" font-size=\"14.00\" fill=\"#000000\">gini = 0.386</text>\n<text text-anchor=\"middle\" x=\"2904.5\" y=\"-974.8\" font-family=\"Helvetica,sans-Serif\" font-size=\"14.00\" fill=\"#000000\">samples = 23</text>\n<text text-anchor=\"middle\" x=\"2904.5\" y=\"-959.8\" font-family=\"Helvetica,sans-Serif\" font-size=\"14.00\" fill=\"#000000\">value = [17, 6]</text>\n<text text-anchor=\"middle\" x=\"2904.5\" y=\"-944.8\" font-family=\"Helvetica,sans-Serif\" font-size=\"14.00\" fill=\"#000000\">class = 0</text>\n</g>\n<!-- 140&#45;&gt;142 -->\n<g id=\"edge142\" class=\"edge\">\n<title>140&#45;&gt;142</title>\n<path fill=\"none\" stroke=\"#000000\" d=\"M2864.8348,-1055.8796C2869.2207,-1047.3236 2873.8853,-1038.2238 2878.417,-1029.3833\"/>\n<polygon fill=\"#000000\" stroke=\"#000000\" points=\"2881.627,-1030.7936 2883.0741,-1020.2981 2875.3978,-1027.6004 2881.627,-1030.7936\"/>\n</g>\n<!-- 143 -->\n<g id=\"node144\" class=\"node\">\n<title>143</title>\n<polygon fill=\"none\" stroke=\"#000000\" points=\"2846,-901 2747,-901 2747,-818 2846,-818 2846,-901\"/>\n<text text-anchor=\"middle\" x=\"2796.5\" y=\"-885.8\" font-family=\"Helvetica,sans-Serif\" font-size=\"14.00\" fill=\"#000000\">X[5] &lt;= 4.5</text>\n<text text-anchor=\"middle\" x=\"2796.5\" y=\"-870.8\" font-family=\"Helvetica,sans-Serif\" font-size=\"14.00\" fill=\"#000000\">gini = 0.444</text>\n<text text-anchor=\"middle\" x=\"2796.5\" y=\"-855.8\" font-family=\"Helvetica,sans-Serif\" font-size=\"14.00\" fill=\"#000000\">samples = 3</text>\n<text text-anchor=\"middle\" x=\"2796.5\" y=\"-840.8\" font-family=\"Helvetica,sans-Serif\" font-size=\"14.00\" fill=\"#000000\">value = [1, 2]</text>\n<text text-anchor=\"middle\" x=\"2796.5\" y=\"-825.8\" font-family=\"Helvetica,sans-Serif\" font-size=\"14.00\" fill=\"#000000\">class = 1</text>\n</g>\n<!-- 142&#45;&gt;143 -->\n<g id=\"edge143\" class=\"edge\">\n<title>142&#45;&gt;143</title>\n<path fill=\"none\" stroke=\"#000000\" d=\"M2866.7268,-936.8796C2858.4713,-927.7832 2849.658,-918.0722 2841.1626,-908.7116\"/>\n<polygon fill=\"#000000\" stroke=\"#000000\" points=\"2843.7467,-906.3509 2834.4344,-901.2981 2838.5632,-911.0553 2843.7467,-906.3509\"/>\n</g>\n<!-- 146 -->\n<g id=\"node147\" class=\"node\">\n<title>146</title>\n<polygon fill=\"none\" stroke=\"#000000\" points=\"2971,-901 2864,-901 2864,-818 2971,-818 2971,-901\"/>\n<text text-anchor=\"middle\" x=\"2917.5\" y=\"-885.8\" font-family=\"Helvetica,sans-Serif\" font-size=\"14.00\" fill=\"#000000\">X[2] &lt;= 33.5</text>\n<text text-anchor=\"middle\" x=\"2917.5\" y=\"-870.8\" font-family=\"Helvetica,sans-Serif\" font-size=\"14.00\" fill=\"#000000\">gini = 0.32</text>\n<text text-anchor=\"middle\" x=\"2917.5\" y=\"-855.8\" font-family=\"Helvetica,sans-Serif\" font-size=\"14.00\" fill=\"#000000\">samples = 20</text>\n<text text-anchor=\"middle\" x=\"2917.5\" y=\"-840.8\" font-family=\"Helvetica,sans-Serif\" font-size=\"14.00\" fill=\"#000000\">value = [16, 4]</text>\n<text text-anchor=\"middle\" x=\"2917.5\" y=\"-825.8\" font-family=\"Helvetica,sans-Serif\" font-size=\"14.00\" fill=\"#000000\">class = 0</text>\n</g>\n<!-- 142&#45;&gt;146 -->\n<g id=\"edge146\" class=\"edge\">\n<title>142&#45;&gt;146</title>\n<path fill=\"none\" stroke=\"#000000\" d=\"M2909.0468,-936.8796C2909.9421,-928.6838 2910.8919,-919.9891 2911.8192,-911.5013\"/>\n<polygon fill=\"#000000\" stroke=\"#000000\" points=\"2915.3271,-911.6191 2912.9338,-901.2981 2908.3685,-910.8588 2915.3271,-911.6191\"/>\n</g>\n<!-- 144 -->\n<g id=\"node145\" class=\"node\">\n<title>144</title>\n<polygon fill=\"none\" stroke=\"#000000\" points=\"2730,-774.5 2631,-774.5 2631,-706.5 2730,-706.5 2730,-774.5\"/>\n<text text-anchor=\"middle\" x=\"2680.5\" y=\"-759.3\" font-family=\"Helvetica,sans-Serif\" font-size=\"14.00\" fill=\"#000000\">gini = 0.0</text>\n<text text-anchor=\"middle\" x=\"2680.5\" y=\"-744.3\" font-family=\"Helvetica,sans-Serif\" font-size=\"14.00\" fill=\"#000000\">samples = 2</text>\n<text text-anchor=\"middle\" x=\"2680.5\" y=\"-729.3\" font-family=\"Helvetica,sans-Serif\" font-size=\"14.00\" fill=\"#000000\">value = [0, 2]</text>\n<text text-anchor=\"middle\" x=\"2680.5\" y=\"-714.3\" font-family=\"Helvetica,sans-Serif\" font-size=\"14.00\" fill=\"#000000\">class = 1</text>\n</g>\n<!-- 143&#45;&gt;144 -->\n<g id=\"edge144\" class=\"edge\">\n<title>143&#45;&gt;144</title>\n<path fill=\"none\" stroke=\"#000000\" d=\"M2755.9288,-817.8796C2744.674,-806.3337 2732.4539,-793.7976 2721.1922,-782.2446\"/>\n<polygon fill=\"#000000\" stroke=\"#000000\" points=\"2723.4364,-779.5326 2713.9499,-774.8149 2718.4238,-784.4188 2723.4364,-779.5326\"/>\n</g>\n<!-- 145 -->\n<g id=\"node146\" class=\"node\">\n<title>145</title>\n<polygon fill=\"none\" stroke=\"#000000\" points=\"2847,-774.5 2748,-774.5 2748,-706.5 2847,-706.5 2847,-774.5\"/>\n<text text-anchor=\"middle\" x=\"2797.5\" y=\"-759.3\" font-family=\"Helvetica,sans-Serif\" font-size=\"14.00\" fill=\"#000000\">gini = 0.0</text>\n<text text-anchor=\"middle\" x=\"2797.5\" y=\"-744.3\" font-family=\"Helvetica,sans-Serif\" font-size=\"14.00\" fill=\"#000000\">samples = 1</text>\n<text text-anchor=\"middle\" x=\"2797.5\" y=\"-729.3\" font-family=\"Helvetica,sans-Serif\" font-size=\"14.00\" fill=\"#000000\">value = [1, 0]</text>\n<text text-anchor=\"middle\" x=\"2797.5\" y=\"-714.3\" font-family=\"Helvetica,sans-Serif\" font-size=\"14.00\" fill=\"#000000\">class = 0</text>\n</g>\n<!-- 143&#45;&gt;145 -->\n<g id=\"edge145\" class=\"edge\">\n<title>143&#45;&gt;145</title>\n<path fill=\"none\" stroke=\"#000000\" d=\"M2796.8498,-817.8796C2796.9394,-807.2134 2797.0361,-795.7021 2797.1269,-784.9015\"/>\n<polygon fill=\"#000000\" stroke=\"#000000\" points=\"2800.6274,-784.844 2797.2116,-774.8149 2793.6276,-784.7851 2800.6274,-784.844\"/>\n</g>\n<!-- 147 -->\n<g id=\"node148\" class=\"node\">\n<title>147</title>\n<polygon fill=\"none\" stroke=\"#000000\" points=\"2966,-774.5 2867,-774.5 2867,-706.5 2966,-706.5 2966,-774.5\"/>\n<text text-anchor=\"middle\" x=\"2916.5\" y=\"-759.3\" font-family=\"Helvetica,sans-Serif\" font-size=\"14.00\" fill=\"#000000\">gini = 0.0</text>\n<text text-anchor=\"middle\" x=\"2916.5\" y=\"-744.3\" font-family=\"Helvetica,sans-Serif\" font-size=\"14.00\" fill=\"#000000\">samples = 6</text>\n<text text-anchor=\"middle\" x=\"2916.5\" y=\"-729.3\" font-family=\"Helvetica,sans-Serif\" font-size=\"14.00\" fill=\"#000000\">value = [6, 0]</text>\n<text text-anchor=\"middle\" x=\"2916.5\" y=\"-714.3\" font-family=\"Helvetica,sans-Serif\" font-size=\"14.00\" fill=\"#000000\">class = 0</text>\n</g>\n<!-- 146&#45;&gt;147 -->\n<g id=\"edge147\" class=\"edge\">\n<title>146&#45;&gt;147</title>\n<path fill=\"none\" stroke=\"#000000\" d=\"M2917.1502,-817.8796C2917.0606,-807.2134 2916.9639,-795.7021 2916.8731,-784.9015\"/>\n<polygon fill=\"#000000\" stroke=\"#000000\" points=\"2920.3724,-784.7851 2916.7884,-774.8149 2913.3726,-784.844 2920.3724,-784.7851\"/>\n</g>\n<!-- 148 -->\n<g id=\"node149\" class=\"node\">\n<title>148</title>\n<polygon fill=\"none\" stroke=\"#000000\" points=\"3091,-782 2984,-782 2984,-699 3091,-699 3091,-782\"/>\n<text text-anchor=\"middle\" x=\"3037.5\" y=\"-766.8\" font-family=\"Helvetica,sans-Serif\" font-size=\"14.00\" fill=\"#000000\">X[1] &lt;= 26.0</text>\n<text text-anchor=\"middle\" x=\"3037.5\" y=\"-751.8\" font-family=\"Helvetica,sans-Serif\" font-size=\"14.00\" fill=\"#000000\">gini = 0.408</text>\n<text text-anchor=\"middle\" x=\"3037.5\" y=\"-736.8\" font-family=\"Helvetica,sans-Serif\" font-size=\"14.00\" fill=\"#000000\">samples = 14</text>\n<text text-anchor=\"middle\" x=\"3037.5\" y=\"-721.8\" font-family=\"Helvetica,sans-Serif\" font-size=\"14.00\" fill=\"#000000\">value = [10, 4]</text>\n<text text-anchor=\"middle\" x=\"3037.5\" y=\"-706.8\" font-family=\"Helvetica,sans-Serif\" font-size=\"14.00\" fill=\"#000000\">class = 0</text>\n</g>\n<!-- 146&#45;&gt;148 -->\n<g id=\"edge148\" class=\"edge\">\n<title>146&#45;&gt;148</title>\n<path fill=\"none\" stroke=\"#000000\" d=\"M2959.4702,-817.8796C2968.7338,-808.6931 2978.6296,-798.8798 2988.1552,-789.4336\"/>\n<polygon fill=\"#000000\" stroke=\"#000000\" points=\"2990.7146,-791.8247 2995.3507,-782.2981 2985.7856,-786.8543 2990.7146,-791.8247\"/>\n</g>\n<!-- 149 -->\n<g id=\"node150\" class=\"node\">\n<title>149</title>\n<polygon fill=\"none\" stroke=\"#000000\" points=\"3036,-655.5 2937,-655.5 2937,-587.5 3036,-587.5 3036,-655.5\"/>\n<text text-anchor=\"middle\" x=\"2986.5\" y=\"-640.3\" font-family=\"Helvetica,sans-Serif\" font-size=\"14.00\" fill=\"#000000\">gini = 0.0</text>\n<text text-anchor=\"middle\" x=\"2986.5\" y=\"-625.3\" font-family=\"Helvetica,sans-Serif\" font-size=\"14.00\" fill=\"#000000\">samples = 1</text>\n<text text-anchor=\"middle\" x=\"2986.5\" y=\"-610.3\" font-family=\"Helvetica,sans-Serif\" font-size=\"14.00\" fill=\"#000000\">value = [0, 1]</text>\n<text text-anchor=\"middle\" x=\"2986.5\" y=\"-595.3\" font-family=\"Helvetica,sans-Serif\" font-size=\"14.00\" fill=\"#000000\">class = 1</text>\n</g>\n<!-- 148&#45;&gt;149 -->\n<g id=\"edge149\" class=\"edge\">\n<title>148&#45;&gt;149</title>\n<path fill=\"none\" stroke=\"#000000\" d=\"M3019.6627,-698.8796C3014.9972,-687.9935 3009.9544,-676.227 3005.2433,-665.2344\"/>\n<polygon fill=\"#000000\" stroke=\"#000000\" points=\"3008.3627,-663.6277 3001.2064,-655.8149 3001.9286,-666.3851 3008.3627,-663.6277\"/>\n</g>\n<!-- 150 -->\n<g id=\"node151\" class=\"node\">\n<title>150</title>\n<polygon fill=\"none\" stroke=\"#000000\" points=\"3161,-663 3054,-663 3054,-580 3161,-580 3161,-663\"/>\n<text text-anchor=\"middle\" x=\"3107.5\" y=\"-647.8\" font-family=\"Helvetica,sans-Serif\" font-size=\"14.00\" fill=\"#000000\">X[2] &lt;= 55.0</text>\n<text text-anchor=\"middle\" x=\"3107.5\" y=\"-632.8\" font-family=\"Helvetica,sans-Serif\" font-size=\"14.00\" fill=\"#000000\">gini = 0.355</text>\n<text text-anchor=\"middle\" x=\"3107.5\" y=\"-617.8\" font-family=\"Helvetica,sans-Serif\" font-size=\"14.00\" fill=\"#000000\">samples = 13</text>\n<text text-anchor=\"middle\" x=\"3107.5\" y=\"-602.8\" font-family=\"Helvetica,sans-Serif\" font-size=\"14.00\" fill=\"#000000\">value = [10, 3]</text>\n<text text-anchor=\"middle\" x=\"3107.5\" y=\"-587.8\" font-family=\"Helvetica,sans-Serif\" font-size=\"14.00\" fill=\"#000000\">class = 0</text>\n</g>\n<!-- 148&#45;&gt;150 -->\n<g id=\"edge150\" class=\"edge\">\n<title>148&#45;&gt;150</title>\n<path fill=\"none\" stroke=\"#000000\" d=\"M3061.9826,-698.8796C3067.0685,-690.2335 3072.4811,-681.0322 3077.7328,-672.1042\"/>\n<polygon fill=\"#000000\" stroke=\"#000000\" points=\"3080.8594,-673.692 3082.9129,-663.2981 3074.8259,-670.1428 3080.8594,-673.692\"/>\n</g>\n<!-- 151 -->\n<g id=\"node152\" class=\"node\">\n<title>151</title>\n<polygon fill=\"none\" stroke=\"#000000\" points=\"3072,-544 2973,-544 2973,-461 3072,-461 3072,-544\"/>\n<text text-anchor=\"middle\" x=\"3022.5\" y=\"-528.8\" font-family=\"Helvetica,sans-Serif\" font-size=\"14.00\" fill=\"#000000\">X[1] &lt;= 39.5</text>\n<text text-anchor=\"middle\" x=\"3022.5\" y=\"-513.8\" font-family=\"Helvetica,sans-Serif\" font-size=\"14.00\" fill=\"#000000\">gini = 0.444</text>\n<text text-anchor=\"middle\" x=\"3022.5\" y=\"-498.8\" font-family=\"Helvetica,sans-Serif\" font-size=\"14.00\" fill=\"#000000\">samples = 9</text>\n<text text-anchor=\"middle\" x=\"3022.5\" y=\"-483.8\" font-family=\"Helvetica,sans-Serif\" font-size=\"14.00\" fill=\"#000000\">value = [6, 3]</text>\n<text text-anchor=\"middle\" x=\"3022.5\" y=\"-468.8\" font-family=\"Helvetica,sans-Serif\" font-size=\"14.00\" fill=\"#000000\">class = 0</text>\n</g>\n<!-- 150&#45;&gt;151 -->\n<g id=\"edge151\" class=\"edge\">\n<title>150&#45;&gt;151</title>\n<path fill=\"none\" stroke=\"#000000\" d=\"M3077.7711,-579.8796C3071.4667,-571.0534 3064.749,-561.6485 3058.2476,-552.5466\"/>\n<polygon fill=\"#000000\" stroke=\"#000000\" points=\"3061.0163,-550.4011 3052.3558,-544.2981 3055.3201,-554.4698 3061.0163,-550.4011\"/>\n</g>\n<!-- 160 -->\n<g id=\"node161\" class=\"node\">\n<title>160</title>\n<polygon fill=\"none\" stroke=\"#000000\" points=\"3189,-536.5 3090,-536.5 3090,-468.5 3189,-468.5 3189,-536.5\"/>\n<text text-anchor=\"middle\" x=\"3139.5\" y=\"-521.3\" font-family=\"Helvetica,sans-Serif\" font-size=\"14.00\" fill=\"#000000\">gini = 0.0</text>\n<text text-anchor=\"middle\" x=\"3139.5\" y=\"-506.3\" font-family=\"Helvetica,sans-Serif\" font-size=\"14.00\" fill=\"#000000\">samples = 4</text>\n<text text-anchor=\"middle\" x=\"3139.5\" y=\"-491.3\" font-family=\"Helvetica,sans-Serif\" font-size=\"14.00\" fill=\"#000000\">value = [4, 0]</text>\n<text text-anchor=\"middle\" x=\"3139.5\" y=\"-476.3\" font-family=\"Helvetica,sans-Serif\" font-size=\"14.00\" fill=\"#000000\">class = 0</text>\n</g>\n<!-- 150&#45;&gt;160 -->\n<g id=\"edge160\" class=\"edge\">\n<title>150&#45;&gt;160</title>\n<path fill=\"none\" stroke=\"#000000\" d=\"M3118.692,-579.8796C3121.5898,-569.1034 3124.7196,-557.4647 3127.6499,-546.5677\"/>\n<polygon fill=\"#000000\" stroke=\"#000000\" points=\"3131.0555,-547.3808 3130.2725,-536.8149 3124.2956,-545.563 3131.0555,-547.3808\"/>\n</g>\n<!-- 152 -->\n<g id=\"node153\" class=\"node\">\n<title>152</title>\n<polygon fill=\"none\" stroke=\"#000000\" points=\"2971,-425 2872,-425 2872,-342 2971,-342 2971,-425\"/>\n<text text-anchor=\"middle\" x=\"2921.5\" y=\"-409.8\" font-family=\"Helvetica,sans-Serif\" font-size=\"14.00\" fill=\"#000000\">X[2] &lt;= 52.5</text>\n<text text-anchor=\"middle\" x=\"2921.5\" y=\"-394.8\" font-family=\"Helvetica,sans-Serif\" font-size=\"14.00\" fill=\"#000000\">gini = 0.375</text>\n<text text-anchor=\"middle\" x=\"2921.5\" y=\"-379.8\" font-family=\"Helvetica,sans-Serif\" font-size=\"14.00\" fill=\"#000000\">samples = 8</text>\n<text text-anchor=\"middle\" x=\"2921.5\" y=\"-364.8\" font-family=\"Helvetica,sans-Serif\" font-size=\"14.00\" fill=\"#000000\">value = [6, 2]</text>\n<text text-anchor=\"middle\" x=\"2921.5\" y=\"-349.8\" font-family=\"Helvetica,sans-Serif\" font-size=\"14.00\" fill=\"#000000\">class = 0</text>\n</g>\n<!-- 151&#45;&gt;152 -->\n<g id=\"edge152\" class=\"edge\">\n<title>151&#45;&gt;152</title>\n<path fill=\"none\" stroke=\"#000000\" d=\"M2987.1751,-460.8796C2979.5311,-451.8733 2971.3757,-442.2644 2963.5039,-432.9897\"/>\n<polygon fill=\"#000000\" stroke=\"#000000\" points=\"2966.1151,-430.6574 2956.9757,-425.2981 2960.7782,-435.1871 2966.1151,-430.6574\"/>\n</g>\n<!-- 159 -->\n<g id=\"node160\" class=\"node\">\n<title>159</title>\n<polygon fill=\"none\" stroke=\"#000000\" points=\"3088,-417.5 2989,-417.5 2989,-349.5 3088,-349.5 3088,-417.5\"/>\n<text text-anchor=\"middle\" x=\"3038.5\" y=\"-402.3\" font-family=\"Helvetica,sans-Serif\" font-size=\"14.00\" fill=\"#000000\">gini = 0.0</text>\n<text text-anchor=\"middle\" x=\"3038.5\" y=\"-387.3\" font-family=\"Helvetica,sans-Serif\" font-size=\"14.00\" fill=\"#000000\">samples = 1</text>\n<text text-anchor=\"middle\" x=\"3038.5\" y=\"-372.3\" font-family=\"Helvetica,sans-Serif\" font-size=\"14.00\" fill=\"#000000\">value = [0, 1]</text>\n<text text-anchor=\"middle\" x=\"3038.5\" y=\"-357.3\" font-family=\"Helvetica,sans-Serif\" font-size=\"14.00\" fill=\"#000000\">class = 1</text>\n</g>\n<!-- 151&#45;&gt;159 -->\n<g id=\"edge159\" class=\"edge\">\n<title>151&#45;&gt;159</title>\n<path fill=\"none\" stroke=\"#000000\" d=\"M3028.096,-460.8796C3029.5301,-450.2134 3031.0779,-438.7021 3032.53,-427.9015\"/>\n<polygon fill=\"#000000\" stroke=\"#000000\" points=\"3036.0224,-428.1922 3033.8862,-417.8149 3029.0848,-427.2593 3036.0224,-428.1922\"/>\n</g>\n<!-- 153 -->\n<g id=\"node154\" class=\"node\">\n<title>153</title>\n<polygon fill=\"none\" stroke=\"#000000\" points=\"2908,-306 2809,-306 2809,-223 2908,-223 2908,-306\"/>\n<text text-anchor=\"middle\" x=\"2858.5\" y=\"-290.8\" font-family=\"Helvetica,sans-Serif\" font-size=\"14.00\" fill=\"#000000\">X[2] &lt;= 37.0</text>\n<text text-anchor=\"middle\" x=\"2858.5\" y=\"-275.8\" font-family=\"Helvetica,sans-Serif\" font-size=\"14.00\" fill=\"#000000\">gini = 0.245</text>\n<text text-anchor=\"middle\" x=\"2858.5\" y=\"-260.8\" font-family=\"Helvetica,sans-Serif\" font-size=\"14.00\" fill=\"#000000\">samples = 7</text>\n<text text-anchor=\"middle\" x=\"2858.5\" y=\"-245.8\" font-family=\"Helvetica,sans-Serif\" font-size=\"14.00\" fill=\"#000000\">value = [6, 1]</text>\n<text text-anchor=\"middle\" x=\"2858.5\" y=\"-230.8\" font-family=\"Helvetica,sans-Serif\" font-size=\"14.00\" fill=\"#000000\">class = 0</text>\n</g>\n<!-- 152&#45;&gt;153 -->\n<g id=\"edge153\" class=\"edge\">\n<title>152&#45;&gt;153</title>\n<path fill=\"none\" stroke=\"#000000\" d=\"M2899.4657,-341.8796C2894.936,-333.3236 2890.1185,-324.2238 2885.4382,-315.3833\"/>\n<polygon fill=\"#000000\" stroke=\"#000000\" points=\"2888.4006,-313.4983 2880.6284,-306.2981 2882.2141,-316.7736 2888.4006,-313.4983\"/>\n</g>\n<!-- 158 -->\n<g id=\"node159\" class=\"node\">\n<title>158</title>\n<polygon fill=\"none\" stroke=\"#000000\" points=\"3025,-298.5 2926,-298.5 2926,-230.5 3025,-230.5 3025,-298.5\"/>\n<text text-anchor=\"middle\" x=\"2975.5\" y=\"-283.3\" font-family=\"Helvetica,sans-Serif\" font-size=\"14.00\" fill=\"#000000\">gini = 0.0</text>\n<text text-anchor=\"middle\" x=\"2975.5\" y=\"-268.3\" font-family=\"Helvetica,sans-Serif\" font-size=\"14.00\" fill=\"#000000\">samples = 1</text>\n<text text-anchor=\"middle\" x=\"2975.5\" y=\"-253.3\" font-family=\"Helvetica,sans-Serif\" font-size=\"14.00\" fill=\"#000000\">value = [0, 1]</text>\n<text text-anchor=\"middle\" x=\"2975.5\" y=\"-238.3\" font-family=\"Helvetica,sans-Serif\" font-size=\"14.00\" fill=\"#000000\">class = 1</text>\n</g>\n<!-- 152&#45;&gt;158 -->\n<g id=\"edge158\" class=\"edge\">\n<title>152&#45;&gt;158</title>\n<path fill=\"none\" stroke=\"#000000\" d=\"M2940.3866,-341.8796C2945.3265,-330.9935 2950.6659,-319.227 2955.6541,-308.2344\"/>\n<polygon fill=\"#000000\" stroke=\"#000000\" points=\"2958.9834,-309.3675 2959.9285,-298.8149 2952.609,-306.4749 2958.9834,-309.3675\"/>\n</g>\n<!-- 154 -->\n<g id=\"node155\" class=\"node\">\n<title>154</title>\n<polygon fill=\"none\" stroke=\"#000000\" points=\"2858,-187 2759,-187 2759,-104 2858,-104 2858,-187\"/>\n<text text-anchor=\"middle\" x=\"2808.5\" y=\"-171.8\" font-family=\"Helvetica,sans-Serif\" font-size=\"14.00\" fill=\"#000000\">X[1] &lt;= 36.5</text>\n<text text-anchor=\"middle\" x=\"2808.5\" y=\"-156.8\" font-family=\"Helvetica,sans-Serif\" font-size=\"14.00\" fill=\"#000000\">gini = 0.5</text>\n<text text-anchor=\"middle\" x=\"2808.5\" y=\"-141.8\" font-family=\"Helvetica,sans-Serif\" font-size=\"14.00\" fill=\"#000000\">samples = 2</text>\n<text text-anchor=\"middle\" x=\"2808.5\" y=\"-126.8\" font-family=\"Helvetica,sans-Serif\" font-size=\"14.00\" fill=\"#000000\">value = [1, 1]</text>\n<text text-anchor=\"middle\" x=\"2808.5\" y=\"-111.8\" font-family=\"Helvetica,sans-Serif\" font-size=\"14.00\" fill=\"#000000\">class = 0</text>\n</g>\n<!-- 153&#45;&gt;154 -->\n<g id=\"edge154\" class=\"edge\">\n<title>153&#45;&gt;154</title>\n<path fill=\"none\" stroke=\"#000000\" d=\"M2841.0124,-222.8796C2837.4553,-214.4136 2833.6745,-205.4153 2829.9969,-196.6626\"/>\n<polygon fill=\"#000000\" stroke=\"#000000\" points=\"2833.1627,-195.1616 2826.0622,-187.2981 2826.7092,-197.8731 2833.1627,-195.1616\"/>\n</g>\n<!-- 157 -->\n<g id=\"node158\" class=\"node\">\n<title>157</title>\n<polygon fill=\"none\" stroke=\"#000000\" points=\"2975,-179.5 2876,-179.5 2876,-111.5 2975,-111.5 2975,-179.5\"/>\n<text text-anchor=\"middle\" x=\"2925.5\" y=\"-164.3\" font-family=\"Helvetica,sans-Serif\" font-size=\"14.00\" fill=\"#000000\">gini = 0.0</text>\n<text text-anchor=\"middle\" x=\"2925.5\" y=\"-149.3\" font-family=\"Helvetica,sans-Serif\" font-size=\"14.00\" fill=\"#000000\">samples = 5</text>\n<text text-anchor=\"middle\" x=\"2925.5\" y=\"-134.3\" font-family=\"Helvetica,sans-Serif\" font-size=\"14.00\" fill=\"#000000\">value = [5, 0]</text>\n<text text-anchor=\"middle\" x=\"2925.5\" y=\"-119.3\" font-family=\"Helvetica,sans-Serif\" font-size=\"14.00\" fill=\"#000000\">class = 0</text>\n</g>\n<!-- 153&#45;&gt;157 -->\n<g id=\"edge157\" class=\"edge\">\n<title>153&#45;&gt;157</title>\n<path fill=\"none\" stroke=\"#000000\" d=\"M2881.9333,-222.8796C2888.1863,-211.7735 2894.9552,-199.7513 2901.251,-188.5691\"/>\n<polygon fill=\"#000000\" stroke=\"#000000\" points=\"2904.3235,-190.2459 2906.1798,-179.8149 2898.2239,-186.8116 2904.3235,-190.2459\"/>\n</g>\n<!-- 155 -->\n<g id=\"node156\" class=\"node\">\n<title>155</title>\n<polygon fill=\"none\" stroke=\"#000000\" points=\"2833,-68 2734,-68 2734,0 2833,0 2833,-68\"/>\n<text text-anchor=\"middle\" x=\"2783.5\" y=\"-52.8\" font-family=\"Helvetica,sans-Serif\" font-size=\"14.00\" fill=\"#000000\">gini = 0.0</text>\n<text text-anchor=\"middle\" x=\"2783.5\" y=\"-37.8\" font-family=\"Helvetica,sans-Serif\" font-size=\"14.00\" fill=\"#000000\">samples = 1</text>\n<text text-anchor=\"middle\" x=\"2783.5\" y=\"-22.8\" font-family=\"Helvetica,sans-Serif\" font-size=\"14.00\" fill=\"#000000\">value = [0, 1]</text>\n<text text-anchor=\"middle\" x=\"2783.5\" y=\"-7.8\" font-family=\"Helvetica,sans-Serif\" font-size=\"14.00\" fill=\"#000000\">class = 1</text>\n</g>\n<!-- 154&#45;&gt;155 -->\n<g id=\"edge155\" class=\"edge\">\n<title>154&#45;&gt;155</title>\n<path fill=\"none\" stroke=\"#000000\" d=\"M2799.1909,-103.9815C2797.2951,-95.5261 2795.2943,-86.6026 2793.3794,-78.0623\"/>\n<polygon fill=\"#000000\" stroke=\"#000000\" points=\"2796.7856,-77.2556 2791.1824,-68.2637 2789.9551,-78.7872 2796.7856,-77.2556\"/>\n</g>\n<!-- 156 -->\n<g id=\"node157\" class=\"node\">\n<title>156</title>\n<polygon fill=\"none\" stroke=\"#000000\" points=\"2950,-68 2851,-68 2851,0 2950,0 2950,-68\"/>\n<text text-anchor=\"middle\" x=\"2900.5\" y=\"-52.8\" font-family=\"Helvetica,sans-Serif\" font-size=\"14.00\" fill=\"#000000\">gini = 0.0</text>\n<text text-anchor=\"middle\" x=\"2900.5\" y=\"-37.8\" font-family=\"Helvetica,sans-Serif\" font-size=\"14.00\" fill=\"#000000\">samples = 1</text>\n<text text-anchor=\"middle\" x=\"2900.5\" y=\"-22.8\" font-family=\"Helvetica,sans-Serif\" font-size=\"14.00\" fill=\"#000000\">value = [1, 0]</text>\n<text text-anchor=\"middle\" x=\"2900.5\" y=\"-7.8\" font-family=\"Helvetica,sans-Serif\" font-size=\"14.00\" fill=\"#000000\">class = 0</text>\n</g>\n<!-- 154&#45;&gt;156 -->\n<g id=\"edge156\" class=\"edge\">\n<title>154&#45;&gt;156</title>\n<path fill=\"none\" stroke=\"#000000\" d=\"M2842.7574,-103.9815C2850.2649,-94.8828 2858.2196,-85.242 2865.7464,-76.1199\"/>\n<polygon fill=\"#000000\" stroke=\"#000000\" points=\"2868.5639,-78.2045 2872.2286,-68.2637 2863.1646,-73.7495 2868.5639,-78.2045\"/>\n</g>\n<!-- 162 -->\n<g id=\"node163\" class=\"node\">\n<title>162</title>\n<polygon fill=\"none\" stroke=\"#000000\" points=\"3075,-1012.5 2976,-1012.5 2976,-944.5 3075,-944.5 3075,-1012.5\"/>\n<text text-anchor=\"middle\" x=\"3025.5\" y=\"-997.3\" font-family=\"Helvetica,sans-Serif\" font-size=\"14.00\" fill=\"#000000\">gini = 0.0</text>\n<text text-anchor=\"middle\" x=\"3025.5\" y=\"-982.3\" font-family=\"Helvetica,sans-Serif\" font-size=\"14.00\" fill=\"#000000\">samples = 2</text>\n<text text-anchor=\"middle\" x=\"3025.5\" y=\"-967.3\" font-family=\"Helvetica,sans-Serif\" font-size=\"14.00\" fill=\"#000000\">value = [0, 2]</text>\n<text text-anchor=\"middle\" x=\"3025.5\" y=\"-952.3\" font-family=\"Helvetica,sans-Serif\" font-size=\"14.00\" fill=\"#000000\">class = 1</text>\n</g>\n<!-- 161&#45;&gt;162 -->\n<g id=\"edge162\" class=\"edge\">\n<title>161&#45;&gt;162</title>\n<path fill=\"none\" stroke=\"#000000\" d=\"M3025.5,-1055.8796C3025.5,-1045.2134 3025.5,-1033.7021 3025.5,-1022.9015\"/>\n<polygon fill=\"#000000\" stroke=\"#000000\" points=\"3029.0001,-1022.8149 3025.5,-1012.8149 3022.0001,-1022.815 3029.0001,-1022.8149\"/>\n</g>\n<!-- 163 -->\n<g id=\"node164\" class=\"node\">\n<title>163</title>\n<polygon fill=\"none\" stroke=\"#000000\" points=\"3192,-1012.5 3093,-1012.5 3093,-944.5 3192,-944.5 3192,-1012.5\"/>\n<text text-anchor=\"middle\" x=\"3142.5\" y=\"-997.3\" font-family=\"Helvetica,sans-Serif\" font-size=\"14.00\" fill=\"#000000\">gini = 0.0</text>\n<text text-anchor=\"middle\" x=\"3142.5\" y=\"-982.3\" font-family=\"Helvetica,sans-Serif\" font-size=\"14.00\" fill=\"#000000\">samples = 1</text>\n<text text-anchor=\"middle\" x=\"3142.5\" y=\"-967.3\" font-family=\"Helvetica,sans-Serif\" font-size=\"14.00\" fill=\"#000000\">value = [1, 0]</text>\n<text text-anchor=\"middle\" x=\"3142.5\" y=\"-952.3\" font-family=\"Helvetica,sans-Serif\" font-size=\"14.00\" fill=\"#000000\">class = 0</text>\n</g>\n<!-- 161&#45;&gt;163 -->\n<g id=\"edge163\" class=\"edge\">\n<title>161&#45;&gt;163</title>\n<path fill=\"none\" stroke=\"#000000\" d=\"M3066.4209,-1055.8796C3077.7728,-1044.3337 3090.0982,-1031.7976 3101.457,-1020.2446\"/>\n<polygon fill=\"#000000\" stroke=\"#000000\" points=\"3104.2466,-1022.3995 3108.7618,-1012.8149 3099.2551,-1017.4919 3104.2466,-1022.3995\"/>\n</g>\n<!-- 165 -->\n<g id=\"node166\" class=\"node\">\n<title>165</title>\n<polygon fill=\"none\" stroke=\"#000000\" points=\"1877,-1607.5 1778,-1607.5 1778,-1539.5 1877,-1539.5 1877,-1607.5\"/>\n<text text-anchor=\"middle\" x=\"1827.5\" y=\"-1592.3\" font-family=\"Helvetica,sans-Serif\" font-size=\"14.00\" fill=\"#000000\">gini = 0.0</text>\n<text text-anchor=\"middle\" x=\"1827.5\" y=\"-1577.3\" font-family=\"Helvetica,sans-Serif\" font-size=\"14.00\" fill=\"#000000\">samples = 1</text>\n<text text-anchor=\"middle\" x=\"1827.5\" y=\"-1562.3\" font-family=\"Helvetica,sans-Serif\" font-size=\"14.00\" fill=\"#000000\">value = [0, 1]</text>\n<text text-anchor=\"middle\" x=\"1827.5\" y=\"-1547.3\" font-family=\"Helvetica,sans-Serif\" font-size=\"14.00\" fill=\"#000000\">class = 1</text>\n</g>\n<!-- 164&#45;&gt;165 -->\n<g id=\"edge165\" class=\"edge\">\n<title>164&#45;&gt;165</title>\n<path fill=\"none\" stroke=\"#000000\" d=\"M1827.5,-1650.8796C1827.5,-1640.2134 1827.5,-1628.7021 1827.5,-1617.9015\"/>\n<polygon fill=\"#000000\" stroke=\"#000000\" points=\"1831.0001,-1617.8149 1827.5,-1607.8149 1824.0001,-1617.815 1831.0001,-1617.8149\"/>\n</g>\n<!-- 166 -->\n<g id=\"node167\" class=\"node\">\n<title>166</title>\n<polygon fill=\"none\" stroke=\"#000000\" points=\"2002,-1607.5 1895,-1607.5 1895,-1539.5 2002,-1539.5 2002,-1607.5\"/>\n<text text-anchor=\"middle\" x=\"1948.5\" y=\"-1592.3\" font-family=\"Helvetica,sans-Serif\" font-size=\"14.00\" fill=\"#000000\">gini = 0.0</text>\n<text text-anchor=\"middle\" x=\"1948.5\" y=\"-1577.3\" font-family=\"Helvetica,sans-Serif\" font-size=\"14.00\" fill=\"#000000\">samples = 22</text>\n<text text-anchor=\"middle\" x=\"1948.5\" y=\"-1562.3\" font-family=\"Helvetica,sans-Serif\" font-size=\"14.00\" fill=\"#000000\">value = [22, 0]</text>\n<text text-anchor=\"middle\" x=\"1948.5\" y=\"-1547.3\" font-family=\"Helvetica,sans-Serif\" font-size=\"14.00\" fill=\"#000000\">class = 0</text>\n</g>\n<!-- 164&#45;&gt;166 -->\n<g id=\"edge166\" class=\"edge\">\n<title>164&#45;&gt;166</title>\n<path fill=\"none\" stroke=\"#000000\" d=\"M1869.8199,-1650.8796C1881.6717,-1639.2237 1894.5495,-1626.5587 1906.3891,-1614.9148\"/>\n<polygon fill=\"#000000\" stroke=\"#000000\" points=\"1908.9327,-1617.3223 1913.6083,-1607.8149 1904.0244,-1612.3314 1908.9327,-1617.3223\"/>\n</g>\n</g>\n</svg>\n"
          },
          "metadata": {},
          "execution_count": 96
        }
      ]
    },
    {
      "cell_type": "code",
      "source": [
        "print(precision_score(y_test, y_pred))"
      ],
      "metadata": {
        "colab": {
          "base_uri": "https://localhost:8080/"
        },
        "id": "CAE3NcJPBz3d",
        "outputId": "92e30318-b089-4764-9fc1-d4dfaebcf19f"
      },
      "execution_count": 97,
      "outputs": [
        {
          "output_type": "stream",
          "name": "stdout",
          "text": [
            "0.7368421052631579\n"
          ]
        }
      ]
    },
    {
      "cell_type": "code",
      "source": [
        "print(classification_report(y_test, y_pred))"
      ],
      "metadata": {
        "colab": {
          "base_uri": "https://localhost:8080/"
        },
        "id": "iNxu1Lc-RYB3",
        "outputId": "efc3d95a-d6d3-4e4b-af9a-7a6954575740"
      },
      "execution_count": 98,
      "outputs": [
        {
          "output_type": "stream",
          "name": "stdout",
          "text": [
            "              precision    recall  f1-score   support\n",
            "\n",
            "           0       0.77      0.81      0.79        81\n",
            "           1       0.74      0.68      0.71        62\n",
            "\n",
            "    accuracy                           0.76       143\n",
            "   macro avg       0.75      0.75      0.75       143\n",
            "weighted avg       0.75      0.76      0.75       143\n",
            "\n"
          ]
        }
      ]
    },
    {
      "cell_type": "code",
      "source": [
        "print(recall_score(y_test, y_pred))"
      ],
      "metadata": {
        "colab": {
          "base_uri": "https://localhost:8080/"
        },
        "id": "gOwx_Ou6GpIr",
        "outputId": "7628ac47-454e-46bb-c9b2-0e103fba0f79"
      },
      "execution_count": 99,
      "outputs": [
        {
          "output_type": "stream",
          "name": "stdout",
          "text": [
            "0.6774193548387096\n"
          ]
        }
      ]
    },
    {
      "cell_type": "markdown",
      "source": [
        "# 10. Naive Bayes\n",
        "\n",
        "O algoritmo com o Teorema de Bayes’ cria uma tabela de probabilidade e calcula a partir dela o que tem maior probabilidade de ocorrer. Para a criação do modelo usamos no primeiro teste os seguintes dados, “Cargo”, “Estado civil”, “Escolaridade” e “Área”;\n",
        "Após a escolha das variáveis tivemos que definir qual seria o dado a ser premeditado a partir do algoritmo. Como queremos saber se a pessoa irá permanecer ou sair da empresa, usamos como variável alvo a coluna nomeada como “Tipo saída” (caso seja true, a pessoa saiu ou tem tendência a sair, caso seja false a pessoa permanece na empresa).\n"
      ],
      "metadata": {
        "id": "oYZIdOudKHSQ"
      }
    },
    {
      "cell_type": "code",
      "source": [
        "# definimos quais colunas (variáveis) serão usadas (atributos previsores)\n",
        "x_tipo_saida = df_everymind[['Cargo', 'Estado Civil', 'Escolaridade ', 'Area']].values \n",
        "x_tipo_saida"
      ],
      "metadata": {
        "colab": {
          "base_uri": "https://localhost:8080/"
        },
        "id": "htAr27HcKxyo",
        "outputId": "1aadf91c-a9cc-4f77-cb15-34e3996e8530"
      },
      "execution_count": 100,
      "outputs": [
        {
          "output_type": "execute_result",
          "data": {
            "text/plain": [
              "array([['DevPl', 'Casado', 'Superiorincompleto', 'Produtos'],\n",
              "       ['DevPl', 'Solteiro', 'Graduação', 'Core&IndustriasII'],\n",
              "       ['DevPl', 'Solteiro', 'PósGraduação', 'Core&IndustriasII'],\n",
              "       ...,\n",
              "       ['DevJr', 'Solteiro', 'PósGraduação', 'Integration'],\n",
              "       ['DevPl', 'Solteiro', 'Superiorincompleto', 'Commerce'],\n",
              "       ['DevEspecialista', 'Casado', 'Graduação', 'Analytics']],\n",
              "      dtype=object)"
            ]
          },
          "metadata": {},
          "execution_count": 100
        }
      ]
    },
    {
      "cell_type": "code",
      "source": [
        "# Seleciona qual será a variável a ser premeditada (coluna tipo saída, o atributo alvo)\n",
        "y_tipo_saida = df_everymind.iloc[:, 4].values\n"
      ],
      "metadata": {
        "id": "JG9gX5sfK0L6"
      },
      "execution_count": 101,
      "outputs": []
    },
    {
      "cell_type": "code",
      "source": [
        "#importamos sklearn \n",
        "#Transformamos o que é string em numeral\n",
        "from sklearn.preprocessing import LabelEncoder\n",
        "label_encoder_cargo = LabelEncoder()\n",
        "label_encoder_estadocivil = LabelEncoder()\n",
        "label_encoder_escolaridade = LabelEncoder()\n",
        "label_encoder_area = LabelEncoder()"
      ],
      "metadata": {
        "id": "2JU4oRVLK5iL"
      },
      "execution_count": 102,
      "outputs": []
    },
    {
      "cell_type": "code",
      "source": [
        "#Reorganizamos os dados na tabela x_tipo_saida\n",
        "x_tipo_saida[:,0] = label_encoder_cargo.fit_transform(x_tipo_saida[:,0])\n",
        "x_tipo_saida[:,1] = label_encoder_estadocivil.fit_transform(x_tipo_saida[:,1])\n",
        "x_tipo_saida[:,2] = label_encoder_escolaridade.fit_transform(x_tipo_saida[:,2])\n",
        "x_tipo_saida[:,3] = label_encoder_area.fit_transform(x_tipo_saida[:,3])"
      ],
      "metadata": {
        "id": "bae93FcGK8TC"
      },
      "execution_count": 103,
      "outputs": []
    },
    {
      "cell_type": "code",
      "source": [
        "x_tipo_saida"
      ],
      "metadata": {
        "colab": {
          "base_uri": "https://localhost:8080/"
        },
        "id": "GzZz5tR8K-n7",
        "outputId": "de922286-1e8c-45e5-befb-3cdf9ff94ba9"
      },
      "execution_count": 104,
      "outputs": [
        {
          "output_type": "execute_result",
          "data": {
            "text/plain": [
              "array([[10, 0, 5, 21],\n",
              "       [10, 3, 2, 12],\n",
              "       [10, 3, 4, 12],\n",
              "       ...,\n",
              "       [9, 3, 4, 17],\n",
              "       [10, 3, 5, 9],\n",
              "       [8, 0, 2, 2]], dtype=object)"
            ]
          },
          "metadata": {},
          "execution_count": 104
        }
      ]
    },
    {
      "cell_type": "code",
      "source": [
        "# Dividimos entre tabela de treino e de teste\n",
        "\n",
        "x_treino, x_teste, y_treino, y_teste = train_test_split(x_tipo_saida, y_tipo_saida, test_size = 0.3, random_state = 1)"
      ],
      "metadata": {
        "id": "2M2RVz5MLh6J"
      },
      "execution_count": 105,
      "outputs": []
    },
    {
      "cell_type": "code",
      "source": [
        "# Analisamos o tamanho das tabelas criadas\n",
        "\n",
        "x_teste.shape, y_teste.shape, x_treino.shape, y_treino.shape"
      ],
      "metadata": {
        "colab": {
          "base_uri": "https://localhost:8080/"
        },
        "id": "FX2cx4q9Ljnx",
        "outputId": "0cbb74f3-1970-4e1e-ad52-0a75a0941661"
      },
      "execution_count": 106,
      "outputs": [
        {
          "output_type": "execute_result",
          "data": {
            "text/plain": [
              "((143, 4), (143,), (332, 4), (332,))"
            ]
          },
          "metadata": {},
          "execution_count": 106
        }
      ]
    },
    {
      "cell_type": "code",
      "source": [
        "# import pickle\n",
        "# with open('risco_credito.pkl', 'wb') as f:\n",
        "#  pickle.dump([x_tipo_saida, y_tipo_saida], f)\n",
        "\n",
        "# with open('credit.pkl', 'rb') as f:  \n",
        "#  x_treino, y_treino, x_teste, y_teste = pickle.load(f)"
      ],
      "metadata": {
        "id": "cnPELDYpLmHQ"
      },
      "execution_count": 107,
      "outputs": []
    },
    {
      "cell_type": "code",
      "source": [
        "# Instanciamos o GaussianNB, que possibilita a aplicação do Bayes, para uso na tabela de teste\n",
        "naive_tipo_saida = GaussianNB()\n",
        "naive_tipo_saida.fit(x_teste, y_teste)"
      ],
      "metadata": {
        "colab": {
          "base_uri": "https://localhost:8080/"
        },
        "id": "WEAPU54nLohq",
        "outputId": "2b40a59c-bc49-4381-936f-cf27d7663fc6"
      },
      "execution_count": 108,
      "outputs": [
        {
          "output_type": "execute_result",
          "data": {
            "text/plain": [
              "GaussianNB()"
            ]
          },
          "metadata": {},
          "execution_count": 108
        }
      ]
    },
    {
      "cell_type": "code",
      "source": [
        "# cargo = 10; estadocivil = 0; escolaridade = 3; area = 0;\n",
        "# cargo = 8; estadocivil = 3; escolaridade = 0; area = 3;\n",
        "previsao = naive_tipo_saida.predict([[10,0,3,0], [8,3,0,3]])\n",
        "previsoes = naive_tipo_saida.predict(x_teste)\n",
        "previsao"
      ],
      "metadata": {
        "colab": {
          "base_uri": "https://localhost:8080/"
        },
        "id": "zsKxM0CnLrzB",
        "outputId": "a6e796c1-63e1-4d86-8959-f9b451151efa"
      },
      "execution_count": 109,
      "outputs": [
        {
          "output_type": "execute_result",
          "data": {
            "text/plain": [
              "array(['ColaboradorAtivo', 'PedidodeDemissão'], dtype='<U28')"
            ]
          },
          "metadata": {},
          "execution_count": 109
        }
      ]
    },
    {
      "cell_type": "code",
      "source": [
        "accuracy_score(y_teste, previsoes)\n",
        "# Cálculamos a acurácia"
      ],
      "metadata": {
        "colab": {
          "base_uri": "https://localhost:8080/"
        },
        "id": "vb69HuvYL71j",
        "outputId": "85accd49-78e2-4114-987b-379a07b619cd"
      },
      "execution_count": 110,
      "outputs": [
        {
          "output_type": "execute_result",
          "data": {
            "text/plain": [
              "0.5734265734265734"
            ]
          },
          "metadata": {},
          "execution_count": 110
        }
      ]
    },
    {
      "cell_type": "code",
      "source": [
        "confusion_matrix(y_teste, previsoes)\n",
        "\n",
        "# Fazemos a matriz de confusão"
      ],
      "metadata": {
        "colab": {
          "base_uri": "https://localhost:8080/"
        },
        "id": "wwHpeAjXL_1T",
        "outputId": "2bcac87c-cff5-4679-b9ad-480c64400f70"
      },
      "execution_count": 111,
      "outputs": [
        {
          "output_type": "execute_result",
          "data": {
            "text/plain": [
              "array([[71,  0, 14,  5,  0],\n",
              "       [ 6,  0,  2,  3,  0],\n",
              "       [17,  0,  9,  6,  0],\n",
              "       [ 0,  0,  0,  2,  0],\n",
              "       [ 6,  0,  1,  1,  0]])"
            ]
          },
          "metadata": {},
          "execution_count": 111
        }
      ]
    },
    {
      "cell_type": "code",
      "source": [
        "cm = ConfusionMatrix(naive_tipo_saida)\n",
        "cm.fit(x_treino, y_treino)\n",
        "cm.score(x_teste, y_teste)\n",
        "\n",
        "# Usamos o yellowbrick classifier para ter uma matriz de confusão mais didática "
      ],
      "metadata": {
        "colab": {
          "base_uri": "https://localhost:8080/",
          "height": 0
        },
        "id": "mGXOugl7MCnp",
        "outputId": "3e3c882b-96e5-480a-9452-1d4ce2a864eb"
      },
      "execution_count": 112,
      "outputs": [
        {
          "output_type": "execute_result",
          "data": {
            "text/plain": [
              "0.5734265734265734"
            ]
          },
          "metadata": {},
          "execution_count": 112
        },
        {
          "output_type": "display_data",
          "data": {
            "text/plain": [
              "<Figure size 576x396 with 1 Axes>"
            ],
            "image/png": "[encoded data removed]"
          },
          "metadata": {}
        }
      ]
    },
    {
      "cell_type": "markdown",
      "source": [
        "# 12.  RandomForest\n",
        "\n",
        "Random Forest irá criar muitas árvores de decisão, de maneira aleatória, formando o que podemos enxergar como uma floresta, onde cada árvore será utilizada na escolha do resultado final, em uma espécie de votação.\n",
        "No RandomForest a definição desta variável não acontece com base em todas as variáveis disponíveis. O algoritmo irá escolher de maneira aleatória (random) duas ou mais variáveis, e então realizar os cálculos com base nas amostras selecionadas, para definir qual dessas variáveis será utilizada no primeiro nó."
      ],
      "metadata": {
        "id": "wzTcoyisOB0S"
      }
    },
    {
      "cell_type": "code",
      "source": [
        "# model = RandomForestClassifier(n_estimators=10, random_state=0, oob_score=True, max_features=4)\n",
        "# model.fit(x_treino, y_treino)\n",
        "# plot_confusion_matrix(model,x_teste,y_teste, cmap='Blues')\n",
        "\n",
        "random_forest = RandomForestClassifier(n_estimators=40, criterion='entropy', random_state = 0)\n",
        "random_forest.fit(x_treino, y_treino)\n",
        "\n",
        "cm = ConfusionMatrix(random_forest)\n",
        "cm.fit(x_treino, y_treino)\n",
        "cm.score(x_teste, y_teste)"
      ],
      "metadata": {
        "colab": {
          "base_uri": "https://localhost:8080/",
          "height": 0
        },
        "id": "uU-kKIxRON3K",
        "outputId": "747d058a-46f1-498b-d659-faf0d5cadf64"
      },
      "execution_count": 113,
      "outputs": [
        {
          "output_type": "execute_result",
          "data": {
            "text/plain": [
              "0.5664335664335665"
            ]
          },
          "metadata": {},
          "execution_count": 113
        },
        {
          "output_type": "display_data",
          "data": {
            "text/plain": [
              "<Figure size 576x396 with 1 Axes>"
            ],
            "image/png": "[encoded data removed]"
          },
          "metadata": {}
        }
      ]
    },
    {
      "cell_type": "code",
      "source": [
        "previsoes_forest = random_forest.predict(x_teste)\n",
        "previsoes_forest"
      ],
      "metadata": {
        "colab": {
          "base_uri": "https://localhost:8080/"
        },
        "id": "guvVztxGOXsC",
        "outputId": "630a9a5a-61fe-4dd7-fd26-b7318d85a347"
      },
      "execution_count": 114,
      "outputs": [
        {
          "output_type": "execute_result",
          "data": {
            "text/plain": [
              "array(['ColaboradorAtivo', 'ColaboradorAtivo', 'PedidodeDemissão',\n",
              "       'ColaboradorAtivo', 'ColaboradorAtivo', 'ColaboradorAtivo',\n",
              "       'PedidodeDemissão', 'RescisaoContratoExp-Pedido',\n",
              "       'PedidodeDemissão', 'PedidodeDemissão', 'PedidodeDemissão',\n",
              "       'PedidodeDemissão', 'ColaboradorAtivo', 'ColaboradorAtivo',\n",
              "       'ColaboradorAtivo', 'PedidodeDemissão', 'ColaboradorAtivo',\n",
              "       'ColaboradorAtivo', 'ColaboradorAtivo', 'ColaboradorAtivo',\n",
              "       'PedidodeDemissão', 'ColaboradorAtivo', 'PedidodeDemissão',\n",
              "       'PedidodeDemissão', 'PedidodeDemissão', 'ColaboradorAtivo',\n",
              "       'ColaboradorAtivo', 'ColaboradorAtivo', 'ColaboradorAtivo',\n",
              "       'ColaboradorAtivo', 'PedidodeDemissão',\n",
              "       'RescisaoContratoExp-Pedido', 'PedidodeDemissão',\n",
              "       'PedidodeDemissão', 'ColaboradorAtivo', 'ColaboradorAtivo',\n",
              "       'PedidodeDemissão', 'PedidodeDemissão', 'ColaboradorAtivo',\n",
              "       'ColaboradorAtivo', 'PedidodeDemissão', 'DispensasemJustaCausa',\n",
              "       'ColaboradorAtivo', 'ColaboradorAtivo', 'ColaboradorAtivo',\n",
              "       'RescisaoContratoExp-Pedido', 'ColaboradorAtivo',\n",
              "       'PedidodeDemissão', 'PedidodeDemissão', 'DispensasemJustaCausa',\n",
              "       'ColaboradorAtivo', 'ColaboradorAtivo', 'ColaboradorAtivo',\n",
              "       'ColaboradorAtivo', 'ColaboradorAtivo', 'PedidodeDemissão',\n",
              "       'PedidodeDemissão', 'ColaboradorAtivo', 'ColaboradorAtivo',\n",
              "       'PedidodeDemissão', 'ColaboradorAtivo', 'PedidodeDemissão',\n",
              "       'ColaboradorAtivo', 'ColaboradorAtivo', 'PedidodeDemissão',\n",
              "       'ColaboradorAtivo', 'PedidodeDemissão', 'PedidodeDemissão',\n",
              "       'RescisaoContratoExp-Pedido', 'PedidodeDemissão',\n",
              "       'ColaboradorAtivo', 'PedidodeDemissão', 'ColaboradorAtivo',\n",
              "       'ColaboradorAtivo', 'ColaboradorAtivo', 'PedidodeDemissão',\n",
              "       'ColaboradorAtivo', 'ColaboradorAtivo', 'ColaboradorAtivo',\n",
              "       'ColaboradorAtivo', 'PedidodeDemissão', 'ColaboradorAtivo',\n",
              "       'PedidodeDemissão', 'ColaboradorAtivo', 'ColaboradorAtivo',\n",
              "       'PedidodeDemissão', 'ColaboradorAtivo', 'ColaboradorAtivo',\n",
              "       'ColaboradorAtivo', 'ColaboradorAtivo', 'PedidodeDemissão',\n",
              "       'ColaboradorAtivo', 'PedidodeDemissão', 'ColaboradorAtivo',\n",
              "       'ColaboradorAtivo', 'ColaboradorAtivo', 'ColaboradorAtivo',\n",
              "       'PedidodeDemissão', 'ColaboradorAtivo', 'ColaboradorAtivo',\n",
              "       'PedidodeDemissão', 'DispensasemJustaCausa', 'PedidodeDemissão',\n",
              "       'ColaboradorAtivo', 'PedidodeDemissão', 'ColaboradorAtivo',\n",
              "       'ColaboradorAtivo', 'ColaboradorAtivo', 'ColaboradorAtivo',\n",
              "       'ColaboradorAtivo', 'ColaboradorAtivo', 'ColaboradorAtivo',\n",
              "       'ColaboradorAtivo', 'ColaboradorAtivo', 'PedidodeDemissão',\n",
              "       'DispensasemJustaCausa', 'ColaboradorAtivo', 'ColaboradorAtivo',\n",
              "       'PedidodeDemissão', 'PedidodeDemissão', 'ColaboradorAtivo',\n",
              "       'PedidodeDemissão', 'ColaboradorAtivo', 'ColaboradorAtivo',\n",
              "       'ColaboradorAtivo', 'ColaboradorAtivo', 'ColaboradorAtivo',\n",
              "       'ColaboradorAtivo', 'ColaboradorAtivo', 'ColaboradorAtivo',\n",
              "       'ColaboradorAtivo', 'ColaboradorAtivo', 'ColaboradorAtivo',\n",
              "       'ColaboradorAtivo', 'ColaboradorAtivo', 'PedidodeDemissão',\n",
              "       'ColaboradorAtivo', 'PedidodeDemissão', 'ColaboradorAtivo',\n",
              "       'ColaboradorAtivo', 'RescisaoContratoExp-Pedido',\n",
              "       'ColaboradorAtivo', 'ColaboradorAtivo'], dtype=object)"
            ]
          },
          "metadata": {},
          "execution_count": 114
        }
      ]
    },
    {
      "cell_type": "code",
      "source": [
        "accuracy_score(y_teste, previsoes_forest)"
      ],
      "metadata": {
        "colab": {
          "base_uri": "https://localhost:8080/"
        },
        "id": "NAk1x4ygOYRX",
        "outputId": "182be4d3-bc51-4861-e288-f3b94c458d6e"
      },
      "execution_count": 115,
      "outputs": [
        {
          "output_type": "execute_result",
          "data": {
            "text/plain": [
              "0.5664335664335665"
            ]
          },
          "metadata": {},
          "execution_count": 115
        }
      ]
    },
    {
      "cell_type": "code",
      "source": [
        "print(classification_report(y_teste, previsoes_forest))"
      ],
      "metadata": {
        "colab": {
          "base_uri": "https://localhost:8080/"
        },
        "id": "i7HckCHdOcmL",
        "outputId": "2102f99b-d111-4829-d2af-3515219275e2"
      },
      "execution_count": 116,
      "outputs": [
        {
          "output_type": "stream",
          "name": "stdout",
          "text": [
            "                              precision    recall  f1-score   support\n",
            "\n",
            "            ColaboradorAtivo       0.73      0.73      0.73        90\n",
            "       DispensasemJustaCausa       0.25      0.09      0.13        11\n",
            "            PedidodeDemissão       0.32      0.44      0.37        32\n",
            "RescisaoContratoExp-Dispensa       0.00      0.00      0.00         2\n",
            "  RescisaoContratoExp-Pedido       0.00      0.00      0.00         8\n",
            "\n",
            "                    accuracy                           0.57       143\n",
            "                   macro avg       0.26      0.25      0.25       143\n",
            "                weighted avg       0.55      0.57      0.55       143\n",
            "\n"
          ]
        },
        {
          "output_type": "stream",
          "name": "stderr",
          "text": [
            "/usr/local/lib/python3.7/dist-packages/sklearn/metrics/_classification.py:1318: UndefinedMetricWarning: Precision and F-score are ill-defined and being set to 0.0 in labels with no predicted samples. Use `zero_division` parameter to control this behavior.\n",
            "  _warn_prf(average, modifier, msg_start, len(result))\n",
            "/usr/local/lib/python3.7/dist-packages/sklearn/metrics/_classification.py:1318: UndefinedMetricWarning: Precision and F-score are ill-defined and being set to 0.0 in labels with no predicted samples. Use `zero_division` parameter to control this behavior.\n",
            "  _warn_prf(average, modifier, msg_start, len(result))\n",
            "/usr/local/lib/python3.7/dist-packages/sklearn/metrics/_classification.py:1318: UndefinedMetricWarning: Precision and F-score are ill-defined and being set to 0.0 in labels with no predicted samples. Use `zero_division` parameter to control this behavior.\n",
            "  _warn_prf(average, modifier, msg_start, len(result))\n"
          ]
        }
      ]
    },
    {
      "cell_type": "markdown",
      "source": [
        "# 13. K Nearest Neighbor\n",
        "\n",
        "O KNN é um algoritmo não paramétrico, onde a estrutura do modelo será determinada pelo dataset utilizado, ou seja, o conjunto de dados será determinado de acordo com a distância dos “vizinhos” mais próximos. Este algoritmo também é conhecido como de aprendizado lento ou melhor dizendo, é um algoritmo com um tempo de resposta mais demorado quando comparado aos demais, que também utilizam aprendizado supervisionado."
      ],
      "metadata": {
        "id": "L2T9rQW3JR4R"
      }
    },
    {
      "cell_type": "code",
      "source": [
        "# Criação de dataframe com os atributos utilizados\n",
        "knnPd = pd.DataFrame()\n",
        "knnPd = pd.concat([knnPd, monthlySalary], axis=1)\n",
        "knnPd = pd.concat([knnPd, one_hot_cargos], axis=1)\n",
        "knnPd = pd.concat([knnPd, one_hot_civil], axis=1)\n",
        "knnPd = pd.concat([knnPd, one_hot_estado], axis=1)\n",
        "knnPd = pd.concat([knnPd, age], axis=1)"
      ],
      "metadata": {
        "id": "ulqpH9CGKNhA"
      },
      "execution_count": 117,
      "outputs": []
    },
    {
      "cell_type": "code",
      "source": [
        "# Separação treino e teste\n",
        "from sklearn.model_selection import train_test_split\n",
        "\n",
        "# Dividindo x e y\n",
        "x_knn = knnPd\n",
        "y_knn = df_everymind[['Saiu']]\n",
        "\n",
        "# Dividindo dados para treino e dados para teste\n",
        "x_knn_train, x_knn_test, y_knn_train, y_knn_test = train_test_split(x_knn, y_knn, \n",
        "                                                    test_size = 0.3, \n",
        "                                                    random_state = 1)"
      ],
      "metadata": {
        "id": "mjm0-yKgKOb3"
      },
      "execution_count": 118,
      "outputs": []
    },
    {
      "cell_type": "code",
      "source": [
        "# Normalização dos dados\n",
        "from sklearn.preprocessing import MinMaxScaler\n",
        "\n",
        "# Instaciando o objeto scaler\n",
        "scaler = MinMaxScaler()\n",
        "\n",
        "# Fit + transform no conjunto de treino\n",
        "# Utilizando explicitamente as colunas de ambos os lados força que o\n",
        "# resultado da normalização ainda seja o dataframe (muito mais facil de manipular) e não um numpy array\n",
        "x_knn_train = scaler.fit_transform(x_knn_train)\n",
        "\n",
        "# Agora utilizando o scaler no conjunto de teste\n",
        "# Utilizar apenas o transform, pois fit é só no conjunto de treino,\n",
        "# o conjunto de teste é utilizado para medir a capacidade de generalização do modelo no mundo real (dados não vistos)\n",
        "# então faz sentido que a mesma normalização treinada e submetida ao conjunto de treino seja apenas aplicada no de teste\n",
        "x_knn_test = scaler.transform(x_knn_test)"
      ],
      "metadata": {
        "id": "nJ2hN6NKKQdg"
      },
      "execution_count": 119,
      "outputs": []
    },
    {
      "cell_type": "code",
      "source": [
        "# Aplicação do modelo\n",
        "from sklearn.neighbors import KNeighborsClassifier\n",
        "\n",
        "# Instaciação do obj Algoritmo\n",
        "knn = KNeighborsClassifier(n_neighbors=9)\n",
        "# Treino # x = Features, y = Label/Target\n",
        "knn.fit( x_knn_train, y_knn_train.squeeze() ) # squeeze() -> df para series"
      ],
      "metadata": {
        "colab": {
          "base_uri": "https://localhost:8080/"
        },
        "id": "phR5sq5qKSiL",
        "outputId": "5dc9c02a-fc7b-4df1-c127-5f87df18c61a"
      },
      "execution_count": 120,
      "outputs": [
        {
          "output_type": "execute_result",
          "data": {
            "text/plain": [
              "KNeighborsClassifier(n_neighbors=9)"
            ]
          },
          "metadata": {},
          "execution_count": 120
        }
      ]
    },
    {
      "cell_type": "code",
      "source": [
        "# Teste de Acuracidade (accuracy)\n",
        "print('Acuracidade (treino): ', knn.score( x_knn_train, y_knn_train ))\n",
        "print('Acuracidade (teste): ', knn.score( x_knn_test, y_knn_test ))\n",
        "# realizando predições com o conjunto de teste\n",
        "y_knn_pred = knn.predict(x_knn_test)\n",
        "# probabilidade de cada classe\n",
        "y_knn_prob = knn.predict_proba(x_knn_test)"
      ],
      "metadata": {
        "colab": {
          "base_uri": "https://localhost:8080/"
        },
        "id": "BzvaG8gVKUee",
        "outputId": "a5451476-86dc-44bb-8b25-5953d6446aee"
      },
      "execution_count": 121,
      "outputs": [
        {
          "output_type": "stream",
          "name": "stdout",
          "text": [
            "Acuracidade (treino):  0.7168674698795181\n",
            "Acuracidade (teste):  0.6223776223776224\n"
          ]
        }
      ]
    },
    {
      "cell_type": "code",
      "source": [
        "# Matriz de confusão\n",
        "y_knn_true = y_knn_test\n",
        "from sklearn.metrics import confusion_matrix\n",
        "\n",
        "cm_knn = confusion_matrix(y_knn_true, y_knn_pred)\n",
        "import matplotlib.pyplot as plt\n",
        "from sklearn.metrics import ConfusionMatrixDisplay\n",
        "\n",
        "# versão visual mais bonita da matriz\n",
        "disp = ConfusionMatrixDisplay(confusion_matrix=cm_knn, \n",
        "                              display_labels=knn.classes_)\n",
        "\n",
        "disp.plot()\n",
        "plt.show()"
      ],
      "metadata": {
        "colab": {
          "base_uri": "https://localhost:8080/",
          "height": 0
        },
        "id": "mIitdeK_KYAZ",
        "outputId": "c73a8b5a-ec47-4af3-a667-5afa232f92e9"
      },
      "execution_count": 122,
      "outputs": [
        {
          "output_type": "display_data",
          "data": {
            "text/plain": [
              "<Figure size 576x396 with 2 Axes>"
            ],
            "image/png": "[encoded data removed]"
          },
          "metadata": {}
        }
      ]
    },
    {
      "cell_type": "code",
      "source": [
        "# Report de classificação\n",
        "from sklearn.metrics import classification_report\n",
        "print(classification_report(y_knn_test, y_knn_pred))"
      ],
      "metadata": {
        "colab": {
          "base_uri": "https://localhost:8080/"
        },
        "id": "59gMAf49KZhC",
        "outputId": "4fa157f2-b739-4674-8f0a-5a10fe8a2712"
      },
      "execution_count": 123,
      "outputs": [
        {
          "output_type": "stream",
          "name": "stdout",
          "text": [
            "              precision    recall  f1-score   support\n",
            "\n",
            "           0       0.74      0.61      0.67        90\n",
            "           1       0.49      0.64      0.56        53\n",
            "\n",
            "    accuracy                           0.62       143\n",
            "   macro avg       0.62      0.63      0.61       143\n",
            "weighted avg       0.65      0.62      0.63       143\n",
            "\n"
          ]
        }
      ]
    },
    {
      "cell_type": "markdown",
      "source": [
        "# 14. Support Vector Machine\n",
        "\n",
        " A Support Vector Machines (Máquinas de Vetores de Suporte) é um conjunto de métodos de aprendizado supervisionado usado para classificação, regressão e detecção de outliers. Uma SVM constrói um hiperplano ou conjunto deles em um espaço dimensional, que pode ser usado para classificação, regressão ou outras tarefas e distribui os dados de treino de acordo com suas classificações."
      ],
      "metadata": {
        "id": "DhM5YE_hJiVy"
      }
    },
    {
      "cell_type": "code",
      "source": [
        "from sklearn.model_selection import train_test_split\n",
        "from sklearn.metrics import classification_report\n",
        "from sklearn.metrics import plot_confusion_matrix\n",
        "from sklearn import svm\n",
        "# Criando a tabela que será usada na aplicação do algoritmo SVM\n",
        "test_table = pd.DataFrame()\n",
        "#test_table = pd.concat([arvoree, df_everymind['Matrícula']], axis = 1)\n",
        "#test_table = pd.concat([arvoree, df_everymind['PessoaColaboradora']], axis = 1)\n",
        "test_table = pd.concat([arvoree,df_everymind['Salario Mês']], axis = 1)\n",
        "test_table = pd.concat([arvoree,df_everymind['Idade']], axis = 1)\n",
        "test_table = pd.concat([arvoree,df_everymind['mediaTempoPromoção']], axis = 1)\n",
        "test_table = pd.concat([arvoree,df_everymind['NumeroMeses']], axis = 1)\n",
        "test_table = pd.concat([arvoree,df_esco_atual], axis = 1)\n",
        "# Dividindo x e y\n",
        "x = test_table\n",
        "y = df_everymind[['Saiu']]\n",
        "x_train, x_test, y_train, y_test = train_test_split(x, y, test_size=0.3, random_state=1)\n",
        "# Utilizando o algoritmo e dados de treino, preparamos o algoritmo de predição\n",
        "svm_test = svm.SVC()\n",
        "svm_test.fit(x_train, y_train)\n",
        "# Aplicamos os dados de teste e verificamos a confiabilidade das predições\n",
        "svm_classifier_prediction = svm_test.predict(x_test)\n",
        "print(accuracy_score(y_test, svm_classifier_prediction))\n",
        "print(classification_report(y_test, svm_classifier_prediction))\n",
        "# Cria a matriz de confusão conforme as classificações\n",
        "plot_confusion_matrix(svm_test, x_test, y_test, cmap='Blues')"
      ],
      "metadata": {
        "colab": {
          "base_uri": "https://localhost:8080/",
          "height": 0
        },
        "id": "tYWztxdRJ4Og",
        "outputId": "dce185bc-1dcf-4762-caaf-da6ea1d5111e"
      },
      "execution_count": 124,
      "outputs": [
        {
          "output_type": "stream",
          "name": "stdout",
          "text": [
            "0.5804195804195804\n",
            "              precision    recall  f1-score   support\n",
            "\n",
            "           0       0.69      0.60      0.64        90\n",
            "           1       0.45      0.55      0.49        53\n",
            "\n",
            "    accuracy                           0.58       143\n",
            "   macro avg       0.57      0.57      0.57       143\n",
            "weighted avg       0.60      0.58      0.59       143\n",
            "\n"
          ]
        },
        {
          "output_type": "stream",
          "name": "stderr",
          "text": [
            "/usr/local/lib/python3.7/dist-packages/sklearn/utils/validation.py:1692: FutureWarning: Feature names only support names that are all strings. Got feature names with dtypes: ['int', 'str']. An error will be raised in 1.2.\n",
            "  FutureWarning,\n",
            "/usr/local/lib/python3.7/dist-packages/sklearn/utils/validation.py:993: DataConversionWarning: A column-vector y was passed when a 1d array was expected. Please change the shape of y to (n_samples, ), for example using ravel().\n",
            "  y = column_or_1d(y, warn=True)\n",
            "/usr/local/lib/python3.7/dist-packages/sklearn/utils/validation.py:1692: FutureWarning: Feature names only support names that are all strings. Got feature names with dtypes: ['int', 'str']. An error will be raised in 1.2.\n",
            "  FutureWarning,\n",
            "/usr/local/lib/python3.7/dist-packages/sklearn/utils/deprecation.py:87: FutureWarning: Function plot_confusion_matrix is deprecated; Function `plot_confusion_matrix` is deprecated in 1.0 and will be removed in 1.2. Use one of the class methods: ConfusionMatrixDisplay.from_predictions or ConfusionMatrixDisplay.from_estimator.\n",
            "  warnings.warn(msg, category=FutureWarning)\n",
            "/usr/local/lib/python3.7/dist-packages/sklearn/utils/validation.py:1692: FutureWarning: Feature names only support names that are all strings. Got feature names with dtypes: ['int', 'str']. An error will be raised in 1.2.\n",
            "  FutureWarning,\n"
          ]
        },
        {
          "output_type": "execute_result",
          "data": {
            "text/plain": [
              "<sklearn.metrics._plot.confusion_matrix.ConfusionMatrixDisplay at 0x7f75c54b1d90>"
            ]
          },
          "metadata": {},
          "execution_count": 124
        },
        {
          "output_type": "display_data",
          "data": {
            "text/plain": [
              "<Figure size 576x396 with 2 Axes>"
            ],
            "image/png": "[encoded data removed]"
          },
          "metadata": {}
        }
      ]
    },
    {
      "cell_type": "markdown",
      "source": [
        "# 15. Regressão Logística\n",
        "\n",
        "Modelo classificatório de aprendizado supervisionado, nesse caso regressão logística binária, que tem como função categorizar alguma variável por classes. Primeiro é aplicado a transformação linear para que os valores se tornem probabilidades, então é utilizado a função logística (sigmóide) para criar uma função em ‘S’ no gráfico e classificar as variáveis."
      ],
      "metadata": {
        "id": "wK-ur4WiJq1J"
      }
    },
    {
      "cell_type": "code",
      "source": [
        "# Criação de dataframe com os atributos utilizados\n",
        "RLPd = pd.DataFrame()\n",
        "RLPd = pd.concat([RLPd, monthlySalary], axis=1)\n",
        "RLPd = pd.concat([RLPd, one_hot_cargos], axis=1)\n",
        "RLPd = pd.concat([RLPd, one_hot_civil], axis=1)\n",
        "RLPd = pd.concat([RLPd, one_hot_estado], axis=1)\n",
        "RLPd = pd.concat([RLPd, age], axis=1)\n",
        "RLPd = pd.concat([RLPd, companyTime], axis=1)"
      ],
      "metadata": {
        "id": "hXDh8r09KjXx"
      },
      "execution_count": 125,
      "outputs": []
    },
    {
      "cell_type": "code",
      "source": [
        "# Separação de treino e teste dos dados\n",
        "from sklearn.model_selection import train_test_split\n",
        "from sklearn.linear_model import LogisticRegression\n",
        "from sklearn import metrics\n",
        "import matplotlib.pyplot as plt\n",
        "\n",
        "x_rl = RLPd\n",
        "y_rl = df_everymind[['Saiu']]\n",
        "\n",
        "x_rl_train, x_rl_test, y_rl_train, y_rl_test = train_test_split(x_rl, y_rl, \n",
        "                                                    test_size = 0.3, \n",
        "                                                    random_state = 1)\n",
        "# Treinando o modelo\n",
        "rlg = LogisticRegression().fit(x_rl_train, y_rl_train)\n",
        "\n",
        "# Fazendo as predições\n",
        "y_rl_pred = rlg.predict(x_rl_test)"
      ],
      "metadata": {
        "colab": {
          "base_uri": "https://localhost:8080/"
        },
        "id": "7ylwJKRvKk7x",
        "outputId": "8e54872b-f0bb-4917-b07e-7cdef35c2b86"
      },
      "execution_count": 126,
      "outputs": [
        {
          "output_type": "stream",
          "name": "stderr",
          "text": [
            "/usr/local/lib/python3.7/dist-packages/sklearn/utils/validation.py:993: DataConversionWarning: A column-vector y was passed when a 1d array was expected. Please change the shape of y to (n_samples, ), for example using ravel().\n",
            "  y = column_or_1d(y, warn=True)\n"
          ]
        }
      ]
    },
    {
      "cell_type": "code",
      "source": [
        "# Matriz de confusão\n",
        "from sklearn.metrics import confusion_matrix\n",
        "cm_lr = confusion_matrix(y_rl_test, y_rl_pred)\n",
        "import matplotlib.pyplot as plt\n",
        "from sklearn.metrics import ConfusionMatrixDisplay\n",
        "\n",
        "disp = ConfusionMatrixDisplay(confusion_matrix=cm_lr, \n",
        "                              display_labels=knn.classes_)\n",
        "\n",
        "disp.plot()\n",
        "plt.show()"
      ],
      "metadata": {
        "colab": {
          "base_uri": "https://localhost:8080/",
          "height": 361
        },
        "id": "M5APLZiCKmYi",
        "outputId": "4bd10b72-f165-479e-dc8d-ec6d5ff45580"
      },
      "execution_count": 127,
      "outputs": [
        {
          "output_type": "display_data",
          "data": {
            "text/plain": [
              "<Figure size 576x396 with 2 Axes>"
            ],
            "image/png": "[encoded data removed]"
          },
          "metadata": {}
        }
      ]
    },
    {
      "cell_type": "code",
      "source": [
        "# Report de classificação\n",
        "from sklearn.metrics import classification_report\n",
        "print(classification_report(y_rl_test, y_rl_pred))"
      ],
      "metadata": {
        "colab": {
          "base_uri": "https://localhost:8080/"
        },
        "id": "Er2RU0PlKpGY",
        "outputId": "51d53b51-f936-4b4b-c68f-78e645cae4fb"
      },
      "execution_count": 128,
      "outputs": [
        {
          "output_type": "stream",
          "name": "stdout",
          "text": [
            "              precision    recall  f1-score   support\n",
            "\n",
            "           0       0.75      0.71      0.73        90\n",
            "           1       0.55      0.60      0.58        53\n",
            "\n",
            "    accuracy                           0.67       143\n",
            "   macro avg       0.65      0.66      0.65       143\n",
            "weighted avg       0.68      0.67      0.67       143\n",
            "\n"
          ]
        }
      ]
    }
  ]
}