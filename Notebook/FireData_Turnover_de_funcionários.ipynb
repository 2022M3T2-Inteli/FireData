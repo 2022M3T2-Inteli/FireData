{
  "nbformat": 4,
  "nbformat_minor": 0,
  "metadata": {
    "colab": {
      "name": "FireData - Turnover de funcionários.ipynb",
      "provenance": [],
      "collapsed_sections": []
    },
    "kernelspec": {
      "name": "python3",
      "display_name": "Python 3"
    },
    "language_info": {
      "name": "python"
    }
  },
  "cells": [
    {
      "cell_type": "markdown",
      "source": [
        "# Everymind - FireData\n",
        "Neste notebook, apresentamos a descrição do processo de desenvolver um modelo preditivo de classificação capaz de identificar quais funcionários têm tendências a sair ou permanecer na empresa.\n",
        "\n",
        "# Integrantes\n",
        "\n",
        "*   Alexandre Fonseca de Souza\n",
        "*   Bruno Otavio Bezerra de Meira\n",
        "*   Filipi Enzo Siqueira Kikuchi\n",
        "*   Gabriela de Morais da Silva\n",
        "*   João Pedro Sartori Garcia de Alcaraz\n",
        "*   Lucas Conti Pereira\n",
        "*   Sofia Moreiras Pimazzoni\n",
        "\n",
        "\n",
        "Primeiramente, utilizaremos o arquivo que contém a base de dados dos colaboradores para a future engineering."
      ],
      "metadata": {
        "id": "hEOMnCzS3kzu"
      }
    },
    {
      "cell_type": "markdown",
      "source": [
        "#1.Preparação do algoritmo\n",
        "Para que o algoritmo funcione da forma desejada, primeiro instalamos e importamos funções e bibliotecas que auxiliam na execução de algumas tarefas. Todas as importações estão listadas abaixo:"
      ],
      "metadata": {
        "id": "2MHdIKfj4IOg"
      }
    },
    {
      "cell_type": "code",
      "source": [
        "# Instalando o moment\n",
        "!pip install moment\n",
        "\n",
        "# Importação de bibliotecas\n",
        "# Pandas\n",
        "import pandas as pd\n",
        "\n",
        "# scikitlearn\n",
        "from sklearn.preprocessing import LabelEncoder\n",
        "\n",
        "# Datetime\n",
        "from datetime import datetime\n",
        "from datetime import date\n",
        "\n",
        "# Moment\n",
        "import moment"
      ],
      "metadata": {
        "id": "f7mSIt9b4a3N",
        "colab": {
          "base_uri": "https://localhost:8080/"
        },
        "outputId": "0cd49501-a343-47c6-b503-2003f73dc9be"
      },
      "execution_count": 70,
      "outputs": [
        {
          "output_type": "stream",
          "name": "stdout",
          "text": [
            "Looking in indexes: https://pypi.org/simple, https://us-python.pkg.dev/colab-wheels/public/simple/\n",
            "Requirement already satisfied: moment in /usr/local/lib/python3.7/dist-packages (0.12.1)\n",
            "Requirement already satisfied: dateparser>=0.7 in /usr/local/lib/python3.7/dist-packages (from moment) (1.1.1)\n",
            "Requirement already satisfied: pytz>=2018.9 in /usr/local/lib/python3.7/dist-packages (from moment) (2022.2.1)\n",
            "Requirement already satisfied: times>=0.7 in /usr/local/lib/python3.7/dist-packages (from moment) (0.7)\n",
            "Requirement already satisfied: tzlocal in /usr/local/lib/python3.7/dist-packages (from dateparser>=0.7->moment) (1.5.1)\n",
            "Requirement already satisfied: python-dateutil in /usr/local/lib/python3.7/dist-packages (from dateparser>=0.7->moment) (2.8.2)\n",
            "Requirement already satisfied: regex!=2019.02.19,!=2021.8.27,<2022.3.15 in /usr/local/lib/python3.7/dist-packages (from dateparser>=0.7->moment) (2022.3.2)\n",
            "Requirement already satisfied: arrow in /usr/local/lib/python3.7/dist-packages (from times>=0.7->moment) (1.2.2)\n",
            "Requirement already satisfied: typing-extensions in /usr/local/lib/python3.7/dist-packages (from arrow->times>=0.7->moment) (4.1.1)\n",
            "Requirement already satisfied: six>=1.5 in /usr/local/lib/python3.7/dist-packages (from python-dateutil->dateparser>=0.7->moment) (1.15.0)\n"
          ]
        }
      ]
    },
    {
      "cell_type": "markdown",
      "source": [
        "1.1 Importação dos dados\n",
        "Para que o algoritmo consiga performar, precisamos importar o arquivo contendo os dados, a fim de tratá-los e posteriormente fazer analises mais acuradas. Como possuímos três tabelas com dados diferentes, separamo-nos em 3 dataframes diferentes."
      ],
      "metadata": {
        "id": "ByGP7gtJbXlY"
      }
    },
    {
      "cell_type": "code",
      "source": [
        "# Importando o arquivo que contém a base de dados\n",
        "\n",
        "# Dataframe da tabela \"Everymind\"\n",
        "df_everymind = pd.read_excel('/content/Base Colaboradores Everymind_Inteli_2020 a 2022vModelo Preditivo.xlsx', sheet_name = \"Everymind\")\n",
        "\n",
        "# Dataframe da tabela \"Reconhecimento\"\n",
        "df_reconhecimento = pd.read_excel('/content/Base Colaboradores Everymind_Inteli_2020 a 2022vModelo Preditivo.xlsx', sheet_name = \"Reconhecimento\")\n",
        "\n",
        "# Dataframe da tabela \"Reconhecimento\"\n",
        "df_ambiente = pd.read_excel('/content/Base Colaboradores Everymind_Inteli_2020 a 2022vModelo Preditivo.xlsx', sheet_name = \"Ambiente de Trabalho 27.07\")"
      ],
      "metadata": {
        "id": "Pi4q5Auv4Irl"
      },
      "execution_count": 71,
      "outputs": []
    },
    {
      "cell_type": "markdown",
      "source": [
        "# 2.Remover ou substituir registros em branco"
      ],
      "metadata": {
        "id": "Rvb89r4io3vQ"
      }
    },
    {
      "cell_type": "code",
      "source": [
        "#------------------------------------Tabela Everymind--------------------------\n",
        "\n",
        "# Verifica se dentro da coluna \"Dt Saisa\" tem cédulas vazias e caso tenha, adiciona a data de hoje.\n",
        "df_saida = df_everymind['Dt Saida'].isnull()\n",
        "\n",
        "for i in range(0,len(df_saida)):\n",
        "  if df_saida[i] == True:\n",
        "    df_everymind['Dt Saida'][i] = pd.Timestamp.today()\n",
        "\n",
        "# Verifica se dentro da coluna \"Tipo Saida\" tem cédulas vazias e caso tenha, adciona \"ColaboradorAtivo\".\n",
        "\n",
        "df_tipo_bool = df_everymind['Tipo Saida'].isnull()\n",
        "df_tipo_aux = df_everymind['Tipo Saida']\n",
        "\n",
        "for i in range(0,len(df_tipo_bool)):\n",
        "  if df_tipo_bool[i] == True:\n",
        "    df_tipo_bool[i] = \"ColaboradorAtivo\"\n",
        "  if df_tipo_bool[i] == False: \n",
        "    df_tipo_bool[i] = (df_tipo_aux[i])\n",
        "\n",
        "\n",
        "#------------------------------------Tabela Ambiente de trabalho--------------------------\n",
        "\n",
        "# Verifica se dentro das colunas de porcentagem de satisfação tem cédulas vazias e caso tenha, adiciona o 0.\n",
        "keywords = ['Pulou', 'Muito Insatisfeito', 'Insatisfeito', 'Neutro', 'Satisfeito', 'Muito Satisfeito']\n",
        "\n",
        "for i in keywords:\n",
        "  \n",
        "  df_ambiente_satisfaction = df_ambiente[i].isnull()\n",
        "\n",
        "  for j in range(0,len(df_ambiente_satisfaction)):\n",
        "    if df_ambiente_satisfaction[j] == True:\n",
        "      df_ambiente[i][j] = \"0\""
      ],
      "metadata": {
        "colab": {
          "base_uri": "https://localhost:8080/"
        },
        "id": "bOYHHtWApRHm",
        "outputId": "496aa51e-391d-427c-e67a-c58a9e864e5e"
      },
      "execution_count": 72,
      "outputs": [
        {
          "output_type": "stream",
          "name": "stderr",
          "text": [
            "/usr/local/lib/python3.7/dist-packages/ipykernel_launcher.py:8: SettingWithCopyWarning: \n",
            "A value is trying to be set on a copy of a slice from a DataFrame\n",
            "\n",
            "See the caveats in the documentation: https://pandas.pydata.org/pandas-docs/stable/user_guide/indexing.html#returning-a-view-versus-a-copy\n",
            "  \n"
          ]
        }
      ]
    },
    {
      "cell_type": "markdown",
      "source": [
        "#3. Formatação\n",
        " Nesta seção, vamos tratar os dados a fim de padronizá-los para que sejam aceitos e melhor utilizados pelo algoritmo a partir de funções que modificam a forma do dado. No momento, estamos trabalhando com alguns tipos de dados, sendo eles:\n",
        "\n",
        "\n",
        "\n",
        "*   Dados relacionadas a tempo e numeros\n",
        "*   Dados relaciondados a nome\n",
        "\n"
      ],
      "metadata": {
        "id": "oPPsdvPg5wEW"
      }
    },
    {
      "cell_type": "markdown",
      "source": [
        "3.1 Variáveis relacionadas a tempo e numeros\n",
        "As manipulações para dados do tipo data envolvem a conversão do formato para o padrão \"YYYY-MM-DD\" (Ex: 2020-09-14) e a inclusão de valores em cédulas vazias para efeitos de cálculo (Na coluna \"Dt Saida\", quando não consta a data de saída, atribuimos o dia atual para podermos calcular o número de dias na empresa). Sofrem essa alteração os dados presentes nas colunas \"Dt Admissao\", \"Dt Nascimento\" e \"Dt Saida\". As transformações seguem abaixo:"
      ],
      "metadata": {
        "id": "j6wRyojyh_bg"
      }
    },
    {
      "cell_type": "code",
      "source": [
        "#------------------------------------Tabela Everymind--------------------------\n",
        "\n",
        "# Formata a data de admissao no formato ano/mes/dia\n",
        "for i in range(0, len(df_everymind['Dt Admissao'])):\n",
        "\n",
        "  df_everymind['Dt Admissao'][i] = str(df_everymind['Dt Admissao'][i]).replace('00:00:00', '')\n",
        "  df_everymind['Dt Admissao'][i] = str(df_everymind['Dt Admissao'][i]).replace('/', '-')\n",
        "  df_everymind['Dt Admissao'][i] = moment.date(df_everymind['Dt Admissao'][i]).format(\"YYYY-MM-DD\")\n",
        "\n",
        "df_everymind['Dt Admissao'] = pd.to_datetime(df_everymind['Dt Admissao'], format=\"%Y/%m/%d\")\n",
        "\n",
        "# Formata a data de nascimento no formato ano/mes/dia\n",
        "\n",
        "for i in range(0, len(df_everymind['Dt Nascimento'])):\n",
        "\n",
        "  df_everymind['Dt Nascimento'][i] = moment.date(df_everymind['Dt Nascimento'][i]).format(\"YYYY-MM-DD\")\n",
        "\n",
        "df_everymind['Dt Nascimento'] = pd.to_datetime(df_everymind['Dt Nascimento'], format=\"%Y/%m/%d\")\n",
        "\n",
        "\n",
        "# Formata a data de saída, sendo que se o valor for vazio, atribui a data atual como data de saída\n",
        "\n",
        "df_everymind['Dt Saida'] = pd.to_datetime(df_everymind['Dt Saida'], format=\"%Y/%m/%d\")\n",
        "\n",
        "#------------------------------------Tabela Reconhecimento--------------------------\n",
        "\n",
        "# Coloca a coluna \"Data de Admissao\" no formato ano/mes/dia\n",
        "\n",
        "for i in range(0, len(df_reconhecimento['Data de Admissão'])):\n",
        "\n",
        "  df_reconhecimento['Data de Admissão'][i] = str(df_reconhecimento['Data de Admissão'][i]).replace('00:00:00', '')\n",
        "  df_reconhecimento['Data de Admissão'][i] = str(df_reconhecimento['Data de Admissão'][i]).replace('/', '-')\n",
        "  df_reconhecimento['Data de Admissão'][i] = moment.date(df_reconhecimento['Data de Admissão'][i]).format(\"YYYY-MM-DD\")\n",
        "\n",
        "df_reconhecimento['Data de Admissão'] = pd.to_datetime(df_reconhecimento['Data de Admissão'], format=\"%Y/%m/%d\")\n",
        "\n",
        "# Formata a data de Vigência no formato ano/mes/dia\n",
        "for i in range(0, len(df_reconhecimento['Data Vigência'])):\n",
        "  \n",
        "  df_reconhecimento['Data Vigência'][i] = str(df_reconhecimento['Data Vigência'][i]).replace('00:00:00', '')\n",
        "  df_reconhecimento['Data Vigência'][i] = str(df_reconhecimento['Data Vigência'][i]).replace('/', '-')\n",
        "  df_reconhecimento['Data Vigência'][i] = moment.date(df_reconhecimento['Data Vigência'][i]).format(\"YYYY-MM-DD\")\n",
        "\n",
        "df_reconhecimento['Data Vigência'] = pd.to_datetime(df_reconhecimento['Data Vigência'], format=\"%Y/%m/%d\")\n",
        "\n",
        "\n",
        "#------------------------------------Tabela Ambiente de trabalho--------------------------\n",
        "\n",
        "\n",
        "for i in keywords:\n",
        "  for j in range(0,len(df_ambiente[i])):\n",
        "    df_ambiente[i][j] = df_ambiente[i][j].replace('%', '')\n",
        "  df_ambiente[i] = df_ambiente[i].astype(float)\n",
        "  "
      ],
      "metadata": {
        "id": "M49T6VYyB_P2",
        "colab": {
          "base_uri": "https://localhost:8080/"
        },
        "outputId": "03b1ccea-8741-4cd2-fc6c-420e96355789"
      },
      "execution_count": 73,
      "outputs": [
        {
          "output_type": "stream",
          "name": "stderr",
          "text": [
            "/usr/local/lib/python3.7/dist-packages/ipykernel_launcher.py:6: SettingWithCopyWarning: \n",
            "A value is trying to be set on a copy of a slice from a DataFrame\n",
            "\n",
            "See the caveats in the documentation: https://pandas.pydata.org/pandas-docs/stable/user_guide/indexing.html#returning-a-view-versus-a-copy\n",
            "  \n",
            "/usr/local/lib/python3.7/dist-packages/ipykernel_launcher.py:7: SettingWithCopyWarning: \n",
            "A value is trying to be set on a copy of a slice from a DataFrame\n",
            "\n",
            "See the caveats in the documentation: https://pandas.pydata.org/pandas-docs/stable/user_guide/indexing.html#returning-a-view-versus-a-copy\n",
            "  import sys\n",
            "/usr/local/lib/python3.7/dist-packages/ipykernel_launcher.py:8: SettingWithCopyWarning: \n",
            "A value is trying to be set on a copy of a slice from a DataFrame\n",
            "\n",
            "See the caveats in the documentation: https://pandas.pydata.org/pandas-docs/stable/user_guide/indexing.html#returning-a-view-versus-a-copy\n",
            "  \n",
            "/usr/local/lib/python3.7/dist-packages/ipykernel_launcher.py:16: SettingWithCopyWarning: \n",
            "A value is trying to be set on a copy of a slice from a DataFrame\n",
            "\n",
            "See the caveats in the documentation: https://pandas.pydata.org/pandas-docs/stable/user_guide/indexing.html#returning-a-view-versus-a-copy\n",
            "  app.launch_new_instance()\n",
            "/usr/local/lib/python3.7/dist-packages/ipykernel_launcher.py:31: SettingWithCopyWarning: \n",
            "A value is trying to be set on a copy of a slice from a DataFrame\n",
            "\n",
            "See the caveats in the documentation: https://pandas.pydata.org/pandas-docs/stable/user_guide/indexing.html#returning-a-view-versus-a-copy\n",
            "/usr/local/lib/python3.7/dist-packages/ipykernel_launcher.py:32: SettingWithCopyWarning: \n",
            "A value is trying to be set on a copy of a slice from a DataFrame\n",
            "\n",
            "See the caveats in the documentation: https://pandas.pydata.org/pandas-docs/stable/user_guide/indexing.html#returning-a-view-versus-a-copy\n",
            "/usr/local/lib/python3.7/dist-packages/ipykernel_launcher.py:33: SettingWithCopyWarning: \n",
            "A value is trying to be set on a copy of a slice from a DataFrame\n",
            "\n",
            "See the caveats in the documentation: https://pandas.pydata.org/pandas-docs/stable/user_guide/indexing.html#returning-a-view-versus-a-copy\n",
            "/usr/local/lib/python3.7/dist-packages/ipykernel_launcher.py:40: SettingWithCopyWarning: \n",
            "A value is trying to be set on a copy of a slice from a DataFrame\n",
            "\n",
            "See the caveats in the documentation: https://pandas.pydata.org/pandas-docs/stable/user_guide/indexing.html#returning-a-view-versus-a-copy\n",
            "/usr/local/lib/python3.7/dist-packages/ipykernel_launcher.py:41: SettingWithCopyWarning: \n",
            "A value is trying to be set on a copy of a slice from a DataFrame\n",
            "\n",
            "See the caveats in the documentation: https://pandas.pydata.org/pandas-docs/stable/user_guide/indexing.html#returning-a-view-versus-a-copy\n",
            "/usr/local/lib/python3.7/dist-packages/ipykernel_launcher.py:42: SettingWithCopyWarning: \n",
            "A value is trying to be set on a copy of a slice from a DataFrame\n",
            "\n",
            "See the caveats in the documentation: https://pandas.pydata.org/pandas-docs/stable/user_guide/indexing.html#returning-a-view-versus-a-copy\n",
            "/usr/local/lib/python3.7/dist-packages/ipykernel_launcher.py:52: SettingWithCopyWarning: \n",
            "A value is trying to be set on a copy of a slice from a DataFrame\n",
            "\n",
            "See the caveats in the documentation: https://pandas.pydata.org/pandas-docs/stable/user_guide/indexing.html#returning-a-view-versus-a-copy\n"
          ]
        }
      ]
    },
    {
      "cell_type": "markdown",
      "source": [
        "##3.2 Variáveis relacionadas a nomes\n",
        "\n",
        "Para que o programa funcione corretamente, todos os dados que contêm nomes e/ou informações baseadas em texto foram padronizados removendo todos os espaços em branco (Exemplo: \"Funcional Pl\" vira \"FuncionalPl\").\n",
        "\n"
      ],
      "metadata": {
        "id": "xtBND_05daZK"
      }
    },
    {
      "cell_type": "code",
      "source": [
        "# ------------------------------------Tabela Everymind--------------------------\n",
        "\n",
        "\n",
        "# Pega todas as colunas do dataframe com type \"object\" e tira todos os espaços em branco\n",
        "dtg = df_everymind.select_dtypes(include = \"object\").columns\n",
        "\n",
        "for j in dtg:\n",
        "  df_everymind[j] = df_everymind[j].str.replace(' ', '')\n",
        "\n",
        "# Cria uma coluna nova\n",
        "df_everymind['PessoaColaboradora'] = \"\"\n",
        "\n",
        "#Pega a coluna \"Nome completo\" tira o texto, deixa apenas o número do colaborador e adiciona na coluna criada \"PessoaColaboradora\" \n",
        "\n",
        "for i in range(0, len(df_everymind['Nome Completo'])):\n",
        "  df_everymind['PessoaColaboradora'][i] = str(df_everymind['Nome Completo'][i]).replace('PessoaColaboradora', '')\n",
        "\n",
        "\n",
        "# ------------------------------------Tabela Reconhecimento--------------------------\n",
        "\n",
        "\n",
        "# Pega todas as colunas com type \"object\" e tira todos os espaços para ficar padronizado\n",
        "df_reconhecimento_types = df_reconhecimento.select_dtypes(include = \"object\").columns\n",
        "\n",
        "for j in df_reconhecimento_types:\n",
        "  df_reconhecimento[j] = df_reconhecimento[j].str.replace(' ', '')\n",
        "\n",
        "# Cria uma nova coluna \"Pessoa colaboradora\"\n",
        "df_reconhecimento['PessoaColaboradora'] = \"\"\n",
        "\n",
        "# Transforma a coluna \"Codinome\" em number, tirando os textos e colocando o numero do colaborador na coluna \"PessoaColaboradora\"\n",
        "for i in range(0, len(df_reconhecimento['Codinome'])):\n",
        "  df_reconhecimento['PessoaColaboradora'][i] = str(df_reconhecimento['Codinome'][i]).replace('PessoaColaboradora', '')\n",
        "\n",
        "\n",
        "# ------------------------------------Tabela Ambiente de Trabalho 27.07--------------------------\n",
        "\n",
        "\n",
        "# Pega todas as colunas com type \"object\" e tira todos os espaços para ficar padronizado\n",
        "df_ambiente_types = df_ambiente.select_dtypes(include = \"object\").columns\n",
        "\n",
        "for j in df_ambiente_types:\n",
        "  df_ambiente[j] = df_ambiente[j].str.replace(' ', '')"
      ],
      "metadata": {
        "id": "-QfA5nh9ep3S",
        "colab": {
          "base_uri": "https://localhost:8080/"
        },
        "outputId": "89125aa5-03e3-4162-ce41-dfbbd99d75c6"
      },
      "execution_count": 74,
      "outputs": [
        {
          "output_type": "stream",
          "name": "stderr",
          "text": [
            "/usr/local/lib/python3.7/dist-packages/ipykernel_launcher.py:16: SettingWithCopyWarning: \n",
            "A value is trying to be set on a copy of a slice from a DataFrame\n",
            "\n",
            "See the caveats in the documentation: https://pandas.pydata.org/pandas-docs/stable/user_guide/indexing.html#returning-a-view-versus-a-copy\n",
            "  app.launch_new_instance()\n",
            "/usr/local/lib/python3.7/dist-packages/ipykernel_launcher.py:33: SettingWithCopyWarning: \n",
            "A value is trying to be set on a copy of a slice from a DataFrame\n",
            "\n",
            "See the caveats in the documentation: https://pandas.pydata.org/pandas-docs/stable/user_guide/indexing.html#returning-a-view-versus-a-copy\n"
          ]
        }
      ]
    },
    {
      "cell_type": "markdown",
      "source": [
        "#4. Derivação de novos atributos\n",
        "\n",
        "A partir da limpeza dos dados e do relacionamento entre eles, conseguimos gerar novos elementos que facilitam as analises e auxiliam na tomada de decisões da IA. A partir dos dados obtidos, obtivemos os seguintes atributos:\n",
        "\n",
        "\n",
        "*   Número de dias na empresa\n",
        "*   Idade do colaborador\n",
        "*   Dias para reconhecimento entre data de admissão e vigência\n",
        "\n",
        "\n"
      ],
      "metadata": {
        "id": "TD0CxvejwTdi"
      }
    },
    {
      "cell_type": "code",
      "source": [
        "# ------------------------------------Tabela Everymind--------------------------\n",
        "\n",
        "# Função que calcula os dias entre duas datas\n",
        "def numOfDays(date1, date2):\n",
        "    return (date2-date1).days\n",
        "\n",
        "# Cria uma coluna de idade e uma de numero de dias na empresa na empresa \n",
        "df_everymind['Idade'] = \"\"\n",
        "df_everymind['NumeroMeses'] = \"\"\n",
        "\n",
        "# Faz o calculo da idade e armazena \n",
        "for i in range(0, len(df_everymind['Dt Nascimento'])):\n",
        "  if df_everymind['Tipo Saida'][i] == str('ColaboradorAtivo'):\n",
        "    if date.today().month>=(df_everymind['Dt Nascimento'][i]).month:\n",
        "      df_everymind['Idade'][i] = date.today().year - (df_everymind['Dt Nascimento'][i]).year\n",
        "    else:\n",
        "      df_everymind['Idade'][i] = (date.today().year - (df_everymind['Dt Nascimento'][i]).year)-1\n",
        "  else:\n",
        "    if df_everymind['Dt Saida'][i].month>=(df_everymind['Dt Nascimento'][i]).month:\n",
        "      df_everymind['Idade'][i] = date.today().year - (df_everymind['Dt Nascimento'][i]).year\n",
        "    else:\n",
        "      df_everymind['Idade'][i] = (df_everymind['Dt Saida'][i].year - df_everymind['Dt Nascimento'][i].year)-1\n",
        "\n",
        "# Faz o calculo do numero de meses na empresa de cada colaborador\n",
        "\n",
        "for i in range(0, len(df_everymind['Dt Admissao'])):\n",
        "  if df_everymind['Tipo Saida'][i] == str('Ativo'):\n",
        "    df_everymind['NumeroMeses'][i] = (((date.today().year - df_everymind['Dt Admissao'][i].year)*12)+date.today().month - df_everymind['Dt Admissao'][i].month)\n",
        "  else:\n",
        "    df_everymind['NumeroMeses'][i] = (df_everymind['Dt Saida'][i].year - df_everymind['Dt Admissao'][i].year)*12+df_everymind['Dt Saida'][i].month - df_everymind['Dt Admissao'][i].month\n",
        "    \n",
        "# ------------------------------------Tabela Reconhecimento--------------------------\n",
        "\n",
        "\n",
        "#Cria uma coluna \"DiasParaReconhecimento\"\n",
        "df_reconhecimento['DiasParaReconhecimento'] = \"\"\n",
        "\n",
        "#Calcula os dias que o empregador entrou na empresa até receber reconhecimento\n",
        "date_reconhecimento1 = df_reconhecimento['Data de Admissão']\n",
        "date_reconhecimento2 = df_reconhecimento['Data Vigência']\n",
        "for i in range(0, len(date_reconhecimento2)):\n",
        "  df_reconhecimento['DiasParaReconhecimento'][i] = str(numOfDays(date_reconhecimento1[i], date_reconhecimento2[i]))"
      ],
      "metadata": {
        "id": "VXCYyBBg9bNm",
        "colab": {
          "base_uri": "https://localhost:8080/"
        },
        "outputId": "fc4bbb3b-3b98-4488-c9ae-47cc7aabed05"
      },
      "execution_count": 75,
      "outputs": [
        {
          "output_type": "stream",
          "name": "stderr",
          "text": [
            "/usr/local/lib/python3.7/dist-packages/ipykernel_launcher.py:20: SettingWithCopyWarning: \n",
            "A value is trying to be set on a copy of a slice from a DataFrame\n",
            "\n",
            "See the caveats in the documentation: https://pandas.pydata.org/pandas-docs/stable/user_guide/indexing.html#returning-a-view-versus-a-copy\n",
            "/usr/local/lib/python3.7/dist-packages/ipykernel_launcher.py:22: SettingWithCopyWarning: \n",
            "A value is trying to be set on a copy of a slice from a DataFrame\n",
            "\n",
            "See the caveats in the documentation: https://pandas.pydata.org/pandas-docs/stable/user_guide/indexing.html#returning-a-view-versus-a-copy\n",
            "/usr/local/lib/python3.7/dist-packages/ipykernel_launcher.py:30: SettingWithCopyWarning: \n",
            "A value is trying to be set on a copy of a slice from a DataFrame\n",
            "\n",
            "See the caveats in the documentation: https://pandas.pydata.org/pandas-docs/stable/user_guide/indexing.html#returning-a-view-versus-a-copy\n",
            "/usr/local/lib/python3.7/dist-packages/ipykernel_launcher.py:42: SettingWithCopyWarning: \n",
            "A value is trying to be set on a copy of a slice from a DataFrame\n",
            "\n",
            "See the caveats in the documentation: https://pandas.pydata.org/pandas-docs/stable/user_guide/indexing.html#returning-a-view-versus-a-copy\n"
          ]
        }
      ]
    },
    {
      "cell_type": "markdown",
      "source": [
        "#5. Encoders\n",
        "\n",
        "As variáveis do tipo _string_ são reconhecidas com dificuldade pelo modelo, por conta disso, é necessário transformá-las em números (tipo _int_ e _float_). Existem duas maneiras de se fazer o \"encoding\", sendo elas:\n",
        "\n",
        "\n",
        "* Label Encoding\n",
        "* One Hot Encoding"
      ],
      "metadata": {
        "id": "L8e9hBYiOa8j"
      }
    },
    {
      "cell_type": "markdown",
      "source": [
        "##5.1 Label Encoding\n",
        "\n",
        "O Label Encoding transforma as features em números ordenados, ou seja, em ordem. É normalmente usada quando uma feature é mais importante que outra. No projeto a única que identificamos que possui ordem é a escolaridade (na tabela Everymind)."
      ],
      "metadata": {
        "id": "Eyxsdf9MP_a0"
      }
    },
    {
      "cell_type": "code",
      "source": [
        "# Cria um novo Data Frame para a coluna de Escolaridade e raliza o processo de Label Encoding\n",
        "data_frame_esco = pd.DataFrame(df_everymind, columns=[\"Escolaridade \"]) \n",
        "df_esco_atual = data_frame_esco.replace(['EnsinoMédioIncompleto',\n",
        "                                         'EnsinoMédio', \n",
        "                                         'Técnico', \n",
        "                                         'Superiorincompleto', \n",
        "                                         'Graduação', \n",
        "                                         'PósGraduação', \n",
        "                                         'Mestrado'], \n",
        "                                         [0,1,2,3,4,5,6])"
      ],
      "metadata": {
        "id": "rY1oHumuWkFA"
      },
      "execution_count": 76,
      "outputs": []
    },
    {
      "cell_type": "markdown",
      "source": [
        "##5.2 One Hot Encoding\n",
        "\n",
        "O One Hot Encoding cria uma coluna para cada valor e faz uma atribuição do valor 1 (um) para a coluna correspondente da amostra e 0 (zero) para as outras. Dessa forma, uma linha tem apenas um valor. Essa forma de _encoding_ costuma ser mais utilizada, pois não atribui uma ordem às features. Nós usamos o One Hot Encoding em todas as tabelas."
      ],
      "metadata": {
        "id": "b72VF7emX2wD"
      }
    },
    {
      "cell_type": "code",
      "source": [
        "# ------------------------------------Tabela Everymind--------------------------\n",
        "\n",
        "# A função \"get_dummies()\" realiza o One Hot Encoding da coluna desejada. \n",
        "one_hot_cargos = pd.get_dummies(df_everymind[\"Cargo\"])\n",
        "one_hot_saida = pd.get_dummies(df_everymind[\"Tipo Saida\"])\n",
        "one_hot_genero = pd.get_dummies(df_everymind[\"Genero\"])\n",
        "one_hot_etnia = pd.get_dummies(df_everymind[\"Etnia\"])\n",
        "one_hot_civil = pd.get_dummies(df_everymind[\"Estado Civil\"]) \n",
        "one_hot_estado = pd.get_dummies(df_everymind[\"Estado\"])\n",
        "one_hot_cidade = pd.get_dummies(df_everymind[\"Cidade\"])\n",
        "one_hot_area = pd.get_dummies(df_everymind[\"Area\"])\n",
        "one_hot_colaborador = pd.get_dummies(df_everymind[\"PessoaColaboradora\"])\n",
        "\n",
        "\n",
        "# ------------------------------------Tabela Reconhecimento--------------------------\n",
        "\n",
        "# A mesma função acima se aplica nessa tabela\n",
        "one_hot_codinome = pd.get_dummies(df_reconhecimento[\"Codinome\"])\n",
        "one_hot_situacao = pd.get_dummies(df_reconhecimento[\"Situação\"])\n",
        "one_hot_novocargo = pd.get_dummies(df_reconhecimento[\"Novo Cargo\"])\n",
        "one_hot_motivo = pd.get_dummies(df_reconhecimento[\"Motivo\"])\n",
        "one_hot_funcao = pd.get_dummies(df_reconhecimento[\"Alterou Função\"])\n",
        "\n",
        "# ------------------------------------Tabela Ambiente de trabalho--------------------------\n",
        "\n",
        "one_hot_div = pd.get_dummies(df_ambiente[\"Divisao\"])\n",
        "one_hot_pilar = pd.get_dummies(df_ambiente[\"Pilar\"])\n",
        "one_hot_factor = pd.get_dummies(df_ambiente[\"Fator\"])\n",
        "one_hot_question = pd.get_dummies(df_ambiente[\"Pergunta\"])\n",
        "one_hot_reliabilityRate = pd.get_dummies(df_ambiente[\"Taxa de Confiabilidade\"])\n",
        "\n",
        "one_hot_div"
      ],
      "metadata": {
        "id": "284sBXUBY-nd",
        "colab": {
          "base_uri": "https://localhost:8080/",
          "height": 423
        },
        "outputId": "932bf2ce-249c-40e4-f8c2-912c7bda4b18"
      },
      "execution_count": 77,
      "outputs": [
        {
          "output_type": "execute_result",
          "data": {
            "text/plain": [
              "      AMS&PS  Analytics&Integration  CPG&RetailI  CPG&RetailII  Commerce  \\\n",
              "0          0                      0            0             0         0   \n",
              "1          0                      0            0             0         0   \n",
              "2          0                      0            0             0         0   \n",
              "3          0                      0            0             0         0   \n",
              "4          0                      0            0             0         0   \n",
              "...      ...                    ...          ...           ...       ...   \n",
              "1689       0                      0            0             0         0   \n",
              "1690       0                      0            0             0         0   \n",
              "1691       0                      0            0             0         0   \n",
              "1692       0                      0            0             0         0   \n",
              "1693       0                      0            0             0         0   \n",
              "\n",
              "      Core&IndustriasI  Core&IndustriasII  Everymind  MktCloud  \\\n",
              "0                    0                  0          1         0   \n",
              "1                    0                  0          1         0   \n",
              "2                    0                  0          1         0   \n",
              "3                    0                  0          1         0   \n",
              "4                    0                  0          1         0   \n",
              "...                ...                ...        ...       ...   \n",
              "1689                 0                  0          0         0   \n",
              "1690                 0                  0          0         0   \n",
              "1691                 0                  0          0         0   \n",
              "1692                 0                  0          0         0   \n",
              "1693                 0                  0          0         0   \n",
              "\n",
              "      People&Culture  Vendas  \n",
              "0                  0       0  \n",
              "1                  0       0  \n",
              "2                  0       0  \n",
              "3                  0       0  \n",
              "4                  0       0  \n",
              "...              ...     ...  \n",
              "1689               0       1  \n",
              "1690               0       1  \n",
              "1691               0       1  \n",
              "1692               0       1  \n",
              "1693               0       1  \n",
              "\n",
              "[1694 rows x 11 columns]"
            ],
            "text/html": [
              "\n",
              "  <div id=\"df-1a50a470-63e4-4154-ab87-a9be90dcac0b\">\n",
              "    <div class=\"colab-df-container\">\n",
              "      <div>\n",
              "<style scoped>\n",
              "    .dataframe tbody tr th:only-of-type {\n",
              "        vertical-align: middle;\n",
              "    }\n",
              "\n",
              "    .dataframe tbody tr th {\n",
              "        vertical-align: top;\n",
              "    }\n",
              "\n",
              "    .dataframe thead th {\n",
              "        text-align: right;\n",
              "    }\n",
              "</style>\n",
              "<table border=\"1\" class=\"dataframe\">\n",
              "  <thead>\n",
              "    <tr style=\"text-align: right;\">\n",
              "      <th></th>\n",
              "      <th>AMS&amp;PS</th>\n",
              "      <th>Analytics&amp;Integration</th>\n",
              "      <th>CPG&amp;RetailI</th>\n",
              "      <th>CPG&amp;RetailII</th>\n",
              "      <th>Commerce</th>\n",
              "      <th>Core&amp;IndustriasI</th>\n",
              "      <th>Core&amp;IndustriasII</th>\n",
              "      <th>Everymind</th>\n",
              "      <th>MktCloud</th>\n",
              "      <th>People&amp;Culture</th>\n",
              "      <th>Vendas</th>\n",
              "    </tr>\n",
              "  </thead>\n",
              "  <tbody>\n",
              "    <tr>\n",
              "      <th>0</th>\n",
              "      <td>0</td>\n",
              "      <td>0</td>\n",
              "      <td>0</td>\n",
              "      <td>0</td>\n",
              "      <td>0</td>\n",
              "      <td>0</td>\n",
              "      <td>0</td>\n",
              "      <td>1</td>\n",
              "      <td>0</td>\n",
              "      <td>0</td>\n",
              "      <td>0</td>\n",
              "    </tr>\n",
              "    <tr>\n",
              "      <th>1</th>\n",
              "      <td>0</td>\n",
              "      <td>0</td>\n",
              "      <td>0</td>\n",
              "      <td>0</td>\n",
              "      <td>0</td>\n",
              "      <td>0</td>\n",
              "      <td>0</td>\n",
              "      <td>1</td>\n",
              "      <td>0</td>\n",
              "      <td>0</td>\n",
              "      <td>0</td>\n",
              "    </tr>\n",
              "    <tr>\n",
              "      <th>2</th>\n",
              "      <td>0</td>\n",
              "      <td>0</td>\n",
              "      <td>0</td>\n",
              "      <td>0</td>\n",
              "      <td>0</td>\n",
              "      <td>0</td>\n",
              "      <td>0</td>\n",
              "      <td>1</td>\n",
              "      <td>0</td>\n",
              "      <td>0</td>\n",
              "      <td>0</td>\n",
              "    </tr>\n",
              "    <tr>\n",
              "      <th>3</th>\n",
              "      <td>0</td>\n",
              "      <td>0</td>\n",
              "      <td>0</td>\n",
              "      <td>0</td>\n",
              "      <td>0</td>\n",
              "      <td>0</td>\n",
              "      <td>0</td>\n",
              "      <td>1</td>\n",
              "      <td>0</td>\n",
              "      <td>0</td>\n",
              "      <td>0</td>\n",
              "    </tr>\n",
              "    <tr>\n",
              "      <th>4</th>\n",
              "      <td>0</td>\n",
              "      <td>0</td>\n",
              "      <td>0</td>\n",
              "      <td>0</td>\n",
              "      <td>0</td>\n",
              "      <td>0</td>\n",
              "      <td>0</td>\n",
              "      <td>1</td>\n",
              "      <td>0</td>\n",
              "      <td>0</td>\n",
              "      <td>0</td>\n",
              "    </tr>\n",
              "    <tr>\n",
              "      <th>...</th>\n",
              "      <td>...</td>\n",
              "      <td>...</td>\n",
              "      <td>...</td>\n",
              "      <td>...</td>\n",
              "      <td>...</td>\n",
              "      <td>...</td>\n",
              "      <td>...</td>\n",
              "      <td>...</td>\n",
              "      <td>...</td>\n",
              "      <td>...</td>\n",
              "      <td>...</td>\n",
              "    </tr>\n",
              "    <tr>\n",
              "      <th>1689</th>\n",
              "      <td>0</td>\n",
              "      <td>0</td>\n",
              "      <td>0</td>\n",
              "      <td>0</td>\n",
              "      <td>0</td>\n",
              "      <td>0</td>\n",
              "      <td>0</td>\n",
              "      <td>0</td>\n",
              "      <td>0</td>\n",
              "      <td>0</td>\n",
              "      <td>1</td>\n",
              "    </tr>\n",
              "    <tr>\n",
              "      <th>1690</th>\n",
              "      <td>0</td>\n",
              "      <td>0</td>\n",
              "      <td>0</td>\n",
              "      <td>0</td>\n",
              "      <td>0</td>\n",
              "      <td>0</td>\n",
              "      <td>0</td>\n",
              "      <td>0</td>\n",
              "      <td>0</td>\n",
              "      <td>0</td>\n",
              "      <td>1</td>\n",
              "    </tr>\n",
              "    <tr>\n",
              "      <th>1691</th>\n",
              "      <td>0</td>\n",
              "      <td>0</td>\n",
              "      <td>0</td>\n",
              "      <td>0</td>\n",
              "      <td>0</td>\n",
              "      <td>0</td>\n",
              "      <td>0</td>\n",
              "      <td>0</td>\n",
              "      <td>0</td>\n",
              "      <td>0</td>\n",
              "      <td>1</td>\n",
              "    </tr>\n",
              "    <tr>\n",
              "      <th>1692</th>\n",
              "      <td>0</td>\n",
              "      <td>0</td>\n",
              "      <td>0</td>\n",
              "      <td>0</td>\n",
              "      <td>0</td>\n",
              "      <td>0</td>\n",
              "      <td>0</td>\n",
              "      <td>0</td>\n",
              "      <td>0</td>\n",
              "      <td>0</td>\n",
              "      <td>1</td>\n",
              "    </tr>\n",
              "    <tr>\n",
              "      <th>1693</th>\n",
              "      <td>0</td>\n",
              "      <td>0</td>\n",
              "      <td>0</td>\n",
              "      <td>0</td>\n",
              "      <td>0</td>\n",
              "      <td>0</td>\n",
              "      <td>0</td>\n",
              "      <td>0</td>\n",
              "      <td>0</td>\n",
              "      <td>0</td>\n",
              "      <td>1</td>\n",
              "    </tr>\n",
              "  </tbody>\n",
              "</table>\n",
              "<p>1694 rows × 11 columns</p>\n",
              "</div>\n",
              "      <button class=\"colab-df-convert\" onclick=\"convertToInteractive('df-1a50a470-63e4-4154-ab87-a9be90dcac0b')\"\n",
              "              title=\"Convert this dataframe to an interactive table.\"\n",
              "              style=\"display:none;\">\n",
              "        \n",
              "  <svg xmlns=\"http://www.w3.org/2000/svg\" height=\"24px\"viewBox=\"0 0 24 24\"\n",
              "       width=\"24px\">\n",
              "    <path d=\"M0 0h24v24H0V0z\" fill=\"none\"/>\n",
              "    <path d=\"M18.56 5.44l.94 2.06.94-2.06 2.06-.94-2.06-.94-.94-2.06-.94 2.06-2.06.94zm-11 1L8.5 8.5l.94-2.06 2.06-.94-2.06-.94L8.5 2.5l-.94 2.06-2.06.94zm10 10l.94 2.06.94-2.06 2.06-.94-2.06-.94-.94-2.06-.94 2.06-2.06.94z\"/><path d=\"M17.41 7.96l-1.37-1.37c-.4-.4-.92-.59-1.43-.59-.52 0-1.04.2-1.43.59L10.3 9.45l-7.72 7.72c-.78.78-.78 2.05 0 2.83L4 21.41c.39.39.9.59 1.41.59.51 0 1.02-.2 1.41-.59l7.78-7.78 2.81-2.81c.8-.78.8-2.07 0-2.86zM5.41 20L4 18.59l7.72-7.72 1.47 1.35L5.41 20z\"/>\n",
              "  </svg>\n",
              "      </button>\n",
              "      \n",
              "  <style>\n",
              "    .colab-df-container {\n",
              "      display:flex;\n",
              "      flex-wrap:wrap;\n",
              "      gap: 12px;\n",
              "    }\n",
              "\n",
              "    .colab-df-convert {\n",
              "      background-color: #E8F0FE;\n",
              "      border: none;\n",
              "      border-radius: 50%;\n",
              "      cursor: pointer;\n",
              "      display: none;\n",
              "      fill: #1967D2;\n",
              "      height: 32px;\n",
              "      padding: 0 0 0 0;\n",
              "      width: 32px;\n",
              "    }\n",
              "\n",
              "    .colab-df-convert:hover {\n",
              "      background-color: #E2EBFA;\n",
              "      box-shadow: 0px 1px 2px rgba(60, 64, 67, 0.3), 0px 1px 3px 1px rgba(60, 64, 67, 0.15);\n",
              "      fill: #174EA6;\n",
              "    }\n",
              "\n",
              "    [theme=dark] .colab-df-convert {\n",
              "      background-color: #3B4455;\n",
              "      fill: #D2E3FC;\n",
              "    }\n",
              "\n",
              "    [theme=dark] .colab-df-convert:hover {\n",
              "      background-color: #434B5C;\n",
              "      box-shadow: 0px 1px 3px 1px rgba(0, 0, 0, 0.15);\n",
              "      filter: drop-shadow(0px 1px 2px rgba(0, 0, 0, 0.3));\n",
              "      fill: #FFFFFF;\n",
              "    }\n",
              "  </style>\n",
              "\n",
              "      <script>\n",
              "        const buttonEl =\n",
              "          document.querySelector('#df-1a50a470-63e4-4154-ab87-a9be90dcac0b button.colab-df-convert');\n",
              "        buttonEl.style.display =\n",
              "          google.colab.kernel.accessAllowed ? 'block' : 'none';\n",
              "\n",
              "        async function convertToInteractive(key) {\n",
              "          const element = document.querySelector('#df-1a50a470-63e4-4154-ab87-a9be90dcac0b');\n",
              "          const dataTable =\n",
              "            await google.colab.kernel.invokeFunction('convertToInteractive',\n",
              "                                                     [key], {});\n",
              "          if (!dataTable) return;\n",
              "\n",
              "          const docLinkHtml = 'Like what you see? Visit the ' +\n",
              "            '<a target=\"_blank\" href=https://colab.research.google.com/notebooks/data_table.ipynb>data table notebook</a>'\n",
              "            + ' to learn more about interactive tables.';\n",
              "          element.innerHTML = '';\n",
              "          dataTable['output_type'] = 'display_data';\n",
              "          await google.colab.output.renderOutput(dataTable, element);\n",
              "          const docLink = document.createElement('div');\n",
              "          docLink.innerHTML = docLinkHtml;\n",
              "          element.appendChild(docLink);\n",
              "        }\n",
              "      </script>\n",
              "    </div>\n",
              "  </div>\n",
              "  "
            ]
          },
          "metadata": {},
          "execution_count": 77
        }
      ]
    },
    {
      "cell_type": "markdown",
      "source": [
        "#6. Criação de novas tabelas\n",
        "\n",
        "Para facilitar o desenvolvimento do projeto, foi decidido criar tabelas novas com as modificações feitas."
      ],
      "metadata": {
        "id": "En3-Eqy8bGsl"
      }
    },
    {
      "cell_type": "markdown",
      "source": [
        "6.1. Armazenando os dados em variaveis"
      ],
      "metadata": {
        "id": "0TasagPMhT9R"
      }
    },
    {
      "cell_type": "code",
      "source": [
        "# ------------------------------------Tabela Everymind--------------------------\n",
        "\n",
        "collaborator = df_everymind['PessoaColaboradora']\n",
        "registration = df_everymind['Matrícula']\n",
        "age = df_everymind['Idade']\n",
        "companyTime = df_everymind['NumeroMeses']\n",
        "monthlySalary = df_everymind['Salario Mês']\n",
        "\n",
        "# ------------------------------------Tabela Reconhecimento--------------------------\n",
        "\n",
        "registrationRecognition = df_reconhecimento['Matricula']\n",
        "registrationRecognition = df_reconhecimento['PessoaColaboradora']\n",
        "daysRecognition = df_reconhecimento['DiasParaReconhecimento']\n",
        "newSalary =  df_reconhecimento['Novo Salario']\n",
        "\n",
        "# ------------------------------------Tabela Ambiente de trabalho--------------------------\n",
        "\n",
        "punctuation = df_ambiente['Pontuação']\n",
        "subpunctuation = df_ambiente['Pontuação.1']\n",
        "searchSkip = df_ambiente['Pulou']\n",
        "veryUnsatisfied = df_ambiente['Muito Insatisfeito']\n",
        "unsatisfied = df_ambiente['Insatisfeito']\n",
        "neutral = df_ambiente['Neutro']\n",
        "satisfied = df_ambiente['Satisfeito']\n",
        "verySatisfied = df_ambiente['Muito Satisfeito']"
      ],
      "metadata": {
        "id": "TWUHNkzTbf13"
      },
      "execution_count": 78,
      "outputs": []
    },
    {
      "cell_type": "markdown",
      "source": [
        "6.2. Concatenando os dados na nova tabela"
      ],
      "metadata": {
        "id": "sec2nOIihmd2"
      }
    },
    {
      "cell_type": "code",
      "source": [
        "# ------------------------------------Tabela Everymind--------------------------\n",
        "\n",
        "# Cria uma tabela nova com os dados formatados\n",
        "newData = pd.DataFrame()\n",
        "newData = pd.concat([newData,registration], axis = 1)\n",
        "newData = pd.concat([newData,collaborator], axis = 1)\n",
        "newData = pd.concat([newData,age], axis = 1)\n",
        "newData = pd.concat([newData,companyTime], axis = 1)\n",
        "newData = pd.concat([newData,one_hot_saida], axis = 1)\n",
        "newData = pd.concat([newData,one_hot_cargos], axis = 1)\n",
        "newData = pd.concat([newData,monthlySalary], axis = 1)\n",
        "newData = pd.concat([newData,one_hot_genero], axis = 1)\n",
        "newData = pd.concat([newData,one_hot_civil], axis = 1)\n",
        "newData = pd.concat([newData,df_esco_atual], axis = 1)\n",
        "newData = pd.concat([newData,one_hot_estado], axis = 1)\n",
        "newData = pd.concat([newData,one_hot_cidade], axis = 1)\n",
        "newData = pd.concat([newData,one_hot_area], axis = 1)\n",
        "\n",
        "# ------------------------------------Tabela Reconhecimento--------------------------\n",
        "\n",
        "# Cria uma tabela nova com os dados formatados\n",
        "newData_reconhecimento = pd.DataFrame()\n",
        "newData_reconhecimento = pd.concat([df_reconhecimento,one_hot_codinome], axis = 1)\n",
        "newData_reconhecimento = pd.concat([df_reconhecimento,one_hot_situacao], axis = 1)\n",
        "newData_reconhecimento = pd.concat([df_reconhecimento,one_hot_novocargo], axis = 1)\n",
        "newData_reconhecimento = pd.concat([df_reconhecimento,one_hot_motivo], axis = 1)\n",
        "newData_reconhecimento = pd.concat([df_reconhecimento,one_hot_funcao], axis = 1)\n",
        "\n",
        "\n",
        "# ------------------------------------Tabela Reconhecimento--------------------------\n",
        "\n",
        "# Cria uma tabela nova com os dados formatados\n",
        "newData_ambiente = pd.DataFrame()\n",
        "newData_ambiente = pd.concat([df_ambiente,one_hot_div], axis = 1)\n",
        "newData_ambiente = pd.concat([df_ambiente,one_hot_pilar], axis = 1)\n",
        "newData_ambiente = pd.concat([df_ambiente,punctuation], axis = 1)\n",
        "newData_ambiente = pd.concat([df_ambiente,one_hot_factor], axis = 1)\n",
        "newData_ambiente = pd.concat([df_ambiente,subpunctuation], axis = 1)\n",
        "newData_ambiente = pd.concat([df_ambiente,one_hot_question], axis = 1)\n",
        "newData_ambiente = pd.concat([df_ambiente,searchSkip], axis = 1)\n",
        "newData_ambiente = pd.concat([df_ambiente,veryUnsatisfied], axis = 1)\n",
        "newData_ambiente = pd.concat([df_ambiente,unsatisfied], axis = 1)\n",
        "newData_ambiente = pd.concat([df_ambiente,neutral], axis = 1)\n",
        "newData_ambiente = pd.concat([df_ambiente,satisfied], axis = 1)\n",
        "newData_ambiente = pd.concat([df_ambiente,verySatisfied], axis = 1)\n",
        "newData_ambiente = pd.concat([df_ambiente,one_hot_reliabilityRate], axis = 1)"
      ],
      "metadata": {
        "id": "krPZwsqabFP5"
      },
      "execution_count": 79,
      "outputs": []
    },
    {
      "cell_type": "markdown",
      "source": [
        "# 7.Download das novas tabelas\n",
        "\n",
        "Para verificação e facilidade de análise vamos fazer o download das tabelas."
      ],
      "metadata": {
        "id": "t5o4H_l2iY9X"
      }
    },
    {
      "cell_type": "code",
      "source": [
        "newData.to_excel('formatData_Everymind.xlsx')\n",
        "newData_reconhecimento.to_excel('formatData_Reconhecimento.xlsx')\n",
        "newData_ambiente.to_excel('formatData_Ambiente.xlsx')"
      ],
      "metadata": {
        "id": "fwyZNOoHipW-"
      },
      "execution_count": 80,
      "outputs": []
    }
  ]
}